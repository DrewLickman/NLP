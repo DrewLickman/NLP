{
 "cells": [
  {
   "cell_type": "code",
   "execution_count": 2,
   "id": "28ca1f98-7b17-4bc2-9767-e46c5833fb59",
   "metadata": {},
   "outputs": [],
   "source": [
    "from nltk import word_tokenize, sent_tokenize"
   ]
  },
  {
   "cell_type": "code",
   "execution_count": 3,
   "id": "e4c82fe2-c87c-4b05-91a2-12942f12e9a1",
   "metadata": {},
   "outputs": [],
   "source": [
    "s = \"I saw a shadow of a cat, outside my window. When I looked out, I could only see the tip of the cat's tail above the hedges.\""
   ]
  },
  {
   "cell_type": "code",
   "execution_count": 5,
   "id": "b862e992-6a92-4548-95f6-748a06399205",
   "metadata": {},
   "outputs": [
    {
     "data": {
      "text/plain": [
       "['I saw a shadow of a cat, outside my window',\n",
       " \" When I looked out, I could only see the tip of the cat's tail above the hedges\"]"
      ]
     },
     "execution_count": 5,
     "metadata": {},
     "output_type": "execute_result"
    }
   ],
   "source": [
    "# Using space based tokenization\n",
    "sb_sents = s.strip('.').split('.')\n",
    "sb_sents"
   ]
  },
  {
   "cell_type": "code",
   "execution_count": 6,
   "id": "85577748-3292-4bd8-90fc-7f68f3195711",
   "metadata": {},
   "outputs": [
    {
     "name": "stdout",
     "output_type": "stream",
     "text": [
      "['I', 'saw', 'a', 'shadow', 'of', 'a', 'cat,', 'outside', 'my', 'window']\n",
      "['When', 'I', 'looked', 'out,', 'I', 'could', 'only', 'see', 'the', 'tip', 'of', 'the', \"cat's\", 'tail', 'above', 'the', 'hedges']\n"
     ]
    }
   ],
   "source": [
    "for sb_snt in sb_sents:\n",
    "    print(sb_snt.split())"
   ]
  },
  {
   "cell_type": "code",
   "execution_count": 7,
   "id": "d5d5ee0b-b05e-4471-aeaf-75748a03fe69",
   "metadata": {},
   "outputs": [
    {
     "data": {
      "text/plain": [
       "['I saw a shadow of a cat, outside my window.',\n",
       " \"When I looked out, I could only see the tip of the cat's tail above the hedges.\"]"
      ]
     },
     "execution_count": 7,
     "metadata": {},
     "output_type": "execute_result"
    }
   ],
   "source": [
    "# Using MLTK\n",
    "sents = sent_tokenize(s)\n",
    "sents"
   ]
  },
  {
   "cell_type": "code",
   "execution_count": 8,
   "id": "e0555af3-138a-46bc-9ff9-7b356c984e80",
   "metadata": {},
   "outputs": [
    {
     "name": "stdout",
     "output_type": "stream",
     "text": [
      "['I', 'saw', 'a', 'shadow', 'of', 'a', 'cat', ',', 'outside', 'my', 'window', '.']\n",
      "['When', 'I', 'looked', 'out', ',', 'I', 'could', 'only', 'see', 'the', 'tip', 'of', 'the', 'cat', \"'s\", 'tail', 'above', 'the', 'hedges', '.']\n"
     ]
    }
   ],
   "source": [
    "for sent in sents:\n",
    "    print(word_tokenize(sent))"
   ]
  },
  {
   "cell_type": "code",
   "execution_count": null,
   "id": "de919d23-9454-4788-868d-c67ce04c4c96",
   "metadata": {},
   "outputs": [],
   "source": []
  }
 ],
 "metadata": {
  "kernelspec": {
   "display_name": "Python 3 (ipykernel)",
   "language": "python",
   "name": "python3"
  },
  "language_info": {
   "codemirror_mode": {
    "name": "ipython",
    "version": 3
   },
   "file_extension": ".py",
   "mimetype": "text/x-python",
   "name": "python",
   "nbconvert_exporter": "python",
   "pygments_lexer": "ipython3",
   "version": "3.11.7"
  }
 },
 "nbformat": 4,
 "nbformat_minor": 5
}
