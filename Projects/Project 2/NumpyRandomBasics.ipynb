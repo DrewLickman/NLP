{
 "cells": [
  {
   "cell_type": "code",
   "execution_count": 1,
   "id": "aaaf2c78-90c1-4600-aeb9-be845aaaead3",
   "metadata": {},
   "outputs": [],
   "source": [
    "import numpy as np"
   ]
  },
  {
   "cell_type": "code",
   "execution_count": 2,
   "id": "3d0f2a1e-725e-4f27-8459-b005d979c74e",
   "metadata": {},
   "outputs": [],
   "source": [
    "# seeding the random number generator\n",
    "np.random.seed(0)"
   ]
  },
  {
   "cell_type": "code",
   "execution_count": 3,
   "id": "9af7d916-ef20-4276-ae1a-61a55e7faa6e",
   "metadata": {},
   "outputs": [
    {
     "data": {
      "text/plain": [
       "4"
      ]
     },
     "execution_count": 3,
     "metadata": {},
     "output_type": "execute_result"
    }
   ],
   "source": [
    "# drawing a random integer in a range\n",
    "np.random.randint(0,5)"
   ]
  },
  {
   "cell_type": "code",
   "execution_count": 4,
   "id": "2522430f-69d8-4a52-abba-69b258b9998c",
   "metadata": {},
   "outputs": [
    {
     "data": {
      "text/plain": [
       "0.5928446182250183"
      ]
     },
     "execution_count": 4,
     "metadata": {},
     "output_type": "execute_result"
    }
   ],
   "source": [
    "# drawing a random floating point number between 0 and 1\n",
    "np.random.random()\n"
   ]
  },
  {
   "cell_type": "code",
   "execution_count": 5,
   "id": "708d78c4-2446-40d5-b9a7-7e8eb520b42f",
   "metadata": {},
   "outputs": [
    {
     "data": {
      "text/plain": [
       "0.5327972457430521"
      ]
     },
     "execution_count": 5,
     "metadata": {},
     "output_type": "execute_result"
    }
   ],
   "source": [
    "# drawing a random floating point number between two endpoints\n",
    "np.random.uniform(-2,1)"
   ]
  },
  {
   "cell_type": "code",
   "execution_count": 6,
   "id": "a7fb9d0b-0fad-4330-9ac8-430f9455df97",
   "metadata": {},
   "outputs": [
    {
     "data": {
      "text/plain": [
       "'c'"
      ]
     },
     "execution_count": 6,
     "metadata": {},
     "output_type": "execute_result"
    }
   ],
   "source": [
    "# generic example of np.random.choice\n",
    "lst = ['a', 'b', 'c']\n",
    "lprobs=[0, 0.7, 0.3]\n",
    "np.random.choice(lst, size=1, p=lprobs)[0]"
   ]
  },
  {
   "cell_type": "code",
   "execution_count": 7,
   "id": "931efbd7-be02-4073-8298-548d5cc89a4d",
   "metadata": {},
   "outputs": [
    {
     "name": "stdout",
     "output_type": "stream",
     "text": [
      "c\n",
      "b\n",
      "b\n",
      "b\n",
      "b\n",
      "b\n",
      "b\n",
      "c\n",
      "b\n",
      "b\n",
      "c\n",
      "b\n",
      "b\n",
      "b\n",
      "c\n",
      "b\n",
      "c\n",
      "b\n",
      "c\n",
      "b\n"
     ]
    }
   ],
   "source": [
    "for i in range(20):\n",
    "    print(np.random.choice(lst, size=1, p=lprobs)[0])"
   ]
  },
  {
   "cell_type": "code",
   "execution_count": null,
   "id": "c8221f88-b810-4514-a2e4-aa60282a32dd",
   "metadata": {},
   "outputs": [],
   "source": []
  }
 ],
 "metadata": {
  "kernelspec": {
   "display_name": "Python 3 (ipykernel)",
   "language": "python",
   "name": "python3"
  },
  "language_info": {
   "codemirror_mode": {
    "name": "ipython",
    "version": 3
   },
   "file_extension": ".py",
   "mimetype": "text/x-python",
   "name": "python",
   "nbconvert_exporter": "python",
   "pygments_lexer": "ipython3",
   "version": "3.10.10"
  }
 },
 "nbformat": 4,
 "nbformat_minor": 5
}
