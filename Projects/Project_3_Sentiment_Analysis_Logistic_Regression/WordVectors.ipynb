{
 "cells": [
  {
   "cell_type": "markdown",
   "metadata": {},
   "source": [
    "# Word Embeddings\n",
    "### Dr. Sal Barbosa, Department of Computer Science, Middle Tennessee State University"
   ]
  },
  {
   "cell_type": "code",
   "execution_count": 1,
   "metadata": {},
   "outputs": [],
   "source": [
    "import gensim\n",
    "from gensim.models import Word2Vec\n",
    "from nltk.corpus import brown\n",
    "from time import time"
   ]
  },
  {
   "cell_type": "markdown",
   "metadata": {},
   "source": [
    "### Warning: Demonstration code is for information/home use. <u>Do not</u> load vectors onto Azure Jupyter Hub"
   ]
  },
  {
   "cell_type": "code",
   "execution_count": 2,
   "metadata": {},
   "outputs": [],
   "source": [
    "# If memory-limited, locate the pruned word2vec sample in NLTK\n",
    "#from nltk.data import find\n",
    "#word2vec_sample = str(find('models/word2vec_sample/pruned.word2vec.txt'))"
   ]
  },
  {
   "cell_type": "markdown",
   "metadata": {},
   "source": [
    "### Load word2vec pre-trained embeddings"
   ]
  },
  {
   "cell_type": "code",
   "execution_count": 3,
   "metadata": {},
   "outputs": [],
   "source": [
    "#start = time()\n",
    "#model = gensim.models.KeyedVectors.load_word2vec_format(word2vec_sample, binary=False) # load in word2vec format\n",
    "word2vec_file = \"/home/sbarbosa/data/word-embeddings/GoogleNews-vectors-negative300-SLIM.bin\"\n",
    "w2v_model = gensim.models.KeyedVectors.load_word2vec_format(word2vec_file, binary=True) # load in word2vec format\n",
    "#print(time()-start)"
   ]
  },
  {
   "cell_type": "markdown",
   "metadata": {},
   "source": [
    "### Load Glove pre-trained embeddings"
   ]
  },
  {
   "cell_type": "code",
   "execution_count": 4,
   "metadata": {},
   "outputs": [],
   "source": [
    "glove_file = \"/home/sbarbosa/data/word-embeddings/glove.6B/glove.6B.300d.txt\"\n",
    "glv_model = gensim.models.KeyedVectors.load_word2vec_format(glove_file, binary=False, no_header=True)"
   ]
  },
  {
   "cell_type": "markdown",
   "metadata": {},
   "source": [
    "### Load fastText pre-trained embeddings"
   ]
  },
  {
   "cell_type": "code",
   "execution_count": 5,
   "metadata": {},
   "outputs": [],
   "source": [
    "fastxt_file = \"/home/sbarbosa/data/word-embeddings/fasttext-wiki-news-300d-1M.vec\"\n",
    "fastxt_model = gensim.models.KeyedVectors.load_word2vec_format(fastxt_file)"
   ]
  },
  {
   "cell_type": "code",
   "execution_count": 6,
   "metadata": {},
   "outputs": [],
   "source": [
    "# Get each model's vocabulary\n",
    "w2v_vocab = set(w2v_model.index_to_key)\n",
    "glv_vocab = set(glv_model.index_to_key)\n",
    "ft_vocab = set(fastxt_model.index_to_key)"
   ]
  },
  {
   "cell_type": "markdown",
   "metadata": {},
   "source": [
    "### Number of words in each model"
   ]
  },
  {
   "cell_type": "code",
   "execution_count": 7,
   "metadata": {},
   "outputs": [
    {
     "name": "stdout",
     "output_type": "stream",
     "text": [
      "299567\t\t400000\t\t999994\n"
     ]
    }
   ],
   "source": [
    "print(len(w2v_vocab), len(glv_vocab), len(ft_vocab), sep='\\t\\t')"
   ]
  },
  {
   "cell_type": "markdown",
   "metadata": {},
   "source": [
    "### Vector dimensions"
   ]
  },
  {
   "cell_type": "code",
   "execution_count": 8,
   "metadata": {},
   "outputs": [
    {
     "name": "stdout",
     "output_type": "stream",
     "text": [
      "300\t\t300\t\t300\n"
     ]
    }
   ],
   "source": [
    "# Note: words may have to be converted between lower and title case (and possibly upper case?) to see if they exist in the vocabulary\n",
    "print(len(w2v_model['avocado']), len(glv_model['avocado']), len(fastxt_model['avocado']), sep='\\t\\t') # dimensions of vector representing word 'avocado' (and all other words)"
   ]
  },
  {
   "cell_type": "markdown",
   "metadata": {},
   "source": [
    "### Most similar to target word"
   ]
  },
  {
   "cell_type": "code",
   "execution_count": 9,
   "metadata": {},
   "outputs": [
    {
     "name": "stdout",
     "output_type": "stream",
     "text": [
      "('wagons', 0.6923391819000244)            ('wagons', 0.7252909541130066)            ('wagons', 0.7765060663223267)            \n",
      "('haywagon', 0.5886642336845398)          ('sedan', 0.5901995897293091)             ('waggon', 0.6985791921615601)            \n",
      "('waggon', 0.5873774290084839)            ('carriage', 0.5468588471412659)          ('Wagon', 0.6592865586280823)             \n",
      "('hayrack', 0.5782635807991028)           ('suv', 0.5423933267593384)               ('truck', 0.6552196741104126)             \n",
      "('buckboard', 0.5725746750831604)         ('sedans', 0.5229743719100952)            ('buckboard', 0.6439283490180969)         \n",
      "('caboose', 0.5667509436607361)           ('jeep', 0.5170666575431824)              ('cart', 0.6253586411476135)              \n",
      "('tractor', 0.5646648406982422)           ('horse-drawn', 0.5018145442008972)       ('dray', 0.6129499077796936)              \n",
      "('truck', 0.5361797213554382)             ('truck', 0.49931150674819946)            ('sedan', 0.6105367541313171)             \n",
      "('Wagons', 0.5292890071868896)            ('hatchback', 0.49887382984161377)        ('mule-drawn', 0.6081418991088867)        \n",
      "('boxcar', 0.5161232948303223)            ('minivan', 0.49186259508132935)          ('carriage', 0.6007161736488342)          \n",
      "('Wagon', 0.5161175727844238)             ('vans', 0.48726099729537964)             ('horse', 0.5925576090812683)             \n",
      "('stagecoach', 0.5105310082435608)        ('carriages', 0.4854878783226013)         ('boxcar', 0.5908148884773254)            \n",
      "('van', 0.5091938376426697)               ('trucks', 0.4807538390159607)            ('horse-driven', 0.5899859070777893)      \n",
      "('boxcars', 0.5087161064147949)           ('wheel', 0.47303950786590576)            ('stagecoach', 0.589878261089325)         \n",
      "('tailboard', 0.5069738626480103)         ('passat', 0.47138702869415283)           ('carriages', 0.5878193378448486)         \n"
     ]
    }
   ],
   "source": [
    "tgt_word = 'wagon'\n",
    "w2v_most_sim = w2v_model.most_similar(tgt_word, topn=15)\n",
    "glv_most_sim = glv_model.most_similar(tgt_word, topn=15)\n",
    "ft_most_sim = fastxt_model.most_similar(tgt_word, topn=15)\n",
    "for i in range(15):\n",
    "    print(f\"{str(w2v_most_sim[i]):<42}{str(glv_most_sim[i]):<42}{str(ft_most_sim[i]):<42}\")"
   ]
  },
  {
   "cell_type": "markdown",
   "metadata": {},
   "source": [
    "### Most similar to target word (using cosine similarity) "
   ]
  },
  {
   "cell_type": "code",
   "execution_count": 10,
   "metadata": {},
   "outputs": [
    {
     "name": "stdout",
     "output_type": "stream",
     "text": [
      "('wagons', 0.8461688160896301)            ('wagons', 0.8626446723937988)            ('wagons', 0.8882521986961365)            \n",
      "('haywagon', 0.7943313717842102)          ('sedan', 0.7950990200042725)             ('waggon', 0.8492887616157532)            \n",
      "('waggon', 0.7936879992485046)            ('carriage', 0.7734286785125732)          ('Wagon', 0.8296424746513367)             \n",
      "('hayrack', 0.7891311049461365)           ('suv', 0.7711959481239319)               ('truck', 0.8276090621948242)             \n",
      "('buckboard', 0.7862865328788757)         ('sedans', 0.7614864706993103)            ('buckboard', 0.821963369846344)          \n",
      "('caboose', 0.7833747267723083)           ('jeep', 0.7585326433181763)              ('cart', 0.8126785159111023)              \n",
      "('tractor', 0.782331645488739)            ('horse-drawn', 0.7509065866470337)       ('dray', 0.8064741492271423)              \n",
      "('truck', 0.7680891752243042)             ('truck', 0.74965500831604)               ('sedan', 0.8052676320075989)             \n",
      "('Wagons', 0.7646437883377075)            ('hatchback', 0.7494361996650696)         ('mule-drawn', 0.8040701746940613)        \n",
      "('boxcar', 0.7580609321594238)            ('minivan', 0.745930552482605)            ('carriage', 0.8003572821617126)          \n",
      "('Wagon', 0.7580580711364746)             ('vans', 0.7436298131942749)              ('horse', 0.7962780594825745)             \n",
      "('stagecoach', 0.7552648186683655)        ('carriages', 0.7427432537078857)         ('boxcar', 0.7954066395759583)            \n",
      "('van', 0.7545962333679199)               ('trucks', 0.7403761744499207)            ('horse-driven', 0.7949921488761902)      \n",
      "('boxcars', 0.7543573379516602)           ('wheel', 0.7365190386772156)             ('stagecoach', 0.7949383854866028)        \n",
      "('tailboard', 0.7534862160682678)         ('passat', 0.7356927990913391)            ('carriages', 0.7939088940620422)         \n",
      "('sleigh', 0.7534264326095581)            ('tractor', 0.7317270040512085)           ('ox-drawn', 0.7905353307723999)          \n",
      "('mule', 0.7490941286087036)              ('coupe', 0.7301201820373535)             ('chariot', 0.790211021900177)            \n",
      "('drays', 0.746672511100769)              ('train', 0.7300786375999451)             ('saloon', 0.78983074426651)              \n",
      "('oxcart', 0.7466381788253784)            ('cars', 0.7291260957717896)              ('waggons', 0.7893285155296326)           \n",
      "('packhorse', 0.7460018396377563)         ('saloon', 0.7271149754524231)            ('SUV', 0.7893206477165222)               \n",
      "('wagonload', 0.7439831495285034)         ('cab', 0.727026641368866)                ('Wagons', 0.7881495952606201)            \n",
      "('handcar', 0.7418078184127808)           ('suvs', 0.7233929634094238)              ('car', 0.7877426147460938)               \n",
      "('Wagoneer', 0.7409750819206238)          ('locomotive', 0.7233712077140808)        ('minivan', 0.7854787707328796)           \n",
      "('chariot', 0.7398384809494019)           ('wheels', 0.7222184538841248)            ('caravan', 0.7852634191513062)           \n",
      "('buggy', 0.7397239208221436)             ('4-door', 0.7217010259628296)            ('axle', 0.7843335270881653)              \n"
     ]
    }
   ],
   "source": [
    "# most similar using cosine similarity\n",
    "tn = 25\n",
    "w2v_most_sim_cos = w2v_model.most_similar_cosmul('wagon', topn=tn)\n",
    "glv_most_sim_cos = glv_model.most_similar_cosmul('wagon', topn=tn)\n",
    "ft_most_sim_cos = fastxt_model.most_similar_cosmul('wagon', topn=tn)\n",
    "for i in range(tn):\n",
    "    print(f\"{str(w2v_most_sim_cos[i]):<42}{str(glv_most_sim_cos[i]):<42}{str(ft_most_sim_cos[i]):<42}\")"
   ]
  },
  {
   "cell_type": "markdown",
   "metadata": {},
   "source": [
    "### Impact of pluralization and capitalization - Note: Glove is lowercase only)"
   ]
  },
  {
   "cell_type": "code",
   "execution_count": 11,
   "metadata": {},
   "outputs": [
    {
     "name": "stdout",
     "output_type": "stream",
     "text": [
      "room\n",
      "('rooms', 0.7605787515640259)             ('rooms', 0.7976906299591064)             ('rooms', 0.8117178678512573)             \n",
      "('upstairs', 0.6226500868797302)          ('upstairs', 0.6701579093933105)          ('hallway', 0.7001889944076538)           \n",
      "('hallway', 0.6086892485618591)           ('floor', 0.6689373850822449)             ('room-', 0.6919785737991333)             \n",
      "('downstairs', 0.5930778384208679)        ('bedroom', 0.6352986693382263)           ('locker', 0.6848980188369751)            \n",
      "('bathroom', 0.5513426661491394)          ('locker', 0.6267264485359192)            ('bedroom', 0.6742653846740723)           \n",
      "('kitchenette', 0.5502403974533081)       ('dining', 0.620658278465271)             ('Room', 0.660754919052124)               \n",
      "('basement', 0.5274614095687866)          ('hallway', 0.6061124801635742)           ('bathroom', 0.6546382904052734)          \n",
      "('lounge', 0.5249817967414856)            ('bathroom', 0.5993543267250061)          ('house', 0.6517252922058105)             \n",
      "('foyer', 0.5173394680023193)             ('inside', 0.5962925553321838)            ('upstairs', 0.6495704054832458)          \n",
      "('hallways', 0.5161101222038269)          ('kitchen', 0.5913594961166382)           ('hall', 0.6450102925300598)              \n",
      "--------------------------------------------------\n",
      "Room\n",
      "('Rooms', 0.6796289086341858)             ('rooms', 0.7976906299591064)             ('Rooms', 0.7608575224876404)             \n",
      "('Ballroom', 0.6294605135917664)          ('upstairs', 0.6701579093933105)          ('Lounge', 0.699565052986145)             \n",
      "('Ballrooms', 0.5534330606460571)         ('floor', 0.6689373850822449)             ('Robing', 0.6677542328834534)            \n",
      "('Lounge', 0.5510714054107666)            ('bedroom', 0.6352986693382263)           ('room', 0.6607550382614136)              \n",
      "('Auditorium', 0.5282274484634399)        ('locker', 0.6267264485359192)            ('rooms', 0.6413376331329346)             \n",
      "('Rm', 0.5280277729034424)                ('dining', 0.620658278465271)             ('Marvins', 0.6308640241622925)           \n",
      "('Parlor', 0.5161432027816772)            ('hallway', 0.6061124801635742)           ('Hotel', 0.6108423471450806)             \n",
      "('Building', 0.4919585883617401)          ('bathroom', 0.5993543267250061)          ('Room.jpg', 0.6028857827186584)          \n",
      "('Cafeteria', 0.4916333258152008)         ('inside', 0.5962925553321838)            ('Building', 0.5976789593696594)          \n",
      "('room', 0.48523542284965515)             ('kitchen', 0.5913594961166382)           ('Cafe', 0.5948629975318909)              \n",
      "--------------------------------------------------\n",
      "rooms\n",
      "('room', 0.7605787515640259)              ('room', 0.7976906895637512)              ('room', 0.8117178678512573)              \n",
      "('Rooms', 0.6348719000816345)             ('bedrooms', 0.6836168766021729)          ('bedrooms', 0.7405787706375122)          \n",
      "('bedrooms', 0.627022385597229)           ('dining', 0.6529045701026917)            ('Rooms', 0.6995609402656555)             \n",
      "('bathrooms', 0.6007974147796631)         ('suites', 0.6463939547538757)            ('suites', 0.6774930357933044)            \n",
      "('suites', 0.5960013270378113)            ('bathrooms', 0.6357292532920837)         ('houses', 0.6772370934486389)            \n",
      "('ballrooms', 0.5846764445304871)         ('halls', 0.6185063123703003)             ('floors', 0.6760076284408569)            \n",
      "('beds', 0.5761682987213135)              ('floors', 0.6167945861816406)            ('apartments', 0.6593485474586487)        \n",
      "('lounges', 0.5643665194511414)           ('classrooms', 0.5961669087409973)        ('hotels', 0.6575461030006409)            \n",
      "('kitchenette', 0.5619742274284363)       ('spacious', 0.5932471752166748)          ('halls', 0.6529018878936768)             \n",
      "('staterooms', 0.5518540143966675)        ('apartments', 0.5816879868507385)        ('rooms.', 0.6510006189346313)            \n",
      "--------------------------------------------------\n"
     ]
    }
   ],
   "source": [
    "# [Capitalization and] Pluralization can lead to different most_similar results\n",
    "for w in ('room', 'Room', 'rooms'):\n",
    "    w2v_most_sim = w2v_model.most_similar(w, topn=10)\n",
    "    glv_most_sim = glv_model.most_similar(w.lower(), topn=10)\n",
    "    ft_most_sim = fastxt_model.most_similar(w, topn=10)\n",
    "    print(w)\n",
    "    for i in range(10):\n",
    "        print(f\"{str(w2v_most_sim[i]):<42}{str(glv_most_sim[i]):<42}{str(ft_most_sim[i]):<42}\")\n",
    "        #print(f\"{str(w2v_most_sim[i]):<42}{str(ft_most_sim[i]):<42}\")\n",
    "    print('-'*50)"
   ]
  },
  {
   "cell_type": "markdown",
   "metadata": {},
   "source": [
    "### Similarity between two words"
   ]
  },
  {
   "cell_type": "code",
   "execution_count": 12,
   "metadata": {},
   "outputs": [
    {
     "name": "stdout",
     "output_type": "stream",
     "text": [
      "0.096661426\t\t0.06928948\t\t0.35737234\n"
     ]
    }
   ],
   "source": [
    "# cosine similarity between two words\n",
    "print(w2v_model.similarity('bolt','bread'), glv_model.similarity('bolt','bread'), fastxt_model.similarity('bolt','bread'), sep='\\t\\t')"
   ]
  },
  {
   "cell_type": "markdown",
   "metadata": {},
   "source": [
    "### Similarity between sets of words (e.g., tokenized sentences)"
   ]
  },
  {
   "cell_type": "code",
   "execution_count": 13,
   "metadata": {},
   "outputs": [
    {
     "name": "stdout",
     "output_type": "stream",
     "text": [
      "0.23679209\t\t0.7455188\t\t0.7492945\n"
     ]
    }
   ],
   "source": [
    "# cosine similarity between two sets of words\n",
    "print(w2v_model.n_similarity(['Elena','bought','a','book','today'], ['New','York','is','a','very','large','city']),\n",
    "      glv_model.n_similarity(['Elena','bought','a','book','today'], ['New','York','is','a','very','large','city']),\n",
    "      fastxt_model.n_similarity(['Elena','bought','a','book','today'], ['New','York','is','a','very','large','city']),sep='\\t\\t')"
   ]
  },
  {
   "cell_type": "markdown",
   "metadata": {},
   "source": [
    "### Vector similarity"
   ]
  },
  {
   "cell_type": "code",
   "execution_count": 14,
   "metadata": {},
   "outputs": [
    {
     "name": "stdout",
     "output_type": "stream",
     "text": [
      "('roadster', 0.9999998211860657)          ('roadster', 1.0)                         ('roadster', 1.0)                         \n",
      "('coupe', 0.8324609994888306)             ('coupe', 0.645466685295105)              ('Roadster', 0.7570767998695374)          \n",
      "('Roadster', 0.8124524354934692)          ('roadsters', 0.626401960849762)          ('roadsters', 0.7363091111183167)         \n",
      "('supercar', 0.7651873230934143)          ('miata', 0.5967004299163818)             ('two-seater', 0.7275443077087402)        \n",
      "('ragtop', 0.7415428161621094)            ('z3', 0.5841705799102783)                ('coupe', 0.7113063335418701)             \n",
      "('coupes', 0.7365368008613586)            ('z4', 0.5711422562599182)                ('sportscar', 0.7004302740097046)         \n",
      "('cabriolet', 0.7353311777114868)         ('hatchback', 0.5568931102752686)         ('tourer', 0.6802168488502502)            \n",
      "('Coupe', 0.7215216755867004)             ('slk', 0.5495831370353699)               ('sedan', 0.677300751209259)              \n",
      "('roadsters', 0.7190110683441162)         ('coupé', 0.5450876951217651)             ('coupé', 0.6635632514953613)             \n",
      "('Cabriolet', 0.7181574702262878)         ('lamborghini', 0.5413499474525452)       ('cabriolet', 0.6568974256515503)         \n",
      "('fastback', 0.7179893851280212)          ('boxster', 0.5308559536933899)           ('four-seater', 0.6557934880256653)       \n",
      "('hardtop', 0.7138919830322266)           ('sedan', 0.5298396348953247)             ('ragtop', 0.6537244319915771)            \n",
      "('hatchback', 0.7020069360733032)         ('cabriolet', 0.5284340977668762)         ('hardtop', 0.6476167440414429)           \n",
      "('drophead', 0.6866387128829956)          ('convertible', 0.5215988159179688)       ('Cabriolet', 0.6420440077781677)         \n",
      "('Camaro', 0.6863498091697693)            ('sporty', 0.5190561413764954)            ('cabrio', 0.6380875706672668)            \n"
     ]
    }
   ],
   "source": [
    "#model.similar_by_word('roadster',topn=15) does not return self but is otherwise similar\n",
    "w2v_sim_by_vec = w2v_model.similar_by_vector(w2v_model['roadster'],topn=15)\n",
    "glv_sim_by_vec = glv_model.similar_by_vector(glv_model['roadster'],topn=15)\n",
    "ft_sim_by_vec = fastxt_model.similar_by_vector(fastxt_model['roadster'],topn=15)\n",
    "for i in range(15):\n",
    "    print(f\"{str(w2v_sim_by_vec[i]):<42}{str(glv_sim_by_vec[i]):<42}{str(ft_sim_by_vec[i]):<42}\")"
   ]
  },
  {
   "cell_type": "markdown",
   "metadata": {},
   "source": [
    "### One of these things is not like the others"
   ]
  },
  {
   "cell_type": "code",
   "execution_count": 15,
   "metadata": {},
   "outputs": [
    {
     "name": "stdout",
     "output_type": "stream",
     "text": [
      "guitar\t\ttuba\t\tguitar\n"
     ]
    }
   ],
   "source": [
    "# select most \"unlike\" item\n",
    "print(w2v_model.doesnt_match(['guitar', 'trumpet', 'tuba', 'flute']),\n",
    "      glv_model.doesnt_match(['guitar', 'trumpet', 'tuba', 'flute']), \n",
    "      fastxt_model.doesnt_match(['guitar', 'trumpet', 'tuba', 'flute']), sep='\\t\\t')"
   ]
  },
  {
   "cell_type": "markdown",
   "metadata": {},
   "source": [
    "### Extracting analogies"
   ]
  },
  {
   "cell_type": "code",
   "execution_count": 16,
   "metadata": {},
   "outputs": [
    {
     "name": "stdout",
     "output_type": "stream",
     "text": [
      "('Spain', 0.7776164412498474)             ('spain', 0.7692385315895081)             ('spain', 0.6449561715126038)             \n",
      "('Portugal', 0.6343989372253418)          ('valencia', 0.5684595108032227)          ('barcelona', 0.6360149383544922)         \n",
      "('Spaniards', 0.6030073165893555)         ('spanish', 0.5646007061004639)           ('atletico', 0.6198720335960388)          \n",
      "('Barcelona', 0.5761322379112244)         ('barcelona', 0.5638340711593628)         ('barca', 0.6192523241043091)             \n",
      "('Zapatero', 0.572990894317627)           ('argentina', 0.539618730545044)          ('bayern', 0.6114077568054199)            \n",
      "('Catalan', 0.5721346139907837)           ('portugal', 0.5387835502624512)          ('uruguay', 0.6079416871070862)           \n",
      "('Catalonia', 0.5707486867904663)         ('sevilla', 0.5046039819717407)           ('england', 0.5941749811172485)           \n",
      "('Argentina', 0.5653747916221619)         ('italy', 0.5028786659240723)             ('athletico', 0.594029426574707)          \n",
      "('Spanish', 0.556893527507782)            ('zidane', 0.4995364248752594)            ('dortmund', 0.5841287970542908)          \n",
      "('Zaragoza', 0.5534297227859497)          ('morocco', 0.49710702896118164)          ('ronaldo', 0.5824369788169861)           \n",
      "('Malaga', 0.5438647270202637)            ('atletico', 0.4958055019378662)          ('portugal', 0.5808708667755127)          \n",
      "('Murcia', 0.5398178100585938)            ('spaniards', 0.47512510418891907)        ('benzema', 0.5799104571342468)           \n",
      "('Almeria', 0.534408688545227)            ('ronaldo', 0.47474756836891174)          ('spain.', 0.5797339081764221)            \n",
      "('Porto', 0.5294695496559143)             ('villarreal', 0.4734388291835785)        ('italy', 0.5770189166069031)             \n",
      "('Catalonians', 0.5283624529838562)       ('zaragoza', 0.46658894419670105)         ('zidane', 0.5723676681518555)            \n"
     ]
    }
   ],
   "source": [
    "# most_similar takes collections of vectors to be added (positive) or subtracted (negative) \n",
    "# Can use to specify an analogy: Read as \"Paris is to France as Madrid is to ?\"\"\n",
    "w2v_analogy = w2v_model.most_similar(positive=['France', 'Madrid'], negative=['Paris'], topn=15)\n",
    "glv_analogy = glv_model.most_similar(positive=['france', 'madrid'], negative=['paris'], topn=15)\n",
    "ft_analogy = fastxt_model.most_similar(positive=['france', 'madrid'], negative=['paris'], topn=15)\n",
    "for i in range(15):\n",
    "    print(f\"{str(w2v_analogy[i]):<42}{str(glv_analogy[i]):<42}{str(ft_analogy[i]):<42}\")"
   ]
  },
  {
   "cell_type": "markdown",
   "metadata": {},
   "source": [
    "### Training a custom Word2Vec model"
   ]
  },
  {
   "cell_type": "code",
   "execution_count": 17,
   "metadata": {},
   "outputs": [
    {
     "name": "stdout",
     "output_type": "stream",
     "text": [
      "5164\n"
     ]
    }
   ],
   "source": [
    "# How-to train custom Word2Vec model (this is trained with the Brown corpus)\n",
    "custommodel = Word2Vec(list(brown.sents()), vector_size=300, window=5, min_count=20)\n",
    "cust_vocab = set(custommodel.wv.index_to_key)\n",
    "print(len(cust_vocab))"
   ]
  },
  {
   "cell_type": "code",
   "execution_count": 18,
   "metadata": {},
   "outputs": [
    {
     "name": "stdout",
     "output_type": "stream",
     "text": [
      "('wagons', 0.6923391819000244)          ('wagons', 0.7252909541130066)          ('wagons', 0.7765060663223267)          \n",
      "('haywagon', 0.5886642336845398)        ('sedan', 0.5901995897293091)           ('waggon', 0.6985791921615601)          \n",
      "('waggon', 0.5873774290084839)          ('carriage', 0.5468588471412659)        ('Wagon', 0.6592865586280823)           \n",
      "('hayrack', 0.5782635807991028)         ('suv', 0.5423933267593384)             ('truck', 0.6552196741104126)           \n",
      "('buckboard', 0.5725746750831604)       ('sedans', 0.5229743719100952)          ('buckboard', 0.6439283490180969)       \n",
      "('caboose', 0.5667509436607361)         ('jeep', 0.5170666575431824)            ('cart', 0.6253586411476135)            \n",
      "('tractor', 0.5646648406982422)         ('horse-drawn', 0.5018145442008972)     ('dray', 0.6129499077796936)            \n",
      "('truck', 0.5361797213554382)           ('truck', 0.49931150674819946)          ('sedan', 0.6105367541313171)           \n",
      "('Wagons', 0.5292890071868896)          ('hatchback', 0.49887382984161377)      ('mule-drawn', 0.6081418991088867)      \n",
      "('boxcar', 0.5161232948303223)          ('minivan', 0.49186259508132935)        ('carriage', 0.6007161736488342)        \n",
      "('Wagon', 0.5161175727844238)           ('vans', 0.48726099729537964)           ('horse', 0.5925576090812683)           \n",
      "('stagecoach', 0.5105310082435608)      ('carriages', 0.4854878783226013)       ('boxcar', 0.5908148884773254)          \n",
      "('van', 0.5091938376426697)             ('trucks', 0.4807538390159607)          ('horse-driven', 0.5899859070777893)    \n",
      "('boxcars', 0.5087161064147949)         ('wheel', 0.47303950786590576)          ('stagecoach', 0.589878261089325)       \n",
      "('tailboard', 0.5069738626480103)       ('passat', 0.47138702869415283)         ('carriages', 0.5878193378448486)       \n"
     ]
    }
   ],
   "source": [
    "# To supress deprecation error in custom models or those loaded from saved files, prefix method call with \"wv.\"\"\n",
    "# so to call the most_similar method, use\n",
    "cst_most_sim = custommodel.wv.most_similar('wagon',topn=15)  # Note that the answers are much different from those of the pre-trained word2vec model\n",
    "w2v_most_sim = w2v_model.most_similar('wagon', topn=15)\n",
    "glv_most_sim = glv_model.most_similar('wagon', topn=15)\n",
    "ft_most_sim = fastxt_model.most_similar('wagon', topn=15)\n",
    "for i in range(15):\n",
    "    print(f\"{str(w2v_most_sim[i]):<40}{str(glv_most_sim[i]):<40}{str(ft_most_sim[i]):<40}\")"
   ]
  },
  {
   "cell_type": "code",
   "execution_count": 19,
   "metadata": {},
   "outputs": [
    {
     "name": "stdout",
     "output_type": "stream",
     "text": [
      "('seat', 0.9624314904212952)            \n",
      "('tent', 0.9600862860679626)            \n",
      "('shoulders', 0.9581727981567383)       \n",
      "('flying', 0.9530327320098877)          \n",
      "('driving', 0.9519249796867371)         \n",
      "('tree', 0.9506455659866333)            \n",
      "('gathered', 0.9504652619361877)        \n",
      "('knee', 0.949884831905365)             \n",
      "('stretched', 0.9496535658836365)       \n",
      "('valley', 0.9487352967262268)          \n",
      "('holding', 0.948331892490387)          \n",
      "('rifle', 0.9481486082077026)           \n",
      "('coat', 0.9473273158073425)            \n",
      "('grabbed', 0.9471802711486816)         \n",
      "('wind', 0.9471650719642639)            \n"
     ]
    }
   ],
   "source": [
    "for i in range(15):\n",
    "    print(f\"{str(cst_most_sim[i]):<40}\")"
   ]
  },
  {
   "cell_type": "code",
   "execution_count": 20,
   "metadata": {},
   "outputs": [],
   "source": [
    "cst_sims = set([itm[0] for itm in cst_most_sim])\n",
    "#cst_sims.add('wagon')\n",
    "#cst_sims.add('Wagon')"
   ]
  },
  {
   "cell_type": "code",
   "execution_count": 21,
   "metadata": {},
   "outputs": [
    {
     "data": {
      "text/plain": [
       "{'coat',\n",
       " 'driving',\n",
       " 'flying',\n",
       " 'gathered',\n",
       " 'grabbed',\n",
       " 'holding',\n",
       " 'knee',\n",
       " 'rifle',\n",
       " 'seat',\n",
       " 'shoulders',\n",
       " 'stretched',\n",
       " 'tent',\n",
       " 'tree',\n",
       " 'valley',\n",
       " 'wind'}"
      ]
     },
     "execution_count": 21,
     "metadata": {},
     "output_type": "execute_result"
    }
   ],
   "source": [
    "cst_sims"
   ]
  },
  {
   "cell_type": "code",
   "execution_count": 22,
   "metadata": {},
   "outputs": [
    {
     "data": {
      "text/plain": [
       "57340"
      ]
     },
     "execution_count": 22,
     "metadata": {},
     "output_type": "execute_result"
    }
   ],
   "source": [
    "len(brown.sents())"
   ]
  },
  {
   "cell_type": "code",
   "execution_count": 23,
   "metadata": {},
   "outputs": [
    {
     "name": "stdout",
     "output_type": "stream",
     "text": [
      "['When', 'the', 'two', 'cars', 'were', 'equidistant', 'from', 'him', ',', 'the', 'station', 'wagon', 'started', 'up', 'again', 'and', 'the', 'Ford', 'gathered', 'speed', '.']\n",
      "\n",
      "['Leaving', 'his', 'rifle', 'in', 'the', 'wagon', ',', 'Tilghman', 'walked', 'up', 'to', 'the', 'door', 'and', 'hammered', 'on', 'it', '.']\n",
      "\n"
     ]
    }
   ],
   "source": [
    "# It is instructive to see the sentences that actually contain the search term and its most similars\n",
    "for sent in list(brown.sents()):\n",
    "    if ('wagon' in sent or 'Wagon' in sent) and set(sent) & cst_sims:\n",
    "        print(sent)\n",
    "        print()"
   ]
  },
  {
   "cell_type": "code",
   "execution_count": null,
   "metadata": {},
   "outputs": [],
   "source": []
  }
 ],
 "metadata": {
  "kernelspec": {
   "display_name": "Python 3 (ipykernel)",
   "language": "python",
   "name": "python3"
  },
  "language_info": {
   "codemirror_mode": {
    "name": "ipython",
    "version": 3
   },
   "file_extension": ".py",
   "mimetype": "text/x-python",
   "name": "python",
   "nbconvert_exporter": "python",
   "pygments_lexer": "ipython3",
   "version": "3.11.5"
  }
 },
 "nbformat": 4,
 "nbformat_minor": 4
}
