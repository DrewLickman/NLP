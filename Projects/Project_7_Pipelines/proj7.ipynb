{
 "cells": [
  {
   "cell_type": "markdown",
   "metadata": {},
   "source": [
    "Drew Lickman\n",
    "\n",
    "CSCI 4820-001\n",
    "\n",
    "Project #7\n",
    "\n",
    "Due 12/3/24\n",
    "\n",
    "AI Disclaimer: A.I. Disclaimer: Work for this assignment was completed with the aid of artificial intelligence tools and comprehensive documentation of the names of, input provided to, and output obtained from, these tools is included as part of my assignment submission.\n",
    "\n",
    "---"
   ]
  },
  {
   "cell_type": "markdown",
   "metadata": {},
   "source": [
    "# Custom NLP Project using 3 Hugging Face Pipelines\n",
    "### Dr. Sal Barbosa, Department of Computer Science, Middle Tennessee State University\n",
    "---"
   ]
  },
  {
   "cell_type": "markdown",
   "metadata": {},
   "source": [
    "# Project Description\n",
    "This project is used to analyze the transcripts of the Federal Open Market Committees (FOMC)\n",
    "\n",
    "Takes about 30 minutes to run the entire program\n",
    "\n",
    "### The Problem:\n",
    "I chose this project because I believe it is important for people to get a quick and easy-to-understand analysis of the FOMC meetings. The FOMC \"reviews economic and financial conditions, determines the appropriate stance of monetary policy, and assesses the risks to its long-run goals of price stability and sustainable economic growth\" (https://www.federalreserve.gov/monetarypolicy/fomc.htm)\n",
    "\n",
    "### The Dataset:\n",
    "The dataset I used is the FOMC transcripts from each of their meetings. I created (with Claude 3.5 Sonnet (New)) a web scraper to read the FOMC website and download the PDFs\n",
    "\n",
    "### The Solution:\n",
    "[1.](#web-scraping) Download PDF transcripts from the official FOMC website using `fomc-crawler.py`\n",
    "\n",
    "[2.](#Conversion) Convert the PDFs to text files with `pdf-to-txt.py`\n",
    "\n",
    "[3.](#BERT-based-Sentiment-Analysis) Utilize a slightly modified version of tabularisai's robust-sentiment-analysis (distil)BERT-based Sentiment Classification Model `https://huggingface.co/tabularisai/robust-sentiment-analysis` for sentiment analysis\n",
    "\n",
    "[4.](#Summarization) Summarize each document via pipeline of Falconsai's text_summarization Fine-Tuned T5 Small for Text Summarization Model `https://huggingface.co/Falconsai/text_summarization`\n",
    "\n",
    "[5.](#Question-Answering) Answer the question \"What is the current status of the economy?\" from each meeting by using consciousAI's question-answering-roberta-base-s-v2 for Question Answering `https://huggingface.co/consciousAI/question-answering-roberta-base-s-v2`\n",
    "\n",
    "---"
   ]
  },
  {
   "cell_type": "markdown",
   "metadata": {},
   "source": [
    "The following pip installs may be necessary to run the web scraper and pdf-to-text converter:"
   ]
  },
  {
   "cell_type": "code",
   "execution_count": 1,
   "metadata": {},
   "outputs": [
    {
     "name": "stdout",
     "output_type": "stream",
     "text": [
      "Requirement already satisfied: requests in c:\\users\\drew1\\appdata\\local\\packages\\pythonsoftwarefoundation.python.3.11_qbz5n2kfra8p0\\localcache\\local-packages\\python311\\site-packages (2.32.3)\n",
      "Requirement already satisfied: tqdm in c:\\users\\drew1\\appdata\\local\\packages\\pythonsoftwarefoundation.python.3.11_qbz5n2kfra8p0\\localcache\\local-packages\\python311\\site-packages (4.66.6)\n",
      "Requirement already satisfied: beautifulsoup4 in c:\\users\\drew1\\appdata\\local\\packages\\pythonsoftwarefoundation.python.3.11_qbz5n2kfra8p0\\localcache\\local-packages\\python311\\site-packages (4.12.3)\n",
      "Requirement already satisfied: pdfplumber in c:\\users\\drew1\\appdata\\local\\packages\\pythonsoftwarefoundation.python.3.11_qbz5n2kfra8p0\\localcache\\local-packages\\python311\\site-packages (0.11.4)\n",
      "Requirement already satisfied: datasets in c:\\users\\drew1\\appdata\\local\\packages\\pythonsoftwarefoundation.python.3.11_qbz5n2kfra8p0\\localcache\\local-packages\\python311\\site-packages (3.1.0)\n",
      "Requirement already satisfied: charset-normalizer<4,>=2 in c:\\users\\drew1\\appdata\\local\\packages\\pythonsoftwarefoundation.python.3.11_qbz5n2kfra8p0\\localcache\\local-packages\\python311\\site-packages (from requests) (3.4.0)\n",
      "Requirement already satisfied: idna<4,>=2.5 in c:\\users\\drew1\\appdata\\local\\packages\\pythonsoftwarefoundation.python.3.11_qbz5n2kfra8p0\\localcache\\local-packages\\python311\\site-packages (from requests) (3.10)\n",
      "Requirement already satisfied: urllib3<3,>=1.21.1 in c:\\users\\drew1\\appdata\\local\\packages\\pythonsoftwarefoundation.python.3.11_qbz5n2kfra8p0\\localcache\\local-packages\\python311\\site-packages (from requests) (2.2.3)\n",
      "Requirement already satisfied: certifi>=2017.4.17 in c:\\users\\drew1\\appdata\\local\\packages\\pythonsoftwarefoundation.python.3.11_qbz5n2kfra8p0\\localcache\\local-packages\\python311\\site-packages (from requests) (2024.8.30)\n",
      "Requirement already satisfied: colorama in c:\\users\\drew1\\appdata\\local\\packages\\pythonsoftwarefoundation.python.3.11_qbz5n2kfra8p0\\localcache\\local-packages\\python311\\site-packages (from tqdm) (0.4.6)\n",
      "Requirement already satisfied: soupsieve>1.2 in c:\\users\\drew1\\appdata\\local\\packages\\pythonsoftwarefoundation.python.3.11_qbz5n2kfra8p0\\localcache\\local-packages\\python311\\site-packages (from beautifulsoup4) (2.6)\n",
      "Requirement already satisfied: pdfminer.six==20231228 in c:\\users\\drew1\\appdata\\local\\packages\\pythonsoftwarefoundation.python.3.11_qbz5n2kfra8p0\\localcache\\local-packages\\python311\\site-packages (from pdfplumber) (20231228)\n",
      "Requirement already satisfied: Pillow>=9.1 in c:\\users\\drew1\\appdata\\local\\packages\\pythonsoftwarefoundation.python.3.11_qbz5n2kfra8p0\\localcache\\local-packages\\python311\\site-packages (from pdfplumber) (10.4.0)\n",
      "Requirement already satisfied: pypdfium2>=4.18.0 in c:\\users\\drew1\\appdata\\local\\packages\\pythonsoftwarefoundation.python.3.11_qbz5n2kfra8p0\\localcache\\local-packages\\python311\\site-packages (from pdfplumber) (4.30.0)\n",
      "Requirement already satisfied: cryptography>=36.0.0 in c:\\users\\drew1\\appdata\\local\\packages\\pythonsoftwarefoundation.python.3.11_qbz5n2kfra8p0\\localcache\\local-packages\\python311\\site-packages (from pdfminer.six==20231228->pdfplumber) (43.0.3)\n",
      "Requirement already satisfied: filelock in c:\\users\\drew1\\appdata\\local\\packages\\pythonsoftwarefoundation.python.3.11_qbz5n2kfra8p0\\localcache\\local-packages\\python311\\site-packages (from datasets) (3.16.1)\n",
      "Requirement already satisfied: numpy>=1.17 in c:\\users\\drew1\\appdata\\local\\packages\\pythonsoftwarefoundation.python.3.11_qbz5n2kfra8p0\\localcache\\local-packages\\python311\\site-packages (from datasets) (1.26.4)\n",
      "Requirement already satisfied: pyarrow>=15.0.0 in c:\\users\\drew1\\appdata\\local\\packages\\pythonsoftwarefoundation.python.3.11_qbz5n2kfra8p0\\localcache\\local-packages\\python311\\site-packages (from datasets) (18.1.0)\n",
      "Requirement already satisfied: dill<0.3.9,>=0.3.0 in c:\\users\\drew1\\appdata\\local\\packages\\pythonsoftwarefoundation.python.3.11_qbz5n2kfra8p0\\localcache\\local-packages\\python311\\site-packages (from datasets) (0.3.8)\n",
      "Requirement already satisfied: pandas in c:\\users\\drew1\\appdata\\local\\packages\\pythonsoftwarefoundation.python.3.11_qbz5n2kfra8p0\\localcache\\local-packages\\python311\\site-packages (from datasets) (2.2.3)\n",
      "Requirement already satisfied: xxhash in c:\\users\\drew1\\appdata\\local\\packages\\pythonsoftwarefoundation.python.3.11_qbz5n2kfra8p0\\localcache\\local-packages\\python311\\site-packages (from datasets) (3.5.0)\n",
      "Requirement already satisfied: multiprocess<0.70.17 in c:\\users\\drew1\\appdata\\local\\packages\\pythonsoftwarefoundation.python.3.11_qbz5n2kfra8p0\\localcache\\local-packages\\python311\\site-packages (from datasets) (0.70.16)\n",
      "Requirement already satisfied: fsspec<=2024.9.0,>=2023.1.0 in c:\\users\\drew1\\appdata\\local\\packages\\pythonsoftwarefoundation.python.3.11_qbz5n2kfra8p0\\localcache\\local-packages\\python311\\site-packages (from fsspec[http]<=2024.9.0,>=2023.1.0->datasets) (2024.9.0)\n",
      "Requirement already satisfied: aiohttp in c:\\users\\drew1\\appdata\\local\\packages\\pythonsoftwarefoundation.python.3.11_qbz5n2kfra8p0\\localcache\\local-packages\\python311\\site-packages (from datasets) (3.11.7)\n",
      "Requirement already satisfied: huggingface-hub>=0.23.0 in c:\\users\\drew1\\appdata\\local\\packages\\pythonsoftwarefoundation.python.3.11_qbz5n2kfra8p0\\localcache\\local-packages\\python311\\site-packages (from datasets) (0.26.2)\n",
      "Requirement already satisfied: packaging in c:\\users\\drew1\\appdata\\local\\packages\\pythonsoftwarefoundation.python.3.11_qbz5n2kfra8p0\\localcache\\local-packages\\python311\\site-packages (from datasets) (24.1)\n",
      "Requirement already satisfied: pyyaml>=5.1 in c:\\users\\drew1\\appdata\\local\\packages\\pythonsoftwarefoundation.python.3.11_qbz5n2kfra8p0\\localcache\\local-packages\\python311\\site-packages (from datasets) (6.0.2)\n",
      "Requirement already satisfied: aiohappyeyeballs>=2.3.0 in c:\\users\\drew1\\appdata\\local\\packages\\pythonsoftwarefoundation.python.3.11_qbz5n2kfra8p0\\localcache\\local-packages\\python311\\site-packages (from aiohttp->datasets) (2.4.3)\n",
      "Requirement already satisfied: aiosignal>=1.1.2 in c:\\users\\drew1\\appdata\\local\\packages\\pythonsoftwarefoundation.python.3.11_qbz5n2kfra8p0\\localcache\\local-packages\\python311\\site-packages (from aiohttp->datasets) (1.3.1)\n",
      "Requirement already satisfied: attrs>=17.3.0 in c:\\users\\drew1\\appdata\\local\\packages\\pythonsoftwarefoundation.python.3.11_qbz5n2kfra8p0\\localcache\\local-packages\\python311\\site-packages (from aiohttp->datasets) (24.2.0)\n",
      "Requirement already satisfied: frozenlist>=1.1.1 in c:\\users\\drew1\\appdata\\local\\packages\\pythonsoftwarefoundation.python.3.11_qbz5n2kfra8p0\\localcache\\local-packages\\python311\\site-packages (from aiohttp->datasets) (1.5.0)\n",
      "Requirement already satisfied: multidict<7.0,>=4.5 in c:\\users\\drew1\\appdata\\local\\packages\\pythonsoftwarefoundation.python.3.11_qbz5n2kfra8p0\\localcache\\local-packages\\python311\\site-packages (from aiohttp->datasets) (6.1.0)\n",
      "Requirement already satisfied: propcache>=0.2.0 in c:\\users\\drew1\\appdata\\local\\packages\\pythonsoftwarefoundation.python.3.11_qbz5n2kfra8p0\\localcache\\local-packages\\python311\\site-packages (from aiohttp->datasets) (0.2.0)\n",
      "Requirement already satisfied: yarl<2.0,>=1.17.0 in c:\\users\\drew1\\appdata\\local\\packages\\pythonsoftwarefoundation.python.3.11_qbz5n2kfra8p0\\localcache\\local-packages\\python311\\site-packages (from aiohttp->datasets) (1.18.0)\n",
      "Requirement already satisfied: typing-extensions>=3.7.4.3 in c:\\users\\drew1\\appdata\\local\\packages\\pythonsoftwarefoundation.python.3.11_qbz5n2kfra8p0\\localcache\\local-packages\\python311\\site-packages (from huggingface-hub>=0.23.0->datasets) (4.12.2)\n",
      "Requirement already satisfied: python-dateutil>=2.8.2 in c:\\users\\drew1\\appdata\\local\\packages\\pythonsoftwarefoundation.python.3.11_qbz5n2kfra8p0\\localcache\\local-packages\\python311\\site-packages (from pandas->datasets) (2.9.0.post0)\n",
      "Requirement already satisfied: pytz>=2020.1 in c:\\users\\drew1\\appdata\\local\\packages\\pythonsoftwarefoundation.python.3.11_qbz5n2kfra8p0\\localcache\\local-packages\\python311\\site-packages (from pandas->datasets) (2024.2)\n",
      "Requirement already satisfied: tzdata>=2022.7 in c:\\users\\drew1\\appdata\\local\\packages\\pythonsoftwarefoundation.python.3.11_qbz5n2kfra8p0\\localcache\\local-packages\\python311\\site-packages (from pandas->datasets) (2024.2)\n",
      "Requirement already satisfied: cffi>=1.12 in c:\\users\\drew1\\appdata\\local\\packages\\pythonsoftwarefoundation.python.3.11_qbz5n2kfra8p0\\localcache\\local-packages\\python311\\site-packages (from cryptography>=36.0.0->pdfminer.six==20231228->pdfplumber) (1.17.1)\n",
      "Requirement already satisfied: six>=1.5 in c:\\users\\drew1\\appdata\\local\\packages\\pythonsoftwarefoundation.python.3.11_qbz5n2kfra8p0\\localcache\\local-packages\\python311\\site-packages (from python-dateutil>=2.8.2->pandas->datasets) (1.16.0)\n",
      "Requirement already satisfied: pycparser in c:\\users\\drew1\\appdata\\local\\packages\\pythonsoftwarefoundation.python.3.11_qbz5n2kfra8p0\\localcache\\local-packages\\python311\\site-packages (from cffi>=1.12->cryptography>=36.0.0->pdfminer.six==20231228->pdfplumber) (2.22)\n"
     ]
    },
    {
     "name": "stderr",
     "output_type": "stream",
     "text": [
      "\n",
      "[notice] A new release of pip is available: 24.2 -> 25.0.1\n",
      "[notice] To update, run: C:\\Users\\drew1\\AppData\\Local\\Microsoft\\WindowsApps\\PythonSoftwareFoundation.Python.3.11_qbz5n2kfra8p0\\python.exe -m pip install --upgrade pip\n"
     ]
    },
    {
     "name": "stdout",
     "output_type": "stream",
     "text": [
      "Requirement already satisfied: nbformat in c:\\users\\drew1\\appdata\\local\\packages\\pythonsoftwarefoundation.python.3.11_qbz5n2kfra8p0\\localcache\\local-packages\\python311\\site-packages (5.10.4)\n",
      "Requirement already satisfied: fastjsonschema>=2.15 in c:\\users\\drew1\\appdata\\local\\packages\\pythonsoftwarefoundation.python.3.11_qbz5n2kfra8p0\\localcache\\local-packages\\python311\\site-packages (from nbformat) (2.20.0)\n",
      "Requirement already satisfied: jsonschema>=2.6 in c:\\users\\drew1\\appdata\\local\\packages\\pythonsoftwarefoundation.python.3.11_qbz5n2kfra8p0\\localcache\\local-packages\\python311\\site-packages (from nbformat) (4.23.0)\n",
      "Requirement already satisfied: jupyter-core!=5.0.*,>=4.12 in c:\\users\\drew1\\appdata\\local\\packages\\pythonsoftwarefoundation.python.3.11_qbz5n2kfra8p0\\localcache\\local-packages\\python311\\site-packages (from nbformat) (5.7.2)\n",
      "Requirement already satisfied: traitlets>=5.1 in c:\\users\\drew1\\appdata\\local\\packages\\pythonsoftwarefoundation.python.3.11_qbz5n2kfra8p0\\localcache\\local-packages\\python311\\site-packages (from nbformat) (5.14.3)\n",
      "Requirement already satisfied: attrs>=22.2.0 in c:\\users\\drew1\\appdata\\local\\packages\\pythonsoftwarefoundation.python.3.11_qbz5n2kfra8p0\\localcache\\local-packages\\python311\\site-packages (from jsonschema>=2.6->nbformat) (24.2.0)\n",
      "Requirement already satisfied: jsonschema-specifications>=2023.03.6 in c:\\users\\drew1\\appdata\\local\\packages\\pythonsoftwarefoundation.python.3.11_qbz5n2kfra8p0\\localcache\\local-packages\\python311\\site-packages (from jsonschema>=2.6->nbformat) (2024.10.1)\n",
      "Requirement already satisfied: referencing>=0.28.4 in c:\\users\\drew1\\appdata\\local\\packages\\pythonsoftwarefoundation.python.3.11_qbz5n2kfra8p0\\localcache\\local-packages\\python311\\site-packages (from jsonschema>=2.6->nbformat) (0.35.1)\n",
      "Requirement already satisfied: rpds-py>=0.7.1 in c:\\users\\drew1\\appdata\\local\\packages\\pythonsoftwarefoundation.python.3.11_qbz5n2kfra8p0\\localcache\\local-packages\\python311\\site-packages (from jsonschema>=2.6->nbformat) (0.20.0)\n",
      "Requirement already satisfied: platformdirs>=2.5 in c:\\users\\drew1\\appdata\\local\\packages\\pythonsoftwarefoundation.python.3.11_qbz5n2kfra8p0\\localcache\\local-packages\\python311\\site-packages (from jupyter-core!=5.0.*,>=4.12->nbformat) (4.2.2)\n",
      "Requirement already satisfied: pywin32>=300 in c:\\users\\drew1\\appdata\\local\\packages\\pythonsoftwarefoundation.python.3.11_qbz5n2kfra8p0\\localcache\\local-packages\\python311\\site-packages (from jupyter-core!=5.0.*,>=4.12->nbformat) (306)\n"
     ]
    },
    {
     "name": "stderr",
     "output_type": "stream",
     "text": [
      "\n",
      "[notice] A new release of pip is available: 24.2 -> 25.0.1\n",
      "[notice] To update, run: C:\\Users\\drew1\\AppData\\Local\\Microsoft\\WindowsApps\\PythonSoftwareFoundation.Python.3.11_qbz5n2kfra8p0\\python.exe -m pip install --upgrade pip\n"
     ]
    },
    {
     "name": "stdout",
     "output_type": "stream",
     "text": [
      "Requirement already satisfied: plotly in c:\\users\\drew1\\appdata\\local\\packages\\pythonsoftwarefoundation.python.3.11_qbz5n2kfra8p0\\localcache\\local-packages\\python311\\site-packages (5.24.1)\n",
      "Requirement already satisfied: tenacity>=6.2.0 in c:\\users\\drew1\\appdata\\local\\packages\\pythonsoftwarefoundation.python.3.11_qbz5n2kfra8p0\\localcache\\local-packages\\python311\\site-packages (from plotly) (9.0.0)\n",
      "Requirement already satisfied: packaging in c:\\users\\drew1\\appdata\\local\\packages\\pythonsoftwarefoundation.python.3.11_qbz5n2kfra8p0\\localcache\\local-packages\\python311\\site-packages (from plotly) (24.1)\n"
     ]
    },
    {
     "name": "stderr",
     "output_type": "stream",
     "text": [
      "\n",
      "[notice] A new release of pip is available: 24.2 -> 25.0.1\n",
      "[notice] To update, run: C:\\Users\\drew1\\AppData\\Local\\Microsoft\\WindowsApps\\PythonSoftwareFoundation.Python.3.11_qbz5n2kfra8p0\\python.exe -m pip install --upgrade pip\n"
     ]
    },
    {
     "name": "stdout",
     "output_type": "stream",
     "text": [
      "Requirement already satisfied: transformers in c:\\users\\drew1\\appdata\\local\\packages\\pythonsoftwarefoundation.python.3.11_qbz5n2kfra8p0\\localcache\\local-packages\\python311\\site-packages (4.46.3)\n",
      "Requirement already satisfied: filelock in c:\\users\\drew1\\appdata\\local\\packages\\pythonsoftwarefoundation.python.3.11_qbz5n2kfra8p0\\localcache\\local-packages\\python311\\site-packages (from transformers) (3.16.1)\n",
      "Requirement already satisfied: huggingface-hub<1.0,>=0.23.2 in c:\\users\\drew1\\appdata\\local\\packages\\pythonsoftwarefoundation.python.3.11_qbz5n2kfra8p0\\localcache\\local-packages\\python311\\site-packages (from transformers) (0.26.2)\n",
      "Requirement already satisfied: numpy>=1.17 in c:\\users\\drew1\\appdata\\local\\packages\\pythonsoftwarefoundation.python.3.11_qbz5n2kfra8p0\\localcache\\local-packages\\python311\\site-packages (from transformers) (1.26.4)\n",
      "Requirement already satisfied: packaging>=20.0 in c:\\users\\drew1\\appdata\\local\\packages\\pythonsoftwarefoundation.python.3.11_qbz5n2kfra8p0\\localcache\\local-packages\\python311\\site-packages (from transformers) (24.1)\n",
      "Requirement already satisfied: pyyaml>=5.1 in c:\\users\\drew1\\appdata\\local\\packages\\pythonsoftwarefoundation.python.3.11_qbz5n2kfra8p0\\localcache\\local-packages\\python311\\site-packages (from transformers) (6.0.2)\n",
      "Requirement already satisfied: regex!=2019.12.17 in c:\\users\\drew1\\appdata\\local\\packages\\pythonsoftwarefoundation.python.3.11_qbz5n2kfra8p0\\localcache\\local-packages\\python311\\site-packages (from transformers) (2024.9.11)\n",
      "Requirement already satisfied: requests in c:\\users\\drew1\\appdata\\local\\packages\\pythonsoftwarefoundation.python.3.11_qbz5n2kfra8p0\\localcache\\local-packages\\python311\\site-packages (from transformers) (2.32.3)\n",
      "Requirement already satisfied: tokenizers<0.21,>=0.20 in c:\\users\\drew1\\appdata\\local\\packages\\pythonsoftwarefoundation.python.3.11_qbz5n2kfra8p0\\localcache\\local-packages\\python311\\site-packages (from transformers) (0.20.2)\n",
      "Requirement already satisfied: safetensors>=0.4.1 in c:\\users\\drew1\\appdata\\local\\packages\\pythonsoftwarefoundation.python.3.11_qbz5n2kfra8p0\\localcache\\local-packages\\python311\\site-packages (from transformers) (0.4.5)\n",
      "Requirement already satisfied: tqdm>=4.27 in c:\\users\\drew1\\appdata\\local\\packages\\pythonsoftwarefoundation.python.3.11_qbz5n2kfra8p0\\localcache\\local-packages\\python311\\site-packages (from transformers) (4.66.6)\n",
      "Requirement already satisfied: fsspec>=2023.5.0 in c:\\users\\drew1\\appdata\\local\\packages\\pythonsoftwarefoundation.python.3.11_qbz5n2kfra8p0\\localcache\\local-packages\\python311\\site-packages (from huggingface-hub<1.0,>=0.23.2->transformers) (2024.9.0)\n",
      "Requirement already satisfied: typing-extensions>=3.7.4.3 in c:\\users\\drew1\\appdata\\local\\packages\\pythonsoftwarefoundation.python.3.11_qbz5n2kfra8p0\\localcache\\local-packages\\python311\\site-packages (from huggingface-hub<1.0,>=0.23.2->transformers) (4.12.2)\n",
      "Requirement already satisfied: colorama in c:\\users\\drew1\\appdata\\local\\packages\\pythonsoftwarefoundation.python.3.11_qbz5n2kfra8p0\\localcache\\local-packages\\python311\\site-packages (from tqdm>=4.27->transformers) (0.4.6)\n",
      "Requirement already satisfied: charset-normalizer<4,>=2 in c:\\users\\drew1\\appdata\\local\\packages\\pythonsoftwarefoundation.python.3.11_qbz5n2kfra8p0\\localcache\\local-packages\\python311\\site-packages (from requests->transformers) (3.4.0)\n",
      "Requirement already satisfied: idna<4,>=2.5 in c:\\users\\drew1\\appdata\\local\\packages\\pythonsoftwarefoundation.python.3.11_qbz5n2kfra8p0\\localcache\\local-packages\\python311\\site-packages (from requests->transformers) (3.10)\n",
      "Requirement already satisfied: urllib3<3,>=1.21.1 in c:\\users\\drew1\\appdata\\local\\packages\\pythonsoftwarefoundation.python.3.11_qbz5n2kfra8p0\\localcache\\local-packages\\python311\\site-packages (from requests->transformers) (2.2.3)\n",
      "Requirement already satisfied: certifi>=2017.4.17 in c:\\users\\drew1\\appdata\\local\\packages\\pythonsoftwarefoundation.python.3.11_qbz5n2kfra8p0\\localcache\\local-packages\\python311\\site-packages (from requests->transformers) (2024.8.30)\n"
     ]
    },
    {
     "name": "stderr",
     "output_type": "stream",
     "text": [
      "\n",
      "[notice] A new release of pip is available: 24.2 -> 25.0.1\n",
      "[notice] To update, run: C:\\Users\\drew1\\AppData\\Local\\Microsoft\\WindowsApps\\PythonSoftwareFoundation.Python.3.11_qbz5n2kfra8p0\\python.exe -m pip install --upgrade pip\n"
     ]
    },
    {
     "name": "stdout",
     "output_type": "stream",
     "text": [
      "Requirement already satisfied: ipywidgets in c:\\users\\drew1\\appdata\\local\\packages\\pythonsoftwarefoundation.python.3.11_qbz5n2kfra8p0\\localcache\\local-packages\\python311\\site-packages (8.1.5)\n",
      "Requirement already satisfied: comm>=0.1.3 in c:\\users\\drew1\\appdata\\local\\packages\\pythonsoftwarefoundation.python.3.11_qbz5n2kfra8p0\\localcache\\local-packages\\python311\\site-packages (from ipywidgets) (0.2.2)\n",
      "Requirement already satisfied: ipython>=6.1.0 in c:\\users\\drew1\\appdata\\local\\packages\\pythonsoftwarefoundation.python.3.11_qbz5n2kfra8p0\\localcache\\local-packages\\python311\\site-packages (from ipywidgets) (8.24.0)\n",
      "Requirement already satisfied: traitlets>=4.3.1 in c:\\users\\drew1\\appdata\\local\\packages\\pythonsoftwarefoundation.python.3.11_qbz5n2kfra8p0\\localcache\\local-packages\\python311\\site-packages (from ipywidgets) (5.14.3)\n",
      "Requirement already satisfied: widgetsnbextension~=4.0.12 in c:\\users\\drew1\\appdata\\local\\packages\\pythonsoftwarefoundation.python.3.11_qbz5n2kfra8p0\\localcache\\local-packages\\python311\\site-packages (from ipywidgets) (4.0.13)\n",
      "Requirement already satisfied: jupyterlab-widgets~=3.0.12 in c:\\users\\drew1\\appdata\\local\\packages\\pythonsoftwarefoundation.python.3.11_qbz5n2kfra8p0\\localcache\\local-packages\\python311\\site-packages (from ipywidgets) (3.0.13)\n",
      "Requirement already satisfied: decorator in c:\\users\\drew1\\appdata\\local\\packages\\pythonsoftwarefoundation.python.3.11_qbz5n2kfra8p0\\localcache\\local-packages\\python311\\site-packages (from ipython>=6.1.0->ipywidgets) (5.1.1)\n",
      "Requirement already satisfied: jedi>=0.16 in c:\\users\\drew1\\appdata\\local\\packages\\pythonsoftwarefoundation.python.3.11_qbz5n2kfra8p0\\localcache\\local-packages\\python311\\site-packages (from ipython>=6.1.0->ipywidgets) (0.19.1)\n",
      "Requirement already satisfied: matplotlib-inline in c:\\users\\drew1\\appdata\\local\\packages\\pythonsoftwarefoundation.python.3.11_qbz5n2kfra8p0\\localcache\\local-packages\\python311\\site-packages (from ipython>=6.1.0->ipywidgets) (0.1.7)\n",
      "Requirement already satisfied: prompt-toolkit<3.1.0,>=3.0.41 in c:\\users\\drew1\\appdata\\local\\packages\\pythonsoftwarefoundation.python.3.11_qbz5n2kfra8p0\\localcache\\local-packages\\python311\\site-packages (from ipython>=6.1.0->ipywidgets) (3.0.45)\n",
      "Requirement already satisfied: pygments>=2.4.0 in c:\\users\\drew1\\appdata\\local\\packages\\pythonsoftwarefoundation.python.3.11_qbz5n2kfra8p0\\localcache\\local-packages\\python311\\site-packages (from ipython>=6.1.0->ipywidgets) (2.18.0)\n",
      "Requirement already satisfied: stack-data in c:\\users\\drew1\\appdata\\local\\packages\\pythonsoftwarefoundation.python.3.11_qbz5n2kfra8p0\\localcache\\local-packages\\python311\\site-packages (from ipython>=6.1.0->ipywidgets) (0.6.3)\n",
      "Requirement already satisfied: typing-extensions>=4.6 in c:\\users\\drew1\\appdata\\local\\packages\\pythonsoftwarefoundation.python.3.11_qbz5n2kfra8p0\\localcache\\local-packages\\python311\\site-packages (from ipython>=6.1.0->ipywidgets) (4.12.2)\n",
      "Requirement already satisfied: colorama in c:\\users\\drew1\\appdata\\local\\packages\\pythonsoftwarefoundation.python.3.11_qbz5n2kfra8p0\\localcache\\local-packages\\python311\\site-packages (from ipython>=6.1.0->ipywidgets) (0.4.6)\n",
      "Requirement already satisfied: parso<0.9.0,>=0.8.3 in c:\\users\\drew1\\appdata\\local\\packages\\pythonsoftwarefoundation.python.3.11_qbz5n2kfra8p0\\localcache\\local-packages\\python311\\site-packages (from jedi>=0.16->ipython>=6.1.0->ipywidgets) (0.8.4)\n",
      "Requirement already satisfied: wcwidth in c:\\users\\drew1\\appdata\\local\\packages\\pythonsoftwarefoundation.python.3.11_qbz5n2kfra8p0\\localcache\\local-packages\\python311\\site-packages (from prompt-toolkit<3.1.0,>=3.0.41->ipython>=6.1.0->ipywidgets) (0.2.13)\n",
      "Requirement already satisfied: executing>=1.2.0 in c:\\users\\drew1\\appdata\\local\\packages\\pythonsoftwarefoundation.python.3.11_qbz5n2kfra8p0\\localcache\\local-packages\\python311\\site-packages (from stack-data->ipython>=6.1.0->ipywidgets) (2.0.1)\n",
      "Requirement already satisfied: asttokens>=2.1.0 in c:\\users\\drew1\\appdata\\local\\packages\\pythonsoftwarefoundation.python.3.11_qbz5n2kfra8p0\\localcache\\local-packages\\python311\\site-packages (from stack-data->ipython>=6.1.0->ipywidgets) (2.4.1)\n",
      "Requirement already satisfied: pure-eval in c:\\users\\drew1\\appdata\\local\\packages\\pythonsoftwarefoundation.python.3.11_qbz5n2kfra8p0\\localcache\\local-packages\\python311\\site-packages (from stack-data->ipython>=6.1.0->ipywidgets) (0.2.2)\n",
      "Requirement already satisfied: six>=1.12.0 in c:\\users\\drew1\\appdata\\local\\packages\\pythonsoftwarefoundation.python.3.11_qbz5n2kfra8p0\\localcache\\local-packages\\python311\\site-packages (from asttokens>=2.1.0->stack-data->ipython>=6.1.0->ipywidgets) (1.16.0)\n"
     ]
    },
    {
     "name": "stderr",
     "output_type": "stream",
     "text": [
      "\n",
      "[notice] A new release of pip is available: 24.2 -> 25.0.1\n",
      "[notice] To update, run: C:\\Users\\drew1\\AppData\\Local\\Microsoft\\WindowsApps\\PythonSoftwareFoundation.Python.3.11_qbz5n2kfra8p0\\python.exe -m pip install --upgrade pip\n"
     ]
    }
   ],
   "source": [
    "# For Web Scraper and PDF-to-TXT:\n",
    "!pip install requests tqdm beautifulsoup4 pdfplumber datasets\n",
    "\n",
    "# If you encounter an error, you may not have Windows Long Path support enabled. \n",
    "# You can find information on how to enable this at https://pip.pypa.io/warnings/enable-long-paths\n",
    "!pip install --upgrade nbformat\n",
    "!pip install plotly\n",
    "!pip install transformers\n",
    "#!pip install nbformat==4.2.0\n",
    "!pip install ipywidgets"
   ]
  },
  {
   "cell_type": "code",
   "execution_count": 2,
   "metadata": {
    "tags": []
   },
   "outputs": [],
   "source": [
    "import os\n",
    "import re\n",
    "import nltk\n",
    "import torch\n",
    "import numpy as np\n",
    "import torch.nn as nn\n",
    "import torch.optim as optim\n",
    "from datasets import load_dataset\n",
    "import plotly.graph_objects as go\n",
    "from   nltk.tokenize import sent_tokenize\n",
    "from   transformers import AutoTokenizer, AutoModelForSequenceClassification, pipeline\n",
    "\n",
    "#nltk.download('punkt') # comment after downloading\n",
    "device = torch.device(\"cuda\" if torch.cuda.is_available() else \"cpu\")"
   ]
  },
  {
   "cell_type": "markdown",
   "metadata": {},
   "source": [
    "# [Web Scraping](#Project-Description)\n",
    "\n",
    "To retrieve fresh data, you must run `./data/fomc-crawler.py` and `./data/pdf-to-txt.py` to download all the FOMC transcript PDFs first, then convert the PDFs to TXT\n",
    "\n",
    "Scrape FOMC Transcripts from https://www.federalreserve.gov/monetarypolicy/fomccalendars.htm\n",
    "\n",
    "Please wait about 1 to 3 minutes\n",
    "\n",
    "Code written by Claude 3.5 Sonnet (New)"
   ]
  },
  {
   "cell_type": "code",
   "execution_count": 3,
   "metadata": {},
   "outputs": [
    {
     "name": "stdout",
     "output_type": "stream",
     "text": [
      "Finding press conference pages...\n",
      "\n",
      "Found 43 press conference pages.\n",
      "\n",
      "Gathering transcript PDF links...\n",
      "\n",
      "Found 41 transcript PDFs to download:\n",
      "- https://www.federalreserve.gov/mediacenter/files/FOMCpresconf20250129.pdf\n",
      "- https://www.federalreserve.gov/mediacenter/files/FOMCpresconf20250319.pdf\n",
      "- https://www.federalreserve.gov/mediacenter/files/FOMCpresconf20240131.pdf\n",
      "- https://www.federalreserve.gov/mediacenter/files/FOMCpresconf20240320.pdf\n",
      "- https://www.federalreserve.gov/mediacenter/files/FOMCpresconf20240501.pdf\n",
      "- https://www.federalreserve.gov/mediacenter/files/FOMCpresconf20240612.pdf\n",
      "- https://www.federalreserve.gov/mediacenter/files/fomcpresconf20240731.pdf\n",
      "- https://www.federalreserve.gov/mediacenter/files/FOMCpresconf20240918.pdf\n",
      "- https://www.federalreserve.gov/mediacenter/files/FOMCpresconf20241107.pdf\n",
      "- https://www.federalreserve.gov/mediacenter/files/FOMCpresconf20241218.pdf\n",
      "- https://www.federalreserve.gov/mediacenter/files/FOMCpresconf20230201.pdf\n",
      "- https://www.federalreserve.gov/mediacenter/files/FOMCpresconf20230322.pdf\n",
      "- https://www.federalreserve.gov/mediacenter/files/FOMCpresconf20230503.pdf\n",
      "- https://www.federalreserve.gov/mediacenter/files/FOMCpresconf20230614.pdf\n",
      "- https://www.federalreserve.gov/mediacenter/files/FOMCpresconf20230726.pdf\n",
      "- https://www.federalreserve.gov/mediacenter/files/FOMCpresconf20230920.pdf\n",
      "- https://www.federalreserve.gov/mediacenter/files/FOMCpresconf20231101.pdf\n",
      "- https://www.federalreserve.gov/mediacenter/files/FOMCpresconf20231213.pdf\n",
      "- https://www.federalreserve.gov/mediacenter/files/FOMCpresconf20220126.pdf\n",
      "- https://www.federalreserve.gov/mediacenter/files/FOMCpresconf20220316.pdf\n",
      "- https://www.federalreserve.gov/mediacenter/files/FOMCpresconf20220504.pdf\n",
      "- https://www.federalreserve.gov/mediacenter/files/FOMCpresconf20220615.pdf\n",
      "- https://www.federalreserve.gov/mediacenter/files/FOMCpresconf20220727.pdf\n",
      "- https://www.federalreserve.gov/mediacenter/files/FOMCpresconf20220921.pdf\n",
      "- https://www.federalreserve.gov/mediacenter/files/FOMCpresconf20221102.pdf\n",
      "- https://www.federalreserve.gov/mediacenter/files/FOMCpresconf20221214.pdf\n",
      "- https://www.federalreserve.gov/mediacenter/files/FOMCpresconf20210127.pdf\n",
      "- https://www.federalreserve.gov/mediacenter/files/FOMCpresconf20210317.pdf\n",
      "- https://www.federalreserve.gov/mediacenter/files/FOMCpresconf20210428.pdf\n",
      "- https://www.federalreserve.gov/mediacenter/files/FOMCpresconf20210616.pdf\n",
      "- https://www.federalreserve.gov/mediacenter/files/FOMCpresconf20210728.pdf\n",
      "- https://www.federalreserve.gov/mediacenter/files/FOMCpresconf20210922.pdf\n",
      "- https://www.federalreserve.gov/mediacenter/files/FOMCpresconf20211103.pdf\n",
      "- https://www.federalreserve.gov/mediacenter/files/FOMCpresconf20211215.pdf\n",
      "- https://www.federalreserve.gov/mediacenter/files/FOMCpresconf20200129.pdf\n",
      "- https://www.federalreserve.gov/mediacenter/files/FOMCpresconf20200429.pdf\n",
      "- https://www.federalreserve.gov/mediacenter/files/FOMCpresconf20200610.pdf\n",
      "- https://www.federalreserve.gov/mediacenter/files/FOMCpresconf20200729.pdf\n",
      "- https://www.federalreserve.gov/mediacenter/files/FOMCpresconf20200916.pdf\n",
      "- https://www.federalreserve.gov/mediacenter/files/FOMCpresconf20201105.pdf\n",
      "- https://www.federalreserve.gov/mediacenter/files/FOMCpresconf20201216.pdf\n",
      "\n",
      "Downloading PDFs...\n",
      "\n",
      "Skipping FOMCpresconf20250129.pdf (already exists)\n",
      "\n",
      "Successfully downloaded: FOMCpresconf20250319.pdf\n",
      "\n",
      "Skipping FOMCpresconf20240131.pdf (already exists)\n",
      "\n",
      "Skipping FOMCpresconf20240320.pdf (already exists)\n",
      "\n",
      "Skipping FOMCpresconf20240501.pdf (already exists)\n",
      "\n",
      "Skipping FOMCpresconf20240612.pdf (already exists)\n",
      "\n",
      "Skipping fomcpresconf20240731.pdf (already exists)\n",
      "\n",
      "Skipping FOMCpresconf20240918.pdf (already exists)\n",
      "\n",
      "Skipping FOMCpresconf20241107.pdf (already exists)\n",
      "\n",
      "Skipping FOMCpresconf20241218.pdf (already exists)\n",
      "\n",
      "Skipping FOMCpresconf20230201.pdf (already exists)\n",
      "\n",
      "Skipping FOMCpresconf20230322.pdf (already exists)\n",
      "\n",
      "Skipping FOMCpresconf20230503.pdf (already exists)\n",
      "\n",
      "Skipping FOMCpresconf20230614.pdf (already exists)\n",
      "\n",
      "Skipping FOMCpresconf20230726.pdf (already exists)\n",
      "\n",
      "Skipping FOMCpresconf20230920.pdf (already exists)\n",
      "\n",
      "Skipping FOMCpresconf20231101.pdf (already exists)\n",
      "\n",
      "Skipping FOMCpresconf20231213.pdf (already exists)\n",
      "\n",
      "Skipping FOMCpresconf20220126.pdf (already exists)\n",
      "\n",
      "Skipping FOMCpresconf20220316.pdf (already exists)\n",
      "\n",
      "Skipping FOMCpresconf20220504.pdf (already exists)\n",
      "\n",
      "Skipping FOMCpresconf20220615.pdf (already exists)\n",
      "\n",
      "Skipping FOMCpresconf20220727.pdf (already exists)\n",
      "\n",
      "Skipping FOMCpresconf20220921.pdf (already exists)\n",
      "\n",
      "Skipping FOMCpresconf20221102.pdf (already exists)\n",
      "\n",
      "Skipping FOMCpresconf20221214.pdf (already exists)\n",
      "\n",
      "Skipping FOMCpresconf20210127.pdf (already exists)\n",
      "\n",
      "Skipping FOMCpresconf20210317.pdf (already exists)\n",
      "\n",
      "Skipping FOMCpresconf20210428.pdf (already exists)\n",
      "\n",
      "Skipping FOMCpresconf20210616.pdf (already exists)\n",
      "\n",
      "Skipping FOMCpresconf20210728.pdf (already exists)\n",
      "\n",
      "Skipping FOMCpresconf20210922.pdf (already exists)\n",
      "\n",
      "Skipping FOMCpresconf20211103.pdf (already exists)\n",
      "\n",
      "Skipping FOMCpresconf20211215.pdf (already exists)\n",
      "\n",
      "Skipping FOMCpresconf20200129.pdf (already exists)\n",
      "\n",
      "Skipping FOMCpresconf20200429.pdf (already exists)\n",
      "\n",
      "Skipping FOMCpresconf20200610.pdf (already exists)\n",
      "\n",
      "Skipping FOMCpresconf20200729.pdf (already exists)\n",
      "\n",
      "Skipping FOMCpresconf20200916.pdf (already exists)\n",
      "\n",
      "Skipping FOMCpresconf20201105.pdf (already exists)\n",
      "\n",
      "Skipping FOMCpresconf20201216.pdf (already exists)\n",
      "\n",
      "Download process completed!\n"
     ]
    },
    {
     "name": "stderr",
     "output_type": "stream",
     "text": [
      "\n",
      "  0%|          | 0/43 [00:00<?, ?it/s]\n",
      "  2%|▏         | 1/43 [00:00<00:12,  3.46it/s]\n",
      "  5%|▍         | 2/43 [00:00<00:11,  3.65it/s]\n",
      "  7%|▋         | 3/43 [00:00<00:11,  3.58it/s]\n",
      "  9%|▉         | 4/43 [00:01<00:11,  3.51it/s]\n",
      " 12%|█▏        | 5/43 [00:01<00:10,  3.54it/s]\n",
      " 14%|█▍        | 6/43 [00:01<00:10,  3.62it/s]\n",
      " 16%|█▋        | 7/43 [00:01<00:09,  3.65it/s]\n",
      " 19%|█▊        | 8/43 [00:02<00:09,  3.68it/s]\n",
      " 21%|██        | 9/43 [00:02<00:09,  3.76it/s]\n",
      " 23%|██▎       | 10/43 [00:02<00:08,  3.70it/s]\n",
      " 26%|██▌       | 11/43 [00:02<00:08,  3.76it/s]\n",
      " 28%|██▊       | 12/43 [00:03<00:08,  3.74it/s]\n",
      " 30%|███       | 13/43 [00:03<00:07,  3.85it/s]\n",
      " 33%|███▎      | 14/43 [00:03<00:07,  3.70it/s]\n",
      " 35%|███▍      | 15/43 [00:04<00:07,  3.75it/s]\n",
      " 37%|███▋      | 16/43 [00:04<00:07,  3.68it/s]\n",
      " 40%|███▉      | 17/43 [00:04<00:07,  3.65it/s]\n",
      " 42%|████▏     | 18/43 [00:04<00:06,  3.58it/s]\n",
      " 44%|████▍     | 19/43 [00:05<00:06,  3.57it/s]\n",
      " 47%|████▋     | 20/43 [00:05<00:06,  3.57it/s]\n",
      " 49%|████▉     | 21/43 [00:05<00:06,  3.57it/s]\n",
      " 51%|█████     | 22/43 [00:06<00:05,  3.60it/s]\n",
      " 53%|█████▎    | 23/43 [00:06<00:05,  3.54it/s]\n",
      " 56%|█████▌    | 24/43 [00:06<00:05,  3.55it/s]\n",
      " 58%|█████▊    | 25/43 [00:06<00:05,  3.59it/s]\n",
      " 60%|██████    | 26/43 [00:07<00:04,  3.44it/s]\n",
      " 63%|██████▎   | 27/43 [00:07<00:04,  3.50it/s]\n",
      " 65%|██████▌   | 28/43 [00:07<00:04,  3.65it/s]\n",
      " 67%|██████▋   | 29/43 [00:07<00:03,  3.67it/s]\n",
      " 70%|██████▉   | 30/43 [00:08<00:03,  3.66it/s]\n",
      " 72%|███████▏  | 31/43 [00:08<00:03,  3.65it/s]\n",
      " 74%|███████▍  | 32/43 [00:08<00:03,  3.63it/s]\n",
      " 77%|███████▋  | 33/43 [00:09<00:02,  3.62it/s]\n",
      " 79%|███████▉  | 34/43 [00:09<00:02,  3.63it/s]\n",
      " 81%|████████▏ | 35/43 [00:09<00:02,  3.68it/s]\n",
      " 84%|████████▎ | 36/43 [00:09<00:01,  3.75it/s]\n",
      " 86%|████████▌ | 37/43 [00:10<00:01,  3.63it/s]\n",
      " 88%|████████▊ | 38/43 [00:10<00:01,  3.73it/s]\n",
      " 91%|█████████ | 39/43 [00:10<00:01,  3.77it/s]\n",
      " 93%|█████████▎| 40/43 [00:10<00:00,  3.76it/s]\n",
      " 95%|█████████▌| 41/43 [00:11<00:00,  3.08it/s]\n",
      " 98%|█████████▊| 42/43 [00:11<00:00,  3.23it/s]\n",
      "100%|██████████| 43/43 [00:11<00:00,  3.28it/s]\n",
      "100%|██████████| 43/43 [00:11<00:00,  3.59it/s]\n",
      "\n",
      "  0%|          | 0/41 [00:00<?, ?it/s]\n",
      "  2%|▏         | 1/41 [00:01<00:40,  1.00s/it]\n",
      "  5%|▍         | 2/41 [00:02<00:42,  1.09s/it]\n",
      "  7%|▋         | 3/41 [00:03<00:39,  1.05s/it]\n",
      " 10%|▉         | 4/41 [00:04<00:38,  1.03s/it]\n",
      " 12%|█▏        | 5/41 [00:05<00:36,  1.02s/it]\n",
      " 15%|█▍        | 6/41 [00:06<00:35,  1.01s/it]\n",
      " 17%|█▋        | 7/41 [00:07<00:34,  1.01s/it]\n",
      " 20%|█▉        | 8/41 [00:08<00:33,  1.01s/it]\n",
      " 22%|██▏       | 9/41 [00:09<00:32,  1.00s/it]\n",
      " 24%|██▍       | 10/41 [00:10<00:31,  1.00s/it]\n",
      " 27%|██▋       | 11/41 [00:11<00:30,  1.00s/it]\n",
      " 29%|██▉       | 12/41 [00:12<00:29,  1.00s/it]\n",
      " 32%|███▏      | 13/41 [00:13<00:28,  1.00s/it]\n",
      " 34%|███▍      | 14/41 [00:14<00:27,  1.00s/it]\n",
      " 37%|███▋      | 15/41 [00:15<00:26,  1.00s/it]\n",
      " 39%|███▉      | 16/41 [00:16<00:25,  1.00s/it]\n",
      " 41%|████▏     | 17/41 [00:17<00:24,  1.00s/it]\n",
      " 44%|████▍     | 18/41 [00:18<00:23,  1.00s/it]\n",
      " 46%|████▋     | 19/41 [00:19<00:22,  1.00s/it]\n",
      " 49%|████▉     | 20/41 [00:20<00:21,  1.00s/it]\n",
      " 51%|█████     | 21/41 [00:21<00:20,  1.00s/it]\n",
      " 54%|█████▎    | 22/41 [00:22<00:19,  1.00s/it]\n",
      " 56%|█████▌    | 23/41 [00:23<00:18,  1.00s/it]\n",
      " 59%|█████▊    | 24/41 [00:24<00:17,  1.00s/it]\n",
      " 61%|██████    | 25/41 [00:25<00:16,  1.00s/it]\n",
      " 63%|██████▎   | 26/41 [00:26<00:15,  1.00s/it]\n",
      " 66%|██████▌   | 27/41 [00:27<00:14,  1.00s/it]\n",
      " 68%|██████▊   | 28/41 [00:28<00:13,  1.00s/it]\n",
      " 71%|███████   | 29/41 [00:29<00:12,  1.00s/it]\n",
      " 73%|███████▎  | 30/41 [00:30<00:11,  1.00s/it]\n",
      " 76%|███████▌  | 31/41 [00:31<00:10,  1.00s/it]\n",
      " 78%|███████▊  | 32/41 [00:32<00:09,  1.00s/it]\n",
      " 80%|████████  | 33/41 [00:33<00:08,  1.00s/it]\n",
      " 83%|████████▎ | 34/41 [00:34<00:07,  1.00s/it]\n",
      " 85%|████████▌ | 35/41 [00:35<00:06,  1.00s/it]\n",
      " 88%|████████▊ | 36/41 [00:36<00:05,  1.00s/it]\n",
      " 90%|█████████ | 37/41 [00:37<00:04,  1.00s/it]\n",
      " 93%|█████████▎| 38/41 [00:38<00:03,  1.00s/it]\n",
      " 95%|█████████▌| 39/41 [00:39<00:02,  1.00s/it]\n",
      " 98%|█████████▊| 40/41 [00:40<00:01,  1.00s/it]\n",
      "100%|██████████| 41/41 [00:41<00:00,  1.00s/it]\n",
      "100%|██████████| 41/41 [00:41<00:00,  1.00s/it]\n"
     ]
    }
   ],
   "source": [
    "!python ./data/fomc-crawler.py\n",
    "# Outputs to ./data/fomc_transcripts"
   ]
  },
  {
   "cell_type": "markdown",
   "metadata": {},
   "source": [
    "---\n",
    "# [Conversion](#Project-Description)\n",
    "\n",
    "Convert PDFs to TXT\n",
    "\n",
    "Please wait 1 to 3 minutes\n",
    "\n",
    "Code written by Claude 3.5 Sonnet (New)\n",
    "\n",
    "--- "
   ]
  },
  {
   "cell_type": "code",
   "execution_count": 4,
   "metadata": {},
   "outputs": [
    {
     "name": "stdout",
     "output_type": "stream",
     "text": [
      "Batch conversion completed successfully!\n"
     ]
    },
    {
     "name": "stderr",
     "output_type": "stream",
     "text": [
      "2025-04-04 17:50:01,332 - INFO - Skipping FOMCpresconf20190130.txt (already exists)\n",
      "2025-04-04 17:50:01,332 - INFO - Skipping FOMCpresconf20190320.txt (already exists)\n",
      "2025-04-04 17:50:01,332 - INFO - Skipping FOMCpresconf20190501.txt (already exists)\n",
      "2025-04-04 17:50:01,332 - INFO - Skipping FOMCpresconf20190619.txt (already exists)\n",
      "2025-04-04 17:50:01,332 - INFO - Skipping FOMCpresconf20190731.txt (already exists)\n",
      "2025-04-04 17:50:01,332 - INFO - Skipping FOMCpresconf20190918.txt (already exists)\n",
      "2025-04-04 17:50:01,332 - INFO - Skipping FOMCpresconf20191030.txt (already exists)\n",
      "2025-04-04 17:50:01,333 - INFO - Skipping FOMCpresconf20191211.txt (already exists)\n",
      "2025-04-04 17:50:01,333 - INFO - Skipping FOMCpresconf20200129.txt (already exists)\n",
      "2025-04-04 17:50:01,333 - INFO - Skipping FOMCpresconf20200429.txt (already exists)\n",
      "2025-04-04 17:50:01,333 - INFO - Skipping FOMCpresconf20200610.txt (already exists)\n",
      "2025-04-04 17:50:01,333 - INFO - Skipping FOMCpresconf20200729.txt (already exists)\n",
      "2025-04-04 17:50:01,333 - INFO - Skipping FOMCpresconf20200916.txt (already exists)\n",
      "2025-04-04 17:50:01,334 - INFO - Skipping FOMCpresconf20201105.txt (already exists)\n",
      "2025-04-04 17:50:01,334 - INFO - Skipping FOMCpresconf20201216.txt (already exists)\n",
      "2025-04-04 17:50:01,334 - INFO - Skipping FOMCpresconf20210127.txt (already exists)\n",
      "2025-04-04 17:50:01,335 - INFO - Skipping FOMCpresconf20210317.txt (already exists)\n",
      "2025-04-04 17:50:01,335 - INFO - Skipping FOMCpresconf20210428.txt (already exists)\n",
      "2025-04-04 17:50:01,335 - INFO - Skipping FOMCpresconf20210616.txt (already exists)\n",
      "2025-04-04 17:50:01,335 - INFO - Skipping FOMCpresconf20210728.txt (already exists)\n",
      "2025-04-04 17:50:01,335 - INFO - Skipping FOMCpresconf20210922.txt (already exists)\n",
      "2025-04-04 17:50:01,336 - INFO - Skipping FOMCpresconf20211103.txt (already exists)\n",
      "2025-04-04 17:50:01,336 - INFO - Skipping FOMCpresconf20211215.txt (already exists)\n",
      "2025-04-04 17:50:01,336 - INFO - Skipping FOMCpresconf20220126.txt (already exists)\n",
      "2025-04-04 17:50:01,336 - INFO - Skipping FOMCpresconf20220316.txt (already exists)\n",
      "2025-04-04 17:50:01,336 - INFO - Skipping FOMCpresconf20220504.txt (already exists)\n",
      "2025-04-04 17:50:01,336 - INFO - Skipping FOMCpresconf20220615.txt (already exists)\n",
      "2025-04-04 17:50:01,337 - INFO - Skipping FOMCpresconf20220727.txt (already exists)\n",
      "2025-04-04 17:50:01,337 - INFO - Skipping FOMCpresconf20220921.txt (already exists)\n",
      "2025-04-04 17:50:01,337 - INFO - Skipping FOMCpresconf20221102.txt (already exists)\n",
      "2025-04-04 17:50:01,337 - INFO - Skipping FOMCpresconf20221214.txt (already exists)\n",
      "2025-04-04 17:50:01,337 - INFO - Skipping FOMCpresconf20230201.txt (already exists)\n",
      "2025-04-04 17:50:01,337 - INFO - Skipping FOMCpresconf20230322.txt (already exists)\n",
      "2025-04-04 17:50:01,338 - INFO - Skipping FOMCpresconf20230503.txt (already exists)\n",
      "2025-04-04 17:50:01,338 - INFO - Skipping FOMCpresconf20230614.txt (already exists)\n",
      "2025-04-04 17:50:01,338 - INFO - Skipping FOMCpresconf20230726.txt (already exists)\n",
      "2025-04-04 17:50:01,338 - INFO - Skipping FOMCpresconf20230920.txt (already exists)\n",
      "2025-04-04 17:50:01,339 - INFO - Skipping FOMCpresconf20231101.txt (already exists)\n",
      "2025-04-04 17:50:01,339 - INFO - Skipping FOMCpresconf20231213.txt (already exists)\n",
      "2025-04-04 17:50:01,339 - INFO - Skipping FOMCpresconf20240131.txt (already exists)\n",
      "2025-04-04 17:50:01,339 - INFO - Skipping FOMCpresconf20240320.txt (already exists)\n",
      "2025-04-04 17:50:01,340 - INFO - Skipping FOMCpresconf20240501.txt (already exists)\n",
      "2025-04-04 17:50:01,340 - INFO - Skipping FOMCpresconf20240612.txt (already exists)\n",
      "2025-04-04 17:50:01,340 - INFO - Skipping fomcpresconf20240731.txt (already exists)\n",
      "2025-04-04 17:50:01,340 - INFO - Skipping FOMCpresconf20240918.txt (already exists)\n",
      "2025-04-04 17:50:01,340 - INFO - Skipping FOMCpresconf20241107.txt (already exists)\n",
      "2025-04-04 17:50:01,341 - INFO - Skipping FOMCpresconf20241218.txt (already exists)\n",
      "2025-04-04 17:50:01,341 - INFO - Skipping FOMCpresconf20250129.txt (already exists)\n",
      "2025-04-04 17:50:03,191 - INFO - Successfully generated FOMCpresconf20250319.txt\n"
     ]
    }
   ],
   "source": [
    "!python ./data/pdf-to-txt.py\n",
    "# Outputs to ./data/extracted_text"
   ]
  },
  {
   "cell_type": "code",
   "execution_count": 5,
   "metadata": {
    "tags": []
   },
   "outputs": [
    {
     "name": "stdout",
     "output_type": "stream",
     "text": [
      "49 documents ready for analysis!\n"
     ]
    }
   ],
   "source": [
    "# Data directory\n",
    "TEXT_DIR = \"./data/extracted_text\" # Local FOMC transcript data as .txt\n",
    "\n",
    "# Summary directory\n",
    "SUMMARY_DIR = \"./data/summaries\"\n",
    "\n",
    "#  Save text files and their data to a dictionary\n",
    "txt_fileNames = [txt for txt in os.listdir(TEXT_DIR) if txt.endswith('.txt')]\n",
    "\n",
    "txt_data = [open(os.path.join(TEXT_DIR, file), 'r', encoding='utf-8').read() for file in txt_fileNames]\n",
    "\n",
    "textDict = {fileName: data for fileName, data in zip(txt_fileNames, txt_data)}\n",
    "\n",
    "print(f\"{len(txt_fileNames)} documents ready for analysis!\")\n",
    "\n",
    "# If I had more time to fix up the code to get it using datasets I would use this\n",
    "# From https://www.youtube.com/watch?v=enObIMzyaE4\n",
    "# transcripts = []\n",
    "# for t in textDict:\n",
    "#     transcripts.append({\n",
    "#         'title': t,\n",
    "#         'body': textDict[t]\n",
    "#     })\n",
    "# import json\n",
    "# def save_as_jsonl(data, filename):\n",
    "#     with open(filename, \"w\") as f:\n",
    "#         for transcript in data:\n",
    "#             f.write(json.dumps(transcript) + \"\\n\")\n",
    "# save_as_jsonl(transcripts, \"train.jsonl\")\n",
    "# data_files = {\"train\": \"train.jsonl\"}\n",
    "# dataset = load_dataset(\"json\", data_files=data_files)\n",
    "# print(dataset)"
   ]
  },
  {
   "cell_type": "markdown",
   "metadata": {},
   "source": [
    "---\n",
    "Below is a helper function that splits input text into chunks due to limited context sizes of the semantic analyzer and summarizer.\n",
    "\n",
    "Written by Claude 3.5 Sonnet (New)"
   ]
  },
  {
   "cell_type": "code",
   "execution_count": 6,
   "metadata": {},
   "outputs": [],
   "source": [
    "def chunk_text(text, max_chunk_size):\n",
    "    \"\"\"\n",
    "    Split text into chunks based on sentences to respect max token limit.\n",
    "    Tries to keep sentences together while staying under the token limit.\n",
    "    \"\"\"\n",
    "    sentences = sent_tokenize(text)\n",
    "    chunks = []\n",
    "    current_chunk = []\n",
    "    current_length = 0\n",
    "    \n",
    "    for sentence in sentences:\n",
    "        # Rough approximation of tokens (words + punctuation)\n",
    "        sentence_length = len(sentence.split())\n",
    "        \n",
    "        if current_length + sentence_length > max_chunk_size:\n",
    "            if current_chunk:  # Save current chunk if it exists\n",
    "                chunks.append(' '.join(current_chunk))\n",
    "                current_chunk = [sentence]\n",
    "                current_length = sentence_length\n",
    "            else:  # Handle case where single sentence exceeds max_chunk_size\n",
    "                chunks.append(sentence)\n",
    "                current_chunk = []\n",
    "                current_length = 0\n",
    "        else:\n",
    "            current_chunk.append(sentence)\n",
    "            current_length += sentence_length\n",
    "    \n",
    "    # Add the last chunk if it exists\n",
    "    if current_chunk:\n",
    "        chunks.append(' '.join(current_chunk))\n",
    "    \n",
    "    return chunks"
   ]
  },
  {
   "cell_type": "markdown",
   "metadata": {},
   "source": [
    "---\n",
    "# [BERT-based Sentiment Analysis](#Project-Description)\n",
    "\n",
    "tabularisai's robust-sentiment-analysis used via pipeline:\n",
    "\n",
    "Modified to be chunked for longer input texts\n",
    "\n",
    "also outputs probability distribution, rather than just the highest result\n",
    "\n",
    "Please wait 2 to 4 minutes\n",
    "\n",
    "---"
   ]
  },
  {
   "cell_type": "code",
   "execution_count": 7,
   "metadata": {},
   "outputs": [
    {
     "name": "stdout",
     "output_type": "stream",
     "text": [
      "File: FOMCpresconf20190130.txt\n",
      "Predicted Sentiment: Neutral\n",
      "Probability Distribution:\n",
      "  Very Negative: 3.85%\n",
      "  Negative: 9.57%\n",
      "  Neutral: 60.05%\n",
      "  Positive: 18.53%\n",
      "  Very Positive: 8.01%\n",
      "\n",
      "File: FOMCpresconf20190320.txt\n",
      "Predicted Sentiment: Neutral\n",
      "Probability Distribution:\n",
      "  Very Negative: 3.87%\n",
      "  Negative: 9.87%\n",
      "  Neutral: 55.66%\n",
      "  Positive: 20.83%\n",
      "  Very Positive: 9.77%\n",
      "\n",
      "File: FOMCpresconf20190501.txt\n",
      "Predicted Sentiment: Neutral\n",
      "Probability Distribution:\n",
      "  Very Negative: 3.56%\n",
      "  Negative: 9.05%\n",
      "  Neutral: 57.36%\n",
      "  Positive: 21.39%\n",
      "  Very Positive: 8.64%\n",
      "\n",
      "File: FOMCpresconf20190619.txt\n",
      "Predicted Sentiment: Neutral\n",
      "Probability Distribution:\n",
      "  Very Negative: 3.78%\n",
      "  Negative: 9.37%\n",
      "  Neutral: 54.29%\n",
      "  Positive: 22.96%\n",
      "  Very Positive: 9.60%\n",
      "\n",
      "File: FOMCpresconf20190731.txt\n",
      "Predicted Sentiment: Neutral\n",
      "Probability Distribution:\n",
      "  Very Negative: 4.34%\n",
      "  Negative: 10.94%\n",
      "  Neutral: 54.28%\n",
      "  Positive: 21.66%\n",
      "  Very Positive: 8.78%\n",
      "\n",
      "File: FOMCpresconf20190918.txt\n",
      "Predicted Sentiment: Neutral\n",
      "Probability Distribution:\n",
      "  Very Negative: 4.18%\n",
      "  Negative: 9.64%\n",
      "  Neutral: 56.62%\n",
      "  Positive: 21.62%\n",
      "  Very Positive: 7.94%\n",
      "\n",
      "File: FOMCpresconf20191030.txt\n",
      "Predicted Sentiment: Neutral\n",
      "Probability Distribution:\n",
      "  Very Negative: 3.41%\n",
      "  Negative: 7.31%\n",
      "  Neutral: 55.25%\n",
      "  Positive: 24.06%\n",
      "  Very Positive: 9.96%\n",
      "\n",
      "File: FOMCpresconf20191211.txt\n",
      "Predicted Sentiment: Neutral\n",
      "Probability Distribution:\n",
      "  Very Negative: 4.15%\n",
      "  Negative: 10.07%\n",
      "  Neutral: 53.68%\n",
      "  Positive: 22.49%\n",
      "  Very Positive: 9.61%\n",
      "\n",
      "File: FOMCpresconf20200129.txt\n",
      "Predicted Sentiment: Neutral\n",
      "Probability Distribution:\n",
      "  Very Negative: 3.94%\n",
      "  Negative: 9.46%\n",
      "  Neutral: 58.44%\n",
      "  Positive: 20.53%\n",
      "  Very Positive: 7.63%\n",
      "\n",
      "File: FOMCpresconf20200429.txt\n",
      "Predicted Sentiment: Neutral\n",
      "Probability Distribution:\n",
      "  Very Negative: 9.70%\n",
      "  Negative: 12.59%\n",
      "  Neutral: 48.20%\n",
      "  Positive: 20.50%\n",
      "  Very Positive: 9.02%\n",
      "\n",
      "File: FOMCpresconf20200610.txt\n",
      "Predicted Sentiment: Neutral\n",
      "Probability Distribution:\n",
      "  Very Negative: 8.16%\n",
      "  Negative: 11.77%\n",
      "  Neutral: 46.87%\n",
      "  Positive: 21.28%\n",
      "  Very Positive: 11.93%\n",
      "\n",
      "File: FOMCpresconf20200729.txt\n",
      "Predicted Sentiment: Neutral\n",
      "Probability Distribution:\n",
      "  Very Negative: 6.06%\n",
      "  Negative: 12.49%\n",
      "  Neutral: 51.25%\n",
      "  Positive: 20.51%\n",
      "  Very Positive: 9.70%\n",
      "\n",
      "File: FOMCpresconf20200916.txt\n",
      "Predicted Sentiment: Neutral\n",
      "Probability Distribution:\n",
      "  Very Negative: 3.85%\n",
      "  Negative: 7.82%\n",
      "  Neutral: 53.75%\n",
      "  Positive: 24.07%\n",
      "  Very Positive: 10.50%\n",
      "\n",
      "File: FOMCpresconf20201105.txt\n",
      "Predicted Sentiment: Neutral\n",
      "Probability Distribution:\n",
      "  Very Negative: 3.77%\n",
      "  Negative: 7.94%\n",
      "  Neutral: 55.67%\n",
      "  Positive: 22.12%\n",
      "  Very Positive: 10.50%\n",
      "\n",
      "File: FOMCpresconf20201216.txt\n",
      "Predicted Sentiment: Neutral\n",
      "Probability Distribution:\n",
      "  Very Negative: 4.02%\n",
      "  Negative: 8.43%\n",
      "  Neutral: 52.94%\n",
      "  Positive: 22.65%\n",
      "  Very Positive: 11.95%\n",
      "\n",
      "File: FOMCpresconf20210127.txt\n",
      "Predicted Sentiment: Neutral\n",
      "Probability Distribution:\n",
      "  Very Negative: 4.98%\n",
      "  Negative: 10.01%\n",
      "  Neutral: 50.82%\n",
      "  Positive: 23.02%\n",
      "  Very Positive: 11.17%\n",
      "\n",
      "File: FOMCpresconf20210317.txt\n",
      "Predicted Sentiment: Neutral\n",
      "Probability Distribution:\n",
      "  Very Negative: 4.72%\n",
      "  Negative: 9.93%\n",
      "  Neutral: 54.66%\n",
      "  Positive: 20.48%\n",
      "  Very Positive: 10.21%\n",
      "\n",
      "File: FOMCpresconf20210428.txt\n",
      "Predicted Sentiment: Neutral\n",
      "Probability Distribution:\n",
      "  Very Negative: 5.43%\n",
      "  Negative: 13.19%\n",
      "  Neutral: 50.24%\n",
      "  Positive: 20.85%\n",
      "  Very Positive: 10.29%\n",
      "\n",
      "File: FOMCpresconf20210616.txt\n",
      "Predicted Sentiment: Neutral\n",
      "Probability Distribution:\n",
      "  Very Negative: 4.11%\n",
      "  Negative: 9.19%\n",
      "  Neutral: 53.76%\n",
      "  Positive: 22.13%\n",
      "  Very Positive: 10.82%\n",
      "\n",
      "File: FOMCpresconf20210728.txt\n",
      "Predicted Sentiment: Neutral\n",
      "Probability Distribution:\n",
      "  Very Negative: 5.32%\n",
      "  Negative: 12.38%\n",
      "  Neutral: 53.23%\n",
      "  Positive: 20.11%\n",
      "  Very Positive: 8.97%\n",
      "\n",
      "File: FOMCpresconf20210922.txt\n",
      "Predicted Sentiment: Neutral\n",
      "Probability Distribution:\n",
      "  Very Negative: 4.65%\n",
      "  Negative: 9.61%\n",
      "  Neutral: 55.69%\n",
      "  Positive: 19.88%\n",
      "  Very Positive: 10.17%\n",
      "\n",
      "File: FOMCpresconf20211103.txt\n",
      "Predicted Sentiment: Neutral\n",
      "Probability Distribution:\n",
      "  Very Negative: 4.56%\n",
      "  Negative: 9.97%\n",
      "  Neutral: 55.68%\n",
      "  Positive: 20.11%\n",
      "  Very Positive: 9.68%\n",
      "\n",
      "File: FOMCpresconf20211215.txt\n",
      "Predicted Sentiment: Neutral\n",
      "Probability Distribution:\n",
      "  Very Negative: 5.59%\n",
      "  Negative: 11.77%\n",
      "  Neutral: 53.27%\n",
      "  Positive: 20.11%\n",
      "  Very Positive: 9.25%\n",
      "\n",
      "File: FOMCpresconf20220126.txt\n",
      "Predicted Sentiment: Neutral\n",
      "Probability Distribution:\n",
      "  Very Negative: 5.50%\n",
      "  Negative: 12.07%\n",
      "  Neutral: 51.28%\n",
      "  Positive: 20.32%\n",
      "  Very Positive: 10.83%\n",
      "\n",
      "File: FOMCpresconf20220316.txt\n",
      "Predicted Sentiment: Neutral\n",
      "Probability Distribution:\n",
      "  Very Negative: 3.90%\n",
      "  Negative: 9.26%\n",
      "  Neutral: 51.11%\n",
      "  Positive: 23.88%\n",
      "  Very Positive: 11.86%\n",
      "\n",
      "File: FOMCpresconf20220504.txt\n",
      "Predicted Sentiment: Neutral\n",
      "Probability Distribution:\n",
      "  Very Negative: 5.67%\n",
      "  Negative: 11.19%\n",
      "  Neutral: 53.18%\n",
      "  Positive: 20.17%\n",
      "  Very Positive: 9.79%\n",
      "\n",
      "File: FOMCpresconf20220615.txt\n",
      "Predicted Sentiment: Neutral\n",
      "Probability Distribution:\n",
      "  Very Negative: 5.31%\n",
      "  Negative: 11.13%\n",
      "  Neutral: 47.15%\n",
      "  Positive: 23.65%\n",
      "  Very Positive: 12.76%\n",
      "\n",
      "File: FOMCpresconf20220727.txt\n",
      "Predicted Sentiment: Neutral\n",
      "Probability Distribution:\n",
      "  Very Negative: 6.30%\n",
      "  Negative: 14.49%\n",
      "  Neutral: 49.02%\n",
      "  Positive: 20.01%\n",
      "  Very Positive: 10.18%\n",
      "\n",
      "File: FOMCpresconf20220921.txt\n",
      "Predicted Sentiment: Neutral\n",
      "Probability Distribution:\n",
      "  Very Negative: 5.37%\n",
      "  Negative: 12.98%\n",
      "  Neutral: 49.96%\n",
      "  Positive: 21.43%\n",
      "  Very Positive: 10.26%\n",
      "\n",
      "File: FOMCpresconf20221102.txt\n",
      "Predicted Sentiment: Neutral\n",
      "Probability Distribution:\n",
      "  Very Negative: 4.65%\n",
      "  Negative: 10.99%\n",
      "  Neutral: 51.72%\n",
      "  Positive: 21.46%\n",
      "  Very Positive: 11.18%\n",
      "\n",
      "File: FOMCpresconf20221214.txt\n",
      "Predicted Sentiment: Neutral\n",
      "Probability Distribution:\n",
      "  Very Negative: 5.59%\n",
      "  Negative: 12.24%\n",
      "  Neutral: 44.41%\n",
      "  Positive: 24.32%\n",
      "  Very Positive: 13.44%\n",
      "\n",
      "File: FOMCpresconf20230201.txt\n",
      "Predicted Sentiment: Neutral\n",
      "Probability Distribution:\n",
      "  Very Negative: 4.51%\n",
      "  Negative: 10.94%\n",
      "  Neutral: 51.32%\n",
      "  Positive: 22.21%\n",
      "  Very Positive: 11.02%\n",
      "\n",
      "File: FOMCpresconf20230322.txt\n",
      "Predicted Sentiment: Neutral\n",
      "Probability Distribution:\n",
      "  Very Negative: 5.70%\n",
      "  Negative: 12.03%\n",
      "  Neutral: 49.37%\n",
      "  Positive: 22.12%\n",
      "  Very Positive: 10.78%\n",
      "\n",
      "File: FOMCpresconf20230503.txt\n",
      "Predicted Sentiment: Neutral\n",
      "Probability Distribution:\n",
      "  Very Negative: 4.48%\n",
      "  Negative: 9.01%\n",
      "  Neutral: 52.41%\n",
      "  Positive: 22.66%\n",
      "  Very Positive: 11.44%\n",
      "\n",
      "File: FOMCpresconf20230614.txt\n",
      "Predicted Sentiment: Neutral\n",
      "Probability Distribution:\n",
      "  Very Negative: 4.22%\n",
      "  Negative: 10.03%\n",
      "  Neutral: 52.77%\n",
      "  Positive: 21.62%\n",
      "  Very Positive: 11.36%\n",
      "\n",
      "File: FOMCpresconf20230726.txt\n",
      "Predicted Sentiment: Neutral\n",
      "Probability Distribution:\n",
      "  Very Negative: 4.23%\n",
      "  Negative: 9.14%\n",
      "  Neutral: 52.08%\n",
      "  Positive: 24.07%\n",
      "  Very Positive: 10.49%\n",
      "\n",
      "File: FOMCpresconf20230920.txt\n",
      "Predicted Sentiment: Neutral\n",
      "Probability Distribution:\n",
      "  Very Negative: 4.43%\n",
      "  Negative: 9.63%\n",
      "  Neutral: 54.23%\n",
      "  Positive: 21.53%\n",
      "  Very Positive: 10.18%\n",
      "\n",
      "File: FOMCpresconf20231101.txt\n",
      "Predicted Sentiment: Neutral\n",
      "Probability Distribution:\n",
      "  Very Negative: 4.17%\n",
      "  Negative: 9.75%\n",
      "  Neutral: 53.87%\n",
      "  Positive: 21.69%\n",
      "  Very Positive: 10.51%\n",
      "\n",
      "File: FOMCpresconf20231213.txt\n",
      "Predicted Sentiment: Neutral\n",
      "Probability Distribution:\n",
      "  Very Negative: 4.47%\n",
      "  Negative: 9.47%\n",
      "  Neutral: 55.10%\n",
      "  Positive: 20.71%\n",
      "  Very Positive: 10.25%\n",
      "\n",
      "File: FOMCpresconf20240131.txt\n",
      "Predicted Sentiment: Neutral\n",
      "Probability Distribution:\n",
      "  Very Negative: 4.47%\n",
      "  Negative: 9.56%\n",
      "  Neutral: 50.84%\n",
      "  Positive: 23.27%\n",
      "  Very Positive: 11.85%\n",
      "\n",
      "File: FOMCpresconf20240320.txt\n",
      "Predicted Sentiment: Neutral\n",
      "Probability Distribution:\n",
      "  Very Negative: 3.65%\n",
      "  Negative: 8.56%\n",
      "  Neutral: 54.63%\n",
      "  Positive: 22.78%\n",
      "  Very Positive: 10.38%\n",
      "\n",
      "File: FOMCpresconf20240501.txt\n",
      "Predicted Sentiment: Neutral\n",
      "Probability Distribution:\n",
      "  Very Negative: 4.61%\n",
      "  Negative: 10.52%\n",
      "  Neutral: 52.80%\n",
      "  Positive: 21.27%\n",
      "  Very Positive: 10.79%\n",
      "\n",
      "File: FOMCpresconf20240612.txt\n",
      "Predicted Sentiment: Neutral\n",
      "Probability Distribution:\n",
      "  Very Negative: 4.27%\n",
      "  Negative: 8.98%\n",
      "  Neutral: 51.73%\n",
      "  Positive: 23.75%\n",
      "  Very Positive: 11.28%\n",
      "\n",
      "File: fomcpresconf20240731.txt\n",
      "Predicted Sentiment: Neutral\n",
      "Probability Distribution:\n",
      "  Very Negative: 4.85%\n",
      "  Negative: 10.42%\n",
      "  Neutral: 55.71%\n",
      "  Positive: 19.06%\n",
      "  Very Positive: 9.96%\n",
      "\n",
      "File: FOMCpresconf20240918.txt\n",
      "Predicted Sentiment: Neutral\n",
      "Probability Distribution:\n",
      "  Very Negative: 3.45%\n",
      "  Negative: 7.50%\n",
      "  Neutral: 56.76%\n",
      "  Positive: 22.28%\n",
      "  Very Positive: 10.01%\n",
      "\n",
      "File: FOMCpresconf20241107.txt\n",
      "Predicted Sentiment: Neutral\n",
      "Probability Distribution:\n",
      "  Very Negative: 4.18%\n",
      "  Negative: 9.81%\n",
      "  Neutral: 57.78%\n",
      "  Positive: 19.18%\n",
      "  Very Positive: 9.06%\n",
      "\n",
      "File: FOMCpresconf20241218.txt\n",
      "Predicted Sentiment: Neutral\n",
      "Probability Distribution:\n",
      "  Very Negative: 3.70%\n",
      "  Negative: 8.23%\n",
      "  Neutral: 50.32%\n",
      "  Positive: 25.41%\n",
      "  Very Positive: 12.34%\n",
      "\n",
      "File: FOMCpresconf20250129.txt\n",
      "Predicted Sentiment: Neutral\n",
      "Probability Distribution:\n",
      "  Very Negative: 4.98%\n",
      "  Negative: 10.02%\n",
      "  Neutral: 54.19%\n",
      "  Positive: 20.47%\n",
      "  Very Positive: 10.33%\n",
      "\n",
      "File: FOMCpresconf20250319.txt\n",
      "Predicted Sentiment: Neutral\n",
      "Probability Distribution:\n",
      "  Very Negative: 3.76%\n",
      "  Negative: 8.89%\n",
      "  Neutral: 56.73%\n",
      "  Positive: 21.45%\n",
      "  Very Positive: 9.17%\n",
      "\n"
     ]
    }
   ],
   "source": [
    "model_name = \"tabularisai/robust-sentiment-analysis\"\n",
    "sentimentAnalysis = pipeline(model=model_name, device=device)\n",
    "tokenizer = AutoTokenizer.from_pretrained(model_name)\n",
    "model = AutoModelForSequenceClassification.from_pretrained(model_name)\n",
    "\n",
    "# Pipeline from Hugging Face (copied from example on page, had to modify to get probability distribution)\n",
    "def predict_sentiment(text):\n",
    "\tinputs = tokenizer(text.lower(), return_tensors=\"pt\", truncation=True, padding=True, max_length=512)\n",
    "\twith torch.no_grad():\n",
    "\t\toutputs = model(**inputs)\n",
    "\t\n",
    "\tprobabilities = torch.nn.functional.softmax(outputs.logits, dim=-1)\n",
    "\tpredicted_class = torch.argmax(probabilities, dim=-1).item()\n",
    "\t\n",
    "\tprobs_list = probabilities[0].tolist()\n",
    "\tsentiment_map = {0: \"Very Negative\", 1: \"Negative\", 2: \"Neutral\", 3: \"Positive\", 4: \"Very Positive\"}\n",
    "\t\n",
    "\t# Create a dictionary of sentiment labels and their probabilities\n",
    "\tsentiment_probs = {\n",
    "\t\t\t\t\t\tsentiment_map[i]: prob\n",
    "\t\t\t\t\t\tfor i, prob in enumerate(probs_list)\n",
    "\t\t\t\t\t\t}\n",
    "\n",
    "\treturn {\n",
    "\t\t\t'predicted_class': sentiment_map[predicted_class],\n",
    "\t\t\t'probabilities': sentiment_probs\n",
    "\t\t\t}\n",
    "\n",
    "# Function written by Claude 3.5 Sonnet (New) to allow the pipeline to handle longer input text\n",
    "def analyze_long_text(text, max_chunk_size):\n",
    "\t\"\"\"\n",
    "\tAnalyze sentiment of long text by breaking it into chunks and averaging results.\n",
    "\t\"\"\"\n",
    "\t# Clean text\n",
    "\ttext = text.replace('\\n', ' ').strip()\n",
    "\t\n",
    "\t# Split into chunks using existing chunk_text function\n",
    "\tchunks = chunk_text(text, max_chunk_size)\n",
    "\t\n",
    "\t# Analyze each chunk\n",
    "\tchunk_sentiments = {\"Very Negative\": 0, \"Negative\": 0, \"Neutral\": 0, \"Positive\": 0, \"Very Positive\": 0}\n",
    "\tvalid_chunks = 0\n",
    "\t\n",
    "\tfor chunk in chunks:\n",
    "\t\ttry:\n",
    "\t\t\tresult = predict_sentiment(chunk) # Uses modified pipeline\n",
    "\t\t\tfor sentiment, prob in result['probabilities'].items():\n",
    "\t\t\t\tchunk_sentiments[sentiment] += prob\n",
    "\t\t\tvalid_chunks += 1\n",
    "\t\texcept Exception as e:\n",
    "\t\t\tprint(f\"Error processing chunk: {e}\")\n",
    "\t\t\tcontinue\n",
    "\t\n",
    "\t# Average the sentiments\n",
    "\tif valid_chunks > 0:\n",
    "\t\tfor sentiment in chunk_sentiments:\n",
    "\t\t\tchunk_sentiments[sentiment] /= valid_chunks\n",
    "\t\n",
    "\t# Determine overall sentiment\n",
    "\tmax_sentiment = max(chunk_sentiments.items(), key=lambda x: x[1])\n",
    "\t\n",
    "\treturn {\n",
    "\t\t\t'predicted_class': max_sentiment[0],\n",
    "\t\t\t'probabilities': chunk_sentiments\n",
    "\t\t\t}\n",
    "\n",
    "# Updated sentiment analysis loop\n",
    "sentimentCount = {\"Very Negative\": 0, \"Negative\": 0, \"Neutral\": 0, \"Positive\": 0, \"Very Positive\": 0}\n",
    "sentimentProbs = {\"Very Negative\": [], \"Negative\": [], \"Neutral\": [], \"Positive\": [], \"Very Positive\": []}\n",
    "for txt in textDict:\n",
    "    try:\n",
    "        result = analyze_long_text(textDict[txt], max_chunk_size=256)\n",
    "        print(f\"File: {txt}\")\n",
    "        print(f\"Predicted Sentiment: {result['predicted_class']}\")\n",
    "        print(\"Probability Distribution:\")\n",
    "        for sentiment, prob in result['probabilities'].items():\n",
    "            print(f\"  {sentiment}: {prob * 100:.2f}%\")\n",
    "            sentimentCount[sentiment] += prob \t\t# Save the probability to get the averages\n",
    "            sentimentProbs[sentiment].append(prob)\t# Save each probability for each sentiment\n",
    "        print()\n",
    "    except Exception as e:\n",
    "        print(f\"Error processing {txt}: {e}\")\n"
   ]
  },
  {
   "cell_type": "code",
   "execution_count": 8,
   "metadata": {},
   "outputs": [
    {
     "name": "stdout",
     "output_type": "stream",
     "text": [
      "Average Very Negative: \t4.70%\n",
      "Average Negative: \t10.19%\n",
      "Average Neutral: \t53.10%\n",
      "Average Positive: \t21.69%\n",
      "Average Very Positive: \t10.32%\n"
     ]
    }
   ],
   "source": [
    "# Print average sentiment confidence\n",
    "avgSentimentPcts = []\n",
    "for sentiment in sentimentCount:\n",
    "\tavgSentimentPcts.append(float(f\"{sentimentCount[sentiment]/len(textDict) * 100:.2f}\"))\n",
    "\tprint(f\"Average {sentiment}: \\t{sentimentCount[sentiment]/len(textDict) * 100:.2f}%\")\n",
    "#print(avgSentimentPcts)"
   ]
  },
  {
   "cell_type": "code",
   "execution_count": 9,
   "metadata": {},
   "outputs": [
    {
     "data": {
      "application/vnd.plotly.v1+json": {
       "config": {
        "plotlyServerURL": "https://plot.ly"
       },
       "data": [
        {
         "marker": {
          "color": [
           "#ff4d4d",
           "#ff8c8c",
           "#8c8c8c",
           "#7fbf7f",
           "#2eb82e"
          ]
         },
         "text": [
          "4.7%",
          "10.19%",
          "53.1%",
          "21.69%",
          "10.32%"
         ],
         "textposition": "auto",
         "type": "bar",
         "x": [
          "Very Negative",
          "Negative",
          "Neutral",
          "Positive",
          "Very Positive"
         ],
         "y": [
          4.7,
          10.19,
          53.1,
          21.69,
          10.32
         ]
        }
       ],
       "layout": {
        "bargap": 0.2,
        "template": {
         "data": {
          "bar": [
           {
            "error_x": {
             "color": "#2a3f5f"
            },
            "error_y": {
             "color": "#2a3f5f"
            },
            "marker": {
             "line": {
              "color": "white",
              "width": 0.5
             },
             "pattern": {
              "fillmode": "overlay",
              "size": 10,
              "solidity": 0.2
             }
            },
            "type": "bar"
           }
          ],
          "barpolar": [
           {
            "marker": {
             "line": {
              "color": "white",
              "width": 0.5
             },
             "pattern": {
              "fillmode": "overlay",
              "size": 10,
              "solidity": 0.2
             }
            },
            "type": "barpolar"
           }
          ],
          "carpet": [
           {
            "aaxis": {
             "endlinecolor": "#2a3f5f",
             "gridcolor": "#C8D4E3",
             "linecolor": "#C8D4E3",
             "minorgridcolor": "#C8D4E3",
             "startlinecolor": "#2a3f5f"
            },
            "baxis": {
             "endlinecolor": "#2a3f5f",
             "gridcolor": "#C8D4E3",
             "linecolor": "#C8D4E3",
             "minorgridcolor": "#C8D4E3",
             "startlinecolor": "#2a3f5f"
            },
            "type": "carpet"
           }
          ],
          "choropleth": [
           {
            "colorbar": {
             "outlinewidth": 0,
             "ticks": ""
            },
            "type": "choropleth"
           }
          ],
          "contour": [
           {
            "colorbar": {
             "outlinewidth": 0,
             "ticks": ""
            },
            "colorscale": [
             [
              0,
              "#0d0887"
             ],
             [
              0.1111111111111111,
              "#46039f"
             ],
             [
              0.2222222222222222,
              "#7201a8"
             ],
             [
              0.3333333333333333,
              "#9c179e"
             ],
             [
              0.4444444444444444,
              "#bd3786"
             ],
             [
              0.5555555555555556,
              "#d8576b"
             ],
             [
              0.6666666666666666,
              "#ed7953"
             ],
             [
              0.7777777777777778,
              "#fb9f3a"
             ],
             [
              0.8888888888888888,
              "#fdca26"
             ],
             [
              1,
              "#f0f921"
             ]
            ],
            "type": "contour"
           }
          ],
          "contourcarpet": [
           {
            "colorbar": {
             "outlinewidth": 0,
             "ticks": ""
            },
            "type": "contourcarpet"
           }
          ],
          "heatmap": [
           {
            "colorbar": {
             "outlinewidth": 0,
             "ticks": ""
            },
            "colorscale": [
             [
              0,
              "#0d0887"
             ],
             [
              0.1111111111111111,
              "#46039f"
             ],
             [
              0.2222222222222222,
              "#7201a8"
             ],
             [
              0.3333333333333333,
              "#9c179e"
             ],
             [
              0.4444444444444444,
              "#bd3786"
             ],
             [
              0.5555555555555556,
              "#d8576b"
             ],
             [
              0.6666666666666666,
              "#ed7953"
             ],
             [
              0.7777777777777778,
              "#fb9f3a"
             ],
             [
              0.8888888888888888,
              "#fdca26"
             ],
             [
              1,
              "#f0f921"
             ]
            ],
            "type": "heatmap"
           }
          ],
          "heatmapgl": [
           {
            "colorbar": {
             "outlinewidth": 0,
             "ticks": ""
            },
            "colorscale": [
             [
              0,
              "#0d0887"
             ],
             [
              0.1111111111111111,
              "#46039f"
             ],
             [
              0.2222222222222222,
              "#7201a8"
             ],
             [
              0.3333333333333333,
              "#9c179e"
             ],
             [
              0.4444444444444444,
              "#bd3786"
             ],
             [
              0.5555555555555556,
              "#d8576b"
             ],
             [
              0.6666666666666666,
              "#ed7953"
             ],
             [
              0.7777777777777778,
              "#fb9f3a"
             ],
             [
              0.8888888888888888,
              "#fdca26"
             ],
             [
              1,
              "#f0f921"
             ]
            ],
            "type": "heatmapgl"
           }
          ],
          "histogram": [
           {
            "marker": {
             "pattern": {
              "fillmode": "overlay",
              "size": 10,
              "solidity": 0.2
             }
            },
            "type": "histogram"
           }
          ],
          "histogram2d": [
           {
            "colorbar": {
             "outlinewidth": 0,
             "ticks": ""
            },
            "colorscale": [
             [
              0,
              "#0d0887"
             ],
             [
              0.1111111111111111,
              "#46039f"
             ],
             [
              0.2222222222222222,
              "#7201a8"
             ],
             [
              0.3333333333333333,
              "#9c179e"
             ],
             [
              0.4444444444444444,
              "#bd3786"
             ],
             [
              0.5555555555555556,
              "#d8576b"
             ],
             [
              0.6666666666666666,
              "#ed7953"
             ],
             [
              0.7777777777777778,
              "#fb9f3a"
             ],
             [
              0.8888888888888888,
              "#fdca26"
             ],
             [
              1,
              "#f0f921"
             ]
            ],
            "type": "histogram2d"
           }
          ],
          "histogram2dcontour": [
           {
            "colorbar": {
             "outlinewidth": 0,
             "ticks": ""
            },
            "colorscale": [
             [
              0,
              "#0d0887"
             ],
             [
              0.1111111111111111,
              "#46039f"
             ],
             [
              0.2222222222222222,
              "#7201a8"
             ],
             [
              0.3333333333333333,
              "#9c179e"
             ],
             [
              0.4444444444444444,
              "#bd3786"
             ],
             [
              0.5555555555555556,
              "#d8576b"
             ],
             [
              0.6666666666666666,
              "#ed7953"
             ],
             [
              0.7777777777777778,
              "#fb9f3a"
             ],
             [
              0.8888888888888888,
              "#fdca26"
             ],
             [
              1,
              "#f0f921"
             ]
            ],
            "type": "histogram2dcontour"
           }
          ],
          "mesh3d": [
           {
            "colorbar": {
             "outlinewidth": 0,
             "ticks": ""
            },
            "type": "mesh3d"
           }
          ],
          "parcoords": [
           {
            "line": {
             "colorbar": {
              "outlinewidth": 0,
              "ticks": ""
             }
            },
            "type": "parcoords"
           }
          ],
          "pie": [
           {
            "automargin": true,
            "type": "pie"
           }
          ],
          "scatter": [
           {
            "fillpattern": {
             "fillmode": "overlay",
             "size": 10,
             "solidity": 0.2
            },
            "type": "scatter"
           }
          ],
          "scatter3d": [
           {
            "line": {
             "colorbar": {
              "outlinewidth": 0,
              "ticks": ""
             }
            },
            "marker": {
             "colorbar": {
              "outlinewidth": 0,
              "ticks": ""
             }
            },
            "type": "scatter3d"
           }
          ],
          "scattercarpet": [
           {
            "marker": {
             "colorbar": {
              "outlinewidth": 0,
              "ticks": ""
             }
            },
            "type": "scattercarpet"
           }
          ],
          "scattergeo": [
           {
            "marker": {
             "colorbar": {
              "outlinewidth": 0,
              "ticks": ""
             }
            },
            "type": "scattergeo"
           }
          ],
          "scattergl": [
           {
            "marker": {
             "colorbar": {
              "outlinewidth": 0,
              "ticks": ""
             }
            },
            "type": "scattergl"
           }
          ],
          "scattermapbox": [
           {
            "marker": {
             "colorbar": {
              "outlinewidth": 0,
              "ticks": ""
             }
            },
            "type": "scattermapbox"
           }
          ],
          "scatterpolar": [
           {
            "marker": {
             "colorbar": {
              "outlinewidth": 0,
              "ticks": ""
             }
            },
            "type": "scatterpolar"
           }
          ],
          "scatterpolargl": [
           {
            "marker": {
             "colorbar": {
              "outlinewidth": 0,
              "ticks": ""
             }
            },
            "type": "scatterpolargl"
           }
          ],
          "scatterternary": [
           {
            "marker": {
             "colorbar": {
              "outlinewidth": 0,
              "ticks": ""
             }
            },
            "type": "scatterternary"
           }
          ],
          "surface": [
           {
            "colorbar": {
             "outlinewidth": 0,
             "ticks": ""
            },
            "colorscale": [
             [
              0,
              "#0d0887"
             ],
             [
              0.1111111111111111,
              "#46039f"
             ],
             [
              0.2222222222222222,
              "#7201a8"
             ],
             [
              0.3333333333333333,
              "#9c179e"
             ],
             [
              0.4444444444444444,
              "#bd3786"
             ],
             [
              0.5555555555555556,
              "#d8576b"
             ],
             [
              0.6666666666666666,
              "#ed7953"
             ],
             [
              0.7777777777777778,
              "#fb9f3a"
             ],
             [
              0.8888888888888888,
              "#fdca26"
             ],
             [
              1,
              "#f0f921"
             ]
            ],
            "type": "surface"
           }
          ],
          "table": [
           {
            "cells": {
             "fill": {
              "color": "#EBF0F8"
             },
             "line": {
              "color": "white"
             }
            },
            "header": {
             "fill": {
              "color": "#C8D4E3"
             },
             "line": {
              "color": "white"
             }
            },
            "type": "table"
           }
          ]
         },
         "layout": {
          "annotationdefaults": {
           "arrowcolor": "#2a3f5f",
           "arrowhead": 0,
           "arrowwidth": 1
          },
          "autotypenumbers": "strict",
          "coloraxis": {
           "colorbar": {
            "outlinewidth": 0,
            "ticks": ""
           }
          },
          "colorscale": {
           "diverging": [
            [
             0,
             "#8e0152"
            ],
            [
             0.1,
             "#c51b7d"
            ],
            [
             0.2,
             "#de77ae"
            ],
            [
             0.3,
             "#f1b6da"
            ],
            [
             0.4,
             "#fde0ef"
            ],
            [
             0.5,
             "#f7f7f7"
            ],
            [
             0.6,
             "#e6f5d0"
            ],
            [
             0.7,
             "#b8e186"
            ],
            [
             0.8,
             "#7fbc41"
            ],
            [
             0.9,
             "#4d9221"
            ],
            [
             1,
             "#276419"
            ]
           ],
           "sequential": [
            [
             0,
             "#0d0887"
            ],
            [
             0.1111111111111111,
             "#46039f"
            ],
            [
             0.2222222222222222,
             "#7201a8"
            ],
            [
             0.3333333333333333,
             "#9c179e"
            ],
            [
             0.4444444444444444,
             "#bd3786"
            ],
            [
             0.5555555555555556,
             "#d8576b"
            ],
            [
             0.6666666666666666,
             "#ed7953"
            ],
            [
             0.7777777777777778,
             "#fb9f3a"
            ],
            [
             0.8888888888888888,
             "#fdca26"
            ],
            [
             1,
             "#f0f921"
            ]
           ],
           "sequentialminus": [
            [
             0,
             "#0d0887"
            ],
            [
             0.1111111111111111,
             "#46039f"
            ],
            [
             0.2222222222222222,
             "#7201a8"
            ],
            [
             0.3333333333333333,
             "#9c179e"
            ],
            [
             0.4444444444444444,
             "#bd3786"
            ],
            [
             0.5555555555555556,
             "#d8576b"
            ],
            [
             0.6666666666666666,
             "#ed7953"
            ],
            [
             0.7777777777777778,
             "#fb9f3a"
            ],
            [
             0.8888888888888888,
             "#fdca26"
            ],
            [
             1,
             "#f0f921"
            ]
           ]
          },
          "colorway": [
           "#636efa",
           "#EF553B",
           "#00cc96",
           "#ab63fa",
           "#FFA15A",
           "#19d3f3",
           "#FF6692",
           "#B6E880",
           "#FF97FF",
           "#FECB52"
          ],
          "font": {
           "color": "#2a3f5f"
          },
          "geo": {
           "bgcolor": "white",
           "lakecolor": "white",
           "landcolor": "white",
           "showlakes": true,
           "showland": true,
           "subunitcolor": "#C8D4E3"
          },
          "hoverlabel": {
           "align": "left"
          },
          "hovermode": "closest",
          "mapbox": {
           "style": "light"
          },
          "paper_bgcolor": "white",
          "plot_bgcolor": "white",
          "polar": {
           "angularaxis": {
            "gridcolor": "#EBF0F8",
            "linecolor": "#EBF0F8",
            "ticks": ""
           },
           "bgcolor": "white",
           "radialaxis": {
            "gridcolor": "#EBF0F8",
            "linecolor": "#EBF0F8",
            "ticks": ""
           }
          },
          "scene": {
           "xaxis": {
            "backgroundcolor": "white",
            "gridcolor": "#DFE8F3",
            "gridwidth": 2,
            "linecolor": "#EBF0F8",
            "showbackground": true,
            "ticks": "",
            "zerolinecolor": "#EBF0F8"
           },
           "yaxis": {
            "backgroundcolor": "white",
            "gridcolor": "#DFE8F3",
            "gridwidth": 2,
            "linecolor": "#EBF0F8",
            "showbackground": true,
            "ticks": "",
            "zerolinecolor": "#EBF0F8"
           },
           "zaxis": {
            "backgroundcolor": "white",
            "gridcolor": "#DFE8F3",
            "gridwidth": 2,
            "linecolor": "#EBF0F8",
            "showbackground": true,
            "ticks": "",
            "zerolinecolor": "#EBF0F8"
           }
          },
          "shapedefaults": {
           "line": {
            "color": "#2a3f5f"
           }
          },
          "ternary": {
           "aaxis": {
            "gridcolor": "#DFE8F3",
            "linecolor": "#A2B1C6",
            "ticks": ""
           },
           "baxis": {
            "gridcolor": "#DFE8F3",
            "linecolor": "#A2B1C6",
            "ticks": ""
           },
           "bgcolor": "white",
           "caxis": {
            "gridcolor": "#DFE8F3",
            "linecolor": "#A2B1C6",
            "ticks": ""
           }
          },
          "title": {
           "x": 0.05
          },
          "xaxis": {
           "automargin": true,
           "gridcolor": "#EBF0F8",
           "linecolor": "#EBF0F8",
           "ticks": "",
           "title": {
            "standoff": 15
           },
           "zerolinecolor": "#EBF0F8",
           "zerolinewidth": 2
          },
          "yaxis": {
           "automargin": true,
           "gridcolor": "#EBF0F8",
           "linecolor": "#EBF0F8",
           "ticks": "",
           "title": {
            "standoff": 15
           },
           "zerolinecolor": "#EBF0F8",
           "zerolinewidth": 2
          }
         }
        },
        "title": {
         "text": "Average FOMC Sentiment Distribution"
        },
        "xaxis": {
         "title": {
          "text": "Sentiment"
         }
        },
        "yaxis": {
         "range": [
          0,
          100
         ],
         "title": {
          "text": "Percentage (%)"
         }
        }
       }
      }
     },
     "metadata": {},
     "output_type": "display_data"
    },
    {
     "data": {
      "application/vnd.plotly.v1+json": {
       "config": {
        "plotlyServerURL": "https://plot.ly"
       },
       "data": [
        {
         "line": {
          "color": "#ff4d4d"
         },
         "mode": "lines",
         "name": "Very Negative",
         "type": "scatter",
         "x": [
          0,
          1,
          2,
          3,
          4,
          5,
          6,
          7,
          8,
          9,
          10,
          11,
          12,
          13,
          14,
          15,
          16,
          17,
          18,
          19,
          20,
          21,
          22,
          23,
          24,
          25,
          26,
          27,
          28,
          29,
          30,
          31,
          32,
          33,
          34,
          35,
          36,
          37,
          38,
          39,
          40,
          41,
          42,
          43,
          44,
          45,
          46,
          47,
          48
         ],
         "y": [
          3.847611404489726,
          3.874866267045339,
          3.5561280532015695,
          3.7811468130555643,
          4.342808072725611,
          4.175295169864382,
          3.409658616874367,
          4.1506910800106,
          3.9408537785749176,
          9.69571588981536,
          8.156625591218472,
          6.056295024851957,
          3.8524680835909626,
          3.7724295466700024,
          4.0249388152733445,
          4.982688786411607,
          4.723700231350049,
          5.428928732872009,
          4.107586126320246,
          5.317492748757726,
          4.6512731225103945,
          4.5627029326099615,
          5.5898443307904975,
          5.50219597848686,
          3.896151493406958,
          5.673966306494549,
          5.313177539133712,
          6.3038526102900505,
          5.3708438600959445,
          4.653081550232826,
          5.594955408765424,
          4.509159760369409,
          5.703151822090149,
          4.4847861644538005,
          4.218741740499224,
          4.227203772579496,
          4.431149446846623,
          4.1730785018040075,
          4.472305052331649,
          4.470173134985897,
          3.6474621505476534,
          4.611080999979202,
          4.269894897132306,
          4.846094784272068,
          3.4489080096994127,
          4.17581630934929,
          3.702875040471554,
          4.983406110356251,
          3.763082889943487
         ]
        },
        {
         "line": {
          "color": "#ff8c8c"
         },
         "mode": "lines",
         "name": "Negative",
         "type": "scatter",
         "x": [
          0,
          1,
          2,
          3,
          4,
          5,
          6,
          7,
          8,
          9,
          10,
          11,
          12,
          13,
          14,
          15,
          16,
          17,
          18,
          19,
          20,
          21,
          22,
          23,
          24,
          25,
          26,
          27,
          28,
          29,
          30,
          31,
          32,
          33,
          34,
          35,
          36,
          37,
          38,
          39,
          40,
          41,
          42,
          43,
          44,
          45,
          46,
          47,
          48
         ],
         "y": [
          9.565515199210495,
          9.8679984609286,
          9.053743396092344,
          9.3654730260886,
          10.943652431090031,
          9.640919071223054,
          7.314220420084894,
          10.072312348832686,
          9.460210664248144,
          12.589603734593238,
          11.773755536414683,
          12.48570790944191,
          7.817573979670225,
          7.941081166705664,
          8.425339981913567,
          10.005216587435555,
          9.93087457538378,
          13.193139652721584,
          9.186499820249837,
          12.375679533732564,
          9.614196329100713,
          9.965576107303303,
          11.770318328802075,
          12.07172055602879,
          9.255073654154938,
          11.187379399780184,
          11.130271273616113,
          14.487631017198929,
          12.978124181772099,
          10.989208831902474,
          12.237511863631587,
          10.937225512198863,
          12.028475347906351,
          9.005202106474076,
          10.031586081853934,
          9.138204927581388,
          9.633733689981073,
          9.754959711184103,
          9.469361428637058,
          9.563469167591796,
          8.562243316555396,
          10.523097129429088,
          8.977077548971048,
          10.424314976176795,
          7.503607783998762,
          9.808887284377525,
          8.231375829722637,
          10.021636821329594,
          8.88569423307975
         ]
        },
        {
         "line": {
          "color": "#8c8c8c"
         },
         "mode": "lines",
         "name": "Neutral",
         "type": "scatter",
         "x": [
          0,
          1,
          2,
          3,
          4,
          5,
          6,
          7,
          8,
          9,
          10,
          11,
          12,
          13,
          14,
          15,
          16,
          17,
          18,
          19,
          20,
          21,
          22,
          23,
          24,
          25,
          26,
          27,
          28,
          29,
          30,
          31,
          32,
          33,
          34,
          35,
          36,
          37,
          38,
          39,
          40,
          41,
          42,
          43,
          44,
          45,
          46,
          47,
          48
         ],
         "y": [
          60.04643812775612,
          55.65584818522136,
          57.36392703321245,
          54.29437694878414,
          54.27503830963566,
          56.617320052215035,
          55.25154015049338,
          53.6801740527153,
          58.43775820087742,
          48.198194585500225,
          46.867407131940126,
          51.24718023416324,
          53.75192816867384,
          55.67099754424656,
          52.944441251456745,
          50.822594520208,
          54.65868954978338,
          50.23796372115612,
          53.75775371382876,
          53.23013749561811,
          55.688195051373654,
          55.675069261819885,
          53.27386753190131,
          51.275913417339325,
          51.109228076206314,
          53.17723765037954,
          47.154924469558814,
          49.02418076227873,
          49.95771410136387,
          51.719360822631465,
          44.40571391774762,
          51.32359694088658,
          49.37215422590573,
          52.41153511930915,
          52.77230513947351,
          52.07799290483063,
          54.227522329280255,
          53.8726714750131,
          55.09847826324403,
          50.84391745428244,
          54.634763672947884,
          52.80419789692935,
          51.72909188109476,
          55.71434134069611,
          56.75508592809949,
          57.77577680760416,
          50.31803269416858,
          54.18782482544581,
          56.725257221195434
         ]
        },
        {
         "line": {
          "color": "#7fbf7f"
         },
         "mode": "lines",
         "name": "Positive",
         "type": "scatter",
         "x": [
          0,
          1,
          2,
          3,
          4,
          5,
          6,
          7,
          8,
          9,
          10,
          11,
          12,
          13,
          14,
          15,
          16,
          17,
          18,
          19,
          20,
          21,
          22,
          23,
          24,
          25,
          26,
          27,
          28,
          29,
          30,
          31,
          32,
          33,
          34,
          35,
          36,
          37,
          38,
          39,
          40,
          41,
          42,
          43,
          44,
          45,
          46,
          47,
          48
         ],
         "y": [
          18.5256369644776,
          20.831034059325855,
          21.38789469997088,
          22.959265523943408,
          21.66334842481921,
          21.624290027788707,
          24.060929426923394,
          22.48631459143427,
          20.531790099433948,
          20.500830416717836,
          21.27628045156598,
          20.514179269472756,
          24.074398986128873,
          22.118283150827185,
          22.65206671319902,
          23.023550393613608,
          20.47706235472749,
          20.850936314091086,
          22.126984996039692,
          20.109249631825246,
          19.87618747595194,
          20.11392632356057,
          20.111104171900525,
          20.323637510473663,
          23.88180150753922,
          20.172604941762984,
          23.64651856845931,
          20.00696273186268,
          21.434596797515606,
          21.459648397661024,
          24.324385869887568,
          22.208446264266968,
          22.11771513024966,
          22.655491421327874,
          21.61629383053098,
          24.067761285884963,
          21.5302201085969,
          21.689691291087204,
          20.70799320936203,
          23.27359217322535,
          22.775217844173312,
          21.269741391434387,
          23.748208562264573,
          19.057674607371585,
          22.28017313139779,
          19.180133707564455,
          25.405386672952236,
          20.473609161045818,
          21.45393372823795
         ]
        },
        {
         "line": {
          "color": "#2eb82e"
         },
         "mode": "lines",
         "name": "Very Positive",
         "type": "scatter",
         "x": [
          0,
          1,
          2,
          3,
          4,
          5,
          6,
          7,
          8,
          9,
          10,
          11,
          12,
          13,
          14,
          15,
          16,
          17,
          18,
          19,
          20,
          21,
          22,
          23,
          24,
          25,
          26,
          27,
          28,
          29,
          30,
          31,
          32,
          33,
          34,
          35,
          36,
          37,
          38,
          39,
          40,
          41,
          42,
          43,
          44,
          45,
          46,
          47,
          48
         ],
         "y": [
          8.014797465875745,
          9.770253791163364,
          8.63830813517173,
          9.599738452455094,
          8.775152061735431,
          7.942175971610206,
          9.963650436839089,
          9.610508703109291,
          7.629387191421277,
          9.01565495878458,
          11.925931461155415,
          9.696638584136963,
          10.503630045541497,
          10.497209659832366,
          11.953214770182967,
          11.165950301329831,
          10.209673297841375,
          10.289032692089677,
          10.821175575256348,
          8.967440889069907,
          10.170146943749609,
          9.682724715616459,
          9.254867414988222,
          10.826530967008424,
          11.857745051383972,
          9.788811358157545,
          12.755107075760238,
          10.177372214503777,
          10.258721444627335,
          11.178700409589275,
          13.437433612923469,
          11.021571209834468,
          10.77850462247928,
          11.44298634984914,
          11.36107291494097,
          10.488837187153262,
          10.177373817484629,
          10.509597934368584,
          10.25186168262735,
          11.848848188916843,
          10.380311799235642,
          10.791881524902932,
          11.275726989717096,
          9.957573781995212,
          10.012224981827396,
          9.059385126777764,
          12.342330135214024,
          10.333525291126636,
          9.172030491754413
         ]
        }
       ],
       "layout": {
        "template": {
         "data": {
          "bar": [
           {
            "error_x": {
             "color": "#2a3f5f"
            },
            "error_y": {
             "color": "#2a3f5f"
            },
            "marker": {
             "line": {
              "color": "white",
              "width": 0.5
             },
             "pattern": {
              "fillmode": "overlay",
              "size": 10,
              "solidity": 0.2
             }
            },
            "type": "bar"
           }
          ],
          "barpolar": [
           {
            "marker": {
             "line": {
              "color": "white",
              "width": 0.5
             },
             "pattern": {
              "fillmode": "overlay",
              "size": 10,
              "solidity": 0.2
             }
            },
            "type": "barpolar"
           }
          ],
          "carpet": [
           {
            "aaxis": {
             "endlinecolor": "#2a3f5f",
             "gridcolor": "#C8D4E3",
             "linecolor": "#C8D4E3",
             "minorgridcolor": "#C8D4E3",
             "startlinecolor": "#2a3f5f"
            },
            "baxis": {
             "endlinecolor": "#2a3f5f",
             "gridcolor": "#C8D4E3",
             "linecolor": "#C8D4E3",
             "minorgridcolor": "#C8D4E3",
             "startlinecolor": "#2a3f5f"
            },
            "type": "carpet"
           }
          ],
          "choropleth": [
           {
            "colorbar": {
             "outlinewidth": 0,
             "ticks": ""
            },
            "type": "choropleth"
           }
          ],
          "contour": [
           {
            "colorbar": {
             "outlinewidth": 0,
             "ticks": ""
            },
            "colorscale": [
             [
              0,
              "#0d0887"
             ],
             [
              0.1111111111111111,
              "#46039f"
             ],
             [
              0.2222222222222222,
              "#7201a8"
             ],
             [
              0.3333333333333333,
              "#9c179e"
             ],
             [
              0.4444444444444444,
              "#bd3786"
             ],
             [
              0.5555555555555556,
              "#d8576b"
             ],
             [
              0.6666666666666666,
              "#ed7953"
             ],
             [
              0.7777777777777778,
              "#fb9f3a"
             ],
             [
              0.8888888888888888,
              "#fdca26"
             ],
             [
              1,
              "#f0f921"
             ]
            ],
            "type": "contour"
           }
          ],
          "contourcarpet": [
           {
            "colorbar": {
             "outlinewidth": 0,
             "ticks": ""
            },
            "type": "contourcarpet"
           }
          ],
          "heatmap": [
           {
            "colorbar": {
             "outlinewidth": 0,
             "ticks": ""
            },
            "colorscale": [
             [
              0,
              "#0d0887"
             ],
             [
              0.1111111111111111,
              "#46039f"
             ],
             [
              0.2222222222222222,
              "#7201a8"
             ],
             [
              0.3333333333333333,
              "#9c179e"
             ],
             [
              0.4444444444444444,
              "#bd3786"
             ],
             [
              0.5555555555555556,
              "#d8576b"
             ],
             [
              0.6666666666666666,
              "#ed7953"
             ],
             [
              0.7777777777777778,
              "#fb9f3a"
             ],
             [
              0.8888888888888888,
              "#fdca26"
             ],
             [
              1,
              "#f0f921"
             ]
            ],
            "type": "heatmap"
           }
          ],
          "heatmapgl": [
           {
            "colorbar": {
             "outlinewidth": 0,
             "ticks": ""
            },
            "colorscale": [
             [
              0,
              "#0d0887"
             ],
             [
              0.1111111111111111,
              "#46039f"
             ],
             [
              0.2222222222222222,
              "#7201a8"
             ],
             [
              0.3333333333333333,
              "#9c179e"
             ],
             [
              0.4444444444444444,
              "#bd3786"
             ],
             [
              0.5555555555555556,
              "#d8576b"
             ],
             [
              0.6666666666666666,
              "#ed7953"
             ],
             [
              0.7777777777777778,
              "#fb9f3a"
             ],
             [
              0.8888888888888888,
              "#fdca26"
             ],
             [
              1,
              "#f0f921"
             ]
            ],
            "type": "heatmapgl"
           }
          ],
          "histogram": [
           {
            "marker": {
             "pattern": {
              "fillmode": "overlay",
              "size": 10,
              "solidity": 0.2
             }
            },
            "type": "histogram"
           }
          ],
          "histogram2d": [
           {
            "colorbar": {
             "outlinewidth": 0,
             "ticks": ""
            },
            "colorscale": [
             [
              0,
              "#0d0887"
             ],
             [
              0.1111111111111111,
              "#46039f"
             ],
             [
              0.2222222222222222,
              "#7201a8"
             ],
             [
              0.3333333333333333,
              "#9c179e"
             ],
             [
              0.4444444444444444,
              "#bd3786"
             ],
             [
              0.5555555555555556,
              "#d8576b"
             ],
             [
              0.6666666666666666,
              "#ed7953"
             ],
             [
              0.7777777777777778,
              "#fb9f3a"
             ],
             [
              0.8888888888888888,
              "#fdca26"
             ],
             [
              1,
              "#f0f921"
             ]
            ],
            "type": "histogram2d"
           }
          ],
          "histogram2dcontour": [
           {
            "colorbar": {
             "outlinewidth": 0,
             "ticks": ""
            },
            "colorscale": [
             [
              0,
              "#0d0887"
             ],
             [
              0.1111111111111111,
              "#46039f"
             ],
             [
              0.2222222222222222,
              "#7201a8"
             ],
             [
              0.3333333333333333,
              "#9c179e"
             ],
             [
              0.4444444444444444,
              "#bd3786"
             ],
             [
              0.5555555555555556,
              "#d8576b"
             ],
             [
              0.6666666666666666,
              "#ed7953"
             ],
             [
              0.7777777777777778,
              "#fb9f3a"
             ],
             [
              0.8888888888888888,
              "#fdca26"
             ],
             [
              1,
              "#f0f921"
             ]
            ],
            "type": "histogram2dcontour"
           }
          ],
          "mesh3d": [
           {
            "colorbar": {
             "outlinewidth": 0,
             "ticks": ""
            },
            "type": "mesh3d"
           }
          ],
          "parcoords": [
           {
            "line": {
             "colorbar": {
              "outlinewidth": 0,
              "ticks": ""
             }
            },
            "type": "parcoords"
           }
          ],
          "pie": [
           {
            "automargin": true,
            "type": "pie"
           }
          ],
          "scatter": [
           {
            "fillpattern": {
             "fillmode": "overlay",
             "size": 10,
             "solidity": 0.2
            },
            "type": "scatter"
           }
          ],
          "scatter3d": [
           {
            "line": {
             "colorbar": {
              "outlinewidth": 0,
              "ticks": ""
             }
            },
            "marker": {
             "colorbar": {
              "outlinewidth": 0,
              "ticks": ""
             }
            },
            "type": "scatter3d"
           }
          ],
          "scattercarpet": [
           {
            "marker": {
             "colorbar": {
              "outlinewidth": 0,
              "ticks": ""
             }
            },
            "type": "scattercarpet"
           }
          ],
          "scattergeo": [
           {
            "marker": {
             "colorbar": {
              "outlinewidth": 0,
              "ticks": ""
             }
            },
            "type": "scattergeo"
           }
          ],
          "scattergl": [
           {
            "marker": {
             "colorbar": {
              "outlinewidth": 0,
              "ticks": ""
             }
            },
            "type": "scattergl"
           }
          ],
          "scattermapbox": [
           {
            "marker": {
             "colorbar": {
              "outlinewidth": 0,
              "ticks": ""
             }
            },
            "type": "scattermapbox"
           }
          ],
          "scatterpolar": [
           {
            "marker": {
             "colorbar": {
              "outlinewidth": 0,
              "ticks": ""
             }
            },
            "type": "scatterpolar"
           }
          ],
          "scatterpolargl": [
           {
            "marker": {
             "colorbar": {
              "outlinewidth": 0,
              "ticks": ""
             }
            },
            "type": "scatterpolargl"
           }
          ],
          "scatterternary": [
           {
            "marker": {
             "colorbar": {
              "outlinewidth": 0,
              "ticks": ""
             }
            },
            "type": "scatterternary"
           }
          ],
          "surface": [
           {
            "colorbar": {
             "outlinewidth": 0,
             "ticks": ""
            },
            "colorscale": [
             [
              0,
              "#0d0887"
             ],
             [
              0.1111111111111111,
              "#46039f"
             ],
             [
              0.2222222222222222,
              "#7201a8"
             ],
             [
              0.3333333333333333,
              "#9c179e"
             ],
             [
              0.4444444444444444,
              "#bd3786"
             ],
             [
              0.5555555555555556,
              "#d8576b"
             ],
             [
              0.6666666666666666,
              "#ed7953"
             ],
             [
              0.7777777777777778,
              "#fb9f3a"
             ],
             [
              0.8888888888888888,
              "#fdca26"
             ],
             [
              1,
              "#f0f921"
             ]
            ],
            "type": "surface"
           }
          ],
          "table": [
           {
            "cells": {
             "fill": {
              "color": "#EBF0F8"
             },
             "line": {
              "color": "white"
             }
            },
            "header": {
             "fill": {
              "color": "#C8D4E3"
             },
             "line": {
              "color": "white"
             }
            },
            "type": "table"
           }
          ]
         },
         "layout": {
          "annotationdefaults": {
           "arrowcolor": "#2a3f5f",
           "arrowhead": 0,
           "arrowwidth": 1
          },
          "autotypenumbers": "strict",
          "coloraxis": {
           "colorbar": {
            "outlinewidth": 0,
            "ticks": ""
           }
          },
          "colorscale": {
           "diverging": [
            [
             0,
             "#8e0152"
            ],
            [
             0.1,
             "#c51b7d"
            ],
            [
             0.2,
             "#de77ae"
            ],
            [
             0.3,
             "#f1b6da"
            ],
            [
             0.4,
             "#fde0ef"
            ],
            [
             0.5,
             "#f7f7f7"
            ],
            [
             0.6,
             "#e6f5d0"
            ],
            [
             0.7,
             "#b8e186"
            ],
            [
             0.8,
             "#7fbc41"
            ],
            [
             0.9,
             "#4d9221"
            ],
            [
             1,
             "#276419"
            ]
           ],
           "sequential": [
            [
             0,
             "#0d0887"
            ],
            [
             0.1111111111111111,
             "#46039f"
            ],
            [
             0.2222222222222222,
             "#7201a8"
            ],
            [
             0.3333333333333333,
             "#9c179e"
            ],
            [
             0.4444444444444444,
             "#bd3786"
            ],
            [
             0.5555555555555556,
             "#d8576b"
            ],
            [
             0.6666666666666666,
             "#ed7953"
            ],
            [
             0.7777777777777778,
             "#fb9f3a"
            ],
            [
             0.8888888888888888,
             "#fdca26"
            ],
            [
             1,
             "#f0f921"
            ]
           ],
           "sequentialminus": [
            [
             0,
             "#0d0887"
            ],
            [
             0.1111111111111111,
             "#46039f"
            ],
            [
             0.2222222222222222,
             "#7201a8"
            ],
            [
             0.3333333333333333,
             "#9c179e"
            ],
            [
             0.4444444444444444,
             "#bd3786"
            ],
            [
             0.5555555555555556,
             "#d8576b"
            ],
            [
             0.6666666666666666,
             "#ed7953"
            ],
            [
             0.7777777777777778,
             "#fb9f3a"
            ],
            [
             0.8888888888888888,
             "#fdca26"
            ],
            [
             1,
             "#f0f921"
            ]
           ]
          },
          "colorway": [
           "#636efa",
           "#EF553B",
           "#00cc96",
           "#ab63fa",
           "#FFA15A",
           "#19d3f3",
           "#FF6692",
           "#B6E880",
           "#FF97FF",
           "#FECB52"
          ],
          "font": {
           "color": "#2a3f5f"
          },
          "geo": {
           "bgcolor": "white",
           "lakecolor": "white",
           "landcolor": "white",
           "showlakes": true,
           "showland": true,
           "subunitcolor": "#C8D4E3"
          },
          "hoverlabel": {
           "align": "left"
          },
          "hovermode": "closest",
          "mapbox": {
           "style": "light"
          },
          "paper_bgcolor": "white",
          "plot_bgcolor": "white",
          "polar": {
           "angularaxis": {
            "gridcolor": "#EBF0F8",
            "linecolor": "#EBF0F8",
            "ticks": ""
           },
           "bgcolor": "white",
           "radialaxis": {
            "gridcolor": "#EBF0F8",
            "linecolor": "#EBF0F8",
            "ticks": ""
           }
          },
          "scene": {
           "xaxis": {
            "backgroundcolor": "white",
            "gridcolor": "#DFE8F3",
            "gridwidth": 2,
            "linecolor": "#EBF0F8",
            "showbackground": true,
            "ticks": "",
            "zerolinecolor": "#EBF0F8"
           },
           "yaxis": {
            "backgroundcolor": "white",
            "gridcolor": "#DFE8F3",
            "gridwidth": 2,
            "linecolor": "#EBF0F8",
            "showbackground": true,
            "ticks": "",
            "zerolinecolor": "#EBF0F8"
           },
           "zaxis": {
            "backgroundcolor": "white",
            "gridcolor": "#DFE8F3",
            "gridwidth": 2,
            "linecolor": "#EBF0F8",
            "showbackground": true,
            "ticks": "",
            "zerolinecolor": "#EBF0F8"
           }
          },
          "shapedefaults": {
           "line": {
            "color": "#2a3f5f"
           }
          },
          "ternary": {
           "aaxis": {
            "gridcolor": "#DFE8F3",
            "linecolor": "#A2B1C6",
            "ticks": ""
           },
           "baxis": {
            "gridcolor": "#DFE8F3",
            "linecolor": "#A2B1C6",
            "ticks": ""
           },
           "bgcolor": "white",
           "caxis": {
            "gridcolor": "#DFE8F3",
            "linecolor": "#A2B1C6",
            "ticks": ""
           }
          },
          "title": {
           "x": 0.05
          },
          "xaxis": {
           "automargin": true,
           "gridcolor": "#EBF0F8",
           "linecolor": "#EBF0F8",
           "ticks": "",
           "title": {
            "standoff": 15
           },
           "zerolinecolor": "#EBF0F8",
           "zerolinewidth": 2
          },
          "yaxis": {
           "automargin": true,
           "gridcolor": "#EBF0F8",
           "linecolor": "#EBF0F8",
           "ticks": "",
           "title": {
            "standoff": 15
           },
           "zerolinecolor": "#EBF0F8",
           "zerolinewidth": 2
          }
         }
        },
        "title": {
         "text": "Sentiment Over Time"
        },
        "xaxis": {
         "title": {
          "text": "Time"
         }
        },
        "yaxis": {
         "title": {
          "text": "Percentage (%)"
         }
        }
       }
      }
     },
     "metadata": {},
     "output_type": "display_data"
    }
   ],
   "source": [
    "# Data preparation\n",
    "sentiments = [\"Very Negative\", \"Negative\", \"Neutral\", \"Positive\", \"Very Positive\"]\n",
    "percentages = avgSentimentPcts\n",
    "colors = [\"#ff4d4d\", \"#ff8c8c\", \"#8c8c8c\", \"#7fbf7f\", \"#2eb82e\"]\n",
    "\n",
    "# Create the bar chart\n",
    "barChart = go.Figure(data=[\n",
    "    go.Bar(\n",
    "        x=sentiments,\n",
    "        y=percentages,\n",
    "        marker_color=colors,\n",
    "        text=[f'{p}%' for p in percentages],\n",
    "        textposition='auto',\n",
    "    )\n",
    "])\n",
    "\n",
    "barChart.update_layout(\n",
    "    title='Average FOMC Sentiment Distribution',\n",
    "    xaxis_title='Sentiment',\n",
    "    yaxis_title='Percentage (%)',\n",
    "    yaxis_range=[0, 100],\n",
    "    template='plotly_white',\n",
    "    bargap=0.2\n",
    ")\n",
    "\n",
    "barChart.show()\n",
    "\n",
    "#####\n",
    "\n",
    "# Create the line chart with 5 different lines for each sentiment\n",
    "lineChart = go.Figure()\n",
    "\n",
    "for i, sentiment in enumerate(sentiments):\n",
    "    lineChart.add_scatter(\n",
    "        x=list(range(len(sentimentProbs[sentiment]))),\n",
    "        y=[p * 100 for p in sentimentProbs[sentiment]],\n",
    "        mode='lines',\n",
    "        name=sentiment,\n",
    "        line=dict(color=colors[i])\n",
    "    )\n",
    "\n",
    "lineChart.update_layout(\n",
    "    title='Sentiment Over Time',\n",
    "    xaxis_title='Time',\n",
    "    yaxis_title='Percentage (%)',\n",
    "    template='plotly_white'\n",
    ")\n",
    "\n",
    "lineChart.show()"
   ]
  },
  {
   "cell_type": "markdown",
   "metadata": {},
   "source": [
    "---\n",
    "# [Summarization](#Project-Description)\n",
    "\n",
    "Falconsai's text_summarization used via pipeline:\n",
    "\n",
    "Modified to be chunked for longer input texts\n",
    "\n",
    "Please wait 14 - 18 minutes\n",
    "\n",
    "---"
   ]
  },
  {
   "cell_type": "code",
   "execution_count": 13,
   "metadata": {},
   "outputs": [
    {
     "name": "stdout",
     "output_type": "stream",
     "text": [
      "Skipping FOMCpresconf20190130.txt (summary already exists)\n",
      "2/49 files summarized.\n",
      "Skipping FOMCpresconf20190501.txt (summary already exists)\n",
      "Skipping FOMCpresconf20190619.txt (summary already exists)\n",
      "Skipping FOMCpresconf20190731.txt (summary already exists)\n",
      "Skipping FOMCpresconf20190918.txt (summary already exists)\n",
      "Skipping FOMCpresconf20191030.txt (summary already exists)\n",
      "Skipping FOMCpresconf20191211.txt (summary already exists)\n",
      "Skipping FOMCpresconf20200129.txt (summary already exists)\n",
      "Skipping FOMCpresconf20200429.txt (summary already exists)\n",
      "Skipping FOMCpresconf20200610.txt (summary already exists)\n",
      "Skipping FOMCpresconf20200729.txt (summary already exists)\n",
      "Skipping FOMCpresconf20200916.txt (summary already exists)\n",
      "Skipping FOMCpresconf20201105.txt (summary already exists)\n",
      "Skipping FOMCpresconf20201216.txt (summary already exists)\n",
      "Skipping FOMCpresconf20210127.txt (summary already exists)\n",
      "Skipping FOMCpresconf20210317.txt (summary already exists)\n",
      "Skipping FOMCpresconf20210428.txt (summary already exists)\n",
      "Skipping FOMCpresconf20210616.txt (summary already exists)\n",
      "Skipping FOMCpresconf20210728.txt (summary already exists)\n",
      "Skipping FOMCpresconf20210922.txt (summary already exists)\n",
      "Skipping FOMCpresconf20211103.txt (summary already exists)\n",
      "Skipping FOMCpresconf20211215.txt (summary already exists)\n",
      "Skipping FOMCpresconf20220126.txt (summary already exists)\n",
      "Skipping FOMCpresconf20220316.txt (summary already exists)\n",
      "Skipping FOMCpresconf20220504.txt (summary already exists)\n",
      "Skipping FOMCpresconf20220615.txt (summary already exists)\n",
      "Skipping FOMCpresconf20220727.txt (summary already exists)\n",
      "Skipping FOMCpresconf20220921.txt (summary already exists)\n",
      "Skipping FOMCpresconf20221102.txt (summary already exists)\n",
      "Skipping FOMCpresconf20221214.txt (summary already exists)\n",
      "Skipping FOMCpresconf20230201.txt (summary already exists)\n",
      "Skipping FOMCpresconf20230322.txt (summary already exists)\n",
      "Skipping FOMCpresconf20230503.txt (summary already exists)\n",
      "Skipping FOMCpresconf20230614.txt (summary already exists)\n",
      "Skipping FOMCpresconf20230726.txt (summary already exists)\n",
      "Skipping FOMCpresconf20230920.txt (summary already exists)\n",
      "Skipping FOMCpresconf20231101.txt (summary already exists)\n",
      "Skipping FOMCpresconf20231213.txt (summary already exists)\n",
      "Skipping FOMCpresconf20240131.txt (summary already exists)\n",
      "Skipping FOMCpresconf20240320.txt (summary already exists)\n",
      "Skipping FOMCpresconf20240501.txt (summary already exists)\n",
      "Skipping FOMCpresconf20240612.txt (summary already exists)\n",
      "Skipping fomcpresconf20240731.txt (summary already exists)\n",
      "Skipping FOMCpresconf20240918.txt (summary already exists)\n",
      "Skipping FOMCpresconf20241107.txt (summary already exists)\n",
      "Skipping FOMCpresconf20241218.txt (summary already exists)\n",
      "Skipping FOMCpresconf20250129.txt (summary already exists)\n",
      "Skipping FOMCpresconf20250319.txt (summary already exists)\n",
      "Finished outputting all summaries to ./data/summaries!\n"
     ]
    }
   ],
   "source": [
    "summarizer = pipeline(model=\"Falconsai/text_summarization\", device=device)\n",
    "\n",
    "# Function written by Claude 3.5 Sonnet (New) to allow the pipeline to handle longer input text\n",
    "def summarize_long_text(text, summarizer, max_length_div, min_length_div, max_chunk_size):\n",
    "    \"\"\"\n",
    "    Summarize long text by breaking it into chunks and combining summaries.\n",
    "    \"\"\"\n",
    "    # Clean text\n",
    "    text = text.replace('\\n', ' ').strip()\n",
    "    \n",
    "    # Split into chunks\n",
    "    chunks = chunk_text(text, max_chunk_size)\n",
    "    chunkLen = len(chunks)\n",
    "    max_length = chunkLen // max_length_div\n",
    "    min_length = chunkLen // min_length_div\n",
    "\n",
    "    # Summarize each chunk\n",
    "    chunk_summaries = []\n",
    "    for chunk in chunks:\n",
    "        try:\n",
    "            result = summarizer(chunk, max_length=max_length, min_length=min_length) # Pipeline from Hugging Face\n",
    "            chunk_summaries.append(result[0]['summary_text'])\n",
    "        except Exception as e:\n",
    "            print(f\"Error processing chunk: {e}\")\n",
    "            continue\n",
    "    \n",
    "    # Combine chunk summaries by appending them\n",
    "    if len(chunks) == 1:\n",
    "        return chunk_summaries[0]\n",
    "    else:\n",
    "        # For multiple chunks, append the summaries together\n",
    "        combined_summary = ' '.join(chunk_summaries)\n",
    "        return combined_summary\n",
    "\n",
    "counter = 0\n",
    "total = len(textDict)\n",
    "for txt in textDict:\n",
    "\ttry:\n",
    "\t\t# Check if summary already exists\n",
    "\t\tsummary_path = os.path.join(SUMMARY_DIR, txt)\n",
    "\t\tif os.path.exists(summary_path):\n",
    "\t\t\tprint(f\"Skipping {txt} (summary already exists)\")\n",
    "\t\t\tcounter += 1\n",
    "\t\t\tcontinue\n",
    "\t\telse:\n",
    "\t\t\tlength = len(textDict[txt])\n",
    "\t\t\tsummary = summarize_long_text(\n",
    "\t\t\t\ttext=textDict[txt],\n",
    "\t\t\t\tsummarizer=summarizer,\n",
    "\t\t\t\tmax_length_div=2, \t# divisor of chunk\n",
    "\t\t\t\tmin_length_div=4, \t# divisor of chunk\n",
    "\t\t\t\tmax_chunk_size=256\t# Adjust based on model's token limit\n",
    "\t\t\t)\n",
    "\t\tif not os.path.exists(SUMMARY_DIR):\n",
    "\t\t\tos.makedirs(SUMMARY_DIR)\n",
    "\t\twith open(os.path.join(SUMMARY_DIR, txt), \"w+\") as summary_file:\n",
    "\t\t\tsummary_file.write(f\"File: {txt}\\nSummary: {summary}\\n\")\n",
    "\t\t\tcounter += 1\n",
    "\t\t\tprint(f\"{counter}/{total} files summarized.\")\n",
    "\texcept Exception as e:\n",
    "\t\tprint(f\"Error processing {txt}: {e}\")\n",
    "print(f\"Finished outputting all summaries to ./data/summaries!\")"
   ]
  },
  {
   "cell_type": "markdown",
   "metadata": {},
   "source": [
    "---\n",
    "List compression rate of summaries\n",
    "\n",
    "Written by Claude 3.5 Sonnet (New)\n",
    "\n",
    "Modified by myself"
   ]
  },
  {
   "cell_type": "code",
   "execution_count": 14,
   "metadata": {},
   "outputs": [
    {
     "name": "stdout",
     "output_type": "stream",
     "text": [
      "FOMCpresconf20190130.txt: 44387 -> 2096 (characters) | Compression: 95.28%\n",
      "FOMCpresconf20190320.txt: 42111 -> 1827 (characters) | Compression: 95.66%\n",
      "FOMCpresconf20190501.txt: 37670 -> 1424 (characters) | Compression: 96.22%\n",
      "FOMCpresconf20190619.txt: 40790 -> 1693 (characters) | Compression: 95.85%\n",
      "FOMCpresconf20190731.txt: 42756 -> 1916 (characters) | Compression: 95.52%\n",
      "FOMCpresconf20190918.txt: 49051 -> 2637 (characters) | Compression: 94.62%\n",
      "FOMCpresconf20191030.txt: 44764 -> 2017 (characters) | Compression: 95.49%\n",
      "FOMCpresconf20191211.txt: 50162 -> 2634 (characters) | Compression: 94.75%\n",
      "FOMCpresconf20200129.txt: 52787 -> 2828 (characters) | Compression: 94.64%\n",
      "FOMCpresconf20200429.txt: 44014 -> 1696 (characters) | Compression: 96.15%\n",
      "FOMCpresconf20200610.txt: 56502 -> 3267 (characters) | Compression: 94.22%\n",
      "FOMCpresconf20200729.txt: 54908 -> 2999 (characters) | Compression: 94.54%\n",
      "FOMCpresconf20200916.txt: 60597 -> 3729 (characters) | Compression: 93.85%\n",
      "FOMCpresconf20201105.txt: 46599 -> 2344 (characters) | Compression: 94.97%\n",
      "FOMCpresconf20201216.txt: 56927 -> 3237 (characters) | Compression: 94.31%\n",
      "FOMCpresconf20210127.txt: 52132 -> 2589 (characters) | Compression: 95.03%\n",
      "FOMCpresconf20210317.txt: 57186 -> 3492 (characters) | Compression: 93.89%\n",
      "FOMCpresconf20210428.txt: 54392 -> 3302 (characters) | Compression: 93.93%\n",
      "FOMCpresconf20210616.txt: 57872 -> 3422 (characters) | Compression: 94.09%\n",
      "FOMCpresconf20210728.txt: 53011 -> 2967 (characters) | Compression: 94.40%\n",
      "FOMCpresconf20210922.txt: 51111 -> 2794 (characters) | Compression: 94.53%\n",
      "FOMCpresconf20211103.txt: 53542 -> 2991 (characters) | Compression: 94.41%\n",
      "FOMCpresconf20211215.txt: 59105 -> 3625 (characters) | Compression: 93.87%\n",
      "FOMCpresconf20220126.txt: 52753 -> 2786 (characters) | Compression: 94.72%\n",
      "FOMCpresconf20220316.txt: 49974 -> 2664 (characters) | Compression: 94.67%\n",
      "FOMCpresconf20220504.txt: 45055 -> 1958 (characters) | Compression: 95.65%\n",
      "FOMCpresconf20220615.txt: 52615 -> 2941 (characters) | Compression: 94.41%\n",
      "FOMCpresconf20220727.txt: 53449 -> 2977 (characters) | Compression: 94.43%\n",
      "FOMCpresconf20220921.txt: 39946 -> 1716 (characters) | Compression: 95.70%\n",
      "FOMCpresconf20221102.txt: 43266 -> 1879 (characters) | Compression: 95.66%\n",
      "FOMCpresconf20221214.txt: 43363 -> 1807 (characters) | Compression: 95.83%\n",
      "FOMCpresconf20230201.txt: 43410 -> 1799 (characters) | Compression: 95.86%\n",
      "FOMCpresconf20230322.txt: 43017 -> 1791 (characters) | Compression: 95.84%\n",
      "FOMCpresconf20230503.txt: 48230 -> 2300 (characters) | Compression: 95.23%\n",
      "FOMCpresconf20230614.txt: 48843 -> 2297 (characters) | Compression: 95.30%\n",
      "FOMCpresconf20230726.txt: 51493 -> 2781 (characters) | Compression: 94.60%\n",
      "FOMCpresconf20230920.txt: 53597 -> 2869 (characters) | Compression: 94.65%\n",
      "FOMCpresconf20231101.txt: 50673 -> 2527 (characters) | Compression: 95.01%\n",
      "FOMCpresconf20231213.txt: 43891 -> 2027 (characters) | Compression: 95.38%\n",
      "FOMCpresconf20240131.txt: 50889 -> 2500 (characters) | Compression: 95.09%\n",
      "FOMCpresconf20240320.txt: 44982 -> 2135 (characters) | Compression: 95.25%\n",
      "FOMCpresconf20240501.txt: 47836 -> 2299 (characters) | Compression: 95.19%\n",
      "FOMCpresconf20240612.txt: 52102 -> 2691 (characters) | Compression: 94.84%\n",
      "fomcpresconf20240731.txt: 46832 -> 2190 (characters) | Compression: 95.32%\n",
      "FOMCpresconf20240918.txt: 48017 -> 2195 (characters) | Compression: 95.43%\n",
      "FOMCpresconf20241107.txt: 41431 -> 1461 (characters) | Compression: 96.47%\n",
      "FOMCpresconf20241218.txt: 53242 -> 2918 (characters) | Compression: 94.52%\n",
      "FOMCpresconf20250129.txt: 49856 -> 2259 (characters) | Compression: 95.47%\n",
      "FOMCpresconf20250319.txt: 49666 -> 2472 (characters) | Compression: 95.02%\n"
     ]
    }
   ],
   "source": [
    "# Get list of original and summary files\n",
    "original_files = [f for f in os.listdir(TEXT_DIR) if f.endswith('.txt')]\n",
    "summary_files = [f for f in os.listdir(SUMMARY_DIR) if f.endswith('.txt')]\n",
    "\n",
    "# Initialize a list to store compression results\n",
    "compression_results = []\n",
    "\n",
    "# Function to read file content with error handling\n",
    "def read_file_content(file_path):\n",
    "    try:\n",
    "        with open(file_path, 'r', encoding='utf-8') as file:\n",
    "            return file.read()\n",
    "    except UnicodeDecodeError:\n",
    "        with open(file_path, 'r', encoding='ISO-8859-1') as file:  # Fallback encoding\n",
    "            return file.read()\n",
    "\n",
    "# Compare lengths and calculate compression percentage\n",
    "for original_file in original_files:\n",
    "\toriginal_path = os.path.join(TEXT_DIR, original_file)\n",
    "\tsummary_path = os.path.join(SUMMARY_DIR, original_file)\n",
    "\n",
    "\t# Check if summary file exists\n",
    "\tif original_file in summary_files:\n",
    "\t\toriginal_content = read_file_content(original_path)\n",
    "\t\tsummary_content = read_file_content(summary_path)\n",
    "\n",
    "\t\toriginal_length = len(original_content)\n",
    "\t\tsummary_length = len(summary_content)\n",
    "\n",
    "\t\t# Calculate compression percentage\n",
    "\t\tcompression_percent = ((original_length - summary_length) / original_length) * 100\n",
    "\t\tcompression_results.append({\n",
    "\t\t\t\"file\": original_file,\n",
    "\t\t\t\"original_length\": original_length,\n",
    "\t\t\t\"summary_length\": summary_length,\n",
    "\t\t\t\"compression_percent\": compression_percent\n",
    "\t\t})\n",
    "\n",
    "# Display results\n",
    "for result in compression_results:\n",
    "    print(f\"{result['file']}: {result['original_length']} -> {result['summary_length']} (characters) | Compression: {result['compression_percent']:.2f}%\")"
   ]
  },
  {
   "cell_type": "markdown",
   "metadata": {},
   "source": [
    "---\n",
    "# [Question Answering](#Project-Description)\n",
    "\n",
    "consciousAI's question answering used via pipeline:\n",
    "\n",
    "Ask a question to see how the FOMC's answer changes over time\n",
    "\n",
    "Please wait 8 - 12 minutes\n",
    "\n",
    "---"
   ]
  },
  {
   "cell_type": "code",
   "execution_count": 15,
   "metadata": {},
   "outputs": [
    {
     "name": "stdout",
     "output_type": "stream",
     "text": [
      "What is the current chance of a recession? \n",
      "\n",
      "01/30/2019: 87.92%:\tbetween 2.25 and 2½\n",
      "03/20/2019: 62.18%:\twe don’t know\n",
      "05/01/2019: 96.09%:\t2 percent\n",
      "06/19/2019: 4.95%:\tcloser\n",
      "07/31/2019: 11.44%:\tthere’s no sector that’s booming\n",
      "09/18/2019: 36.6%:\tcontinued moderate growth\n",
      "10/30/2019: 82.27%:\t1.5 to 1.75 percent\n",
      "12/11/2019: 54.99%:\tthere’s more slack in the economy\n",
      "01/29/2020: 5.84%:\tseveral months away\n",
      "04/29/2020: 22.82%:\tin the third quarter\n",
      "06/10/2020: 52.07%:\tnear zero\n",
      "07/29/2020: 55.84%:\tmost severe in our lifetimes\n",
      "09/16/2020: 48.07%:\tmost severe in our lifetimes\n",
      "11/05/2020: 56.13%:\tmost severe in our lifetimes\n",
      "12/16/2020: 58.62%:\tsmall businesses\n",
      "01/27/2021: 56.09%:\tclose to 10 percent\n",
      "03/17/2021: 40.92%:\tone device\n",
      "04/28/2021: 1.49%:\tquite likely\n",
      "06/16/2021: 83.73%:\tone and two years out\n",
      "07/28/2021: 37.63%:\tIt may take some time\n",
      "09/22/2021: 34.05%:\tone-tenth in ’24\n",
      "11/03/2021: 36.33%:\tbase case\n",
      "12/15/2021: 22.39%:\t2.6 percent\n",
      "01/26/2022: 6.37%:\tCOVID is not over\n",
      "03/16/2022: 77.5%:\tnot particularly elevated\n",
      "05/04/2022: 95.65%:\t2 to 3 percent\n",
      "06/15/2022: 41.08%:\t4.1 percent\n",
      "07/27/2022: 83.31%:\t3.6\n",
      "09/21/2022: 91.82%:\tFour point four percent\n",
      "11/02/2022: 11.84%:\t75 basis point increase\n",
      "12/14/2022: 12.34%:\tpeak rates around 5 percent in the first half of next year\n",
      "02/01/2023: 54.88%:\tnot a recession\n",
      "03/22/2023: 58.56%:\twe don’t know\n",
      "05/03/2023: 28.28%:\tstarting later this year\n",
      "06/14/2023: 82.06%:\t5.6 percent\n",
      "07/26/2023: 34.48%:\theading below zero\n",
      "09/20/2023: 49.48%:\tlow inflation\n",
      "11/01/2023: 66.73%:\tjust around 2 percent\n",
      "12/13/2023: 29.01%:\tWe just don’t know\n",
      "01/31/2024: 42.47%:\tmore good data\n",
      "03/20/2024: 98.01%:\tfairly soon\n",
      "05/01/2024: 93.88%:\t2.7\n",
      "06/12/2024: 69.03%:\t8.2 percent\n",
      "07/31/2024: 61.2%:\ta quarter\n",
      "09/18/2024: 86.18%:\televated\n",
      "11/07/2024: 24.42%:\tfive years\n",
      "12/18/2024: 70.38%:\t5 percent\n",
      "01/29/2025: 52.8%:\t4.3 percent\n",
      "03/19/2025: 70.54%:\tconfident\n",
      "\n",
      "Mean (confidence): 51.85%\n",
      "Standard Deviation: 27.41%\n",
      "Variance: 7.51%\n",
      "Standard Error: 3.92%\n"
     ]
    }
   ],
   "source": [
    "questAns = pipeline(model=\"consciousAI/question-answering-roberta-base-s-v2\", device=device)\n",
    "\n",
    "# Example Questions:\t\t\t\t\t\t\t\t\t\t\t#Avg Question Quality/Confidence\n",
    "#question=\"What is the current status of the economy? \"\t\t\t#57.97%\n",
    "#question=\"What is the future of the economy going to be? \"\t\t#44.17%\n",
    "#question=\"What is the current rate of inflation? \" \t\t\t#89.51% \t#useful question and high quality rating\n",
    "#question=\"What is the status of the stock market? \" \t\t\t#25.63%\n",
    "#question=\"What have been the main economic concerns lately? \" \t#65.54%\n",
    "#question=\"What are the key decisions being made today? \" \t\t#51.64%\n",
    "#question=\"What is the current federal funds rate? \"\t\t\t#73.75%\n",
    "#question=\"How long until the quantitative easing ends? \"\t\t#48.38%\n",
    "#question=\"How much debt is the government in? \"\t\t\t\t#12.43% \t#useful question but low quality rating\n",
    "#question=\"How many Americans are unemployed? \"\t\t\t\t\t#66.61%\n",
    "#question=\"What is the best news from this meeting? \"\t\t\t#55.04%\n",
    "#question=\"What time of day is it? \"\t\t\t\t\t\t\t#78.1% \t\t#non-useful question but high quality rating\n",
    "#question=\"What color is my underwear? \"\t\t\t\t\t\t#16.05% \t#non-useful question and low quality rating\n",
    "#question=\"What is the current rate of inflation? Only show me the exact number \" #91.02% \t#useful question and high quality rating, fine tuned prompt results in better quality resposnes\n",
    "#question = input(\"Enter your question: \")\n",
    "question = \"What is the current chance of a recession? \"\n",
    "print(question)\n",
    "print()\n",
    "scoreArray = []\n",
    "for file in textDict:\n",
    "    answer \t= questAns(question=question, context=textDict[file])\n",
    "    date \t= file[12:20]\n",
    "    year \t= date[0:4]\n",
    "    month \t= date[4:6]\n",
    "    day \t= date[6:8]\n",
    "    print(f\"{month}/{day}/{year}: {round(answer['score'] * 100, 2)}%:\\t\", end=\"\")\n",
    "    scoreArray.append(answer['score'])\n",
    "    answer = re.sub(r'\\n', ' ', answer['answer'])\n",
    "    print(f\"{answer}\")\n",
    "\n",
    "npScoreArray= np.array(scoreArray)\n",
    "mean \t\t= np.mean(npScoreArray)\n",
    "variance \t= np.var(npScoreArray)\n",
    "std_dev \t= np.std(npScoreArray)\n",
    "std_err \t= std_dev/np.sqrt(len(npScoreArray))\n",
    "\n",
    "print()\n",
    "print(f\"Mean (confidence): {mean:.2%}\")\n",
    "print(f\"Standard Deviation: {std_dev:.2%}\")\n",
    "print(f\"Variance: {variance:.2%}\")\n",
    "print(f\"Standard Error: {std_err:.2%}\")"
   ]
  }
 ],
 "metadata": {
  "kernelspec": {
   "display_name": "Python 3",
   "language": "python",
   "name": "python3"
  },
  "language_info": {
   "codemirror_mode": {
    "name": "ipython",
    "version": 3
   },
   "file_extension": ".py",
   "mimetype": "text/x-python",
   "name": "python",
   "nbconvert_exporter": "python",
   "pygments_lexer": "ipython3",
   "version": "3.11.9"
  }
 },
 "nbformat": 4,
 "nbformat_minor": 4
}
