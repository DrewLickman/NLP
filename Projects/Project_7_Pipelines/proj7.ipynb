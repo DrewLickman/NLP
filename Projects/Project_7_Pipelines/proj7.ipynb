{
 "cells": [
  {
   "cell_type": "markdown",
   "metadata": {},
   "source": [
    "Drew Lickman\n",
    "\n",
    "CSCI 4820-001\n",
    "\n",
    "Project #7\n",
    "\n",
    "Due 12/3/24\n",
    "\n",
    "AI Disclaimer: A.I. Disclaimer: Work for this assignment was completed with the aid of artificial intelligence tools and comprehensive documentation of the names of, input provided to, and output obtained from, these tools is included as part of my assignment submission.\n",
    "\n",
    "---"
   ]
  },
  {
   "cell_type": "markdown",
   "metadata": {},
   "source": [
    "# Custom NLP Project using 3 Hugging Face Pipelines\n",
    "### Dr. Sal Barbosa, Department of Computer Science, Middle Tennessee State University\n",
    "\n",
    "---"
   ]
  },
  {
   "cell_type": "markdown",
   "metadata": {},
   "source": [
    "# Project Description\n",
    "This project is used to analyze the transcripts of the Federal Open Market Committees (FOMC)\n",
    "\n",
    "Takes about 30 minutes to run the entire program\n",
    "\n",
    "### The Problem:\n",
    "I chose this project because I believe it is important for people to get a quick and easy-to-understand analysis of the FOMC meetings. The FOMC \"reviews economic and financial conditions, determines the appropriate stance of monetary policy, and assesses the risks to its long-run goals of price stability and sustainable economic growth\" (https://www.federalreserve.gov/monetarypolicy/fomc.htm)\n",
    "\n",
    "### The Dataset:\n",
    "The dataset I used is the FOMC transcripts from each of their meetings. I created (with Claude 3.5 Sonnet (New)) a web scraper to read the FOMC website and download the PDFs\n",
    "\n",
    "### The Solution:\n",
    "[1.](#web-scraping) Download PDF transcripts from the official FOMC website using `fomc-crawler.py`\n",
    "\n",
    "[2.](#Conversion) Convert the PDFs to text files with `pdf-to-txt.py`\n",
    "\n",
    "[3.](#BERT-based-Sentiment-Analysis) Utilize a slightly modified version of tabularisai's robust-sentiment-analysis (distil)BERT-based Sentiment Classification Model `https://huggingface.co/tabularisai/robust-sentiment-analysis` for sentiment analysis\n",
    "\n",
    "[4.](#Summarization) Summarize each document via pipeline of Falconsai's text_summarization Fine-Tuned T5 Small for Text Summarization Model `https://huggingface.co/Falconsai/text_summarization`\n",
    "\n",
    "[5.](#Question-Answering) Answer the question \"What is the current status of the economy?\" from each meeting by using consciousAI's question-answering-roberta-base-s-v2 for Question Answering `https://huggingface.co/consciousAI/question-answering-roberta-base-s-v2`\n",
    "\n",
    "---"
   ]
  },
  {
   "cell_type": "markdown",
   "metadata": {},
   "source": [
    "The following pip installs may be necessary to run the web scraper and pdf-to-text converter:"
   ]
  },
  {
   "cell_type": "code",
   "execution_count": 1,
   "metadata": {},
   "outputs": [],
   "source": [
    "# !pip install requests tqdm beautifulsoup4\n",
    "# !pip install pdfplumber"
   ]
  },
  {
   "cell_type": "code",
   "execution_count": 3,
   "metadata": {
    "tags": []
   },
   "outputs": [
    {
     "name": "stderr",
     "output_type": "stream",
     "text": [
      "C:\\Users\\drew1\\AppData\\Local\\Packages\\PythonSoftwareFoundation.Python.3.11_qbz5n2kfra8p0\\LocalCache\\local-packages\\Python311\\site-packages\\tqdm\\auto.py:21: TqdmWarning: IProgress not found. Please update jupyter and ipywidgets. See https://ipywidgets.readthedocs.io/en/stable/user_install.html\n",
      "  from .autonotebook import tqdm as notebook_tqdm\n"
     ]
    }
   ],
   "source": [
    "import os\n",
    "import re\n",
    "import nltk\n",
    "import torch\n",
    "import numpy as np\n",
    "import torch.nn as nn\n",
    "import torch.optim as optim\n",
    "import plotly.graph_objects as go\n",
    "from   nltk.tokenize import sent_tokenize\n",
    "from   transformers import AutoTokenizer, AutoModelForSequenceClassification, pipeline\n",
    "\n",
    "#nltk.download('punkt') # comment after downloading\n",
    "device = torch.device(\"cuda\" if torch.cuda.is_available() else \"cpu\")"
   ]
  },
  {
   "cell_type": "markdown",
   "metadata": {},
   "source": [
    "# [Web Scraping](#Project-Description)\n",
    "\n",
    "To retrieve fresh data, you must run `./data/fomc-crawler.py` and `./data/pdf-to-txt.py` to download all the FOMC transcript PDFs first, then convert the PDFs to TXT\n",
    "\n",
    "Scrape FOMC Transcripts from https://www.federalreserve.gov/monetarypolicy/fomccalendars.htm\n",
    "\n",
    "Please wait about 1 to 3 minutes\n",
    "\n",
    "Code written by Claude 3.5 Sonnet (New)"
   ]
  },
  {
   "cell_type": "code",
   "execution_count": 9,
   "metadata": {},
   "outputs": [
    {
     "name": "stdout",
     "output_type": "stream",
     "text": [
      "Finding press conference pages...\n",
      "\n",
      "Found 48 press conference pages.\n",
      "\n",
      "Gathering transcript PDF links...\n",
      "\n",
      "Found 46 transcript PDFs to download:\n",
      "- https://www.federalreserve.gov/mediacenter/files/FOMCpresconf20240131.pdf\n",
      "- https://www.federalreserve.gov/mediacenter/files/FOMCpresconf20240320.pdf\n",
      "- https://www.federalreserve.gov/mediacenter/files/FOMCpresconf20240501.pdf\n",
      "- https://www.federalreserve.gov/mediacenter/files/FOMCpresconf20240612.pdf\n",
      "- https://www.federalreserve.gov/mediacenter/files/fomcpresconf20240731.pdf\n",
      "- https://www.federalreserve.gov/mediacenter/files/FOMCpresconf20240918.pdf\n",
      "- https://www.federalreserve.gov/mediacenter/files/FOMCpresconf20241107.pdf\n",
      "- https://www.federalreserve.gov/mediacenter/files/FOMCpresconf20230201.pdf\n",
      "- https://www.federalreserve.gov/mediacenter/files/FOMCpresconf20230322.pdf\n",
      "- https://www.federalreserve.gov/mediacenter/files/FOMCpresconf20230503.pdf\n",
      "- https://www.federalreserve.gov/mediacenter/files/FOMCpresconf20230614.pdf\n",
      "- https://www.federalreserve.gov/mediacenter/files/FOMCpresconf20230726.pdf\n",
      "- https://www.federalreserve.gov/mediacenter/files/FOMCpresconf20230920.pdf\n",
      "- https://www.federalreserve.gov/mediacenter/files/FOMCpresconf20231101.pdf\n",
      "- https://www.federalreserve.gov/mediacenter/files/FOMCpresconf20231213.pdf\n",
      "- https://www.federalreserve.gov/mediacenter/files/FOMCpresconf20220126.pdf\n",
      "- https://www.federalreserve.gov/mediacenter/files/FOMCpresconf20220316.pdf\n",
      "- https://www.federalreserve.gov/mediacenter/files/FOMCpresconf20220504.pdf\n",
      "- https://www.federalreserve.gov/mediacenter/files/FOMCpresconf20220615.pdf\n",
      "- https://www.federalreserve.gov/mediacenter/files/FOMCpresconf20220727.pdf\n",
      "- https://www.federalreserve.gov/mediacenter/files/FOMCpresconf20220921.pdf\n",
      "- https://www.federalreserve.gov/mediacenter/files/FOMCpresconf20221102.pdf\n",
      "- https://www.federalreserve.gov/mediacenter/files/FOMCpresconf20221214.pdf\n",
      "- https://www.federalreserve.gov/mediacenter/files/FOMCpresconf20210127.pdf\n",
      "- https://www.federalreserve.gov/mediacenter/files/FOMCpresconf20210317.pdf\n",
      "- https://www.federalreserve.gov/mediacenter/files/FOMCpresconf20210428.pdf\n",
      "- https://www.federalreserve.gov/mediacenter/files/FOMCpresconf20210616.pdf\n",
      "- https://www.federalreserve.gov/mediacenter/files/FOMCpresconf20210728.pdf\n",
      "- https://www.federalreserve.gov/mediacenter/files/FOMCpresconf20210922.pdf\n",
      "- https://www.federalreserve.gov/mediacenter/files/FOMCpresconf20211103.pdf\n",
      "- https://www.federalreserve.gov/mediacenter/files/FOMCpresconf20211215.pdf\n",
      "- https://www.federalreserve.gov/mediacenter/files/FOMCpresconf20200129.pdf\n",
      "- https://www.federalreserve.gov/mediacenter/files/FOMCpresconf20200429.pdf\n",
      "- https://www.federalreserve.gov/mediacenter/files/FOMCpresconf20200610.pdf\n",
      "- https://www.federalreserve.gov/mediacenter/files/FOMCpresconf20200729.pdf\n",
      "- https://www.federalreserve.gov/mediacenter/files/FOMCpresconf20200916.pdf\n",
      "- https://www.federalreserve.gov/mediacenter/files/FOMCpresconf20201105.pdf\n",
      "- https://www.federalreserve.gov/mediacenter/files/FOMCpresconf20201216.pdf\n",
      "- https://www.federalreserve.gov/mediacenter/files/FOMCpresconf20190130.pdf\n",
      "- https://www.federalreserve.gov/mediacenter/files/FOMCpresconf20190320.pdf\n",
      "- https://www.federalreserve.gov/mediacenter/files/FOMCpresconf20190501.pdf\n",
      "- https://www.federalreserve.gov/mediacenter/files/FOMCpresconf20190619.pdf\n",
      "- https://www.federalreserve.gov/mediacenter/files/FOMCpresconf20190731.pdf\n",
      "- https://www.federalreserve.gov/mediacenter/files/FOMCpresconf20190918.pdf\n",
      "- https://www.federalreserve.gov/mediacenter/files/FOMCpresconf20191030.pdf\n",
      "- https://www.federalreserve.gov/mediacenter/files/FOMCpresconf20191211.pdf\n",
      "\n",
      "Downloading PDFs...\n",
      "\n",
      "Successfully downloaded: FOMCpresconf20240131.pdf\n",
      "\n",
      "Successfully downloaded: FOMCpresconf20240320.pdf\n",
      "\n",
      "Successfully downloaded: FOMCpresconf20240501.pdf\n",
      "\n",
      "Successfully downloaded: FOMCpresconf20240612.pdf\n",
      "\n",
      "Successfully downloaded: fomcpresconf20240731.pdf\n",
      "\n",
      "Successfully downloaded: FOMCpresconf20240918.pdf\n",
      "\n",
      "Successfully downloaded: FOMCpresconf20241107.pdf\n",
      "\n",
      "Successfully downloaded: FOMCpresconf20230201.pdf\n",
      "\n",
      "Successfully downloaded: FOMCpresconf20230322.pdf\n",
      "\n",
      "Successfully downloaded: FOMCpresconf20230503.pdf\n",
      "\n",
      "Successfully downloaded: FOMCpresconf20230614.pdf\n",
      "\n",
      "Successfully downloaded: FOMCpresconf20230726.pdf\n",
      "\n",
      "Successfully downloaded: FOMCpresconf20230920.pdf\n",
      "\n",
      "Successfully downloaded: FOMCpresconf20231101.pdf\n",
      "\n",
      "Successfully downloaded: FOMCpresconf20231213.pdf\n",
      "\n",
      "Successfully downloaded: FOMCpresconf20220126.pdf\n",
      "\n",
      "Successfully downloaded: FOMCpresconf20220316.pdf\n",
      "\n",
      "Successfully downloaded: FOMCpresconf20220504.pdf\n",
      "\n",
      "Successfully downloaded: FOMCpresconf20220615.pdf\n",
      "\n",
      "Successfully downloaded: FOMCpresconf20220727.pdf\n",
      "\n",
      "Successfully downloaded: FOMCpresconf20220921.pdf\n",
      "\n",
      "Successfully downloaded: FOMCpresconf20221102.pdf\n",
      "\n",
      "Successfully downloaded: FOMCpresconf20221214.pdf\n",
      "\n",
      "Successfully downloaded: FOMCpresconf20210127.pdf\n",
      "\n",
      "Successfully downloaded: FOMCpresconf20210317.pdf\n",
      "\n",
      "Successfully downloaded: FOMCpresconf20210428.pdf\n",
      "\n",
      "Successfully downloaded: FOMCpresconf20210616.pdf\n",
      "\n",
      "Successfully downloaded: FOMCpresconf20210728.pdf\n",
      "\n",
      "Successfully downloaded: FOMCpresconf20210922.pdf\n",
      "\n",
      "Successfully downloaded: FOMCpresconf20211103.pdf\n",
      "\n",
      "Successfully downloaded: FOMCpresconf20211215.pdf\n",
      "\n",
      "Successfully downloaded: FOMCpresconf20200129.pdf\n",
      "\n",
      "Successfully downloaded: FOMCpresconf20200429.pdf\n",
      "\n",
      "Successfully downloaded: FOMCpresconf20200610.pdf\n",
      "\n",
      "Successfully downloaded: FOMCpresconf20200729.pdf\n",
      "\n",
      "Successfully downloaded: FOMCpresconf20200916.pdf\n",
      "\n",
      "Successfully downloaded: FOMCpresconf20201105.pdf\n",
      "\n",
      "Successfully downloaded: FOMCpresconf20201216.pdf\n",
      "\n",
      "Successfully downloaded: FOMCpresconf20190130.pdf\n",
      "\n",
      "Successfully downloaded: FOMCpresconf20190320.pdf\n",
      "\n",
      "Successfully downloaded: FOMCpresconf20190501.pdf\n",
      "\n",
      "Successfully downloaded: FOMCpresconf20190619.pdf\n",
      "\n",
      "Successfully downloaded: FOMCpresconf20190731.pdf\n",
      "\n",
      "Successfully downloaded: FOMCpresconf20190918.pdf\n",
      "\n",
      "Successfully downloaded: FOMCpresconf20191030.pdf\n",
      "\n",
      "Successfully downloaded: FOMCpresconf20191211.pdf\n",
      "\n",
      "Download process completed!\n"
     ]
    },
    {
     "name": "stderr",
     "output_type": "stream",
     "text": [
      "\n",
      "  0%|          | 0/48 [00:00<?, ?it/s]\n",
      "  2%|▏         | 1/48 [00:00<00:19,  2.46it/s]\n",
      "  4%|▍         | 2/48 [00:00<00:19,  2.40it/s]\n",
      "  6%|▋         | 3/48 [00:01<00:18,  2.44it/s]\n",
      "  8%|▊         | 4/48 [00:01<00:20,  2.11it/s]\n",
      " 10%|█         | 5/48 [00:02<00:18,  2.32it/s]\n",
      " 12%|█▎        | 6/48 [00:02<00:18,  2.30it/s]\n",
      " 15%|█▍        | 7/48 [00:02<00:16,  2.42it/s]\n",
      " 17%|█▋        | 8/48 [00:03<00:20,  1.98it/s]\n",
      " 19%|█▉        | 9/48 [00:04<00:18,  2.07it/s]\n",
      " 21%|██        | 10/48 [00:04<00:16,  2.25it/s]\n",
      " 23%|██▎       | 11/48 [00:04<00:16,  2.20it/s]\n",
      " 25%|██▌       | 12/48 [00:05<00:16,  2.19it/s]\n",
      " 27%|██▋       | 13/48 [00:05<00:16,  2.07it/s]\n",
      " 29%|██▉       | 14/48 [00:06<00:16,  2.04it/s]\n",
      " 31%|███▏      | 15/48 [00:06<00:15,  2.08it/s]\n",
      " 33%|███▎      | 16/48 [00:07<00:14,  2.16it/s]\n",
      " 35%|███▌      | 17/48 [00:07<00:13,  2.22it/s]\n",
      " 38%|███▊      | 18/48 [00:08<00:14,  2.05it/s]\n",
      " 40%|███▉      | 19/48 [00:08<00:13,  2.23it/s]\n",
      " 42%|████▏     | 20/48 [00:09<00:11,  2.35it/s]\n",
      " 44%|████▍     | 21/48 [00:09<00:11,  2.44it/s]\n",
      " 46%|████▌     | 22/48 [00:09<00:10,  2.54it/s]\n",
      " 48%|████▊     | 23/48 [00:10<00:09,  2.54it/s]\n",
      " 50%|█████     | 24/48 [00:10<00:09,  2.63it/s]\n",
      " 52%|█████▏    | 25/48 [00:11<00:10,  2.27it/s]\n",
      " 54%|█████▍    | 26/48 [00:11<00:11,  1.91it/s]\n",
      " 56%|█████▋    | 27/48 [00:12<00:10,  2.03it/s]\n",
      " 58%|█████▊    | 28/48 [00:12<00:09,  2.14it/s]\n",
      " 60%|██████    | 29/48 [00:13<00:08,  2.19it/s]\n",
      " 62%|██████▎   | 30/48 [00:13<00:08,  2.14it/s]\n",
      " 65%|██████▍   | 31/48 [00:13<00:07,  2.25it/s]\n",
      " 67%|██████▋   | 32/48 [00:14<00:06,  2.29it/s]\n",
      " 69%|██████▉   | 33/48 [00:14<00:06,  2.34it/s]\n",
      " 71%|███████   | 34/48 [00:15<00:06,  2.18it/s]\n",
      " 73%|███████▎  | 35/48 [00:15<00:05,  2.29it/s]\n",
      " 75%|███████▌  | 36/48 [00:16<00:05,  2.28it/s]\n",
      " 77%|███████▋  | 37/48 [00:16<00:05,  1.98it/s]\n",
      " 79%|███████▉  | 38/48 [00:17<00:04,  2.04it/s]\n",
      " 81%|████████▏ | 39/48 [00:17<00:04,  2.15it/s]\n",
      " 83%|████████▎ | 40/48 [00:18<00:03,  2.19it/s]\n",
      " 85%|████████▌ | 41/48 [00:18<00:03,  2.30it/s]\n",
      " 88%|████████▊ | 42/48 [00:18<00:02,  2.34it/s]\n",
      " 90%|████████▉ | 43/48 [00:19<00:02,  2.47it/s]\n",
      " 92%|█████████▏| 44/48 [00:19<00:01,  2.55it/s]\n",
      " 94%|█████████▍| 45/48 [00:20<00:01,  2.53it/s]\n",
      " 96%|█████████▌| 46/48 [00:20<00:00,  2.50it/s]\n",
      " 98%|█████████▊| 47/48 [00:20<00:00,  2.49it/s]\n",
      "100%|██████████| 48/48 [00:21<00:00,  2.46it/s]\n",
      "100%|██████████| 48/48 [00:21<00:00,  2.26it/s]\n",
      "\n",
      "  0%|          | 0/46 [00:00<?, ?it/s]\n",
      "  2%|▏         | 1/46 [00:01<01:04,  1.42s/it]\n",
      "  4%|▍         | 2/46 [00:02<01:01,  1.40s/it]\n",
      "  7%|▋         | 3/46 [00:04<01:00,  1.42s/it]\n",
      "  9%|▊         | 4/46 [00:05<00:58,  1.40s/it]\n",
      " 11%|█         | 5/46 [00:06<00:55,  1.35s/it]\n",
      " 13%|█▎        | 6/46 [00:08<00:52,  1.31s/it]\n",
      " 15%|█▌        | 7/46 [00:09<00:50,  1.29s/it]\n",
      " 17%|█▋        | 8/46 [00:10<00:48,  1.27s/it]\n",
      " 20%|█▉        | 9/46 [00:12<00:48,  1.32s/it]\n",
      " 22%|██▏       | 10/46 [00:13<00:47,  1.33s/it]\n",
      " 24%|██▍       | 11/46 [00:14<00:47,  1.36s/it]\n",
      " 26%|██▌       | 12/46 [00:16<00:45,  1.34s/it]\n",
      " 28%|██▊       | 13/46 [00:17<00:43,  1.31s/it]\n",
      " 30%|███       | 14/46 [00:18<00:41,  1.30s/it]\n",
      " 33%|███▎      | 15/46 [00:19<00:40,  1.30s/it]\n",
      " 35%|███▍      | 16/46 [00:21<00:38,  1.29s/it]\n",
      " 37%|███▋      | 17/46 [00:22<00:37,  1.29s/it]\n",
      " 39%|███▉      | 18/46 [00:23<00:36,  1.30s/it]\n",
      " 41%|████▏     | 19/46 [00:25<00:35,  1.32s/it]\n",
      " 43%|████▎     | 20/46 [00:26<00:34,  1.31s/it]\n",
      " 46%|████▌     | 21/46 [00:27<00:32,  1.31s/it]\n",
      " 48%|████▊     | 22/46 [00:29<00:31,  1.30s/it]\n",
      " 50%|█████     | 23/46 [00:30<00:30,  1.31s/it]\n",
      " 52%|█████▏    | 24/46 [00:31<00:28,  1.31s/it]\n",
      " 54%|█████▍    | 25/46 [00:32<00:27,  1.30s/it]\n",
      " 57%|█████▋    | 26/46 [00:34<00:25,  1.29s/it]\n",
      " 59%|█████▊    | 27/46 [00:35<00:25,  1.35s/it]\n",
      " 61%|██████    | 28/46 [00:37<00:24,  1.34s/it]\n",
      " 63%|██████▎   | 29/46 [00:38<00:22,  1.34s/it]\n",
      " 65%|██████▌   | 30/46 [00:39<00:21,  1.33s/it]\n",
      " 67%|██████▋   | 31/46 [00:40<00:19,  1.32s/it]\n",
      " 70%|██████▉   | 32/46 [00:42<00:18,  1.30s/it]\n",
      " 72%|███████▏  | 33/46 [00:43<00:17,  1.34s/it]\n",
      " 74%|███████▍  | 34/46 [00:44<00:15,  1.32s/it]\n",
      " 76%|███████▌  | 35/46 [00:46<00:14,  1.32s/it]\n",
      " 78%|███████▊  | 36/46 [00:47<00:13,  1.35s/it]\n",
      " 80%|████████  | 37/46 [00:49<00:12,  1.41s/it]\n",
      " 83%|████████▎ | 38/46 [00:50<00:11,  1.42s/it]\n",
      " 85%|████████▍ | 39/46 [00:51<00:09,  1.39s/it]\n",
      " 87%|████████▋ | 40/46 [00:53<00:08,  1.36s/it]\n",
      " 89%|████████▉ | 41/46 [00:54<00:06,  1.34s/it]\n",
      " 91%|█████████▏| 42/46 [00:55<00:05,  1.33s/it]\n",
      " 93%|█████████▎| 43/46 [00:57<00:03,  1.30s/it]\n",
      " 96%|█████████▌| 44/46 [00:58<00:02,  1.30s/it]\n",
      " 98%|█████████▊| 45/46 [00:59<00:01,  1.29s/it]\n",
      "100%|██████████| 46/46 [01:00<00:00,  1.28s/it]\n",
      "100%|██████████| 46/46 [01:00<00:00,  1.32s/it]\n"
     ]
    }
   ],
   "source": [
    "!python ./data/fomc-crawler.py\n",
    "# Outputs to ./data/fomc_transcripts"
   ]
  },
  {
   "cell_type": "markdown",
   "metadata": {},
   "source": [
    "---\n",
    "# [Conversion](#Project-Description)\n",
    "\n",
    "Convert PDFs to TXT\n",
    "\n",
    "Please wait 1 to 3 minutes\n",
    "\n",
    "Code written by Claude 3.5 Sonnet (New)\n",
    "\n",
    "--- "
   ]
  },
  {
   "cell_type": "code",
   "execution_count": 10,
   "metadata": {},
   "outputs": [
    {
     "name": "stdout",
     "output_type": "stream",
     "text": [
      "Batch conversion completed successfully!\n"
     ]
    },
    {
     "name": "stderr",
     "output_type": "stream",
     "text": [
      "2024-11-25 10:02:17,722 - INFO - Successfully generated FOMCpresconf20190130.txt\n",
      "2024-11-25 10:02:19,699 - INFO - Successfully generated FOMCpresconf20190320.txt\n",
      "2024-11-25 10:02:21,435 - INFO - Successfully generated FOMCpresconf20190501.txt\n",
      "2024-11-25 10:02:23,374 - INFO - Successfully generated FOMCpresconf20190619.txt\n",
      "2024-11-25 10:02:25,338 - INFO - Successfully generated FOMCpresconf20190731.txt\n",
      "2024-11-25 10:02:27,611 - INFO - Successfully generated FOMCpresconf20190918.txt\n",
      "2024-11-25 10:02:29,708 - INFO - Successfully generated FOMCpresconf20191030.txt\n",
      "2024-11-25 10:02:32,857 - INFO - Successfully generated FOMCpresconf20191211.txt\n",
      "2024-11-25 10:02:36,138 - INFO - Successfully generated FOMCpresconf20200129.txt\n",
      "2024-11-25 10:02:39,030 - INFO - Successfully generated FOMCpresconf20200429.txt\n",
      "2024-11-25 10:02:42,100 - INFO - Successfully generated FOMCpresconf20200610.txt\n",
      "2024-11-25 10:02:45,191 - INFO - Successfully generated FOMCpresconf20200729.txt\n",
      "2024-11-25 10:02:48,575 - INFO - Successfully generated FOMCpresconf20200916.txt\n",
      "2024-11-25 10:02:51,068 - INFO - Successfully generated FOMCpresconf20201105.txt\n",
      "2024-11-25 10:02:53,968 - INFO - Successfully generated FOMCpresconf20201216.txt\n",
      "2024-11-25 10:02:56,598 - INFO - Successfully generated FOMCpresconf20210127.txt\n",
      "2024-11-25 10:02:59,421 - INFO - Successfully generated FOMCpresconf20210317.txt\n",
      "2024-11-25 10:03:02,189 - INFO - Successfully generated FOMCpresconf20210428.txt\n",
      "2024-11-25 10:03:05,012 - INFO - Successfully generated FOMCpresconf20210616.txt\n",
      "2024-11-25 10:03:07,632 - INFO - Successfully generated FOMCpresconf20210728.txt\n",
      "2024-11-25 10:03:10,217 - INFO - Successfully generated FOMCpresconf20210922.txt\n",
      "2024-11-25 10:03:12,797 - INFO - Successfully generated FOMCpresconf20211103.txt\n",
      "2024-11-25 10:03:15,668 - INFO - Successfully generated FOMCpresconf20211215.txt\n",
      "2024-11-25 10:03:18,238 - INFO - Successfully generated FOMCpresconf20220126.txt\n",
      "2024-11-25 10:03:20,726 - INFO - Successfully generated FOMCpresconf20220316.txt\n",
      "2024-11-25 10:03:22,931 - INFO - Successfully generated FOMCpresconf20220504.txt\n",
      "2024-11-25 10:03:25,511 - INFO - Successfully generated FOMCpresconf20220615.txt\n",
      "2024-11-25 10:03:28,130 - INFO - Successfully generated FOMCpresconf20220727.txt\n",
      "2024-11-25 10:03:30,218 - INFO - Successfully generated FOMCpresconf20220921.txt\n",
      "2024-11-25 10:03:32,308 - INFO - Successfully generated FOMCpresconf20221102.txt\n",
      "2024-11-25 10:03:34,425 - INFO - Successfully generated FOMCpresconf20221214.txt\n",
      "2024-11-25 10:03:36,609 - INFO - Successfully generated FOMCpresconf20230201.txt\n",
      "2024-11-25 10:03:38,736 - INFO - Successfully generated FOMCpresconf20230322.txt\n",
      "2024-11-25 10:03:41,179 - INFO - Successfully generated FOMCpresconf20230503.txt\n",
      "2024-11-25 10:03:43,749 - INFO - Successfully generated FOMCpresconf20230614.txt\n",
      "2024-11-25 10:03:46,423 - INFO - Successfully generated FOMCpresconf20230726.txt\n",
      "2024-11-25 10:03:49,103 - INFO - Successfully generated FOMCpresconf20230920.txt\n",
      "2024-11-25 10:03:51,655 - INFO - Successfully generated FOMCpresconf20231101.txt\n",
      "2024-11-25 10:03:53,841 - INFO - Successfully generated FOMCpresconf20231213.txt\n",
      "2024-11-25 10:03:56,397 - INFO - Successfully generated FOMCpresconf20240131.txt\n",
      "2024-11-25 10:03:59,353 - INFO - Successfully generated FOMCpresconf20240320.txt\n",
      "2024-11-25 10:04:01,919 - INFO - Successfully generated FOMCpresconf20240501.txt\n",
      "2024-11-25 10:04:04,488 - INFO - Successfully generated FOMCpresconf20240612.txt\n",
      "2024-11-25 10:04:06,951 - INFO - Successfully generated fomcpresconf20240731.txt\n",
      "2024-11-25 10:04:09,343 - INFO - Successfully generated FOMCpresconf20240918.txt\n",
      "2024-11-25 10:04:12,424 - INFO - Successfully generated FOMCpresconf20241107.txt\n"
     ]
    }
   ],
   "source": [
    "!python ./data/pdf-to-txt.py\n",
    "# Outputs to ./data/extracted_text"
   ]
  },
  {
   "cell_type": "code",
   "execution_count": 12,
   "metadata": {
    "tags": []
   },
   "outputs": [
    {
     "name": "stdout",
     "output_type": "stream",
     "text": [
      "46 documents ready for analysis!\n"
     ]
    }
   ],
   "source": [
    "# Data directory\n",
    "TEXT_DIR = \"./data/extracted_text\" # Local FOMC transcript data as .txt\n",
    "\n",
    "# Summary directory\n",
    "SUMMARY_DIR = \"./data/summaries\"\n",
    "\n",
    "#  Save text files and their data to a dictionary\n",
    "txt_fileNames = [txt for txt in os.listdir(TEXT_DIR) if txt.endswith('.txt')]\n",
    "# Print the title of each TXT file\n",
    "print(f\"{len(txt_fileNames)} documents ready for analysis!\")\n",
    "\n",
    "txt_data = [open(os.path.join(TEXT_DIR, file), 'r', encoding='utf-8').read() for file in txt_fileNames]\n",
    "\n",
    "textDict = {fileName: data for fileName, data in zip(txt_fileNames, txt_data)}"
   ]
  },
  {
   "cell_type": "markdown",
   "metadata": {},
   "source": [
    "---\n",
    "Below is a helper function that splits input text into chunks due to limited context sizes of the semantic analyzer and summarizer.\n",
    "\n",
    "Written by Claude 3.5 Sonnet (New)"
   ]
  },
  {
   "cell_type": "code",
   "execution_count": 14,
   "metadata": {},
   "outputs": [],
   "source": [
    "def chunk_text(text, max_chunk_size):\n",
    "    \"\"\"\n",
    "    Split text into chunks based on sentences to respect max token limit.\n",
    "    Tries to keep sentences together while staying under the token limit.\n",
    "    \"\"\"\n",
    "    sentences = sent_tokenize(text)\n",
    "    chunks = []\n",
    "    current_chunk = []\n",
    "    current_length = 0\n",
    "    \n",
    "    for sentence in sentences:\n",
    "        # Rough approximation of tokens (words + punctuation)\n",
    "        sentence_length = len(sentence.split())\n",
    "        \n",
    "        if current_length + sentence_length > max_chunk_size:\n",
    "            if current_chunk:  # Save current chunk if it exists\n",
    "                chunks.append(' '.join(current_chunk))\n",
    "                current_chunk = [sentence]\n",
    "                current_length = sentence_length\n",
    "            else:  # Handle case where single sentence exceeds max_chunk_size\n",
    "                chunks.append(sentence)\n",
    "                current_chunk = []\n",
    "                current_length = 0\n",
    "        else:\n",
    "            current_chunk.append(sentence)\n",
    "            current_length += sentence_length\n",
    "    \n",
    "    # Add the last chunk if it exists\n",
    "    if current_chunk:\n",
    "        chunks.append(' '.join(current_chunk))\n",
    "    \n",
    "    return chunks"
   ]
  },
  {
   "cell_type": "markdown",
   "metadata": {},
   "source": [
    "---\n",
    "# [BERT-based Sentiment Analysis](#Project-Description)\n",
    "\n",
    "tabularisai's robust-sentiment-analysis used via pipeline:\n",
    "\n",
    "Modified to be chunked for longer input texts\n",
    "\n",
    "also outputs probability distribution, rather than just the highest result\n",
    "\n",
    "Please wait 2 to 4 minutes\n",
    "\n",
    "---"
   ]
  },
  {
   "cell_type": "code",
   "execution_count": 6,
   "metadata": {},
   "outputs": [
    {
     "name": "stderr",
     "output_type": "stream",
     "text": [
      "\n",
      "[notice] A new release of pip is available: 24.0 -> 24.3.1\n",
      "[notice] To update, run: python.exe -m pip install --upgrade pip\n"
     ]
    },
    {
     "name": "stdout",
     "output_type": "stream",
     "text": [
      "Requirement already satisfied: ipywidgets in c:\\users\\drew1\\appdata\\local\\programs\\python\\python310\\lib\\site-packages (8.1.3)\n",
      "Requirement already satisfied: comm>=0.1.3 in c:\\users\\drew1\\appdata\\local\\programs\\python\\python310\\lib\\site-packages (from ipywidgets) (0.2.2)\n",
      "Requirement already satisfied: ipython>=6.1.0 in c:\\users\\drew1\\appdata\\local\\programs\\python\\python310\\lib\\site-packages (from ipywidgets) (8.25.0)\n",
      "Requirement already satisfied: traitlets>=4.3.1 in c:\\users\\drew1\\appdata\\local\\programs\\python\\python310\\lib\\site-packages (from ipywidgets) (5.14.3)\n",
      "Requirement already satisfied: widgetsnbextension~=4.0.11 in c:\\users\\drew1\\appdata\\local\\programs\\python\\python310\\lib\\site-packages (from ipywidgets) (4.0.11)\n",
      "Requirement already satisfied: jupyterlab-widgets~=3.0.11 in c:\\users\\drew1\\appdata\\local\\programs\\python\\python310\\lib\\site-packages (from ipywidgets) (3.0.11)\n",
      "Requirement already satisfied: decorator in c:\\users\\drew1\\appdata\\local\\programs\\python\\python310\\lib\\site-packages (from ipython>=6.1.0->ipywidgets) (5.1.1)\n",
      "Requirement already satisfied: jedi>=0.16 in c:\\users\\drew1\\appdata\\local\\programs\\python\\python310\\lib\\site-packages (from ipython>=6.1.0->ipywidgets) (0.19.1)\n",
      "Requirement already satisfied: matplotlib-inline in c:\\users\\drew1\\appdata\\local\\programs\\python\\python310\\lib\\site-packages (from ipython>=6.1.0->ipywidgets) (0.1.7)\n",
      "Requirement already satisfied: prompt-toolkit<3.1.0,>=3.0.41 in c:\\users\\drew1\\appdata\\local\\programs\\python\\python310\\lib\\site-packages (from ipython>=6.1.0->ipywidgets) (3.0.47)\n",
      "Requirement already satisfied: pygments>=2.4.0 in c:\\users\\drew1\\appdata\\local\\programs\\python\\python310\\lib\\site-packages (from ipython>=6.1.0->ipywidgets) (2.18.0)\n",
      "Requirement already satisfied: stack-data in c:\\users\\drew1\\appdata\\local\\programs\\python\\python310\\lib\\site-packages (from ipython>=6.1.0->ipywidgets) (0.6.3)\n",
      "Requirement already satisfied: exceptiongroup in c:\\users\\drew1\\appdata\\local\\programs\\python\\python310\\lib\\site-packages (from ipython>=6.1.0->ipywidgets) (1.2.1)\n",
      "Requirement already satisfied: typing-extensions>=4.6 in c:\\users\\drew1\\appdata\\local\\programs\\python\\python310\\lib\\site-packages (from ipython>=6.1.0->ipywidgets) (4.12.2)\n",
      "Requirement already satisfied: colorama in c:\\users\\drew1\\appdata\\local\\programs\\python\\python310\\lib\\site-packages (from ipython>=6.1.0->ipywidgets) (0.4.6)\n",
      "Requirement already satisfied: parso<0.9.0,>=0.8.3 in c:\\users\\drew1\\appdata\\local\\programs\\python\\python310\\lib\\site-packages (from jedi>=0.16->ipython>=6.1.0->ipywidgets) (0.8.4)\n",
      "Requirement already satisfied: wcwidth in c:\\users\\drew1\\appdata\\local\\programs\\python\\python310\\lib\\site-packages (from prompt-toolkit<3.1.0,>=3.0.41->ipython>=6.1.0->ipywidgets) (0.2.13)\n",
      "Requirement already satisfied: executing>=1.2.0 in c:\\users\\drew1\\appdata\\local\\programs\\python\\python310\\lib\\site-packages (from stack-data->ipython>=6.1.0->ipywidgets) (2.0.1)\n",
      "Requirement already satisfied: asttokens>=2.1.0 in c:\\users\\drew1\\appdata\\local\\programs\\python\\python310\\lib\\site-packages (from stack-data->ipython>=6.1.0->ipywidgets) (2.4.1)\n",
      "Requirement already satisfied: pure-eval in c:\\users\\drew1\\appdata\\local\\programs\\python\\python310\\lib\\site-packages (from stack-data->ipython>=6.1.0->ipywidgets) (0.2.2)\n",
      "Requirement already satisfied: six>=1.12.0 in c:\\users\\drew1\\appdata\\local\\programs\\python\\python310\\lib\\site-packages (from asttokens>=2.1.0->stack-data->ipython>=6.1.0->ipywidgets) (1.16.0)\n"
     ]
    },
    {
     "name": "stderr",
     "output_type": "stream",
     "text": [
      "\n",
      "[notice] A new release of pip is available: 24.0 -> 24.3.1\n",
      "[notice] To update, run: python.exe -m pip install --upgrade pip\n"
     ]
    }
   ],
   "source": [
    "# If you encounter an error, you may not have Windows Long Path support enabled. \n",
    "# You can find information on how to enable this at https://pip.pypa.io/warnings/enable-long-paths\n",
    "# !pip install transformers\n",
    "# !pip install nbformat>=4.2.0\n",
    "# !pip install ipywidgets"
   ]
  },
  {
   "cell_type": "code",
   "execution_count": 19,
   "metadata": {},
   "outputs": [
    {
     "name": "stdout",
     "output_type": "stream",
     "text": [
      "File: FOMCpresconf20190130.txt\n",
      "Predicted Sentiment: Neutral\n",
      "Probability Distribution:\n",
      "  Very Negative: 2.87%\n",
      "  Negative: 10.58%\n",
      "  Neutral: 63.98%\n",
      "  Positive: 15.65%\n",
      "  Very Positive: 6.92%\n",
      "\n",
      "File: FOMCpresconf20190320.txt\n",
      "Predicted Sentiment: Neutral\n",
      "Probability Distribution:\n",
      "  Very Negative: 3.92%\n",
      "  Negative: 8.50%\n",
      "  Neutral: 56.45%\n",
      "  Positive: 22.29%\n",
      "  Very Positive: 8.84%\n",
      "\n",
      "File: FOMCpresconf20190501.txt\n",
      "Predicted Sentiment: Neutral\n",
      "Probability Distribution:\n",
      "  Very Negative: 1.88%\n",
      "  Negative: 8.70%\n",
      "  Neutral: 65.71%\n",
      "  Positive: 17.21%\n",
      "  Very Positive: 6.50%\n",
      "\n",
      "File: FOMCpresconf20190619.txt\n",
      "Predicted Sentiment: Neutral\n",
      "Probability Distribution:\n",
      "  Very Negative: 1.36%\n",
      "  Negative: 5.72%\n",
      "  Neutral: 66.87%\n",
      "  Positive: 18.17%\n",
      "  Very Positive: 7.88%\n",
      "\n",
      "File: FOMCpresconf20190731.txt\n",
      "Predicted Sentiment: Neutral\n",
      "Probability Distribution:\n",
      "  Very Negative: 2.06%\n",
      "  Negative: 8.54%\n",
      "  Neutral: 64.95%\n",
      "  Positive: 16.42%\n",
      "  Very Positive: 8.03%\n",
      "\n",
      "File: FOMCpresconf20190918.txt\n",
      "Predicted Sentiment: Neutral\n",
      "Probability Distribution:\n",
      "  Very Negative: 2.01%\n",
      "  Negative: 10.05%\n",
      "  Neutral: 59.31%\n",
      "  Positive: 22.76%\n",
      "  Very Positive: 5.87%\n",
      "\n",
      "File: FOMCpresconf20191030.txt\n",
      "Predicted Sentiment: Neutral\n",
      "Probability Distribution:\n",
      "  Very Negative: 1.58%\n",
      "  Negative: 5.67%\n",
      "  Neutral: 56.67%\n",
      "  Positive: 23.32%\n",
      "  Very Positive: 12.76%\n",
      "\n",
      "File: FOMCpresconf20191211.txt\n",
      "Predicted Sentiment: Neutral\n",
      "Probability Distribution:\n",
      "  Very Negative: 1.77%\n",
      "  Negative: 9.13%\n",
      "  Neutral: 63.96%\n",
      "  Positive: 17.27%\n",
      "  Very Positive: 7.88%\n",
      "\n",
      "File: FOMCpresconf20200129.txt\n",
      "Predicted Sentiment: Neutral\n",
      "Probability Distribution:\n",
      "  Very Negative: 2.11%\n",
      "  Negative: 5.43%\n",
      "  Neutral: 67.35%\n",
      "  Positive: 17.15%\n",
      "  Very Positive: 7.96%\n",
      "\n",
      "File: FOMCpresconf20200429.txt\n",
      "Predicted Sentiment: Neutral\n",
      "Probability Distribution:\n",
      "  Very Negative: 12.30%\n",
      "  Negative: 11.99%\n",
      "  Neutral: 47.37%\n",
      "  Positive: 18.27%\n",
      "  Very Positive: 10.07%\n",
      "\n",
      "File: FOMCpresconf20200610.txt\n",
      "Predicted Sentiment: Neutral\n",
      "Probability Distribution:\n",
      "  Very Negative: 8.45%\n",
      "  Negative: 11.16%\n",
      "  Neutral: 43.96%\n",
      "  Positive: 18.20%\n",
      "  Very Positive: 18.23%\n",
      "\n",
      "File: FOMCpresconf20200729.txt\n",
      "Predicted Sentiment: Neutral\n",
      "Probability Distribution:\n",
      "  Very Negative: 7.01%\n",
      "  Negative: 14.82%\n",
      "  Neutral: 55.49%\n",
      "  Positive: 14.13%\n",
      "  Very Positive: 8.55%\n",
      "\n",
      "File: FOMCpresconf20200916.txt\n",
      "Predicted Sentiment: Neutral\n",
      "Probability Distribution:\n",
      "  Very Negative: 3.35%\n",
      "  Negative: 6.83%\n",
      "  Neutral: 59.22%\n",
      "  Positive: 18.53%\n",
      "  Very Positive: 12.07%\n",
      "\n",
      "File: FOMCpresconf20201105.txt\n",
      "Predicted Sentiment: Neutral\n",
      "Probability Distribution:\n",
      "  Very Negative: 1.97%\n",
      "  Negative: 4.81%\n",
      "  Neutral: 62.29%\n",
      "  Positive: 19.50%\n",
      "  Very Positive: 11.43%\n",
      "\n",
      "File: FOMCpresconf20201216.txt\n",
      "Predicted Sentiment: Neutral\n",
      "Probability Distribution:\n",
      "  Very Negative: 2.45%\n",
      "  Negative: 6.85%\n",
      "  Neutral: 54.78%\n",
      "  Positive: 19.21%\n",
      "  Very Positive: 16.71%\n",
      "\n",
      "File: FOMCpresconf20210127.txt\n",
      "Predicted Sentiment: Neutral\n",
      "Probability Distribution:\n",
      "  Very Negative: 4.71%\n",
      "  Negative: 10.74%\n",
      "  Neutral: 46.84%\n",
      "  Positive: 24.51%\n",
      "  Very Positive: 13.21%\n",
      "\n",
      "File: FOMCpresconf20210317.txt\n",
      "Predicted Sentiment: Neutral\n",
      "Probability Distribution:\n",
      "  Very Negative: 5.64%\n",
      "  Negative: 10.87%\n",
      "  Neutral: 63.54%\n",
      "  Positive: 13.64%\n",
      "  Very Positive: 6.31%\n",
      "\n",
      "File: FOMCpresconf20210428.txt\n",
      "Predicted Sentiment: Neutral\n",
      "Probability Distribution:\n",
      "  Very Negative: 4.30%\n",
      "  Negative: 12.64%\n",
      "  Neutral: 60.98%\n",
      "  Positive: 14.92%\n",
      "  Very Positive: 7.16%\n",
      "\n",
      "File: FOMCpresconf20210616.txt\n",
      "Predicted Sentiment: Neutral\n",
      "Probability Distribution:\n",
      "  Very Negative: 2.48%\n",
      "  Negative: 8.46%\n",
      "  Neutral: 65.81%\n",
      "  Positive: 13.78%\n",
      "  Very Positive: 9.47%\n",
      "\n",
      "File: FOMCpresconf20210728.txt\n",
      "Predicted Sentiment: Neutral\n",
      "Probability Distribution:\n",
      "  Very Negative: 3.44%\n",
      "  Negative: 9.73%\n",
      "  Neutral: 67.96%\n",
      "  Positive: 13.76%\n",
      "  Very Positive: 5.11%\n",
      "\n",
      "File: FOMCpresconf20210922.txt\n",
      "Predicted Sentiment: Neutral\n",
      "Probability Distribution:\n",
      "  Very Negative: 1.44%\n",
      "  Negative: 7.11%\n",
      "  Neutral: 63.97%\n",
      "  Positive: 16.17%\n",
      "  Very Positive: 11.31%\n",
      "\n",
      "File: FOMCpresconf20211103.txt\n",
      "Predicted Sentiment: Neutral\n",
      "Probability Distribution:\n",
      "  Very Negative: 1.85%\n",
      "  Negative: 5.92%\n",
      "  Neutral: 67.91%\n",
      "  Positive: 16.17%\n",
      "  Very Positive: 8.15%\n",
      "\n",
      "File: FOMCpresconf20211215.txt\n",
      "Predicted Sentiment: Neutral\n",
      "Probability Distribution:\n",
      "  Very Negative: 4.37%\n",
      "  Negative: 9.68%\n",
      "  Neutral: 58.18%\n",
      "  Positive: 15.42%\n",
      "  Very Positive: 12.35%\n",
      "\n",
      "File: FOMCpresconf20220126.txt\n",
      "Predicted Sentiment: Neutral\n",
      "Probability Distribution:\n",
      "  Very Negative: 4.06%\n",
      "  Negative: 9.45%\n",
      "  Neutral: 58.48%\n",
      "  Positive: 15.80%\n",
      "  Very Positive: 12.21%\n",
      "\n",
      "File: FOMCpresconf20220316.txt\n",
      "Predicted Sentiment: Neutral\n",
      "Probability Distribution:\n",
      "  Very Negative: 1.16%\n",
      "  Negative: 6.11%\n",
      "  Neutral: 62.50%\n",
      "  Positive: 18.67%\n",
      "  Very Positive: 11.55%\n",
      "\n",
      "File: FOMCpresconf20220504.txt\n",
      "Predicted Sentiment: Neutral\n",
      "Probability Distribution:\n",
      "  Very Negative: 2.98%\n",
      "  Negative: 7.73%\n",
      "  Neutral: 62.20%\n",
      "  Positive: 15.82%\n",
      "  Very Positive: 11.26%\n",
      "\n",
      "File: FOMCpresconf20220615.txt\n",
      "Predicted Sentiment: Neutral\n",
      "Probability Distribution:\n",
      "  Very Negative: 3.11%\n",
      "  Negative: 7.17%\n",
      "  Neutral: 55.43%\n",
      "  Positive: 21.36%\n",
      "  Very Positive: 12.94%\n",
      "\n",
      "File: FOMCpresconf20220727.txt\n",
      "Predicted Sentiment: Neutral\n",
      "Probability Distribution:\n",
      "  Very Negative: 4.36%\n",
      "  Negative: 14.77%\n",
      "  Neutral: 59.01%\n",
      "  Positive: 14.07%\n",
      "  Very Positive: 7.79%\n",
      "\n",
      "File: FOMCpresconf20220921.txt\n",
      "Predicted Sentiment: Neutral\n",
      "Probability Distribution:\n",
      "  Very Negative: 3.73%\n",
      "  Negative: 8.00%\n",
      "  Neutral: 56.99%\n",
      "  Positive: 20.75%\n",
      "  Very Positive: 10.53%\n",
      "\n",
      "File: FOMCpresconf20221102.txt\n",
      "Predicted Sentiment: Neutral\n",
      "Probability Distribution:\n",
      "  Very Negative: 3.11%\n",
      "  Negative: 8.03%\n",
      "  Neutral: 54.66%\n",
      "  Positive: 22.30%\n",
      "  Very Positive: 11.91%\n",
      "\n",
      "File: FOMCpresconf20221214.txt\n",
      "Predicted Sentiment: Neutral\n",
      "Probability Distribution:\n",
      "  Very Negative: 4.58%\n",
      "  Negative: 9.78%\n",
      "  Neutral: 52.16%\n",
      "  Positive: 20.75%\n",
      "  Very Positive: 12.73%\n",
      "\n",
      "File: FOMCpresconf20230201.txt\n",
      "Predicted Sentiment: Neutral\n",
      "Probability Distribution:\n",
      "  Very Negative: 3.01%\n",
      "  Negative: 5.38%\n",
      "  Neutral: 60.66%\n",
      "  Positive: 20.43%\n",
      "  Very Positive: 10.52%\n",
      "\n",
      "File: FOMCpresconf20230322.txt\n",
      "Predicted Sentiment: Neutral\n",
      "Probability Distribution:\n",
      "  Very Negative: 4.57%\n",
      "  Negative: 7.33%\n",
      "  Neutral: 58.42%\n",
      "  Positive: 21.36%\n",
      "  Very Positive: 8.32%\n",
      "\n",
      "File: FOMCpresconf20230503.txt\n",
      "Predicted Sentiment: Neutral\n",
      "Probability Distribution:\n",
      "  Very Negative: 1.14%\n",
      "  Negative: 4.35%\n",
      "  Neutral: 65.01%\n",
      "  Positive: 20.28%\n",
      "  Very Positive: 9.23%\n",
      "\n",
      "File: FOMCpresconf20230614.txt\n",
      "Predicted Sentiment: Neutral\n",
      "Probability Distribution:\n",
      "  Very Negative: 1.56%\n",
      "  Negative: 5.52%\n",
      "  Neutral: 64.05%\n",
      "  Positive: 19.41%\n",
      "  Very Positive: 9.46%\n",
      "\n",
      "File: FOMCpresconf20230726.txt\n",
      "Predicted Sentiment: Neutral\n",
      "Probability Distribution:\n",
      "  Very Negative: 3.66%\n",
      "  Negative: 7.09%\n",
      "  Neutral: 55.68%\n",
      "  Positive: 22.97%\n",
      "  Very Positive: 10.59%\n",
      "\n",
      "File: FOMCpresconf20230920.txt\n",
      "Predicted Sentiment: Neutral\n",
      "Probability Distribution:\n",
      "  Very Negative: 1.68%\n",
      "  Negative: 6.46%\n",
      "  Neutral: 63.06%\n",
      "  Positive: 19.50%\n",
      "  Very Positive: 9.31%\n",
      "\n",
      "File: FOMCpresconf20231101.txt\n",
      "Predicted Sentiment: Neutral\n",
      "Probability Distribution:\n",
      "  Very Negative: 2.13%\n",
      "  Negative: 7.71%\n",
      "  Neutral: 60.20%\n",
      "  Positive: 20.76%\n",
      "  Very Positive: 9.19%\n",
      "\n",
      "File: FOMCpresconf20231213.txt\n",
      "Predicted Sentiment: Neutral\n",
      "Probability Distribution:\n",
      "  Very Negative: 1.82%\n",
      "  Negative: 6.82%\n",
      "  Neutral: 65.97%\n",
      "  Positive: 16.23%\n",
      "  Very Positive: 9.16%\n",
      "\n",
      "File: FOMCpresconf20240131.txt\n",
      "Predicted Sentiment: Neutral\n",
      "Probability Distribution:\n",
      "  Very Negative: 0.65%\n",
      "  Negative: 3.14%\n",
      "  Neutral: 61.27%\n",
      "  Positive: 22.47%\n",
      "  Very Positive: 12.46%\n",
      "\n",
      "File: FOMCpresconf20240320.txt\n",
      "Predicted Sentiment: Neutral\n",
      "Probability Distribution:\n",
      "  Very Negative: 0.81%\n",
      "  Negative: 5.92%\n",
      "  Neutral: 70.81%\n",
      "  Positive: 16.30%\n",
      "  Very Positive: 6.16%\n",
      "\n",
      "File: FOMCpresconf20240501.txt\n",
      "Predicted Sentiment: Neutral\n",
      "Probability Distribution:\n",
      "  Very Negative: 3.30%\n",
      "  Negative: 8.90%\n",
      "  Neutral: 59.33%\n",
      "  Positive: 19.83%\n",
      "  Very Positive: 8.65%\n",
      "\n",
      "File: FOMCpresconf20240612.txt\n",
      "Predicted Sentiment: Neutral\n",
      "Probability Distribution:\n",
      "  Very Negative: 3.33%\n",
      "  Negative: 9.23%\n",
      "  Neutral: 55.40%\n",
      "  Positive: 22.44%\n",
      "  Very Positive: 9.60%\n",
      "\n",
      "File: fomcpresconf20240731.txt\n",
      "Predicted Sentiment: Neutral\n",
      "Probability Distribution:\n",
      "  Very Negative: 3.28%\n",
      "  Negative: 10.55%\n",
      "  Neutral: 68.93%\n",
      "  Positive: 11.31%\n",
      "  Very Positive: 5.93%\n",
      "\n",
      "File: FOMCpresconf20240918.txt\n",
      "Predicted Sentiment: Neutral\n",
      "Probability Distribution:\n",
      "  Very Negative: 2.09%\n",
      "  Negative: 6.12%\n",
      "  Neutral: 65.36%\n",
      "  Positive: 18.67%\n",
      "  Very Positive: 7.75%\n",
      "\n",
      "File: FOMCpresconf20241107.txt\n",
      "Predicted Sentiment: Neutral\n",
      "Probability Distribution:\n",
      "  Very Negative: 2.73%\n",
      "  Negative: 7.32%\n",
      "  Neutral: 71.08%\n",
      "  Positive: 13.76%\n",
      "  Very Positive: 5.11%\n",
      "\n"
     ]
    }
   ],
   "source": [
    "model_name = \"tabularisai/robust-sentiment-analysis\"\n",
    "sentimentAnalysis = pipeline(model=model_name, device=device)\n",
    "tokenizer = AutoTokenizer.from_pretrained(model_name)\n",
    "model = AutoModelForSequenceClassification.from_pretrained(model_name)\n",
    "\n",
    "# Pipeline from Hugging Face (copied from example on page, had to modify to get probability distribution)\n",
    "def predict_sentiment(text):\n",
    "\tinputs = tokenizer(text.lower(), return_tensors=\"pt\", truncation=True, padding=True, max_length=512)\n",
    "\twith torch.no_grad():\n",
    "\t\toutputs = model(**inputs)\n",
    "\t\n",
    "\tprobabilities = torch.nn.functional.softmax(outputs.logits, dim=-1)\n",
    "\tpredicted_class = torch.argmax(probabilities, dim=-1).item()\n",
    "\t\n",
    "\tprobs_list = probabilities[0].tolist()\n",
    "\tsentiment_map = {0: \"Very Negative\", 1: \"Negative\", 2: \"Neutral\", 3: \"Positive\", 4: \"Very Positive\"}\n",
    "\t\n",
    "\t# Create a dictionary of sentiment labels and their probabilities\n",
    "\tsentiment_probs = {\n",
    "\t\t\t\t\t\tsentiment_map[i]: prob\n",
    "\t\t\t\t\t\tfor i, prob in enumerate(probs_list)\n",
    "\t\t\t\t\t\t}\n",
    "\n",
    "\treturn {\n",
    "\t\t\t'predicted_class': sentiment_map[predicted_class],\n",
    "\t\t\t'probabilities': sentiment_probs\n",
    "\t\t\t}\n",
    "\n",
    "# Function written by Claude 3.5 Sonnet (New) to allow the pipeline to handle longer input text\n",
    "def analyze_long_text(text, max_chunk_size):\n",
    "\t\"\"\"\n",
    "\tAnalyze sentiment of long text by breaking it into chunks and averaging results.\n",
    "\t\"\"\"\n",
    "\t# Clean text\n",
    "\ttext = text.replace('\\n', ' ').strip()\n",
    "\t\n",
    "\t# Split into chunks using existing chunk_text function\n",
    "\tchunks = chunk_text(text, max_chunk_size)\n",
    "\t\n",
    "\t# Analyze each chunk\n",
    "\tchunk_sentiments = {\"Very Negative\": 0, \"Negative\": 0, \"Neutral\": 0, \"Positive\": 0, \"Very Positive\": 0}\n",
    "\tvalid_chunks = 0\n",
    "\t\n",
    "\tfor chunk in chunks:\n",
    "\t\ttry:\n",
    "\t\t\tresult = predict_sentiment(chunk) # Uses modified pipeline\n",
    "\t\t\tfor sentiment, prob in result['probabilities'].items():\n",
    "\t\t\t\tchunk_sentiments[sentiment] += prob\n",
    "\t\t\tvalid_chunks += 1\n",
    "\t\texcept Exception as e:\n",
    "\t\t\tprint(f\"Error processing chunk: {e}\")\n",
    "\t\t\tcontinue\n",
    "\t\n",
    "\t# Average the sentiments\n",
    "\tif valid_chunks > 0:\n",
    "\t\tfor sentiment in chunk_sentiments:\n",
    "\t\t\tchunk_sentiments[sentiment] /= valid_chunks\n",
    "\t\n",
    "\t# Determine overall sentiment\n",
    "\tmax_sentiment = max(chunk_sentiments.items(), key=lambda x: x[1])\n",
    "\t\n",
    "\treturn {\n",
    "\t\t\t'predicted_class': max_sentiment[0],\n",
    "\t\t\t'probabilities': chunk_sentiments\n",
    "\t\t\t}\n",
    "\n",
    "# Updated sentiment analysis loop\n",
    "sentimentCount = {\"Very Negative\": 0, \"Negative\": 0, \"Neutral\": 0, \"Positive\": 0, \"Very Positive\": 0}\n",
    "sentimentProbs = {\"Very Negative\": [], \"Negative\": [], \"Neutral\": [], \"Positive\": [], \"Very Positive\": []}\n",
    "for txt in textDict:\n",
    "    try:\n",
    "        result = analyze_long_text(textDict[txt], max_chunk_size=256)\n",
    "        print(f\"File: {txt}\")\n",
    "        print(f\"Predicted Sentiment: {result['predicted_class']}\")\n",
    "        print(\"Probability Distribution:\")\n",
    "        for sentiment, prob in result['probabilities'].items():\n",
    "            print(f\"  {sentiment}: {prob * 100:.2f}%\")\n",
    "            sentimentCount[sentiment] += prob \t\t# Save the probability to get the averages\n",
    "            sentimentProbs[sentiment].append(prob)\t# Save each probability for each sentiment\n",
    "        print()\n",
    "    except Exception as e:\n",
    "        print(f\"Error processing {txt}: {e}\")\n"
   ]
  },
  {
   "cell_type": "code",
   "execution_count": 20,
   "metadata": {},
   "outputs": [
    {
     "name": "stdout",
     "output_type": "stream",
     "text": [
      "Average Very Negative: \t3.18%\n",
      "Average Negative: \t8.19%\n",
      "Average Neutral: \t60.66%\n",
      "Average Positive: \t18.30%\n",
      "Average Very Positive: \t9.68%\n"
     ]
    }
   ],
   "source": [
    "# Print average sentiment confidence\n",
    "avgSentimentPcts = []\n",
    "for sentiment in sentimentCount:\n",
    "\tavgSentimentPcts.append(float(f\"{sentimentCount[sentiment]/len(textDict) * 100:.2f}\"))\n",
    "\tprint(f\"Average {sentiment}: \\t{sentimentCount[sentiment]/len(textDict) * 100:.2f}%\")\n",
    "#print(avgSentimentPcts)"
   ]
  },
  {
   "cell_type": "code",
   "execution_count": 31,
   "metadata": {},
   "outputs": [
    {
     "data": {
      "application/vnd.plotly.v1+json": {
       "config": {
        "plotlyServerURL": "https://plot.ly"
       },
       "data": [
        {
         "marker": {
          "color": [
           "#ff4d4d",
           "#ff8c8c",
           "#8c8c8c",
           "#7fbf7f",
           "#2eb82e"
          ]
         },
         "text": [
          "3.18%",
          "8.19%",
          "60.66%",
          "18.3%",
          "9.68%"
         ],
         "textposition": "auto",
         "type": "bar",
         "x": [
          "Very Negative",
          "Negative",
          "Neutral",
          "Positive",
          "Very Positive"
         ],
         "y": [
          3.18,
          8.19,
          60.66,
          18.3,
          9.68
         ]
        }
       ],
       "layout": {
        "bargap": 0.2,
        "template": {
         "data": {
          "bar": [
           {
            "error_x": {
             "color": "#2a3f5f"
            },
            "error_y": {
             "color": "#2a3f5f"
            },
            "marker": {
             "line": {
              "color": "white",
              "width": 0.5
             },
             "pattern": {
              "fillmode": "overlay",
              "size": 10,
              "solidity": 0.2
             }
            },
            "type": "bar"
           }
          ],
          "barpolar": [
           {
            "marker": {
             "line": {
              "color": "white",
              "width": 0.5
             },
             "pattern": {
              "fillmode": "overlay",
              "size": 10,
              "solidity": 0.2
             }
            },
            "type": "barpolar"
           }
          ],
          "carpet": [
           {
            "aaxis": {
             "endlinecolor": "#2a3f5f",
             "gridcolor": "#C8D4E3",
             "linecolor": "#C8D4E3",
             "minorgridcolor": "#C8D4E3",
             "startlinecolor": "#2a3f5f"
            },
            "baxis": {
             "endlinecolor": "#2a3f5f",
             "gridcolor": "#C8D4E3",
             "linecolor": "#C8D4E3",
             "minorgridcolor": "#C8D4E3",
             "startlinecolor": "#2a3f5f"
            },
            "type": "carpet"
           }
          ],
          "choropleth": [
           {
            "colorbar": {
             "outlinewidth": 0,
             "ticks": ""
            },
            "type": "choropleth"
           }
          ],
          "contour": [
           {
            "colorbar": {
             "outlinewidth": 0,
             "ticks": ""
            },
            "colorscale": [
             [
              0,
              "#0d0887"
             ],
             [
              0.1111111111111111,
              "#46039f"
             ],
             [
              0.2222222222222222,
              "#7201a8"
             ],
             [
              0.3333333333333333,
              "#9c179e"
             ],
             [
              0.4444444444444444,
              "#bd3786"
             ],
             [
              0.5555555555555556,
              "#d8576b"
             ],
             [
              0.6666666666666666,
              "#ed7953"
             ],
             [
              0.7777777777777778,
              "#fb9f3a"
             ],
             [
              0.8888888888888888,
              "#fdca26"
             ],
             [
              1,
              "#f0f921"
             ]
            ],
            "type": "contour"
           }
          ],
          "contourcarpet": [
           {
            "colorbar": {
             "outlinewidth": 0,
             "ticks": ""
            },
            "type": "contourcarpet"
           }
          ],
          "heatmap": [
           {
            "colorbar": {
             "outlinewidth": 0,
             "ticks": ""
            },
            "colorscale": [
             [
              0,
              "#0d0887"
             ],
             [
              0.1111111111111111,
              "#46039f"
             ],
             [
              0.2222222222222222,
              "#7201a8"
             ],
             [
              0.3333333333333333,
              "#9c179e"
             ],
             [
              0.4444444444444444,
              "#bd3786"
             ],
             [
              0.5555555555555556,
              "#d8576b"
             ],
             [
              0.6666666666666666,
              "#ed7953"
             ],
             [
              0.7777777777777778,
              "#fb9f3a"
             ],
             [
              0.8888888888888888,
              "#fdca26"
             ],
             [
              1,
              "#f0f921"
             ]
            ],
            "type": "heatmap"
           }
          ],
          "heatmapgl": [
           {
            "colorbar": {
             "outlinewidth": 0,
             "ticks": ""
            },
            "colorscale": [
             [
              0,
              "#0d0887"
             ],
             [
              0.1111111111111111,
              "#46039f"
             ],
             [
              0.2222222222222222,
              "#7201a8"
             ],
             [
              0.3333333333333333,
              "#9c179e"
             ],
             [
              0.4444444444444444,
              "#bd3786"
             ],
             [
              0.5555555555555556,
              "#d8576b"
             ],
             [
              0.6666666666666666,
              "#ed7953"
             ],
             [
              0.7777777777777778,
              "#fb9f3a"
             ],
             [
              0.8888888888888888,
              "#fdca26"
             ],
             [
              1,
              "#f0f921"
             ]
            ],
            "type": "heatmapgl"
           }
          ],
          "histogram": [
           {
            "marker": {
             "pattern": {
              "fillmode": "overlay",
              "size": 10,
              "solidity": 0.2
             }
            },
            "type": "histogram"
           }
          ],
          "histogram2d": [
           {
            "colorbar": {
             "outlinewidth": 0,
             "ticks": ""
            },
            "colorscale": [
             [
              0,
              "#0d0887"
             ],
             [
              0.1111111111111111,
              "#46039f"
             ],
             [
              0.2222222222222222,
              "#7201a8"
             ],
             [
              0.3333333333333333,
              "#9c179e"
             ],
             [
              0.4444444444444444,
              "#bd3786"
             ],
             [
              0.5555555555555556,
              "#d8576b"
             ],
             [
              0.6666666666666666,
              "#ed7953"
             ],
             [
              0.7777777777777778,
              "#fb9f3a"
             ],
             [
              0.8888888888888888,
              "#fdca26"
             ],
             [
              1,
              "#f0f921"
             ]
            ],
            "type": "histogram2d"
           }
          ],
          "histogram2dcontour": [
           {
            "colorbar": {
             "outlinewidth": 0,
             "ticks": ""
            },
            "colorscale": [
             [
              0,
              "#0d0887"
             ],
             [
              0.1111111111111111,
              "#46039f"
             ],
             [
              0.2222222222222222,
              "#7201a8"
             ],
             [
              0.3333333333333333,
              "#9c179e"
             ],
             [
              0.4444444444444444,
              "#bd3786"
             ],
             [
              0.5555555555555556,
              "#d8576b"
             ],
             [
              0.6666666666666666,
              "#ed7953"
             ],
             [
              0.7777777777777778,
              "#fb9f3a"
             ],
             [
              0.8888888888888888,
              "#fdca26"
             ],
             [
              1,
              "#f0f921"
             ]
            ],
            "type": "histogram2dcontour"
           }
          ],
          "mesh3d": [
           {
            "colorbar": {
             "outlinewidth": 0,
             "ticks": ""
            },
            "type": "mesh3d"
           }
          ],
          "parcoords": [
           {
            "line": {
             "colorbar": {
              "outlinewidth": 0,
              "ticks": ""
             }
            },
            "type": "parcoords"
           }
          ],
          "pie": [
           {
            "automargin": true,
            "type": "pie"
           }
          ],
          "scatter": [
           {
            "fillpattern": {
             "fillmode": "overlay",
             "size": 10,
             "solidity": 0.2
            },
            "type": "scatter"
           }
          ],
          "scatter3d": [
           {
            "line": {
             "colorbar": {
              "outlinewidth": 0,
              "ticks": ""
             }
            },
            "marker": {
             "colorbar": {
              "outlinewidth": 0,
              "ticks": ""
             }
            },
            "type": "scatter3d"
           }
          ],
          "scattercarpet": [
           {
            "marker": {
             "colorbar": {
              "outlinewidth": 0,
              "ticks": ""
             }
            },
            "type": "scattercarpet"
           }
          ],
          "scattergeo": [
           {
            "marker": {
             "colorbar": {
              "outlinewidth": 0,
              "ticks": ""
             }
            },
            "type": "scattergeo"
           }
          ],
          "scattergl": [
           {
            "marker": {
             "colorbar": {
              "outlinewidth": 0,
              "ticks": ""
             }
            },
            "type": "scattergl"
           }
          ],
          "scattermapbox": [
           {
            "marker": {
             "colorbar": {
              "outlinewidth": 0,
              "ticks": ""
             }
            },
            "type": "scattermapbox"
           }
          ],
          "scatterpolar": [
           {
            "marker": {
             "colorbar": {
              "outlinewidth": 0,
              "ticks": ""
             }
            },
            "type": "scatterpolar"
           }
          ],
          "scatterpolargl": [
           {
            "marker": {
             "colorbar": {
              "outlinewidth": 0,
              "ticks": ""
             }
            },
            "type": "scatterpolargl"
           }
          ],
          "scatterternary": [
           {
            "marker": {
             "colorbar": {
              "outlinewidth": 0,
              "ticks": ""
             }
            },
            "type": "scatterternary"
           }
          ],
          "surface": [
           {
            "colorbar": {
             "outlinewidth": 0,
             "ticks": ""
            },
            "colorscale": [
             [
              0,
              "#0d0887"
             ],
             [
              0.1111111111111111,
              "#46039f"
             ],
             [
              0.2222222222222222,
              "#7201a8"
             ],
             [
              0.3333333333333333,
              "#9c179e"
             ],
             [
              0.4444444444444444,
              "#bd3786"
             ],
             [
              0.5555555555555556,
              "#d8576b"
             ],
             [
              0.6666666666666666,
              "#ed7953"
             ],
             [
              0.7777777777777778,
              "#fb9f3a"
             ],
             [
              0.8888888888888888,
              "#fdca26"
             ],
             [
              1,
              "#f0f921"
             ]
            ],
            "type": "surface"
           }
          ],
          "table": [
           {
            "cells": {
             "fill": {
              "color": "#EBF0F8"
             },
             "line": {
              "color": "white"
             }
            },
            "header": {
             "fill": {
              "color": "#C8D4E3"
             },
             "line": {
              "color": "white"
             }
            },
            "type": "table"
           }
          ]
         },
         "layout": {
          "annotationdefaults": {
           "arrowcolor": "#2a3f5f",
           "arrowhead": 0,
           "arrowwidth": 1
          },
          "autotypenumbers": "strict",
          "coloraxis": {
           "colorbar": {
            "outlinewidth": 0,
            "ticks": ""
           }
          },
          "colorscale": {
           "diverging": [
            [
             0,
             "#8e0152"
            ],
            [
             0.1,
             "#c51b7d"
            ],
            [
             0.2,
             "#de77ae"
            ],
            [
             0.3,
             "#f1b6da"
            ],
            [
             0.4,
             "#fde0ef"
            ],
            [
             0.5,
             "#f7f7f7"
            ],
            [
             0.6,
             "#e6f5d0"
            ],
            [
             0.7,
             "#b8e186"
            ],
            [
             0.8,
             "#7fbc41"
            ],
            [
             0.9,
             "#4d9221"
            ],
            [
             1,
             "#276419"
            ]
           ],
           "sequential": [
            [
             0,
             "#0d0887"
            ],
            [
             0.1111111111111111,
             "#46039f"
            ],
            [
             0.2222222222222222,
             "#7201a8"
            ],
            [
             0.3333333333333333,
             "#9c179e"
            ],
            [
             0.4444444444444444,
             "#bd3786"
            ],
            [
             0.5555555555555556,
             "#d8576b"
            ],
            [
             0.6666666666666666,
             "#ed7953"
            ],
            [
             0.7777777777777778,
             "#fb9f3a"
            ],
            [
             0.8888888888888888,
             "#fdca26"
            ],
            [
             1,
             "#f0f921"
            ]
           ],
           "sequentialminus": [
            [
             0,
             "#0d0887"
            ],
            [
             0.1111111111111111,
             "#46039f"
            ],
            [
             0.2222222222222222,
             "#7201a8"
            ],
            [
             0.3333333333333333,
             "#9c179e"
            ],
            [
             0.4444444444444444,
             "#bd3786"
            ],
            [
             0.5555555555555556,
             "#d8576b"
            ],
            [
             0.6666666666666666,
             "#ed7953"
            ],
            [
             0.7777777777777778,
             "#fb9f3a"
            ],
            [
             0.8888888888888888,
             "#fdca26"
            ],
            [
             1,
             "#f0f921"
            ]
           ]
          },
          "colorway": [
           "#636efa",
           "#EF553B",
           "#00cc96",
           "#ab63fa",
           "#FFA15A",
           "#19d3f3",
           "#FF6692",
           "#B6E880",
           "#FF97FF",
           "#FECB52"
          ],
          "font": {
           "color": "#2a3f5f"
          },
          "geo": {
           "bgcolor": "white",
           "lakecolor": "white",
           "landcolor": "white",
           "showlakes": true,
           "showland": true,
           "subunitcolor": "#C8D4E3"
          },
          "hoverlabel": {
           "align": "left"
          },
          "hovermode": "closest",
          "mapbox": {
           "style": "light"
          },
          "paper_bgcolor": "white",
          "plot_bgcolor": "white",
          "polar": {
           "angularaxis": {
            "gridcolor": "#EBF0F8",
            "linecolor": "#EBF0F8",
            "ticks": ""
           },
           "bgcolor": "white",
           "radialaxis": {
            "gridcolor": "#EBF0F8",
            "linecolor": "#EBF0F8",
            "ticks": ""
           }
          },
          "scene": {
           "xaxis": {
            "backgroundcolor": "white",
            "gridcolor": "#DFE8F3",
            "gridwidth": 2,
            "linecolor": "#EBF0F8",
            "showbackground": true,
            "ticks": "",
            "zerolinecolor": "#EBF0F8"
           },
           "yaxis": {
            "backgroundcolor": "white",
            "gridcolor": "#DFE8F3",
            "gridwidth": 2,
            "linecolor": "#EBF0F8",
            "showbackground": true,
            "ticks": "",
            "zerolinecolor": "#EBF0F8"
           },
           "zaxis": {
            "backgroundcolor": "white",
            "gridcolor": "#DFE8F3",
            "gridwidth": 2,
            "linecolor": "#EBF0F8",
            "showbackground": true,
            "ticks": "",
            "zerolinecolor": "#EBF0F8"
           }
          },
          "shapedefaults": {
           "line": {
            "color": "#2a3f5f"
           }
          },
          "ternary": {
           "aaxis": {
            "gridcolor": "#DFE8F3",
            "linecolor": "#A2B1C6",
            "ticks": ""
           },
           "baxis": {
            "gridcolor": "#DFE8F3",
            "linecolor": "#A2B1C6",
            "ticks": ""
           },
           "bgcolor": "white",
           "caxis": {
            "gridcolor": "#DFE8F3",
            "linecolor": "#A2B1C6",
            "ticks": ""
           }
          },
          "title": {
           "x": 0.05
          },
          "xaxis": {
           "automargin": true,
           "gridcolor": "#EBF0F8",
           "linecolor": "#EBF0F8",
           "ticks": "",
           "title": {
            "standoff": 15
           },
           "zerolinecolor": "#EBF0F8",
           "zerolinewidth": 2
          },
          "yaxis": {
           "automargin": true,
           "gridcolor": "#EBF0F8",
           "linecolor": "#EBF0F8",
           "ticks": "",
           "title": {
            "standoff": 15
           },
           "zerolinecolor": "#EBF0F8",
           "zerolinewidth": 2
          }
         }
        },
        "title": {
         "text": "Average FOMC Sentiment Distribution"
        },
        "xaxis": {
         "title": {
          "text": "Sentiment"
         }
        },
        "yaxis": {
         "range": [
          0,
          100
         ],
         "title": {
          "text": "Percentage (%)"
         }
        }
       }
      }
     },
     "metadata": {},
     "output_type": "display_data"
    },
    {
     "data": {
      "application/vnd.plotly.v1+json": {
       "config": {
        "plotlyServerURL": "https://plot.ly"
       },
       "data": [
        {
         "line": {
          "color": "#ff4d4d"
         },
         "mode": "lines",
         "name": "Very Negative",
         "type": "scatter",
         "x": [
          0,
          1,
          2,
          3,
          4,
          5,
          6,
          7,
          8,
          9,
          10,
          11,
          12,
          13,
          14,
          15,
          16,
          17,
          18,
          19,
          20,
          21,
          22,
          23,
          24,
          25,
          26,
          27,
          28,
          29,
          30,
          31,
          32,
          33,
          34,
          35,
          36,
          37,
          38,
          39,
          40,
          41,
          42,
          43,
          44,
          45
         ],
         "y": [
          2.867485662090985,
          3.9226398203269737,
          1.8799548995486002,
          1.3559450058704081,
          2.0609328941763154,
          2.0059739318509986,
          1.5792164246022367,
          1.7728984870498405,
          2.1121344999079845,
          12.298886105605972,
          8.453670498038264,
          7.009506486177158,
          3.3459082443462034,
          1.9673431267352393,
          2.4500645013540634,
          4.714010499230573,
          5.642861385599756,
          4.304979648331937,
          2.4802370577207316,
          3.4424066997752036,
          1.4418837878651716,
          1.8500554247554808,
          4.3656634629726225,
          4.058002394850592,
          1.1623475912428047,
          2.97933123583789,
          3.107962598924611,
          4.358389264327856,
          3.733912566430859,
          3.106900162041007,
          4.579220952221095,
          3.0118197992945372,
          4.574218344011267,
          1.1377577048894154,
          1.5581189281822716,
          3.6610257998856124,
          1.6810954082374292,
          2.133910050785441,
          1.82405373493566,
          0.646474022485361,
          0.8093504932503492,
          3.3006279409592563,
          3.3304853106430428,
          3.2781805417471332,
          2.0932608573431417,
          2.734334707201924
         ]
        },
        {
         "line": {
          "color": "#ff8c8c"
         },
         "mode": "lines",
         "name": "Negative",
         "type": "scatter",
         "x": [
          0,
          1,
          2,
          3,
          4,
          5,
          6,
          7,
          8,
          9,
          10,
          11,
          12,
          13,
          14,
          15,
          16,
          17,
          18,
          19,
          20,
          21,
          22,
          23,
          24,
          25,
          26,
          27,
          28,
          29,
          30,
          31,
          32,
          33,
          34,
          35,
          36,
          37,
          38,
          39,
          40,
          41,
          42,
          43,
          44,
          45
         ],
         "y": [
          10.58101541002543,
          8.500627764733508,
          8.695955451899122,
          5.720704424411765,
          8.540204026165508,
          10.049203336405169,
          5.666874976668623,
          9.126368098239052,
          5.425507530555872,
          11.98677483517977,
          11.160479924146784,
          14.81875428923955,
          6.827517846182292,
          4.809920639073586,
          6.853440377744846,
          10.737197350229238,
          10.870065695248408,
          12.636524411936989,
          8.463606468640359,
          9.731876079029844,
          7.112677669234422,
          5.918286480263282,
          9.681148392597347,
          9.449762163520163,
          6.114859554185791,
          7.7344341094431,
          7.167931131047417,
          14.771484319741527,
          7.999097370614844,
          8.026786026312038,
          9.780533939990546,
          5.376755127696425,
          7.332329920609482,
          4.347951674614759,
          5.524334409440469,
          7.090438299692815,
          6.45661200595848,
          7.707633186914285,
          6.820855860951269,
          3.141083801165223,
          5.921557796500565,
          8.896420487572493,
          9.231726700169462,
          10.552797550061609,
          6.123543698340654,
          7.3229492816106605
         ]
        },
        {
         "line": {
          "color": "#8c8c8c"
         },
         "mode": "lines",
         "name": "Neutral",
         "type": "scatter",
         "x": [
          0,
          1,
          2,
          3,
          4,
          5,
          6,
          7,
          8,
          9,
          10,
          11,
          12,
          13,
          14,
          15,
          16,
          17,
          18,
          19,
          20,
          21,
          22,
          23,
          24,
          25,
          26,
          27,
          28,
          29,
          30,
          31,
          32,
          33,
          34,
          35,
          36,
          37,
          38,
          39,
          40,
          41,
          42,
          43,
          44,
          45
         ],
         "y": [
          63.983693812042475,
          56.44921532521645,
          65.70772597290299,
          66.87296921836918,
          64.94760680342874,
          59.312209188938134,
          56.6733414249029,
          63.958463173670076,
          67.35359161488108,
          47.3744452119835,
          43.957068438176066,
          55.48980333006534,
          59.22167387812637,
          62.290119500282934,
          54.77852992946281,
          46.836417566078744,
          63.54048407477576,
          60.976262898184366,
          65.80670919360185,
          67.9559717739099,
          63.96711617708206,
          67.91388862408124,
          58.181469177915936,
          58.482504250934795,
          62.49891369500094,
          62.2042186150793,
          55.4257712032842,
          59.01167809676665,
          56.98920584380113,
          54.65830511623814,
          52.158022365502774,
          60.66163723927832,
          58.41675256689389,
          65.01358561217785,
          64.05386992863247,
          55.68313233151629,
          63.05715539737752,
          60.199726900706686,
          65.96762652043253,
          61.27423851026429,
          70.81010432448238,
          59.325542246155884,
          55.39802457331806,
          68.93053828355144,
          65.36104387470654,
          71.07794323358043
         ]
        },
        {
         "line": {
          "color": "#7fbf7f"
         },
         "mode": "lines",
         "name": "Positive",
         "type": "scatter",
         "x": [
          0,
          1,
          2,
          3,
          4,
          5,
          6,
          7,
          8,
          9,
          10,
          11,
          12,
          13,
          14,
          15,
          16,
          17,
          18,
          19,
          20,
          21,
          22,
          23,
          24,
          25,
          26,
          27,
          28,
          29,
          30,
          31,
          32,
          33,
          34,
          35,
          36,
          37,
          38,
          39,
          40,
          41,
          42,
          43,
          44,
          45
         ],
         "y": [
          15.649292708258145,
          22.289924967723586,
          17.21402566742014,
          18.16921312490414,
          16.423746593476785,
          22.758511669401614,
          23.31912416848354,
          17.266966309398413,
          17.153694746210366,
          18.270501683676436,
          18.19533371075522,
          14.131462209834119,
          18.534429384352162,
          19.501729714958106,
          19.210288842441514,
          24.505198205745703,
          13.636462774309443,
          14.923847094760276,
          13.778488385695509,
          13.756772234888844,
          16.167242121505172,
          16.170051482577737,
          15.420193860440381,
          15.803081883318923,
          18.672100781825268,
          15.820774112944491,
          21.363010496440292,
          14.069295388001663,
          20.745709718301377,
          22.299318904838255,
          20.752615009945245,
          20.428291234307952,
          21.358496015891433,
          20.275628385955795,
          19.405400148992026,
          22.97157249790994,
          19.500015377018013,
          20.764965183722474,
          16.23182947951136,
          22.474337314876415,
          16.297203037538566,
          19.827087064657142,
          22.435210886839275,
          11.308088980834274,
          18.6684005175318,
          13.75842097472271
         ]
        },
        {
         "line": {
          "color": "#2eb82e"
         },
         "mode": "lines",
         "name": "Very Positive",
         "type": "scatter",
         "x": [
          0,
          1,
          2,
          3,
          4,
          5,
          6,
          7,
          8,
          9,
          10,
          11,
          12,
          13,
          14,
          15,
          16,
          17,
          18,
          19,
          20,
          21,
          22,
          23,
          24,
          25,
          26,
          27,
          28,
          29,
          30,
          31,
          32,
          33,
          34,
          35,
          36,
          37,
          38,
          39,
          40,
          41,
          42,
          43,
          44,
          45
         ],
         "y": [
          6.918511640833458,
          8.83759181383842,
          6.502338677118705,
          7.881167970983119,
          8.027511074080042,
          5.874102158372158,
          12.761442605915363,
          7.875305341763629,
          7.955072165114453,
          10.069393376339107,
          18.233446933154482,
          8.550473400511038,
          12.070469385511133,
          11.430887244504822,
          16.7076762591023,
          13.207176249046382,
          6.310125447883521,
          7.1583865709544625,
          9.470958746799337,
          5.112973217374498,
          11.311081524724392,
          8.147719724384398,
          12.351524150220767,
          12.206649035844649,
          11.551775664944824,
          11.26124283473473,
          12.935324076955258,
          7.78915258602072,
          10.532073321720135,
          11.908690412078172,
          12.729608148126111,
          10.52149646021726,
          8.318202518858016,
          9.225075038985404,
          9.458277270397437,
          10.593831245913297,
          9.305123820300459,
          9.19376551044277,
          9.155635329352663,
          12.463866508591712,
          6.1617846937224385,
          8.650321842801265,
          9.60455163463799,
          5.930394310202888,
          7.75374958491219,
          5.106350565369337
         ]
        }
       ],
       "layout": {
        "template": {
         "data": {
          "bar": [
           {
            "error_x": {
             "color": "#2a3f5f"
            },
            "error_y": {
             "color": "#2a3f5f"
            },
            "marker": {
             "line": {
              "color": "white",
              "width": 0.5
             },
             "pattern": {
              "fillmode": "overlay",
              "size": 10,
              "solidity": 0.2
             }
            },
            "type": "bar"
           }
          ],
          "barpolar": [
           {
            "marker": {
             "line": {
              "color": "white",
              "width": 0.5
             },
             "pattern": {
              "fillmode": "overlay",
              "size": 10,
              "solidity": 0.2
             }
            },
            "type": "barpolar"
           }
          ],
          "carpet": [
           {
            "aaxis": {
             "endlinecolor": "#2a3f5f",
             "gridcolor": "#C8D4E3",
             "linecolor": "#C8D4E3",
             "minorgridcolor": "#C8D4E3",
             "startlinecolor": "#2a3f5f"
            },
            "baxis": {
             "endlinecolor": "#2a3f5f",
             "gridcolor": "#C8D4E3",
             "linecolor": "#C8D4E3",
             "minorgridcolor": "#C8D4E3",
             "startlinecolor": "#2a3f5f"
            },
            "type": "carpet"
           }
          ],
          "choropleth": [
           {
            "colorbar": {
             "outlinewidth": 0,
             "ticks": ""
            },
            "type": "choropleth"
           }
          ],
          "contour": [
           {
            "colorbar": {
             "outlinewidth": 0,
             "ticks": ""
            },
            "colorscale": [
             [
              0,
              "#0d0887"
             ],
             [
              0.1111111111111111,
              "#46039f"
             ],
             [
              0.2222222222222222,
              "#7201a8"
             ],
             [
              0.3333333333333333,
              "#9c179e"
             ],
             [
              0.4444444444444444,
              "#bd3786"
             ],
             [
              0.5555555555555556,
              "#d8576b"
             ],
             [
              0.6666666666666666,
              "#ed7953"
             ],
             [
              0.7777777777777778,
              "#fb9f3a"
             ],
             [
              0.8888888888888888,
              "#fdca26"
             ],
             [
              1,
              "#f0f921"
             ]
            ],
            "type": "contour"
           }
          ],
          "contourcarpet": [
           {
            "colorbar": {
             "outlinewidth": 0,
             "ticks": ""
            },
            "type": "contourcarpet"
           }
          ],
          "heatmap": [
           {
            "colorbar": {
             "outlinewidth": 0,
             "ticks": ""
            },
            "colorscale": [
             [
              0,
              "#0d0887"
             ],
             [
              0.1111111111111111,
              "#46039f"
             ],
             [
              0.2222222222222222,
              "#7201a8"
             ],
             [
              0.3333333333333333,
              "#9c179e"
             ],
             [
              0.4444444444444444,
              "#bd3786"
             ],
             [
              0.5555555555555556,
              "#d8576b"
             ],
             [
              0.6666666666666666,
              "#ed7953"
             ],
             [
              0.7777777777777778,
              "#fb9f3a"
             ],
             [
              0.8888888888888888,
              "#fdca26"
             ],
             [
              1,
              "#f0f921"
             ]
            ],
            "type": "heatmap"
           }
          ],
          "heatmapgl": [
           {
            "colorbar": {
             "outlinewidth": 0,
             "ticks": ""
            },
            "colorscale": [
             [
              0,
              "#0d0887"
             ],
             [
              0.1111111111111111,
              "#46039f"
             ],
             [
              0.2222222222222222,
              "#7201a8"
             ],
             [
              0.3333333333333333,
              "#9c179e"
             ],
             [
              0.4444444444444444,
              "#bd3786"
             ],
             [
              0.5555555555555556,
              "#d8576b"
             ],
             [
              0.6666666666666666,
              "#ed7953"
             ],
             [
              0.7777777777777778,
              "#fb9f3a"
             ],
             [
              0.8888888888888888,
              "#fdca26"
             ],
             [
              1,
              "#f0f921"
             ]
            ],
            "type": "heatmapgl"
           }
          ],
          "histogram": [
           {
            "marker": {
             "pattern": {
              "fillmode": "overlay",
              "size": 10,
              "solidity": 0.2
             }
            },
            "type": "histogram"
           }
          ],
          "histogram2d": [
           {
            "colorbar": {
             "outlinewidth": 0,
             "ticks": ""
            },
            "colorscale": [
             [
              0,
              "#0d0887"
             ],
             [
              0.1111111111111111,
              "#46039f"
             ],
             [
              0.2222222222222222,
              "#7201a8"
             ],
             [
              0.3333333333333333,
              "#9c179e"
             ],
             [
              0.4444444444444444,
              "#bd3786"
             ],
             [
              0.5555555555555556,
              "#d8576b"
             ],
             [
              0.6666666666666666,
              "#ed7953"
             ],
             [
              0.7777777777777778,
              "#fb9f3a"
             ],
             [
              0.8888888888888888,
              "#fdca26"
             ],
             [
              1,
              "#f0f921"
             ]
            ],
            "type": "histogram2d"
           }
          ],
          "histogram2dcontour": [
           {
            "colorbar": {
             "outlinewidth": 0,
             "ticks": ""
            },
            "colorscale": [
             [
              0,
              "#0d0887"
             ],
             [
              0.1111111111111111,
              "#46039f"
             ],
             [
              0.2222222222222222,
              "#7201a8"
             ],
             [
              0.3333333333333333,
              "#9c179e"
             ],
             [
              0.4444444444444444,
              "#bd3786"
             ],
             [
              0.5555555555555556,
              "#d8576b"
             ],
             [
              0.6666666666666666,
              "#ed7953"
             ],
             [
              0.7777777777777778,
              "#fb9f3a"
             ],
             [
              0.8888888888888888,
              "#fdca26"
             ],
             [
              1,
              "#f0f921"
             ]
            ],
            "type": "histogram2dcontour"
           }
          ],
          "mesh3d": [
           {
            "colorbar": {
             "outlinewidth": 0,
             "ticks": ""
            },
            "type": "mesh3d"
           }
          ],
          "parcoords": [
           {
            "line": {
             "colorbar": {
              "outlinewidth": 0,
              "ticks": ""
             }
            },
            "type": "parcoords"
           }
          ],
          "pie": [
           {
            "automargin": true,
            "type": "pie"
           }
          ],
          "scatter": [
           {
            "fillpattern": {
             "fillmode": "overlay",
             "size": 10,
             "solidity": 0.2
            },
            "type": "scatter"
           }
          ],
          "scatter3d": [
           {
            "line": {
             "colorbar": {
              "outlinewidth": 0,
              "ticks": ""
             }
            },
            "marker": {
             "colorbar": {
              "outlinewidth": 0,
              "ticks": ""
             }
            },
            "type": "scatter3d"
           }
          ],
          "scattercarpet": [
           {
            "marker": {
             "colorbar": {
              "outlinewidth": 0,
              "ticks": ""
             }
            },
            "type": "scattercarpet"
           }
          ],
          "scattergeo": [
           {
            "marker": {
             "colorbar": {
              "outlinewidth": 0,
              "ticks": ""
             }
            },
            "type": "scattergeo"
           }
          ],
          "scattergl": [
           {
            "marker": {
             "colorbar": {
              "outlinewidth": 0,
              "ticks": ""
             }
            },
            "type": "scattergl"
           }
          ],
          "scattermapbox": [
           {
            "marker": {
             "colorbar": {
              "outlinewidth": 0,
              "ticks": ""
             }
            },
            "type": "scattermapbox"
           }
          ],
          "scatterpolar": [
           {
            "marker": {
             "colorbar": {
              "outlinewidth": 0,
              "ticks": ""
             }
            },
            "type": "scatterpolar"
           }
          ],
          "scatterpolargl": [
           {
            "marker": {
             "colorbar": {
              "outlinewidth": 0,
              "ticks": ""
             }
            },
            "type": "scatterpolargl"
           }
          ],
          "scatterternary": [
           {
            "marker": {
             "colorbar": {
              "outlinewidth": 0,
              "ticks": ""
             }
            },
            "type": "scatterternary"
           }
          ],
          "surface": [
           {
            "colorbar": {
             "outlinewidth": 0,
             "ticks": ""
            },
            "colorscale": [
             [
              0,
              "#0d0887"
             ],
             [
              0.1111111111111111,
              "#46039f"
             ],
             [
              0.2222222222222222,
              "#7201a8"
             ],
             [
              0.3333333333333333,
              "#9c179e"
             ],
             [
              0.4444444444444444,
              "#bd3786"
             ],
             [
              0.5555555555555556,
              "#d8576b"
             ],
             [
              0.6666666666666666,
              "#ed7953"
             ],
             [
              0.7777777777777778,
              "#fb9f3a"
             ],
             [
              0.8888888888888888,
              "#fdca26"
             ],
             [
              1,
              "#f0f921"
             ]
            ],
            "type": "surface"
           }
          ],
          "table": [
           {
            "cells": {
             "fill": {
              "color": "#EBF0F8"
             },
             "line": {
              "color": "white"
             }
            },
            "header": {
             "fill": {
              "color": "#C8D4E3"
             },
             "line": {
              "color": "white"
             }
            },
            "type": "table"
           }
          ]
         },
         "layout": {
          "annotationdefaults": {
           "arrowcolor": "#2a3f5f",
           "arrowhead": 0,
           "arrowwidth": 1
          },
          "autotypenumbers": "strict",
          "coloraxis": {
           "colorbar": {
            "outlinewidth": 0,
            "ticks": ""
           }
          },
          "colorscale": {
           "diverging": [
            [
             0,
             "#8e0152"
            ],
            [
             0.1,
             "#c51b7d"
            ],
            [
             0.2,
             "#de77ae"
            ],
            [
             0.3,
             "#f1b6da"
            ],
            [
             0.4,
             "#fde0ef"
            ],
            [
             0.5,
             "#f7f7f7"
            ],
            [
             0.6,
             "#e6f5d0"
            ],
            [
             0.7,
             "#b8e186"
            ],
            [
             0.8,
             "#7fbc41"
            ],
            [
             0.9,
             "#4d9221"
            ],
            [
             1,
             "#276419"
            ]
           ],
           "sequential": [
            [
             0,
             "#0d0887"
            ],
            [
             0.1111111111111111,
             "#46039f"
            ],
            [
             0.2222222222222222,
             "#7201a8"
            ],
            [
             0.3333333333333333,
             "#9c179e"
            ],
            [
             0.4444444444444444,
             "#bd3786"
            ],
            [
             0.5555555555555556,
             "#d8576b"
            ],
            [
             0.6666666666666666,
             "#ed7953"
            ],
            [
             0.7777777777777778,
             "#fb9f3a"
            ],
            [
             0.8888888888888888,
             "#fdca26"
            ],
            [
             1,
             "#f0f921"
            ]
           ],
           "sequentialminus": [
            [
             0,
             "#0d0887"
            ],
            [
             0.1111111111111111,
             "#46039f"
            ],
            [
             0.2222222222222222,
             "#7201a8"
            ],
            [
             0.3333333333333333,
             "#9c179e"
            ],
            [
             0.4444444444444444,
             "#bd3786"
            ],
            [
             0.5555555555555556,
             "#d8576b"
            ],
            [
             0.6666666666666666,
             "#ed7953"
            ],
            [
             0.7777777777777778,
             "#fb9f3a"
            ],
            [
             0.8888888888888888,
             "#fdca26"
            ],
            [
             1,
             "#f0f921"
            ]
           ]
          },
          "colorway": [
           "#636efa",
           "#EF553B",
           "#00cc96",
           "#ab63fa",
           "#FFA15A",
           "#19d3f3",
           "#FF6692",
           "#B6E880",
           "#FF97FF",
           "#FECB52"
          ],
          "font": {
           "color": "#2a3f5f"
          },
          "geo": {
           "bgcolor": "white",
           "lakecolor": "white",
           "landcolor": "white",
           "showlakes": true,
           "showland": true,
           "subunitcolor": "#C8D4E3"
          },
          "hoverlabel": {
           "align": "left"
          },
          "hovermode": "closest",
          "mapbox": {
           "style": "light"
          },
          "paper_bgcolor": "white",
          "plot_bgcolor": "white",
          "polar": {
           "angularaxis": {
            "gridcolor": "#EBF0F8",
            "linecolor": "#EBF0F8",
            "ticks": ""
           },
           "bgcolor": "white",
           "radialaxis": {
            "gridcolor": "#EBF0F8",
            "linecolor": "#EBF0F8",
            "ticks": ""
           }
          },
          "scene": {
           "xaxis": {
            "backgroundcolor": "white",
            "gridcolor": "#DFE8F3",
            "gridwidth": 2,
            "linecolor": "#EBF0F8",
            "showbackground": true,
            "ticks": "",
            "zerolinecolor": "#EBF0F8"
           },
           "yaxis": {
            "backgroundcolor": "white",
            "gridcolor": "#DFE8F3",
            "gridwidth": 2,
            "linecolor": "#EBF0F8",
            "showbackground": true,
            "ticks": "",
            "zerolinecolor": "#EBF0F8"
           },
           "zaxis": {
            "backgroundcolor": "white",
            "gridcolor": "#DFE8F3",
            "gridwidth": 2,
            "linecolor": "#EBF0F8",
            "showbackground": true,
            "ticks": "",
            "zerolinecolor": "#EBF0F8"
           }
          },
          "shapedefaults": {
           "line": {
            "color": "#2a3f5f"
           }
          },
          "ternary": {
           "aaxis": {
            "gridcolor": "#DFE8F3",
            "linecolor": "#A2B1C6",
            "ticks": ""
           },
           "baxis": {
            "gridcolor": "#DFE8F3",
            "linecolor": "#A2B1C6",
            "ticks": ""
           },
           "bgcolor": "white",
           "caxis": {
            "gridcolor": "#DFE8F3",
            "linecolor": "#A2B1C6",
            "ticks": ""
           }
          },
          "title": {
           "x": 0.05
          },
          "xaxis": {
           "automargin": true,
           "gridcolor": "#EBF0F8",
           "linecolor": "#EBF0F8",
           "ticks": "",
           "title": {
            "standoff": 15
           },
           "zerolinecolor": "#EBF0F8",
           "zerolinewidth": 2
          },
          "yaxis": {
           "automargin": true,
           "gridcolor": "#EBF0F8",
           "linecolor": "#EBF0F8",
           "ticks": "",
           "title": {
            "standoff": 15
           },
           "zerolinecolor": "#EBF0F8",
           "zerolinewidth": 2
          }
         }
        },
        "title": {
         "text": "Sentiment Over Time"
        },
        "xaxis": {
         "title": {
          "text": "Time"
         }
        },
        "yaxis": {
         "title": {
          "text": "Percentage (%)"
         }
        }
       }
      }
     },
     "metadata": {},
     "output_type": "display_data"
    }
   ],
   "source": [
    "# Data preparation\n",
    "sentiments = [\"Very Negative\", \"Negative\", \"Neutral\", \"Positive\", \"Very Positive\"]\n",
    "percentages = avgSentimentPcts\n",
    "colors = [\"#ff4d4d\", \"#ff8c8c\", \"#8c8c8c\", \"#7fbf7f\", \"#2eb82e\"]\n",
    "\n",
    "# Create the bar chart\n",
    "barChart = go.Figure(data=[\n",
    "    go.Bar(\n",
    "        x=sentiments,\n",
    "        y=percentages,\n",
    "        marker_color=colors,\n",
    "        text=[f'{p}%' for p in percentages],\n",
    "        textposition='auto',\n",
    "    )\n",
    "])\n",
    "\n",
    "barChart.update_layout(\n",
    "    title='Average FOMC Sentiment Distribution',\n",
    "    xaxis_title='Sentiment',\n",
    "    yaxis_title='Percentage (%)',\n",
    "    yaxis_range=[0, 100],\n",
    "    template='plotly_white',\n",
    "    bargap=0.2\n",
    ")\n",
    "\n",
    "barChart.show()\n",
    "\n",
    "#####\n",
    "\n",
    "# Create the line chart with 5 different lines for each sentiment\n",
    "lineChart = go.Figure()\n",
    "\n",
    "for i, sentiment in enumerate(sentiments):\n",
    "    lineChart.add_scatter(\n",
    "        x=list(range(len(sentimentProbs[sentiment]))),\n",
    "        y=[p * 100 for p in sentimentProbs[sentiment]],\n",
    "        mode='lines',\n",
    "        name=sentiment,\n",
    "        line=dict(color=colors[i])\n",
    "    )\n",
    "\n",
    "lineChart.update_layout(\n",
    "    title='Sentiment Over Time',\n",
    "    xaxis_title='Time',\n",
    "    yaxis_title='Percentage (%)',\n",
    "    template='plotly_white'\n",
    ")\n",
    "\n",
    "lineChart.show()"
   ]
  },
  {
   "cell_type": "markdown",
   "metadata": {},
   "source": [
    "---\n",
    "# [Summarization](#Project-Description)\n",
    "\n",
    "Falconsai's text_summarization used via pipeline:\n",
    "\n",
    "Modified to be chunked for longer input texts\n",
    "\n",
    "Please wait 14 - 18 minutes\n",
    "\n",
    "---"
   ]
  },
  {
   "cell_type": "code",
   "execution_count": 15,
   "metadata": {},
   "outputs": [],
   "source": [
    "summarizer = pipeline(model=\"Falconsai/text_summarization\", device=device)\n",
    "\n",
    "# Function written by Claude 3.5 Sonnet (New) to allow the pipeline to handle longer input text\n",
    "def summarize_long_text(text, summarizer, max_length_div, min_length_div, max_chunk_size):\n",
    "\t\"\"\"\n",
    "\tSummarize long text by breaking it into chunks and combining summaries.\n",
    "\t\"\"\"\n",
    "\t# Clean text\n",
    "\ttext = text.replace('\\n', ' ').strip()\n",
    "\t\n",
    "\t# Split into chunks\n",
    "\tchunks = chunk_text(text, max_chunk_size)\n",
    "\tchunkLen = len(chunks)\n",
    "\tmax_length = chunkLen // max_length_div\n",
    "\tmin_length = chunkLen // min_length_div\n",
    "\n",
    "\t# Summarize each chunk\n",
    "\tchunk_summaries = []\n",
    "\tfor chunk in chunks:\n",
    "\t\ttry:\n",
    "\t\t\tresult = summarizer(chunk, max_length=max_length, min_length=min_length) # Pipeline from Hugging Face\n",
    "\t\t\tchunk_summaries.append(result[0]['summary_text'])\n",
    "\t\texcept Exception as e:\n",
    "\t\t\tprint(f\"Error processing chunk: {e}\")\n",
    "\t\t\tcontinue\n",
    "\t\n",
    "\t# Combine chunk summaries by appending them\n",
    "\tif len(chunks) == 1:\n",
    "\t\treturn chunk_summaries[0]\n",
    "\telse:\n",
    "\t\t# For multiple chunks, append the summaries together\n",
    "\t\tcombined_summary = ' '.join(chunk_summaries)\n",
    "\t\treturn combined_summary\n",
    "\n",
    "for txt in textDict:\n",
    "\ttry:\n",
    "\t\tlength = len(textDict[txt])\n",
    "\t\tsummary = summarize_long_text(\n",
    "\t\t\ttext=textDict[txt],\n",
    "\t\t\tsummarizer=summarizer,\n",
    "\t\t\tmax_length_div=2, \t# divisor of chunk\n",
    "\t\t\tmin_length_div=4, \t# divisor of chunk\n",
    "\t\t\tmax_chunk_size=256\t# Adjust based on model's token limit\n",
    "\t\t)\n",
    "\t\tif not os.path.exists(SUMMARY_DIR):\n",
    "\t\t\tos.makedirs(SUMMARY_DIR)\n",
    "\t\twith open(os.path.join(SUMMARY_DIR, txt), \"w+\") as summary_file:\n",
    "\t\t\tsummary_file.write(f\"File: {txt}\\nSummary: {summary}\\n\")\n",
    "\texcept Exception as e:\n",
    "\t\tprint(f\"Error processing {txt}: {e}\")"
   ]
  },
  {
   "cell_type": "markdown",
   "metadata": {},
   "source": [
    "List compression rate of summaries\n",
    "\n",
    "Written by Claude 3.5 Sonnet (New)\n",
    "\n",
    "Modified by myself"
   ]
  },
  {
   "cell_type": "code",
   "execution_count": 32,
   "metadata": {},
   "outputs": [
    {
     "name": "stdout",
     "output_type": "stream",
     "text": [
      "FOMCpresconf20190130.txt: 44387 -> 2096 (characters) | Compression: 95.28%\n",
      "FOMCpresconf20190320.txt: 42111 -> 1827 (characters) | Compression: 95.66%\n",
      "FOMCpresconf20190501.txt: 37670 -> 1424 (characters) | Compression: 96.22%\n",
      "FOMCpresconf20190619.txt: 40790 -> 1693 (characters) | Compression: 95.85%\n",
      "FOMCpresconf20190731.txt: 42756 -> 1916 (characters) | Compression: 95.52%\n",
      "FOMCpresconf20190918.txt: 49051 -> 2637 (characters) | Compression: 94.62%\n",
      "FOMCpresconf20191030.txt: 44764 -> 2017 (characters) | Compression: 95.49%\n",
      "FOMCpresconf20191211.txt: 50162 -> 2634 (characters) | Compression: 94.75%\n",
      "FOMCpresconf20200129.txt: 52787 -> 2828 (characters) | Compression: 94.64%\n",
      "FOMCpresconf20200429.txt: 44014 -> 1696 (characters) | Compression: 96.15%\n",
      "FOMCpresconf20200610.txt: 56502 -> 3267 (characters) | Compression: 94.22%\n",
      "FOMCpresconf20200729.txt: 54908 -> 2999 (characters) | Compression: 94.54%\n",
      "FOMCpresconf20200916.txt: 60597 -> 3729 (characters) | Compression: 93.85%\n",
      "FOMCpresconf20201105.txt: 46599 -> 2344 (characters) | Compression: 94.97%\n",
      "FOMCpresconf20201216.txt: 56927 -> 3237 (characters) | Compression: 94.31%\n",
      "FOMCpresconf20210127.txt: 52132 -> 2589 (characters) | Compression: 95.03%\n",
      "FOMCpresconf20210317.txt: 57186 -> 3492 (characters) | Compression: 93.89%\n",
      "FOMCpresconf20210428.txt: 54392 -> 3302 (characters) | Compression: 93.93%\n",
      "FOMCpresconf20210616.txt: 57872 -> 3422 (characters) | Compression: 94.09%\n",
      "FOMCpresconf20210728.txt: 53011 -> 2967 (characters) | Compression: 94.40%\n",
      "FOMCpresconf20210922.txt: 51111 -> 2794 (characters) | Compression: 94.53%\n",
      "FOMCpresconf20211103.txt: 53542 -> 2991 (characters) | Compression: 94.41%\n",
      "FOMCpresconf20211215.txt: 59105 -> 3625 (characters) | Compression: 93.87%\n",
      "FOMCpresconf20220126.txt: 52753 -> 2786 (characters) | Compression: 94.72%\n",
      "FOMCpresconf20220316.txt: 49974 -> 2664 (characters) | Compression: 94.67%\n",
      "FOMCpresconf20220504.txt: 45055 -> 1958 (characters) | Compression: 95.65%\n",
      "FOMCpresconf20220615.txt: 52615 -> 2941 (characters) | Compression: 94.41%\n",
      "FOMCpresconf20220727.txt: 53449 -> 2977 (characters) | Compression: 94.43%\n",
      "FOMCpresconf20220921.txt: 39946 -> 1716 (characters) | Compression: 95.70%\n",
      "FOMCpresconf20221102.txt: 43266 -> 1879 (characters) | Compression: 95.66%\n",
      "FOMCpresconf20221214.txt: 43363 -> 1807 (characters) | Compression: 95.83%\n",
      "FOMCpresconf20230201.txt: 43410 -> 1799 (characters) | Compression: 95.86%\n",
      "FOMCpresconf20230322.txt: 43017 -> 1791 (characters) | Compression: 95.84%\n",
      "FOMCpresconf20230503.txt: 48230 -> 2300 (characters) | Compression: 95.23%\n",
      "FOMCpresconf20230614.txt: 48843 -> 2297 (characters) | Compression: 95.30%\n",
      "FOMCpresconf20230726.txt: 51493 -> 2781 (characters) | Compression: 94.60%\n",
      "FOMCpresconf20230920.txt: 53597 -> 2869 (characters) | Compression: 94.65%\n",
      "FOMCpresconf20231101.txt: 50673 -> 2527 (characters) | Compression: 95.01%\n",
      "FOMCpresconf20231213.txt: 43891 -> 2027 (characters) | Compression: 95.38%\n",
      "FOMCpresconf20240131.txt: 50889 -> 2500 (characters) | Compression: 95.09%\n",
      "FOMCpresconf20240320.txt: 44982 -> 2135 (characters) | Compression: 95.25%\n",
      "FOMCpresconf20240501.txt: 47836 -> 2299 (characters) | Compression: 95.19%\n",
      "FOMCpresconf20240612.txt: 52102 -> 2691 (characters) | Compression: 94.84%\n",
      "fomcpresconf20240731.txt: 46832 -> 2190 (characters) | Compression: 95.32%\n",
      "FOMCpresconf20240918.txt: 48017 -> 2195 (characters) | Compression: 95.43%\n",
      "FOMCpresconf20241107.txt: 41431 -> 1461 (characters) | Compression: 96.47%\n"
     ]
    }
   ],
   "source": [
    "# Get list of original and summary files\n",
    "original_files = [f for f in os.listdir(TEXT_DIR) if f.endswith('.txt')]\n",
    "summary_files = [f for f in os.listdir(SUMMARY_DIR) if f.endswith('.txt')]\n",
    "\n",
    "# Initialize a list to store compression results\n",
    "compression_results = []\n",
    "\n",
    "# Function to read file content with error handling\n",
    "def read_file_content(file_path):\n",
    "    try:\n",
    "        with open(file_path, 'r', encoding='utf-8') as file:\n",
    "            return file.read()\n",
    "    except UnicodeDecodeError:\n",
    "        with open(file_path, 'r', encoding='ISO-8859-1') as file:  # Fallback encoding\n",
    "            return file.read()\n",
    "\n",
    "# Compare lengths and calculate compression percentage\n",
    "for original_file in original_files:\n",
    "\toriginal_path = os.path.join(TEXT_DIR, original_file)\n",
    "\tsummary_path = os.path.join(SUMMARY_DIR, original_file)\n",
    "\n",
    "\t# Check if summary file exists\n",
    "\tif original_file in summary_files:\n",
    "\t\toriginal_content = read_file_content(original_path)\n",
    "\t\tsummary_content = read_file_content(summary_path)\n",
    "\n",
    "\t\toriginal_length = len(original_content)\n",
    "\t\tsummary_length = len(summary_content)\n",
    "\n",
    "\t\t# Calculate compression percentage\n",
    "\t\tcompression_percent = ((original_length - summary_length) / original_length) * 100\n",
    "\t\tcompression_results.append({\n",
    "\t\t\t\"file\": original_file,\n",
    "\t\t\t\"original_length\": original_length,\n",
    "\t\t\t\"summary_length\": summary_length,\n",
    "\t\t\t\"compression_percent\": compression_percent\n",
    "\t\t})\n",
    "\n",
    "# Display results\n",
    "for result in compression_results:\n",
    "    print(f\"{result['file']}: {result['original_length']} -> {result['summary_length']} (characters) | Compression: {result['compression_percent']:.2f}%\")"
   ]
  },
  {
   "cell_type": "markdown",
   "metadata": {},
   "source": [
    "---\n",
    "# [Question Answering](#Project-Description)\n",
    "\n",
    "consciousAI's question answering used via pipeline:\n",
    "\n",
    "Ask a question to see how the FOMC's answer changes over time\n",
    "\n",
    "Please wait 8 - 12 minutes\n",
    "\n",
    "---"
   ]
  },
  {
   "cell_type": "code",
   "execution_count": 12,
   "metadata": {},
   "outputs": [
    {
     "data": {
      "application/vnd.jupyter.widget-view+json": {
       "model_id": "c640bb3a120b4761b91a1b5ac98b86db",
       "version_major": 2,
       "version_minor": 0
      },
      "text/plain": [
       "config.json:   0%|          | 0.00/782 [00:00<?, ?B/s]"
      ]
     },
     "metadata": {},
     "output_type": "display_data"
    },
    {
     "name": "stderr",
     "output_type": "stream",
     "text": [
      "c:\\Users\\drew1\\AppData\\Local\\Programs\\Python\\Python310\\lib\\site-packages\\huggingface_hub\\file_download.py:157: UserWarning:\n",
      "\n",
      "`huggingface_hub` cache-system uses symlinks by default to efficiently store duplicated files but your machine does not support them in C:\\Users\\drew1\\.cache\\huggingface\\hub\\models--consciousAI--question-answering-roberta-base-s-v2. Caching files will still work but in a degraded version that might require more space on your disk. This warning can be disabled by setting the `HF_HUB_DISABLE_SYMLINKS_WARNING` environment variable. For more details, see https://huggingface.co/docs/huggingface_hub/how-to-cache#limitations.\n",
      "To support symlinks on Windows, you either need to activate Developer Mode or to run Python as an administrator. In order to see activate developer mode, see this article: https://docs.microsoft.com/en-us/windows/apps/get-started/enable-your-device-for-development\n",
      "\n"
     ]
    },
    {
     "data": {
      "application/vnd.jupyter.widget-view+json": {
       "model_id": "eac84c864cf342f2a4d5a5ee512670ec",
       "version_major": 2,
       "version_minor": 0
      },
      "text/plain": [
       "model.safetensors:   0%|          | 0.00/496M [00:00<?, ?B/s]"
      ]
     },
     "metadata": {},
     "output_type": "display_data"
    },
    {
     "data": {
      "application/vnd.jupyter.widget-view+json": {
       "model_id": "b7f135dfa2124f17854b9cecfef95090",
       "version_major": 2,
       "version_minor": 0
      },
      "text/plain": [
       "tokenizer_config.json:   0%|          | 0.00/1.58k [00:00<?, ?B/s]"
      ]
     },
     "metadata": {},
     "output_type": "display_data"
    },
    {
     "data": {
      "application/vnd.jupyter.widget-view+json": {
       "model_id": "872eddcb58d945b38a371d94f7532cd9",
       "version_major": 2,
       "version_minor": 0
      },
      "text/plain": [
       "vocab.json:   0%|          | 0.00/798k [00:00<?, ?B/s]"
      ]
     },
     "metadata": {},
     "output_type": "display_data"
    },
    {
     "data": {
      "application/vnd.jupyter.widget-view+json": {
       "model_id": "8e628c85e3f244b98346c944c0303142",
       "version_major": 2,
       "version_minor": 0
      },
      "text/plain": [
       "merges.txt:   0%|          | 0.00/456k [00:00<?, ?B/s]"
      ]
     },
     "metadata": {},
     "output_type": "display_data"
    },
    {
     "data": {
      "application/vnd.jupyter.widget-view+json": {
       "model_id": "e3c2f56945eb44ac9c223ffcba08bf8f",
       "version_major": 2,
       "version_minor": 0
      },
      "text/plain": [
       "tokenizer.json:   0%|          | 0.00/2.11M [00:00<?, ?B/s]"
      ]
     },
     "metadata": {},
     "output_type": "display_data"
    },
    {
     "data": {
      "application/vnd.jupyter.widget-view+json": {
       "model_id": "3b69c7ea192548bba86aeadc31cc4c46",
       "version_major": 2,
       "version_minor": 0
      },
      "text/plain": [
       "special_tokens_map.json:   0%|          | 0.00/957 [00:00<?, ?B/s]"
      ]
     },
     "metadata": {},
     "output_type": "display_data"
    },
    {
     "name": "stdout",
     "output_type": "stream",
     "text": [
      "What is the current rate of inflation? \n",
      "\n",
      "01/30/2019: 78.02%:\t2 percent\n",
      "03/20/2019: 94.14%:\tclose to target\n",
      "05/01/2019: 95.72%:\tbelow 2 percent\n",
      "06/19/2019: 73.59%:\t4 percent\n",
      "07/31/2019: 97.87%:\t2 percent\n",
      "09/18/2019: 79.84%:\t2 percent\n",
      "10/30/2019: 95.18%:\t1.5 to 1.75 percent\n",
      "12/11/2019: 95.29%:\t2 percent\n",
      "01/29/2020: 83.9%:\t2 percent\n",
      "04/29/2020: 7.65%:\tin the third quarter\n",
      "06/10/2020: 91.33%:\tnear zero\n",
      "07/29/2020: 69.38%:\twell below our symmetric 2 percent\n",
      "09/16/2020: 98.99%:\t2 percent\n",
      "11/05/2020: 60.98%:\tbelow 2 percent\n",
      "12/16/2020: 90.23%:\t2 percent\n",
      "01/27/2021: 94.61%:\t2 percent\n",
      "03/17/2021: 91.4%:\t2 percent\n",
      "04/28/2021: 93.93%:\tbelow 2 percent\n",
      "06/16/2021: 96.24%:\t8.4 percent\n",
      "07/28/2021: 88.93%:\tabove 2 percent\n",
      "09/22/2021: 88.98%:\t2 percent\n",
      "11/03/2021: 50.37%:\thigher inflation\n",
      "12/15/2021: 93.15%:\t5.7 percent\n",
      "01/26/2022: 96.7%:\t2 percent\n",
      "03/16/2022: 99.07%:\t4.3 percent\n",
      "05/04/2022: 97.26%:\t2 to 3 percent\n",
      "06/15/2022: 99.14%:\twell above our goal\n",
      "07/27/2022: 99.82%:\t3\n",
      "09/21/2022: 97.54%:\t2 percent\n",
      "11/02/2022: 88.81%:\t2 percent\n",
      "12/14/2022: 87.92%:\t 2 percent\n",
      "02/01/2023: 98.16%:\t2 percent\n",
      "03/22/2023: 97.71%:\t2 percent\n",
      "05/03/2023: 97.92%:\t2 percent\n",
      "06/14/2023: 98.3%:\t 2 percent\n",
      "07/26/2023: 96.55%:\t2 percent\n",
      "09/20/2023: 97.68%:\t2 percent\n",
      "11/01/2023: 96.7%:\t2 percent\n",
      "12/13/2023: 89.22%:\t2 percent\n",
      "01/31/2024: 86.58%:\t2 percent\n",
      "03/20/2024: 98.76%:\t2 percent\n",
      "05/01/2024: 97.78%:\tbelow 3 percent\n",
      "06/12/2024: 98.81%:\t2 percent\n",
      "07/31/2024: 91.69%:\tbelow 2 percent\n",
      "09/18/2024: 96.82%:\t2 percent\n",
      "11/07/2024: 98.57%:\t2 percent\n",
      "Mean: 89.51%\n",
      "Standard Deviation: 15.93%\n",
      "Variance: 2.54%\n",
      "Standard Error: 2.35%\n"
     ]
    }
   ],
   "source": [
    "questAns = pipeline(model=\"consciousAI/question-answering-roberta-base-s-v2\", device=device)\n",
    "\t\t\t\t\t\t\t\t\t\t\t\t\t\t\t\t#Avg Question Quality\n",
    "#question=\"What is the current status of the economy? \"\t\t\t#57.97%\n",
    "#question=\"What is the future of the economy going to be? \"\t\t#44.17%\n",
    "question=\"What is the current rate of inflation? \" \t\t\t\t#89.51% \t#useful question and high quality rating\n",
    "#question=\"What is the status of the stock market? \" \t\t\t#25.63%\n",
    "#question=\"What have been the main economic concerns lately? \" \t#65.54%\n",
    "#question=\"What are the key decisions being made today? \" \t\t#51.64%\n",
    "#question=\"What is the current federal funds rate? \"\t\t\t#73.75%\n",
    "#question=\"How long until the quantitative easing ends? \"\t\t#48.38%\n",
    "#question=\"How much debt is the government in? \"\t\t\t\t#12.43% \t#useful question but low quality rating\n",
    "#question=\"How many Americans are unemployed? \"\t\t\t\t\t#66.61%\n",
    "#question=\"What is the best news from this meeting? \"\t\t\t#55.04%\n",
    "#question=\"What time of day is it? \"\t\t\t\t\t\t\t#78.1% \t\t#non-useful question but high quality rating\n",
    "#question=\"What color is my underwear? \"\t\t\t\t\t\t#16.05% \t#non-useful question and low quality rating\n",
    "print(question)\n",
    "print()\n",
    "scoreArray = []\n",
    "for file in textDict:\n",
    "    answer \t= questAns(question=question, context=textDict[file])\n",
    "    date \t= file[12:20]\n",
    "    year \t= date[0:4]\n",
    "    month \t= date[4:6]\n",
    "    day \t= date[6:8]\n",
    "    print(f\"{month}/{day}/{year}: {round(answer['score'] * 100, 2)}%:\\t\", end=\"\")\n",
    "    scoreArray.append(answer['score'])\n",
    "    answer = re.sub(r'\\n', ' ', answer['answer'])\n",
    "    print(f\"{answer}\")\n",
    "\n",
    "npScoreArray = np.array(scoreArray)\n",
    "mean = np.mean(npScoreArray)\n",
    "variance = np.var(npScoreArray)\n",
    "std_dev = np.std(npScoreArray)\n",
    "std_err = std_dev/np.sqrt(len(npScoreArray))\n",
    "\n",
    "print(f\"Mean: {mean:.2%}\")\n",
    "print(f\"Standard Deviation: {std_dev:.2%}\")\n",
    "print(f\"Variance: {variance:.2%}\")\n",
    "print(f\"Standard Error: {std_err:.2%}\")"
   ]
  }
 ],
 "metadata": {
  "kernelspec": {
   "display_name": "Python 3 (ipykernel)",
   "language": "python",
   "name": "python3"
  },
  "language_info": {
   "codemirror_mode": {
    "name": "ipython",
    "version": 3
   },
   "file_extension": ".py",
   "mimetype": "text/x-python",
   "name": "python",
   "nbconvert_exporter": "python",
   "pygments_lexer": "ipython3",
   "version": "3.11.9"
  }
 },
 "nbformat": 4,
 "nbformat_minor": 4
}
