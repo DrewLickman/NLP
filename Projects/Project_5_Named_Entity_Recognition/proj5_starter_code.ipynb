{
 "cells": [
  {
   "cell_type": "markdown",
   "id": "a7cdef41-3485-495c-9361-172cd74aeabb",
   "metadata": {},
   "source": [
    "# BERT Named Entity Recognition Fine Tuning Project Starter Code\n",
    "### Dr. Sal Barbosa, Department of Computer Science, Middle Tennessee State University"
   ]
  },
  {
   "cell_type": "code",
   "execution_count": null,
   "id": "b23c7ff9-6894-4417-98e3-f743546e6d14",
   "metadata": {},
   "outputs": [],
   "source": [
    "# Required on TAMU FASTER to be able to pip install packages and download the dataset from Hugging Face\n",
    "import os\n",
    "os.environ['http_proxy'] = 'http://10.72.8.25:8080'\n",
    "os.environ['https_proxy'] = 'http://10.72.8.25:8080'"
   ]
  },
  {
   "cell_type": "code",
   "execution_count": null,
   "id": "30529efd-2c95-45db-98e5-1d9d87c95c03",
   "metadata": {},
   "outputs": [],
   "source": [
    "# pip installs - comment out after running the notebook for the first time\n",
    "!pip install datasets\n",
    "!pip install evaluate\n",
    "!pip install seqeval\n",
    "!pip install accelerate==0.26.1"
   ]
  },
  {
   "cell_type": "code",
   "execution_count": null,
   "id": "8f508615-b7a1-4962-ad3c-298ede099e08",
   "metadata": {},
   "outputs": [],
   "source": [
    "import torch\n",
    "from transformers import AutoModelForTokenClassification, AutoTokenizer, Trainer, TrainingArguments\n",
    "from datasets import load_dataset, DatasetDict, Sequence, ClassLabel\n",
    "import numpy as np\n",
    "import evaluate\n",
    "from collections import Counter"
   ]
  },
  {
   "cell_type": "code",
   "execution_count": null,
   "id": "d9030258-084f-44ff-ae21-0321302ffeaa",
   "metadata": {},
   "outputs": [],
   "source": [
    "# Load the CONLL-2003 NER dataset\n",
    "dataset = load_dataset(\"conll2003\")\n",
    "\n",
    "# Remove columns not used in this code\n",
    "dataset = dataset.remove_columns(['id', 'pos_tags', 'chunk_tags'])\n",
    "dataset"
   ]
  },
  {
   "cell_type": "code",
   "execution_count": null,
   "id": "3041a113-2e7d-4691-be22-30b79bef7078",
   "metadata": {},
   "outputs": [],
   "source": [
    "# Get and display the NER tag list for the dataset\n",
    "label_list = dataset[\"train\"].features[\"ner_tags\"].feature.names\n",
    "\n",
    "print(\"Label list:\", label_list)"
   ]
  },
  {
   "cell_type": "code",
   "execution_count": null,
   "id": "40342865-4e3e-4616-8b76-8a5f212e05bd",
   "metadata": {},
   "outputs": [],
   "source": [
    "# Load the BERT cased model\n",
    "model_checkpoint = \"bert-base-cased\"\n",
    "tokenizer = AutoTokenizer.from_pretrained(model_checkpoint)\n",
    "model = AutoModelForTokenClassification.from_pretrained(model_checkpoint, num_labels=len(label_list))\n"
   ]
  },
  {
   "cell_type": "code",
   "execution_count": null,
   "id": "066a7e95-313b-4374-acfa-eeb617a403f5",
   "metadata": {},
   "outputs": [],
   "source": [
    "# Tokenization and tag distribution function\n",
    "def tokenize_and_distribute_tags(examples):\n",
    "    tokenized_inputs = tokenizer(\n",
    "        examples[\"tokens\"],\n",
    "        truncation=True,\n",
    "        is_split_into_words=True,\n",
    "        padding='max_length',\n",
    "        max_length=128\n",
    "    )\n",
    "\n",
    "    labels = []\n",
    "    for i, label in enumerate(examples[\"ner_tags\"]):\n",
    "        word_ids = tokenized_inputs.word_ids(batch_index=i)\n",
    "        label_ids = [-100 if word_id is None else label[word_id] for word_id in word_ids]\n",
    "        #print(f\"Tag List: {label_list}\\n\\nTokens: {examples['tokens'][0]}\\n\\nTokenized: {tokenized_inputs.tokens(batch_index=i)} \\\n",
    "        #\\n\\nTags: {label}\\n\\nTokenized word ids: {word_ids}\\n\\nDistributed tags: {label_ids}\")\n",
    "        #input()\n",
    "        labels.append(label_ids)\n",
    "\n",
    "    tokenized_inputs[\"labels\"] = labels\n",
    "    return tokenized_inputs\n",
    "\n",
    "# Apply the tokenization function to the dataset\n",
    "tokenized_datasets = dataset.map(tokenize_and_distribute_tags, batched=True)"
   ]
  },
  {
   "cell_type": "code",
   "execution_count": null,
   "id": "1aa3111c-00ed-4f91-a0dd-87859c4fe4bf",
   "metadata": {},
   "outputs": [],
   "source": [
    "# Metric fucntion\n",
    "metric = evaluate.load(\"seqeval\")\n",
    "\n",
    "def compute_metrics(p):\n",
    "    predictions, labels = p\n",
    "    predictions = np.argmax(predictions, axis=2)\n",
    "\n",
    "    true_labels = \\\n",
    "        [ [label_list[label] for label in label_seq if label != -100] for label_seq in labels ]\n",
    "    model_predictions = \\\n",
    "        [ [label_list[pred] for (pred, label) in zip(pred_seq, label_seq) if label != -100] for pred_seq, label_seq in zip(predictions, labels) ]\n",
    "\n",
    "    results = metric.compute(predictions=model_predictions, references=true_labels)\n",
    "    return {\n",
    "        \"precision\": results[\"overall_precision\"],\n",
    "        \"recall\": results[\"overall_recall\"],\n",
    "        \"f1\": results[\"overall_f1\"],\n",
    "        \"accuracy\": results[\"overall_accuracy\"],\n",
    "    }\n"
   ]
  },
  {
   "cell_type": "code",
   "execution_count": null,
   "id": "62951229-e1b6-4094-8c5d-b60e0f4620c2",
   "metadata": {},
   "outputs": [],
   "source": [
    "# Set training arguments\n",
    "batch_size = 64\n",
    "epochs = 1\n",
    "\n",
    "training_args = TrainingArguments(\n",
    "    output_dir=\"./results\",\n",
    "    evaluation_strategy=\"epoch\",\n",
    "    learning_rate=2e-5,\n",
    "    per_device_train_batch_size=batch_size,\n",
    "    per_device_eval_batch_size=batch_size,\n",
    "    num_train_epochs=epochs,\n",
    "    weight_decay=0.01,\n",
    "    logging_dir='./logs',\n",
    "    logging_steps=10,\n",
    "    save_strategy=\"epoch\",\n",
    "    push_to_hub=False,\n",
    "    report_to=\"none\",\n",
    ")\n",
    "\n",
    "# Instantiate trainer\n",
    "trainer = Trainer(\n",
    "    model=model,\n",
    "    args=training_args,\n",
    "    train_dataset=tokenized_datasets[\"train\"],\n",
    "    eval_dataset=tokenized_datasets[\"validation\"],\n",
    "    tokenizer=tokenizer,\n",
    "    compute_metrics=compute_metrics,\n",
    ")\n"
   ]
  },
  {
   "cell_type": "code",
   "execution_count": null,
   "id": "8e9373f6-87c5-4c94-b2c1-a37e0a604a7e",
   "metadata": {},
   "outputs": [],
   "source": [
    "# Train the model\n",
    "trainer.train()\n",
    "\n",
    "# Evaluate the model\n",
    "results = trainer.evaluate()\n",
    "print(\"Evaluation Results:\", results)"
   ]
  },
  {
   "cell_type": "code",
   "execution_count": null,
   "id": "97522582-7de3-4fd4-adbc-8084d21595c8",
   "metadata": {},
   "outputs": [],
   "source": [
    "# Make predictions on the test set\n",
    "predictions = trainer.predict(tokenized_datasets[\"test\"])\n",
    "pred_labels = np.argmax(predictions.predictions, axis=2)\n",
    "true_labels = predictions.label_ids"
   ]
  },
  {
   "cell_type": "code",
   "execution_count": null,
   "id": "ac6f07e7-5bfe-4d4c-9bf7-a4568d88eedc",
   "metadata": {},
   "outputs": [],
   "source": []
  }
 ],
 "metadata": {
  "kernelspec": {
   "display_name": "Python 3 (ipykernel)",
   "language": "python",
   "name": "python3"
  },
  "language_info": {
   "codemirror_mode": {
    "name": "ipython",
    "version": 3
   },
   "file_extension": ".py",
   "mimetype": "text/x-python",
   "name": "python",
   "nbconvert_exporter": "python",
   "pygments_lexer": "ipython3",
   "version": "3.11.7"
  }
 },
 "nbformat": 4,
 "nbformat_minor": 5
}
