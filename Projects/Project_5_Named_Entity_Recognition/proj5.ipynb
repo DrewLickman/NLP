{
 "cells": [
  {
   "cell_type": "markdown",
   "id": "c94a727b",
   "metadata": {},
   "source": [
    "Drew Lickman\n",
    "\n",
    "CSCI 4820-1\n",
    "\n",
    "Project #5\n",
    "\n",
    "Due: 11/19/24"
   ]
  },
  {
   "cell_type": "markdown",
   "id": "a7cdef41-3485-495c-9361-172cd74aeabb",
   "metadata": {},
   "source": [
    "# BERT Named Entity Recognition Fine Tuning Project Starter Code\n",
    "### Dr. Sal Barbosa, Department of Computer Science, Middle Tennessee State University"
   ]
  },
  {
   "cell_type": "code",
   "execution_count": 1,
   "id": "b23c7ff9-6894-4417-98e3-f743546e6d14",
   "metadata": {},
   "outputs": [],
   "source": [
    "# Required on TAMU FASTER to be able to pip install packages and download the dataset from Hugging Face\n",
    "import os\n",
    "os.environ['http_proxy'] = 'http://10.72.8.25:8080'\n",
    "os.environ['https_proxy'] = 'http://10.72.8.25:8080'"
   ]
  },
  {
   "cell_type": "code",
   "execution_count": 2,
   "id": "30529efd-2c95-45db-98e5-1d9d87c95c03",
   "metadata": {
    "scrolled": true
   },
   "outputs": [],
   "source": [
    "# pip installs - comment out after running the notebook for the first time\n",
    "#!pip install datasets\n",
    "#!pip install evaluate\n",
    "#!pip install seqeval\n",
    "#!pip install accelerate==0.26.1"
   ]
  },
  {
   "cell_type": "code",
   "execution_count": 3,
   "id": "8f508615-b7a1-4962-ad3c-298ede099e08",
   "metadata": {},
   "outputs": [
    {
     "name": "stderr",
     "output_type": "stream",
     "text": [
      "2024-11-15 19:38:13.909881: I tensorflow/core/util/port.cc:111] oneDNN custom operations are on. You may see slightly different numerical results due to floating-point round-off errors from different computation orders. To turn them off, set the environment variable `TF_ENABLE_ONEDNN_OPTS=0`.\n",
      "2024-11-15 19:38:13.949904: E tensorflow/compiler/xla/stream_executor/cuda/cuda_dnn.cc:9342] Unable to register cuDNN factory: Attempting to register factory for plugin cuDNN when one has already been registered\n",
      "2024-11-15 19:38:13.949938: E tensorflow/compiler/xla/stream_executor/cuda/cuda_fft.cc:609] Unable to register cuFFT factory: Attempting to register factory for plugin cuFFT when one has already been registered\n",
      "2024-11-15 19:38:13.949963: E tensorflow/compiler/xla/stream_executor/cuda/cuda_blas.cc:1518] Unable to register cuBLAS factory: Attempting to register factory for plugin cuBLAS when one has already been registered\n",
      "2024-11-15 19:38:13.957250: I tensorflow/core/platform/cpu_feature_guard.cc:182] This TensorFlow binary is optimized to use available CPU instructions in performance-critical operations.\n",
      "To enable the following instructions: AVX2 AVX512F AVX512_VNNI FMA, in other operations, rebuild TensorFlow with the appropriate compiler flags.\n",
      "2024-11-15 19:38:15.018365: W tensorflow/compiler/tf2tensorrt/utils/py_utils.cc:38] TF-TRT Warning: Could not find TensorRT\n"
     ]
    }
   ],
   "source": [
    "import torch\n",
    "from transformers import AutoModelForTokenClassification, AutoTokenizer, Trainer, TrainingArguments\n",
    "from datasets import load_dataset, DatasetDict, Sequence, ClassLabel\n",
    "import numpy as np\n",
    "import evaluate\n",
    "from collections import Counter"
   ]
  },
  {
   "cell_type": "code",
   "execution_count": 4,
   "id": "d9030258-084f-44ff-ae21-0321302ffeaa",
   "metadata": {},
   "outputs": [
    {
     "data": {
      "text/plain": [
       "DatasetDict({\n",
       "    train: Dataset({\n",
       "        features: ['tokens', 'ner_tags'],\n",
       "        num_rows: 14041\n",
       "    })\n",
       "    validation: Dataset({\n",
       "        features: ['tokens', 'ner_tags'],\n",
       "        num_rows: 3250\n",
       "    })\n",
       "    test: Dataset({\n",
       "        features: ['tokens', 'ner_tags'],\n",
       "        num_rows: 3453\n",
       "    })\n",
       "})"
      ]
     },
     "execution_count": 4,
     "metadata": {},
     "output_type": "execute_result"
    }
   ],
   "source": [
    "# Load the CONLL-2003 NER dataset\n",
    "dataset = load_dataset(\"conll2003\")\n",
    "\n",
    "# Remove columns not used in this code\n",
    "dataset = dataset.remove_columns(['id', 'pos_tags', 'chunk_tags'])\n",
    "dataset"
   ]
  },
  {
   "cell_type": "code",
   "execution_count": 5,
   "id": "3041a113-2e7d-4691-be22-30b79bef7078",
   "metadata": {},
   "outputs": [
    {
     "name": "stdout",
     "output_type": "stream",
     "text": [
      "Label list: ['O', 'B-MPER', 'I-MPER', 'B-ORG', 'I-ORG', 'B-LOC', 'I-LOC', 'B-MISC', 'I-MISC', 'B-FPER', 'I-FPER']\n"
     ]
    }
   ],
   "source": [
    "# Get and display the NER tag list for the dataset\n",
    "label_list = dataset[\"train\"].features[\"ner_tags\"].feature.names\n",
    "\n",
    "# Rename PERSON labels to MALE labels\n",
    "label_list[1] = 'B-MPER'\n",
    "label_list[2] = 'I-MPER'\n",
    "\n",
    "# Append FEMALE labels at end of label list\n",
    "label_list.append('B-FPER')\n",
    "label_list.append('I-FPER')\n",
    "\n",
    "print(\"Label list:\", label_list)"
   ]
  },
  {
   "cell_type": "code",
   "execution_count": 6,
   "id": "40342865-4e3e-4616-8b76-8a5f212e05bd",
   "metadata": {},
   "outputs": [
    {
     "name": "stderr",
     "output_type": "stream",
     "text": [
      "/home/u.al234966/.local/lib/python3.11/site-packages/huggingface_hub/file_download.py:797: FutureWarning: `resume_download` is deprecated and will be removed in version 1.0.0. Downloads always resume when possible. If you want to force a new download, use `force_download=True`.\n",
      "  warnings.warn(\n",
      "Some weights of BertForTokenClassification were not initialized from the model checkpoint at bert-base-cased and are newly initialized: ['classifier.weight', 'classifier.bias']\n",
      "You should probably TRAIN this model on a down-stream task to be able to use it for predictions and inference.\n"
     ]
    }
   ],
   "source": [
    "# Load the BERT cased model\n",
    "model_checkpoint = \"bert-base-cased\"\n",
    "tokenizer = AutoTokenizer.from_pretrained(model_checkpoint)\n",
    "model = AutoModelForTokenClassification.from_pretrained(model_checkpoint, num_labels=len(label_list))"
   ]
  },
  {
   "cell_type": "code",
   "execution_count": 1,
   "id": "89b56bf5-d3e0-41eb-adc2-bab03c12e51a",
   "metadata": {},
   "outputs": [],
   "source": [
    "def isShortNonsense(token):\n",
    "    # Removes tokens such as \"M.\" \"S.\" \"R.\" etc. from being male or female\n",
    "    if len(token) == 2 and token[-1] == '.':\n",
    "        return True\n",
    "    return False\n",
    "\n",
    "# Some names came from https://nameberry.com/blog/the-most-popular-baby-name-endings 11/15/24\n",
    "femaleWhole = (\"Taha\", \"Olga\", \"Inga\")\n",
    "femaleBeginnings = (\"van\", \"alic\", \"lore\", \"bell\", \"lie\", \"chiq\", \"duf\", \"yas\", \"may\", \"kimi\", \"joha\", \"ili\", \"luo\", \"viv\", \"hill\", \"muse\", \"min\", \"marg\", \"till\")\n",
    "femaleEndings = (\"ati\", \"issa\", \"iew\", \"issy\", \"ino\", \"ata\", \"ene\", \"si\", \"az\", \"lao\", \"izio\", \"uki\", \"ise\", \"ova\", \"oin\", \"ria\", \"ata\", \"anne\", \"drea\", \"ayla\", \"essa\", \"her\", \"anna\", \"ana\", \"ette\", \"etta\", \"elle\", \"ella\", \"ina\", \"yah\", \"iah\", \"lyn\", \"icia\", \"rie\", \"ora\", \"lie\", \"thy\", \"atie\", \"rude\", \"lia\", \"lla\", \"enna\", \"ine\", \"ani\", \"ola\", \"een\", \"ahi\", \"kie\", \"ane\", \"ahu\", \"ara\", \"ari\", \"mbe\", \"pta\", \"ady\", \"ie\", \"ary\", \"xa\")\n",
    "def is_female_name(token):\n",
    "    # Uses algorithmic approach to assign gender tag and returns boolean\n",
    "    result = False\n",
    "    #if any(token.lower().endswith(ending) for ending in femaleEndings):\n",
    "    if token.lower().endswith(femaleEndings):\n",
    "        result = True\n",
    "    #elif any(token.lower().startswith(start) for start in femaleBeginnings):\n",
    "    elif token.lower().startswith(femaleBeginnings):\n",
    "        result = True\n",
    "    elif token in femaleWhole:\n",
    "        result = True\n",
    "    #if result: print(\"F:\",token)\n",
    "    return result\n",
    "\n",
    "maleWhole = (\"Jimi\", \"Levy\", \"Anders\", \"Nick\", \"Kenny\", \"Roy\", \"Alex\", \"Shen\", \"Costas\", \"Dan\", \"Hal\", \"Tom\", \"Ken\", \"Daniel\", \"Ian\")\n",
    "maleBeginnings = (\"man\", \"simo\", \"gar\", \"hunt\", \"cor\", \"hel\", \"will\", \"mick\", \"con\", \"sal\", \"ric\", \"phi\", \"terr\", \"bru\", \"pete\", \"shay\", \"wern\", \"nikol\", \"fisch\", \"skandal\", \"stef\", \"benj\", \"rabi\", \"must\", \"per\", \"core\", \"dal\", \"gor\", \"pav\", \"coop\", \"ross\", \"car\", \"kaz\", \"bor\", \"asl\", \"bert\", \"cli\", \"stev\", \"pres\", \"berr\", \"greg\")\n",
    "maleEndings = (\"tien\", \"man\", \"mann\", \"tr\", \"ung\", \"aul\", \"rty\", \"ldo\", \"ver\", \"gos\", \"olas\", \"cott\", \"ard\", \"rco\", \"dict\", \"udan\", \"mut\", \"rnd\", \"vis\", \"ael\", \"yne\", \"ng\", \"ick\", \"oud\", \"ard\", \"onan\", \"kel\", \"ayne\", \"git\", \"eer\", \"son\", \"ank\", \"unk\", \"ion\", \"oey\", \"mes\", \"ll\", \"than\", \"hn\", \"rick\", \"tn\", \"eg\", \"nley\", \"uce\", \"ndon\", \"osh\", \"ony\", \"even\", \"odd\", \"drix\", \"ang\", \"vid\", \"yahu\", \"san\", \"afat\", \"abil\", \"anz\", \"ain\", \"itris\", \"rner\", \"hael\", \"rtin\", \"taq\", \"eed\", \"haq\", \"asim\", \"mad\", \"ncan\", \"aig\", \"nto\", \"vich\", \"od\", \"mon\", \"der\", \"rad\", \"ting\", \"bert\", \"imis\", \"ran\", \"ark\", \"dul\", \"uy\", \"ippe\", \"mas\", \"nus\", \"cil\", \"vey\", \"los\", \"nup\", \"van\", \"uel\", \"ff\", \"rim\", \"pras\", \"dric\", \"uck\", \"ox\", \"vit\", \"jon\", \"ron\", \"rian\", \"ton\", \"dam\", \"rri\", \"sky\", \"fez\", \"mar\", \"sad\", \"tin\", \"usz\", \"qar\", \"rto\", \"ory\")\n",
    "def is_male_name(token):\n",
    "\t# Uses algorithmic approach to assign gender tag and returns boolean\n",
    "\tresult = False\n",
    "\tif any(token.endswith(ending) for ending in maleEndings):\n",
    "\t\tresult = True\n",
    "\telif any(token.startsWith(start) for start in maleBeginnings):\n",
    "\t\tresult = True\n",
    "\telif token in maleWhole:\n",
    "\t\tresult = True\n",
    "\tif result: print(token)\n",
    "\treturn result\n",
    "\n",
    "def chooseGender(femResult, maleResult):\n",
    "\t# If I use weights (instead of booleans), I can compare\n",
    "\tresult = femResult - maleResult\n",
    "\tif result >= 0:\n",
    "\t\treturn \"Female\"\n",
    "\telse:\n",
    "\t\treturn \"Male\"\n"
   ]
  },
  {
   "cell_type": "code",
   "execution_count": 2,
   "id": "066a7e95-313b-4374-acfa-eeb617a403f5",
   "metadata": {},
   "outputs": [
    {
     "ename": "NameError",
     "evalue": "name 'dataset' is not defined",
     "output_type": "error",
     "traceback": [
      "\u001b[1;31m---------------------------------------------------------------------------\u001b[0m",
      "\u001b[1;31mNameError\u001b[0m                                 Traceback (most recent call last)",
      "Cell \u001b[1;32mIn[2], line 47\u001b[0m\n\u001b[0;32m     44\u001b[0m \t\u001b[38;5;28;01mreturn\u001b[39;00m tokenized_inputs\n\u001b[0;32m     46\u001b[0m \u001b[38;5;66;03m# Apply the tokenization function to the dataset\u001b[39;00m\n\u001b[1;32m---> 47\u001b[0m tokenized_datasets \u001b[38;5;241m=\u001b[39m \u001b[43mdataset\u001b[49m\u001b[38;5;241m.\u001b[39mmap(tokenize_and_distribute_tags, batched\u001b[38;5;241m=\u001b[39m\u001b[38;5;28;01mTrue\u001b[39;00m)\n",
      "\u001b[1;31mNameError\u001b[0m: name 'dataset' is not defined"
     ]
    }
   ],
   "source": [
    "# Tokenization and tag distribution function\n",
    "def tokenize_and_distribute_tags(examples):\n",
    "\ttokenized_inputs = tokenizer(\n",
    "\t\texamples[\"tokens\"],\n",
    "\t\ttruncation=True,\n",
    "\t\tis_split_into_words=True,\n",
    "\t\tpadding='max_length',\n",
    "\t\tmax_length=128\n",
    "\t)\n",
    "\n",
    "\tlabels = []\n",
    "\tfor i, label in enumerate(examples[\"ner_tags\"]):\n",
    "\t\tword_ids = tokenized_inputs.word_ids(batch_index=i)\n",
    "\n",
    "\t\t# For loop written by Claude 3.5 Sonnet\n",
    "\t\t# It iterates through all the example tokens and classifies it as female or male\n",
    "\t\tmodified_labels = []\n",
    "\t\tfor j, tag in enumerate(label):\n",
    "\t\t\tif (tag == 1 or tag == 2) and isShortNonsense(examples[\"tokens\"][i][j]):\t# Implemented by myself, Drew Lickman\n",
    "\t\t\t\tmodified_labels.append(tag)\n",
    "\t\t\telif tag == 1:\t# If it's a B-PERSON tag\n",
    "\t\t\t\t# Check the actual token using examples[\"tokens\"][i][j]\n",
    "\t\t\t\tif is_female_name(examples[\"tokens\"][i][j]):\t# Implemented by myself, Drew Lickman\n",
    "\t\t\t\t\tmodified_labels.append(9)\t# Convert B-PERSON to B-FPER index\n",
    "\t\t\t\telif is_male_name(examples[\"tokens\"][i][j]):\n",
    "\t\t\t\t\tmodified_labels.append(1)\t# Convert B-PERSON to B-MPER index\n",
    "\t\t\t\telse:\n",
    "\t\t\t\t\tprint(\"Unknown:\", examples[\"tokens\"][i][j])\n",
    "\t\t\t\t\tmodified_labels.append(tag)\n",
    "\t\t\telif tag == 2:\t# If it's an I-PERSON tag\t# Note: this might miss names split into more than 2 tokens\n",
    "\t\t\t\t# Keep the same type (MPER or FPER) as the previous B- tag\n",
    "\t\t\t\tif modified_labels[-1] == 9:\t# If previous was B-FPER\n",
    "\t\t\t\t\tmodified_labels.append(10)\t# I-FPER index\n",
    "\t\t\t\telse:\n",
    "\t\t\t\t\tmodified_labels.append(2)\t# I-MPER index\n",
    "\t\t\telse:\t# Not a person tag\n",
    "\t\t\t\tmodified_labels.append(tag)\n",
    "\n",
    "\t\tlabel_ids = [-100 if word_id is None else modified_labels[word_id] for word_id in word_ids]\n",
    "\t\t#label_ids = [-100 if word_id is None else label[word_id] for word_id in word_ids]\n",
    "\t\t#print(f\"Tag List: {label_list}\\n\\nTokens: {examples['tokens'][0]}\\n\\nTokenized: {tokenized_inputs.tokens(batch_index=i)} \\\n",
    "\t\t#\\n\\nTags: {label}\\n\\nTokenized word ids: {word_ids}\\n\\nDistributed tags: {label_ids}\")\n",
    "\t\t#input()\n",
    "\t\tlabels.append(label_ids)\n",
    "\n",
    "\ttokenized_inputs[\"labels\"] = labels\n",
    "\treturn tokenized_inputs\n",
    "\n",
    "# Apply the tokenization function to the dataset\n",
    "tokenized_datasets = dataset.map(tokenize_and_distribute_tags, batched=True)"
   ]
  },
  {
   "cell_type": "code",
   "execution_count": 11,
   "id": "1aa3111c-00ed-4f91-a0dd-87859c4fe4bf",
   "metadata": {},
   "outputs": [],
   "source": [
    "# Metric fucntion\n",
    "metric = evaluate.load(\"seqeval\")\n",
    "\n",
    "def compute_metrics(p):\n",
    "    predictions, labels = p\n",
    "    predictions = np.argmax(predictions, axis=2)\n",
    "\n",
    "    true_labels = \\\n",
    "        [ [label_list[label] for label in label_seq if label != -100] for label_seq in labels ]\n",
    "    model_predictions = \\\n",
    "        [ [label_list[pred] for (pred, label) in zip(pred_seq, label_seq) if label != -100] for pred_seq, label_seq in zip(predictions, labels) ]\n",
    "\n",
    "    results = metric.compute(predictions=model_predictions, references=true_labels)\n",
    "    return {\n",
    "        \"precision\": results[\"overall_precision\"],\n",
    "        \"recall\": results[\"overall_recall\"],\n",
    "        \"f1\": results[\"overall_f1\"],\n",
    "        \"accuracy\": results[\"overall_accuracy\"],\n",
    "    }\n"
   ]
  },
  {
   "cell_type": "code",
   "execution_count": 12,
   "id": "62951229-e1b6-4094-8c5d-b60e0f4620c2",
   "metadata": {},
   "outputs": [
    {
     "name": "stderr",
     "output_type": "stream",
     "text": [
      "Detected kernel version 4.18.0, which is below the recommended minimum of 5.5.0; this can cause the process to hang. It is recommended to upgrade the kernel to the minimum version or higher.\n"
     ]
    }
   ],
   "source": [
    "# Set training arguments\n",
    "batch_size = 64\n",
    "epochs = 1\n",
    "\n",
    "training_args = TrainingArguments(\n",
    "    output_dir=\"./results\",\n",
    "    evaluation_strategy=\"epoch\",\n",
    "    learning_rate=2e-5,\n",
    "    per_device_train_batch_size=batch_size,\n",
    "    per_device_eval_batch_size=batch_size,\n",
    "    num_train_epochs=epochs,\n",
    "    weight_decay=0.01,\n",
    "    logging_dir='./logs',\n",
    "    logging_steps=10,\n",
    "    save_strategy=\"epoch\",\n",
    "    push_to_hub=False,\n",
    "    report_to=\"none\",\n",
    ")\n",
    "\n",
    "# Instantiate trainer\n",
    "trainer = Trainer(\n",
    "    model=model,\n",
    "    args=training_args,\n",
    "    train_dataset=tokenized_datasets[\"train\"],\n",
    "    eval_dataset=tokenized_datasets[\"validation\"],\n",
    "    tokenizer=tokenizer,\n",
    "    compute_metrics=compute_metrics,\n",
    ")\n"
   ]
  },
  {
   "cell_type": "code",
   "execution_count": 13,
   "id": "8e9373f6-87c5-4c94-b2c1-a37e0a604a7e",
   "metadata": {},
   "outputs": [
    {
     "name": "stderr",
     "output_type": "stream",
     "text": [
      "You're using a BertTokenizerFast tokenizer. Please note that with a fast tokenizer, using the `__call__` method is faster than using a method to encode the text followed by a call to the `pad` method to get a padded encoding.\n"
     ]
    },
    {
     "data": {
      "text/html": [
       "\n",
       "    <div>\n",
       "      \n",
       "      <progress value='220' max='220' style='width:300px; height:20px; vertical-align: middle;'></progress>\n",
       "      [220/220 06:18, Epoch 1/1]\n",
       "    </div>\n",
       "    <table border=\"1\" class=\"dataframe\">\n",
       "  <thead>\n",
       " <tr style=\"text-align: left;\">\n",
       "      <th>Epoch</th>\n",
       "      <th>Training Loss</th>\n",
       "      <th>Validation Loss</th>\n",
       "      <th>Precision</th>\n",
       "      <th>Recall</th>\n",
       "      <th>F1</th>\n",
       "      <th>Accuracy</th>\n",
       "    </tr>\n",
       "  </thead>\n",
       "  <tbody>\n",
       "    <tr>\n",
       "      <td>1</td>\n",
       "      <td>0.171800</td>\n",
       "      <td>0.157322</td>\n",
       "      <td>0.786921</td>\n",
       "      <td>0.819912</td>\n",
       "      <td>0.803078</td>\n",
       "      <td>0.954634</td>\n",
       "    </tr>\n",
       "  </tbody>\n",
       "</table><p>"
      ],
      "text/plain": [
       "<IPython.core.display.HTML object>"
      ]
     },
     "metadata": {},
     "output_type": "display_data"
    },
    {
     "name": "stderr",
     "output_type": "stream",
     "text": [
      "Checkpoint destination directory ./results/checkpoint-220 already exists and is non-empty.Saving will proceed but saved results may be invalid.\n"
     ]
    },
    {
     "data": {
      "text/html": [],
      "text/plain": [
       "<IPython.core.display.HTML object>"
      ]
     },
     "metadata": {},
     "output_type": "display_data"
    },
    {
     "name": "stdout",
     "output_type": "stream",
     "text": [
      "Evaluation Results: {'eval_loss': 0.15732187032699585, 'eval_precision': 0.7869205583318973, 'eval_recall': 0.8199120208277224, 'eval_f1': 0.8030775994724116, 'eval_accuracy': 0.9546338302009073, 'eval_runtime': 32.414, 'eval_samples_per_second': 100.265, 'eval_steps_per_second': 1.573, 'epoch': 1.0}\n"
     ]
    }
   ],
   "source": [
    "# Train the model\n",
    "trainer.train()\n",
    "\n",
    "# Evaluate the model\n",
    "results = trainer.evaluate()\n",
    "print(\"Evaluation Results:\", results)"
   ]
  },
  {
   "cell_type": "code",
   "execution_count": 14,
   "id": "97522582-7de3-4fd4-adbc-8084d21595c8",
   "metadata": {},
   "outputs": [],
   "source": [
    "# Make predictions on the test set\n",
    "predictions = trainer.predict(tokenized_datasets[\"test\"])\n",
    "pred_labels = np.argmax(predictions.predictions, axis=2)\n",
    "true_labels = predictions.label_ids"
   ]
  }
 ],
 "metadata": {
  "kernelspec": {
   "display_name": "Python 3 (ipykernel)",
   "language": "python",
   "name": "python3"
  },
  "language_info": {
   "codemirror_mode": {
    "name": "ipython",
    "version": 3
   },
   "file_extension": ".py",
   "mimetype": "text/x-python",
   "name": "python",
   "nbconvert_exporter": "python",
   "pygments_lexer": "ipython3",
   "version": "3.11.9"
  }
 },
 "nbformat": 4,
 "nbformat_minor": 5
}
