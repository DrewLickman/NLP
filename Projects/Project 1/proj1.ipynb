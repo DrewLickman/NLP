{
 "cells": [
  {
   "cell_type": "markdown",
   "metadata": {},
   "source": [
    "Drew Lickman\\\n",
    "CSCI 4820-001\\\n",
    "Project #1\\\n",
    "Due: 9/9/24"
   ]
  },
  {
   "cell_type": "markdown",
   "metadata": {},
   "source": [
    "# Minimum Distance Edit Algorithm"
   ]
  },
  {
   "cell_type": "markdown",
   "metadata": {},
   "source": [
    "## Assignment Requirements:"
   ]
  },
  {
   "cell_type": "markdown",
   "metadata": {},
   "source": [
    "### Input\n",
    "---\n",
    "\n",
    "- [words.txt](words.txt) is the input, which holds **lowercase** sets of words on each line.\n",
    "    - The first word of each line is the <u>target</u>, and all the other words in the line are <u>source</u> words that will transform into the target\n",
    "- Sample input files\n",
    "    - [costs.csv](costs.csv) uses Levenshtein substitution costs\n",
    "    - [costs2.csv](costs2.csv) uses confusion matrix substitution costs\n",
    "\n",
    "### Processing\n",
    "---\n",
    "\n",
    "- Insertions and Deletions cost 1\n",
    "- Substitution costs are read from the costs.csv files\n",
    "- For each pair of source and target words, use the Minimum Edit Distance algorithm (using both cost methods)\n",
    "    - Then output the backtrace of operations (K I S D)\n",
    "    - Must be able to capture all possible sources for the minimum cost at each cell\n",
    "    - Randomly select one of the possible cells that provide the minimum cost\n",
    "    - Do NOT seed random number generator\n",
    "\n",
    "### Output\n",
    "---\n",
    "\n",
    "- 4 lines per method (costs and costs2)\n",
    "1. Source word\n",
    "2. Vertical bar for each operation per character\n",
    "3. Target word\n",
    "4. Operation for each character and sum of edit cost \n",
    "    - k = keep\n",
    "    - i = insert\n",
    "    - s = substitute\n",
    "    - d = delete\n",
    "- 50 hyphens will separate a pair of words from the next pair"
   ]
  },
  {
   "cell_type": "markdown",
   "metadata": {},
   "source": [
    "## Python Code"
   ]
  },
  {
   "cell_type": "code",
   "execution_count": 226,
   "metadata": {},
   "outputs": [
    {
     "name": "stdout",
     "output_type": "stream",
     "text": [
      "targets: ['mischievous', 'execute']\n",
      "sources: [['mischief', 'devious'], ['intention']]\n",
      "\n",
      "Targets with matching sources: \n",
      "['mischievous', ['mischief', 'devious']]\n",
      "['execute', ['intention']]\n"
     ]
    }
   ],
   "source": [
    "# This block of code processes words.txt and defines the targets and sources\n",
    "targets = []\n",
    "sources = []\n",
    "pairTargSources = []\n",
    "\n",
    "costsFile = \"costs.csv\"\n",
    "costs2File = \"costs2.csv\"\n",
    "costMethods = [costsFile, costs2File]\n",
    "\n",
    "# Read & save the target and source words from words.txt\n",
    "with open(\"words.txt\") as wordList:\n",
    "    lines = wordList.readlines()\n",
    "\n",
    "    for line in lines:\n",
    "        currentLine = line.split()      # Split the line into words\n",
    "        targets.append(currentLine[0])  # Target word is first in each line\n",
    "        sources.append(currentLine[1:]) # Source words are everything after the first word of the line\n",
    "                                        # Also, the [1:] saves it as an array, even if it's just one source word\n",
    "\n",
    "for i in range(len(targets)):\n",
    "    pairTargSources.append([targets[i], sources[i]]) # Explicitly pair the sources to their target\n",
    "\n",
    "print(\"targets:\", targets)\n",
    "print(\"sources:\", sources)\n",
    "print(\"\\nTargets with matching sources: \")\n",
    "for pair in pairTargSources:\n",
    "    print(pair)\n"
   ]
  },
  {
   "cell_type": "code",
   "execution_count": 227,
   "metadata": {},
   "outputs": [
    {
     "data": {
      "text/plain": [
       "118"
      ]
     },
     "execution_count": 227,
     "metadata": {},
     "output_type": "execute_result"
    }
   ],
   "source": [
    "# This block of code reads the CSV files and calculates the cost of substituting letters\n",
    "\n",
    "alphabet = {letter: index for index, letter in enumerate(\"abcdefghijklmnopqrstuvwxyz\")}\n",
    "substitutionCost = []\n",
    "# Function able to work with costs.csv and costs2.csv\n",
    "# Can improve by saving file first time it's read\n",
    "def readCostFromCSV(file):\n",
    "    with open(file) as costList:\n",
    "        costLines = costList.readlines()\n",
    "\n",
    "        for costLine in costLines:\n",
    "            currentCostLine = costLine.split(\",\") # Split each value by commas\n",
    "            substitutionCost.append(currentCostLine) # Save substitution cost to array, indexed by 2D alphabet\n",
    "        substitutionCost.pop(0) # Remove the first line of cost.csv\n",
    "\n",
    "        # Cleanup\n",
    "        for letter in substitutionCost:\n",
    "            letter.pop(0) # Remove the letter from each cost array\n",
    "            letter[-1].rstrip() # Remove the newlines  #I don't think this is working\n",
    "\n",
    "    # Accessible with alphabet dictionary\n",
    "    #print(substitutionCost[alphabet[\"k\"]][alphabet[\"z\"]])\n",
    "    return substitutionCost # Return the entire cost 2D array\n",
    "\n",
    "# Returns either Levenshtein cost or Confusion Matrix cost\n",
    "def getCostFromCSV(file, letter1, letter2):\n",
    "    cost = readCostFromCSV(file)\n",
    "    return int(cost[alphabet[letter1]][alphabet[letter2]]) # Calculate the specific substitution cost\n",
    "\n",
    "getCostFromCSV(costs2File, \"a\", \"i\") # \"a\" substitution TO \"i\" returns 118"
   ]
  },
  {
   "cell_type": "code",
   "execution_count": 228,
   "metadata": {},
   "outputs": [
    {
     "name": "stdout",
     "output_type": "stream",
     "text": [
      "9\n"
     ]
    }
   ],
   "source": [
    "file = costsFile\n",
    "operation = {\"keep\": 0, \"insert\": 1, \"delete\": 1, \"substitute\": getCostFromCSV(file, letter1=\"a\", letter2=\"b\")}\n",
    "\n",
    "print(operation[\"substitute\"])"
   ]
  },
  {
   "cell_type": "code",
   "execution_count": 240,
   "metadata": {},
   "outputs": [
    {
     "name": "stdout",
     "output_type": "stream",
     "text": [
      "m i s c h i e f \n",
      "| | | | | | | | | | | \n",
      "m i s c h i e v o u s \n",
      "k k k k k k k k k k k \n",
      "\n",
      "m i s c h i e f \n",
      "| | | | | | | | | | | \n",
      "m i s c h i e v o u s \n",
      "k k k k k k k k k k k \n",
      "\n",
      "--------------------------------------------------\n",
      "d e v i o u s \n",
      "| | | | | | | | | | | \n",
      "m i s c h i e v o u s \n",
      "k k k k k k k k k k k \n",
      "\n",
      "d e v i o u s \n",
      "| | | | | | | | | | | \n",
      "m i s c h i e v o u s \n",
      "k k k k k k k k k k k \n",
      "\n",
      "--------------------------------------------------\n",
      "i n t e n t i o n \n",
      "| | | | | | | \n",
      "e x e c u t e \n",
      "k k k k k k k \n",
      "\n",
      "i n t e n t i o n \n",
      "| | | | | | | \n",
      "e x e c u t e \n",
      "k k k k k k k \n",
      "\n",
      "--------------------------------------------------\n"
     ]
    }
   ],
   "source": [
    "# This block of code outputs the results of the targets and sources\n",
    "\n",
    "for pair in pairTargSources: # mischevious, execute\n",
    "    #print(\"TARGET: \", pair[0])\n",
    "\n",
    "    for sourceList in pair[1:]: # [mischief, devious], [intention]\n",
    "        #print(\"SOURCELIST: \", sourceList, end=\"\\n\")\n",
    "\n",
    "        for singleSource in sourceList: # mischief, devious\n",
    "            #print(\"SOURCE WORD: \", singleSource)\n",
    "\n",
    "            for costMethod in costMethods: # costsFile, costs2File\n",
    "                #print(\"Levenshtein\" if costMethod == costsFile else \"Confusion Matrix\")\n",
    "\n",
    "                for letter in singleSource: # print letters in source\n",
    "                    print(letter, \"\", end=\"\")\n",
    "                print()\n",
    "\n",
    "                for letter in pair[0]: # | times target length\n",
    "                    print(\"| \", end=\"\")\n",
    "                print()\n",
    "\n",
    "                for letter in pair[0]: # print letters in target\n",
    "                    print(letter, \"\", end=\"\")\n",
    "                print()\n",
    "\n",
    "                # MED Algo here?\n",
    "                for i in range(len(pair[0])):\n",
    "                    # If the letters are the same, print k for Keep\n",
    "                    #if (pair[0][i] == singleSource[i]) and (pair[0][i] is not None) and (singleSource[i] is not None):\n",
    "                        print(\"k \", end=\"\")\n",
    "                    #else:\n",
    "                    #   print(\"! \", end=\"\")\n",
    "\n",
    "\n",
    "                print(\"\\n\")\n",
    "\n",
    "            print(\"-\" * 50)\n",
    "\n",
    "\n",
    "#print(backtrace())"
   ]
  }
 ],
 "metadata": {
  "kernelspec": {
   "display_name": "Python 3",
   "language": "python",
   "name": "python3"
  },
  "language_info": {
   "codemirror_mode": {
    "name": "ipython",
    "version": 3
   },
   "file_extension": ".py",
   "mimetype": "text/x-python",
   "name": "python",
   "nbconvert_exporter": "python",
   "pygments_lexer": "ipython3",
   "version": "3.11.9"
  }
 },
 "nbformat": 4,
 "nbformat_minor": 2
}
