{
 "cells": [
  {
   "cell_type": "markdown",
   "metadata": {},
   "source": [
    "Drew Lickman\\\n",
    "CSCI 4820-001\\\n",
    "Project #1\\\n",
    "Due: 9/9/24"
   ]
  },
  {
   "cell_type": "markdown",
   "metadata": {},
   "source": [
    "# Minimum Distance Edit Algorithm"
   ]
  },
  {
   "cell_type": "markdown",
   "metadata": {},
   "source": [
    "## Assignment Requirements:"
   ]
  },
  {
   "cell_type": "markdown",
   "metadata": {},
   "source": [
    "### Input\n",
    "---\n",
    "\n",
    "- [words.txt](words.txt) is the input, which holds **lowercase** sets of words on each line.\n",
    "    - The first word of each line is the <u>target</u>, and all the other words in the line are <u>source</u> words that will transform into the target\n",
    "- Sample input files\n",
    "    - [costs.csv](costs.csv) uses Levenshtein substitution costs\n",
    "    - [costs2.csv](costs2.csv) uses confusion matrix substitution costs\n",
    "\n",
    "### Processing\n",
    "---\n",
    "\n",
    "- Insertions and Deletions cost 1\n",
    "- Substitution costs are read from the costs.csv files\n",
    "- For each pair of source and target words, use the Minimum Edit Distance algorithm (using both cost methods)\n",
    "    - Then output the backtrace of operations (K I S D)\n",
    "    - Must be able to capture all possible sources for the minimum cost at each cell\n",
    "    - Randomly select one of the possible cells that provide the minimum cost\n",
    "    - Do NOT seed random number generator\n",
    "\n",
    "### Output\n",
    "---\n",
    "\n",
    "- 4 lines per method (costs and costs2)\n",
    "1. Source word\n",
    "2. Vertical bar for each operation per character\n",
    "3. Target word\n",
    "4. Operation for each character and sum of edit cost \n",
    "    - k = keep\n",
    "    - i = insert\n",
    "    - s = substitute\n",
    "    - d = delete\n",
    "- 50 hyphens will separate a pair of words from the next pair"
   ]
  },
  {
   "cell_type": "markdown",
   "metadata": {},
   "source": [
    "## Python Code"
   ]
  },
  {
   "cell_type": "code",
   "execution_count": 61,
   "metadata": {},
   "outputs": [
    {
     "name": "stdout",
     "output_type": "stream",
     "text": [
      "targets: ['mischievous', 'execute']\n",
      "sources: [['mischief', 'devious'], ['intention']]\n"
     ]
    }
   ],
   "source": [
    "targets = []\n",
    "sources = []\n",
    "costs = open(\"costs.csv\")\n",
    "costs2 = open(\"costs2.csv\")\n",
    "\n",
    "# Read & save the target and source words from words.txt\n",
    "with open(\"words.txt\") as wordList:\n",
    "    lines = wordList.readlines()\n",
    "\n",
    "    for line in lines:\n",
    "        currentLine = line.split() #split the line into words\n",
    "        targets.append(currentLine[0]) #target word is first in each line\n",
    "        sources.append(currentLine[1:]) #source words are everything after the first word of the line\n",
    "                                        #also, the [1:] saves it as an array, even if it's just one source word\n",
    "\n",
    "print(\"targets:\", targets)\n",
    "print(\"sources:\", sources)\n"
   ]
  },
  {
   "cell_type": "code",
   "execution_count": null,
   "metadata": {},
   "outputs": [],
   "source": []
  }
 ],
 "metadata": {
  "kernelspec": {
   "display_name": "Python 3",
   "language": "python",
   "name": "python3"
  },
  "language_info": {
   "codemirror_mode": {
    "name": "ipython",
    "version": 3
   },
   "file_extension": ".py",
   "mimetype": "text/x-python",
   "name": "python",
   "nbconvert_exporter": "python",
   "pygments_lexer": "ipython3",
   "version": "3.11.9"
  }
 },
 "nbformat": 4,
 "nbformat_minor": 2
}
