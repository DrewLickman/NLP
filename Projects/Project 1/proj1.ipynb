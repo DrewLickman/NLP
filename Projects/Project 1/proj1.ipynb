{
 "cells": [
  {
   "cell_type": "markdown",
   "metadata": {},
   "source": [
    "Drew Lickman\\\n",
    "CSCI 4820-001\\\n",
    "Project #1\\\n",
    "Due: 9/9/24"
   ]
  },
  {
   "cell_type": "markdown",
   "metadata": {},
   "source": [
    "# Minimum Distance Edit Algorithm"
   ]
  },
  {
   "cell_type": "markdown",
   "metadata": {},
   "source": [
    "## Assignment Requirements:"
   ]
  },
  {
   "cell_type": "markdown",
   "metadata": {},
   "source": [
    "### Input\n",
    "---\n",
    "\n",
    "- [words.txt](words.txt) is the input, which holds **lowercase** sets of words on each line.\n",
    "    - The first word of each line is the <u>target</u>, and all the other words in the line are <u>source</u> words that will transform into the target\n",
    "- Sample input files\n",
    "    - [costs.csv](costs.csv) uses Levenshtein substitution costs\n",
    "    - [costs2.csv](costs2.csv) uses confusion matrix substitution costs\n",
    "\n",
    "### Processing\n",
    "---\n",
    "\n",
    "- Insertions and Deletions cost 1\n",
    "- Substitution costs are read from the costs.csv files\n",
    "- For each pair of source and target words, use the Minimum Edit Distance algorithm (using both cost methods)\n",
    "    - Then output the backtrace of operations (K I S D)\n",
    "    - Must be able to capture all possible sources for the minimum cost at each cell\n",
    "    - Randomly select one of the possible cells that provide the minimum cost\n",
    "    - Do NOT seed random number generator\n",
    "\n",
    "### Output\n",
    "---\n",
    "\n",
    "- 4 lines per method (costs and costs2)\n",
    "1. Source word\n",
    "2. Vertical bar for each operation per character\n",
    "3. Target word\n",
    "4. Operation for each character and sum of edit cost \n",
    "    - k = keep\n",
    "    - i = insert\n",
    "    - s = substitute\n",
    "    - d = delete\n",
    "- 50 hyphens will separate a pair of words from the next pair"
   ]
  },
  {
   "cell_type": "markdown",
   "metadata": {},
   "source": [
    "## Python Code"
   ]
  },
  {
   "cell_type": "code",
   "execution_count": 113,
   "metadata": {},
   "outputs": [
    {
     "name": "stdout",
     "output_type": "stream",
     "text": [
      "targets: ['mischievous', 'execution', 'tagctatcacgaccgcggtcgatttgcccgac']\n",
      "sources: [['mischief', 'devious'], ['intention'], ['aggctatcacctgacctccaggccgatgccc']]\n",
      "\n",
      "Targets with matching sources: \n",
      "['mischievous', ['mischief', 'devious']]\n",
      "['execution', ['intention']]\n",
      "['tagctatcacgaccgcggtcgatttgcccgac', ['aggctatcacctgacctccaggccgatgccc']]\n"
     ]
    }
   ],
   "source": [
    "# This block of code processes words.txt and defines the targets and sources\n",
    "targets = []\n",
    "sources = []\n",
    "pairTargSources = []\n",
    "\n",
    "costsFile = \"costs.csv\"\n",
    "costs2File = \"costs2.csv\"\n",
    "costMethods = [costsFile, costs2File]\n",
    "\n",
    "# Read & save the target and source words from words.txt\n",
    "with open(\"words.txt\") as wordList:\n",
    "    lines = wordList.readlines()\n",
    "\n",
    "    for line in lines:\n",
    "        currentLine = line.split()      # Split the line into words\n",
    "        targets.append(currentLine[0])  # Target word is first in each line\n",
    "        sources.append(currentLine[1:]) # Source words are everything after the first word of the line\n",
    "                                        # Also, the [1:] saves it as an array, even if it's just one source word\n",
    "\n",
    "for row in range(len(targets)):\n",
    "    pairTargSources.append([targets[row], sources[row]]) # Explicitly pair the sources to their target\n",
    "\n",
    "print(\"targets:\", targets)\n",
    "print(\"sources:\", sources)\n",
    "print(\"\\nTargets with matching sources: \")\n",
    "for pair in pairTargSources:\n",
    "    print(pair)\n"
   ]
  },
  {
   "cell_type": "code",
   "execution_count": 114,
   "metadata": {},
   "outputs": [
    {
     "name": "stdout",
     "output_type": "stream",
     "text": [
      "costsCSV a -> i:  2\n",
      "costs2CSV a -> i:  118\n"
     ]
    }
   ],
   "source": [
    "# This block of code reads the CSV files and calculates the cost of substituting letters\n",
    "\n",
    "alphabet = {letter: index for index, letter in enumerate(\"abcdefghijklmnopqrstuvwxyz\")}\n",
    "substitutionCost = []\n",
    "substitutionCost2 = []\n",
    "# Function able to work with costs.csv and costs2.csv (not working, doing manual override)\n",
    "# Can improve by saving file first time it's read\n",
    "def readCostFromCSV(file, substitutionTable):\n",
    "    with open(file) as costList:\n",
    "        costLines = costList.readlines()\n",
    "\n",
    "        for costLine in costLines:\n",
    "            currentCostLine = costLine.split(\",\") # Split each value by commas\n",
    "            substitutionTable.append(currentCostLine) # Save substitution cost to array, indexed by 2D alphabet\n",
    "        substitutionTable.pop(0) # Remove the first line of cost.csv\n",
    "\n",
    "        # Cleanup\n",
    "        for letter in substitutionTable:\n",
    "            letter.pop(0) # Remove the letter from each cost array\n",
    "            #letter[-1].rstrip() # Remove the newlines  #I don't think this is working\n",
    "\n",
    "    # Accessible with alphabet dictionary\n",
    "    #print(substitutionCost[alphabet[\"a\"]][alphabet[\"i\"]])\n",
    "    return substitutionTable # Return the entire cost 2D array\n",
    "\n",
    "costsCSV = readCostFromCSV(costsFile, substitutionCost)\n",
    "costs2CSV = readCostFromCSV(costs2File, substitutionCost2) #Manual, since it's only two methods\n",
    "\n",
    "# Returns either Levenshtein cost or Confusion Matrix cost\n",
    "def getCostFromCSV(csv, letter1, letter2):\n",
    "    #print(\"costsCSV table: \", costsCSV)\n",
    "    #print(\"costs2CSV table: \", costs2CSV)\n",
    "    #print()\n",
    "    intCost = int(csv[alphabet[letter1]][alphabet[letter2]]) # Calculate the specific substitution cost\n",
    "    return intCost\n",
    "\n",
    "print(\"costsCSV a -> i: \", getCostFromCSV(costsCSV, \"a\", \"i\")) # \"a\" substitution TO \"i\" returns 2\n",
    "print(\"costs2CSV a -> i: \", getCostFromCSV(costs2CSV, \"a\", \"i\")) # \"a\" substitution TO \"i\" returns 118\n"
   ]
  },
  {
   "cell_type": "code",
   "execution_count": 115,
   "metadata": {},
   "outputs": [
    {
     "name": "stdout",
     "output_type": "stream",
     "text": [
      "Substitution:  2\n"
     ]
    }
   ],
   "source": [
    "# Helper function\n",
    "\n",
    "def operation(string, file, letter1, letter2):\n",
    "    match(string):\n",
    "        case \"keep\":\n",
    "            return 0\n",
    "        case \"insert\":\n",
    "            return 1\n",
    "        case \"delete\":\n",
    "            return 1\n",
    "        case \"substitute\":\n",
    "            if (file is not None) and (letter1 is not None) and (letter2 is not None):\n",
    "                return getCostFromCSV(file, letter1, letter2)\n",
    "            return -100\n",
    "        case _:\n",
    "            return -200\n",
    "\n",
    "print(\"Substitution: \", operation(\"substitute\", costsCSV, \"a\", \"i\")) #debug"
   ]
  },
  {
   "cell_type": "code",
   "execution_count": 130,
   "metadata": {},
   "outputs": [
    {
     "name": "stdout",
     "output_type": "stream",
     "text": [
      "      m  i  s  c  h  i  e  v  o  u  s  \n",
      "   0  1  2  3  4  5  6  7  8  9 10 11\n",
      "m  1  0  1  2  3  4  5  6  7  8  9 10\n",
      "i  2  1  0  1  2  3  4  5  6  7  8  9\n",
      "s  3  2  1  0  1  2  3  4  5  6  7  8\n",
      "c  4  3  2  1  0  1  2  3  4  5  6  7\n",
      "h  5  4  3  2  1  0  1  2  3  4  5  6\n",
      "i  6  5  4  3  2  1  0  1  2  3  4  5\n",
      "e  7  6  5  4  3  2  1  0  1  2  3  4\n",
      "f  8  7  6  5  4  3  2  1  2  3  4  5\n"
     ]
    },
    {
     "data": {
      "text/plain": [
       "5"
      ]
     },
     "execution_count": 130,
     "metadata": {},
     "output_type": "execute_result"
    }
   ],
   "source": [
    "# Minimum Edit Distance Algorithm\n",
    "\n",
    "backtrace = [] # Array of operations used by MED. Looks like [[D, S, I], [D, S, I], [D, I], [S], etc.]\n",
    "def MED(source, target):\n",
    "    sourceLen = len(source)\n",
    "    targetLen = len(target)\n",
    "    #print(\"Table dimensions: \", sourceLen, targetLen)\n",
    "    DistTable = [[0 for i in range(targetLen+1)] for j in range(sourceLen+1)] # 2D array the size of source length+1 by target length+1\n",
    "\n",
    "    # Initialize table size and number axies\n",
    "    for i in range(1, sourceLen+1):\n",
    "        DistTable[i][0] = DistTable[i-1][0] + operation(\"delete\", \"\", \"\", \"\") #cols\n",
    "    for j in range(1, targetLen+1):\n",
    "        DistTable[0][j] = DistTable[0][j-1] + operation(\"insert\", \"\", \"\", \"\") #rows\n",
    "\n",
    "    # Recurrence relation:\n",
    "    #delete(source[i])?\n",
    "    #insert(target[j])?\n",
    "    for row in range(1, sourceLen+1):\n",
    "        for col in range(1, targetLen+1):\n",
    "            #print(\"DistTable[\",row,\"][\",col,\"]: \", DistTable[row][col])\n",
    "            #print()\n",
    "            # How will I know which operation is performed?\n",
    "            DistTable[row][col] = min(\n",
    "                DistTable[row-1][col] + operation(\"delete\", \"\", \"\", \"\"), #1\n",
    "                DistTable[row-1][col-1] + operation(\"substitute\", file, source[row-1], target[col-1]), #0 if same or 2 if different\n",
    "                DistTable[row][col-1] + operation(\"insert\", \"\", \"\", \"\")) #1\n",
    "            #print(source[row], \"->\", target[col], \"(\",cost,\")\") #debug\n",
    "        #print()\n",
    "    \n",
    "    printing = True #debug: displays visual table\n",
    "    if (printing):\n",
    "        # Print table\n",
    "        print(\"      \", end=\"\")\n",
    "        # Print the target on top\n",
    "        for letter in target: \n",
    "            print(letter, end=\"  \")\n",
    "        print()\n",
    "        # print the source on the left\n",
    "        for row in range(len(DistTable)):\n",
    "            if row != 0:\n",
    "                print(source[row-1], end=\"\")\n",
    "            else:\n",
    "                print(\" \", end=\"\")\n",
    "            # print the minimum edit distance cost table\n",
    "            for value in DistTable[row]:\n",
    "                print(f'{value : >3}', end=\"\") # Padding of 3, aligned right\n",
    "            print()\n",
    "\n",
    "    return DistTable[sourceLen][targetLen] # Returns the minimum edit distance value at the bottom right of the table\n",
    "\n",
    "file = costsCSV\n",
    "MED(\"mischief\", \"mischievous\")\n"
   ]
  },
  {
   "cell_type": "code",
   "execution_count": 129,
   "metadata": {},
   "outputs": [
    {
     "name": "stdout",
     "output_type": "stream",
     "text": [
      "m i s c h i e f \n",
      "| | | | | | | | | | | \n",
      "m i s c h i e v o u s \n",
      "k k k k k k k k k k k ( 5 )\n",
      "\n",
      "\n",
      "m i s c h i e f \n",
      "| | | | | | | | | | | \n",
      "m i s c h i e v o u s \n",
      "k k k k k k k k k k k ( 5 )\n",
      "\n",
      "\n",
      "--------------------------------------------------\n",
      "d e v i o u s \n",
      "| | | | | | | | | | | \n",
      "m i s c h i e v o u s \n",
      "k k k k k k k k k k k ( 8 )\n",
      "\n",
      "\n",
      "d e v i o u s \n",
      "| | | | | | | | | | | \n",
      "m i s c h i e v o u s \n",
      "k k k k k k k k k k k ( 8 )\n",
      "\n",
      "\n",
      "--------------------------------------------------\n",
      "i n t e n t i o n \n",
      "| | | | | | | | | \n",
      "e x e c u t i o n \n",
      "k k k k k k k k k ( 8 )\n",
      "\n",
      "\n",
      "i n t e n t i o n \n",
      "| | | | | | | | | \n",
      "e x e c u t i o n \n",
      "k k k k k k k k k ( 8 )\n",
      "\n",
      "\n",
      "--------------------------------------------------\n",
      "a g g c t a t c a c c t g a c c t c c a g g c c g a t g c c c \n",
      "| | | | | | | | | | | | | | | | | | | | | | | | | | | | | | | | \n",
      "t a g c t a t c a c g a c c g c g g t c g a t t t g c c c g a c \n",
      "k k k k k k k k k k k k k k k k k k k k k k k k k k k k k k k k ( 15 )\n",
      "\n",
      "\n",
      "a g g c t a t c a c c t g a c c t c c a g g c c g a t g c c c \n",
      "| | | | | | | | | | | | | | | | | | | | | | | | | | | | | | | | \n",
      "t a g c t a t c a c g a c c g c g g t c g a t t t g c c c g a c \n",
      "k k k k k k k k k k k k k k k k k k k k k k k k k k k k k k k k ( 15 )\n",
      "\n",
      "\n",
      "--------------------------------------------------\n"
     ]
    }
   ],
   "source": [
    "# This block of code outputs the results of the targets and sources\n",
    "\n",
    "for pair in pairTargSources: # mischevious, execution\n",
    "    #print(\"TARGET: \", pair[0])\n",
    "    for sourceList in pair[1:]: # [mischief, devious], [intention]\n",
    "        #print(\"SOURCELIST: \", sourceList, end=\"\\n\")\n",
    "        for singleSource in sourceList: # mischief, devious\n",
    "            #print(\"SOURCE WORD: \", singleSource)\n",
    "            for costMethod in costMethods: # costsFile, costs2File\n",
    "                #print(\"Levenshtein\" if costMethod == costsFile else \"Confusion Matrix\")\n",
    "                \n",
    "                for letter in singleSource: # print letters in source\n",
    "                    print(letter, \"\", end=\"\")\n",
    "                print()\n",
    "\n",
    "                for letter in pair[0]: # | times target length\n",
    "                    print(\"| \", end=\"\")\n",
    "                print()\n",
    "\n",
    "                for letter in pair[0]: # print letters in target\n",
    "                    print(letter, \"\", end=\"\")\n",
    "                print()\n",
    "\n",
    "                for row in range(len(pair[0])):\n",
    "                    # If the letters are the same, print k for Keep\n",
    "                    #if (pair[0][i] == singleSource[i]) and (pair[0][i] is not None) and (singleSource[i] is not None):\n",
    "                        print(\"k \", end=\"\")\n",
    "                    #else:\n",
    "                    #   print(\"! \", end=\"\")\n",
    "                \n",
    "                print(\"(\",MED(singleSource, pair[0]),\")\")\n",
    "\n",
    "\n",
    "                print(\"\\n\")\n",
    "\n",
    "            print(\"-\" * 50)\n",
    "\n",
    "\n",
    "#print(backtrace())"
   ]
  }
 ],
 "metadata": {
  "kernelspec": {
   "display_name": "Python 3",
   "language": "python",
   "name": "python3"
  },
  "language_info": {
   "codemirror_mode": {
    "name": "ipython",
    "version": 3
   },
   "file_extension": ".py",
   "mimetype": "text/x-python",
   "name": "python",
   "nbconvert_exporter": "python",
   "pygments_lexer": "ipython3",
   "version": "3.11.9"
  }
 },
 "nbformat": 4,
 "nbformat_minor": 2
}
