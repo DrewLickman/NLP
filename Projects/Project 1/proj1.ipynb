{
 "cells": [
  {
   "cell_type": "markdown",
   "metadata": {},
   "source": [
    "Drew Lickman\\\n",
    "CSCI 4820-001\\\n",
    "Project #1\\\n",
    "Due: 9/9/24"
   ]
  },
  {
   "cell_type": "markdown",
   "metadata": {},
   "source": [
    "# Minimum Distance Edit Algorithm"
   ]
  },
  {
   "cell_type": "markdown",
   "metadata": {},
   "source": [
    "### Input\n",
    "---\n",
    "\n",
    "- [words.txt](words.txt) is the input, which holds **lowercase** sets of words on each line.\n",
    "    - The first word of each line is the <u>target</u>, and all the other words in the line are <u>source</u> words that will transform into the target\n",
    "- Sample input files\n",
    "    - [costs.csv](costs.csv) uses Levenshtein substitution costs\n",
    "    - [costs2.csv](costs2.csv) uses confusion matrix substitution costs\n",
    "\n",
    "### Processing\n",
    "---\n",
    "\n",
    "\n",
    "### Output\n",
    "---\n",
    "\n",
    "- 4 lines per method (costs and costs2)\n",
    "1. Source word\n",
    "2. Vertical bar for each operation per character\n",
    "3. Target word\n",
    "4. Operation for each character and sum of edit cost \n",
    "    - k = keep\n",
    "    - i = insert\n",
    "    - s = substitute\n",
    "    - d = delete\n",
    "- 50 hyphens will separate a pair of words from the next pair"
   ]
  },
  {
   "cell_type": "markdown",
   "metadata": {},
   "source": [
    "### Python Code"
   ]
  },
  {
   "cell_type": "code",
   "execution_count": 8,
   "metadata": {},
   "outputs": [
    {
     "name": "stdout",
     "output_type": "stream",
     "text": [
      "Hello world!\n",
      "\n",
      "['']\n",
      "[['']]\n"
     ]
    }
   ],
   "source": [
    "print(\"Hello world!\")\n",
    "\n",
    "targets = [\"\"]\n",
    "sources = [[\"\"]]\n",
    "#costs = open(\"costs.csv\")\n",
    "#costs2 = open(\"costs2.csv\")\n",
    "\n",
    "# Read & save the target and source words from words.txt\n",
    "with open(\"words.txt\") as wordList:\n",
    "    lines = \"\" \n",
    "    lines.partition(\"\\n\")\n",
    "    print(lines)\n",
    "    #for line, i in enumerate(wordList):\n",
    "    #    print(line.split())\n",
    "    #    targets[i] = line[0]\n",
    "    #    sources = line\n",
    "\n",
    "print(targets)\n",
    "print(sources)\n"
   ]
  }
 ],
 "metadata": {
  "kernelspec": {
   "display_name": "Python 3",
   "language": "python",
   "name": "python3"
  },
  "language_info": {
   "codemirror_mode": {
    "name": "ipython",
    "version": 3
   },
   "file_extension": ".py",
   "mimetype": "text/x-python",
   "name": "python",
   "nbconvert_exporter": "python",
   "pygments_lexer": "ipython3",
   "version": "3.11.9"
  }
 },
 "nbformat": 4,
 "nbformat_minor": 2
}
