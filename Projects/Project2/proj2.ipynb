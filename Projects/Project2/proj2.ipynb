{
 "cells": [
  {
   "cell_type": "markdown",
   "metadata": {},
   "source": [
    "Drew Lickman\\\n",
    "CSCI 4820-001\\\n",
    "Project #2\\\n",
    "Due: 9/9/24"
   ]
  },
  {
   "cell_type": "markdown",
   "metadata": {},
   "source": [
    "# N-Grams Algorithm"
   ]
  },
  {
   "cell_type": "markdown",
   "metadata": {},
   "source": [
    "## Assignment Requirements:"
   ]
  },
  {
   "cell_type": "markdown",
   "metadata": {},
   "source": [
    "### Input\n",
    "---\n",
    "\n",
    "- Two training data input files\n",
    "    - CNN Stories\n",
    "    - Shakespeare Plays\n",
    "- Each line in the files are paragraphs, and paragraphs may contain multiple sentences\n",
    "\n",
    "### Processing\n",
    "---\n",
    "\n",
    "- Text will be converted to lowercase during processing\n",
    "- Extract n-grams in both methods\n",
    "    - Sentence level\n",
    "        - Paragraph will be sentence tokenized (NLTK sent_tokenize), then all sentences will be word tokenized (NLTK word_tokenize)\n",
    "            - Resulting data will be augmented with \\<s> and </s>\n",
    "    - Paragraph level\n",
    "        - Paragraph will be word tokenized (NLTK word_tokenize)\n",
    "            - Resulting data will be augmented with \\<s> and </s>\n",
    "    - n-gram extraction should never cross over line boundaries\n",
    "- The data structure used to hold tokens in each sentence should start with \\<s> and end with </s>, according to the n-grams being processed\n",
    "    - Higher order n-grams require more start symbol augments\n",
    "- Unigrams, bigrams, trigrams, quadgrams will each be kept in separate data structures\n",
    "    - Dictionaries, indexed by \"context tuples\" work well for this\n",
    "- A parallel data structure should hold the counts of the tokens that immediately follow each n-gram context\n",
    "    - These counts should be stored as probabilities by dividing by total count of tokens that appear after the n-gram context \n",
    "- Process both files first using sentence level, then followed by paragraph level\n",
    "\n",
    "### Output\n",
    "---\n",
    "\n",
    "- Set NumPy seed to 0\n",
    "- Print the count of extracted unigrams, bigrams, trigrams, and quadgrams (for each file)\n",
    "- For each file, choose a random starting word from the unigram tokens (not </s>)\n",
    "    - This random word will be used as the seed for generated n-gram texts\n",
    "- For each gram:\n",
    "    - Using the seed word (prefixed with \\<s> as required) generate either 150 tokens or until </s> is generated\n",
    "        - Do NOT continue after </s>\n",
    "    - Each next token will be probabilistically selected from those that follow the context (if any) for hat n-gram\n",
    "    - When working with higher order n-grams, use backoff when the context does not produce a token. Use the next lower n-gram"
   ]
  },
  {
   "cell_type": "markdown",
   "metadata": {},
   "source": [
    "## Python Code"
   ]
  },
  {
   "cell_type": "code",
   "execution_count": 554,
   "metadata": {},
   "outputs": [
    {
     "name": "stdout",
     "output_type": "stream",
     "text": [
      "Sentence tokens:  [['this', 'short', '.']]\n"
     ]
    }
   ],
   "source": [
    "# Imports libraries and reads corpus documents. Save the documents as tokens\n",
    "\n",
    "import numpy as np\n",
    "from nltk import word_tokenize, sent_tokenize\n",
    "\n",
    "np.random.seed(0)\n",
    "\n",
    "sentences = []\n",
    "paragraphs = []\n",
    "\n",
    "with open(\"short.txt\", encoding=\"utf-8\") as wordList:\n",
    "    lines = wordList.readlines()\n",
    "    for line in lines:\n",
    "        line = line.lower() # Converts all documents to lowercase\n",
    "        sentence = sent_tokenize(line) # Extract as entire sentences\n",
    "        paragraph = word_tokenize(line) # Extract the entire line as words (not separating sentences into different arrays!)\n",
    "        sentences.append(sentence) # Adds each sentence to the sentences array\n",
    "        paragraphs.append(paragraph) # Adds each line into the paragraphs array\n",
    "        #print(sentence)\n",
    "        ##print(paragraph)\n",
    "        #print()\n",
    "        \n",
    "#print(\"Sentences (not word tokenized): \", sentences)\n",
    "##print(paragraphs)\n",
    "\n",
    "#print()\n",
    "# Sentence level converting sentence tokens into word tokens\n",
    "tokens = [] # [[tokens without START or END], [tokens for unigrams], [tokens for bigrams], [tokens for trigrams], [tokens for quadgrams]]\n",
    "for sent in sentences:\n",
    "    for string in sent:\n",
    "        tokenList = word_tokenize(string) # Converts each word into a token. (This will separate sentences into different arrays)\n",
    "        tokens.append(tokenList)\n",
    "        #print(token)\n",
    "#print()\n",
    "print(\"Sentence tokens: \", tokens)\n",
    "\n"
   ]
  },
  {
   "cell_type": "code",
   "execution_count": 555,
   "metadata": {},
   "outputs": [
    {
     "name": "stdout",
     "output_type": "stream",
     "text": [
      "[['<s>', 'this', 'short', '.', '</s>']]\n",
      "[['<s>', '<s>', 'this', 'short', '.', '</s>']]\n",
      "[['<s>', '<s>', '<s>', 'this', 'short', '.', '</s>']]\n",
      "[['<s>', '<s>', '<s>', '<s>', 'this', 'short', '.', '</s>']]\n"
     ]
    }
   ],
   "source": [
    "# Add START and END tokens\n",
    "# Make sure to Run All before re-running this!\n",
    "\n",
    "START = \"<s>\"\n",
    "END = \"</s>\"\n",
    "\n",
    "#t[1] = [<s>tokenized words</s>], etc.\n",
    "#t[2] = [<s><s>tokenized words</s>], etc.\n",
    "#t[3] = [<s><s><s>tokenized words</s>], etc.\n",
    "#t[4] = [<s><s><s><s>tokenized words</s>], [<s><s><s><s>tokenized words</s>], [<s><s><s><s>tokenized words</s>], [<s><s><s><s>tokenized words</s>], [<s><s><s><s>tokenized words</s>]\n",
    "\n",
    "# Array of AugmentedToken lists (one for each Uni/Bi/Tri/Quad grams)\n",
    "AugmentedTokens = [[],[],[],[]]\n",
    "# Since I am modifying each sentence, for every gram, I will add the START n times and END once per sentence\n",
    "# List comprehension as suggested by Claude 3.5-sonnet: (and modifications by myself too!)\n",
    "# newList = [expression for item in iterable]\n",
    "\n",
    "# I may need to adjust the count of START and END symbols (slide 17 of n-grams)\n",
    "\n",
    "for i in range(len(AugmentedTokens)):\n",
    "    AugmentedTokens[i] = [[START]*(i+1) + sentence + [END] for sentence in tokens]\n",
    "# Even more compact version of all this\n",
    "#UniAugmentedTokens  = [[START]*1 + sentence + [END] for sentence in tokens]\n",
    "#BiAugmentedTokens   = [[START]*2 + sentence + [END] for sentence in tokens]\n",
    "#TriAugmentedTokens  = [[START]*3 + sentence + [END] for sentence in tokens]\n",
    "#QuadAugmentedTokens = [[START]*4 + sentence + [END] for sentence in tokens]\n",
    "\n",
    "#AugmentedTokens.append(UniAugmentedTokens)\n",
    "#AugmentedTokens.append(BiAugmentedTokens)\n",
    "#AugmentedTokens.append(TriAugmentedTokens)\n",
    "#AugmentedTokens.append(QuadAugmentedTokens)\n",
    "\n",
    "for i in range(len(AugmentedTokens)):\n",
    "    print(AugmentedTokens[i])"
   ]
  },
  {
   "cell_type": "code",
   "execution_count": 556,
   "metadata": {},
   "outputs": [
    {
     "name": "stdout",
     "output_type": "stream",
     "text": [
      "Unigrams: {'<s>': 1, 'this': 1, 'short': 1, '.': 1, '</s>': 1}\n",
      "Bigrams: {(None, '<s>'): 1, ('<s>', '<s>'): 1, ('<s>', 'this'): 1, ('this', 'short'): 1, ('short', '.'): 1, ('.', '</s>'): 1}\n",
      "Trigrams: {(None, None, '<s>'): 1, (None, '<s>', '<s>'): 1, ('<s>', '<s>', '<s>'): 1, ('<s>', '<s>', 'this'): 1, ('<s>', 'this', 'short'): 1, ('this', 'short', '.'): 1, ('short', '.', '</s>'): 1}\n",
      "Quadgrams: {(None, None, None, '<s>'): 1, (None, None, '<s>', '<s>'): 1, (None, '<s>', '<s>', '<s>'): 1, ('<s>', '<s>', '<s>', '<s>'): 1, ('<s>', '<s>', '<s>', 'this'): 1, ('<s>', '<s>', 'this', 'short'): 1, ('<s>', 'this', 'short', '.'): 1, ('this', 'short', '.', '</s>'): 1}\n"
     ]
    }
   ],
   "source": [
    "# Convert augmented tokens into n-grams\n",
    "\n",
    "# Dictionaries of n-grams\n",
    "unigrams = {}   # (): [\"word\", count]\n",
    "bigrams = {}    # (context1): [\"word\", count]\n",
    "trigrams = {}   # (c1, c2): [\"word\", count]\n",
    "quadgrams = {}  # (c1, c2, c3): [\"word\", count]\n",
    "grams = [unigrams, bigrams, trigrams, quadgrams]\n",
    "\n",
    "# Count unigrams\n",
    "for tokenList in AugmentedTokens[0]: #0 context words\n",
    "    for word in tokenList:\n",
    "        if word not in unigrams:\n",
    "            unigrams[word] = 1 # Initialize count as 1\n",
    "        else:\n",
    "            unigrams[word] += 1 # Increment unigram count\n",
    "\n",
    "print(\"Unigrams:\", unigrams)\n",
    "\n",
    "# Count bigrams\n",
    "context = None\n",
    "for tokenList in AugmentedTokens[1]: #1 context word\n",
    "    for word in tokenList:\n",
    "        if context != None:\n",
    "            bigram = (context, word) # push data into bigram dictionary\n",
    "        if (context, word) not in bigrams:\n",
    "            bigrams[(context, word)] = 1 # Initialize count as 1\n",
    "        else:\n",
    "            bigrams[(context, word)] += 1 # Increment bigram count\n",
    "        context = word\n",
    "\n",
    "print(\"Bigrams:\", bigrams)\n",
    "\n",
    "# Count trigrams\n",
    "context = None\n",
    "context2 = None\n",
    "for tokenList in AugmentedTokens[2]: #2 context words\n",
    "    for word in tokenList:\n",
    "        if context != None and context2 != None:\n",
    "            trigram = (context, context2, word) # push data into trigram dictionary\n",
    "        if (context, context2, word) not in trigrams:\n",
    "            trigrams[(context, context2, word)] = 1 # Initialize count as 1\n",
    "        else:\n",
    "            trigrams[(context, context2, word)] += 1 # Increment trigram count\n",
    "        context = context2\n",
    "        context2 = word\n",
    "\n",
    "print(\"Trigrams:\", trigrams)\n",
    "\n",
    "# Count quadgrams\n",
    "context = None\n",
    "context2 = None\n",
    "context3 = None\n",
    "for tokenList in AugmentedTokens[3]: #3 context words\n",
    "    for word in tokenList:\n",
    "        if context != None and context2 != None and context3 != None:\n",
    "            quadgram = (context, context2, context3, word) # push data into quadgram dictionary\n",
    "        if (context, context2,  context3, word) not in quadgrams:\n",
    "            quadgrams[(context, context2,  context3, word)] = 1 # Initialize count as 1\n",
    "        else:\n",
    "            quadgrams[(context, context2,  context3, word)] += 1 # Increment quadgram count\n",
    "        context = context2\n",
    "        context2 = context3\n",
    "        context3 = word\n",
    "\n",
    "print(\"Quadgrams:\", quadgrams)"
   ]
  },
  {
   "cell_type": "code",
   "execution_count": 557,
   "metadata": {},
   "outputs": [
    {
     "name": "stdout",
     "output_type": "stream",
     "text": [
      "sam is not in the dictionary!\n",
      "do or ('i', 'do') is not in the dictionary!\n",
      "('sam', 'i') or ('sam', 'i', 'am') is not in the dictionary!\n",
      "('do', 'not', 'like') or ('i', 'do', 'not', 'like') is not in the dictionary!\n"
     ]
    }
   ],
   "source": [
    "# Definitions of gram probabilities\n",
    "\n",
    "def unigramProb(wordTest):\n",
    "    # Computes P(Wi)\n",
    "    # Probability of word test\n",
    "    if wordTest in unigrams.keys():\n",
    "        print(f\"{unigrams[wordTest]/len(unigrams):.2f}\") # .2f rounds to hundredths decimal\n",
    "    else:\n",
    "        print(wordTest, \"is not in the dictionary!\")\n",
    "\n",
    "unigramProb(\"sam\")\n",
    "###\n",
    "\n",
    "def bigramProb(wordTest, contextWord): # 1 context word\n",
    "    # Computes P(Wi|Wi-1)\n",
    "    # Probability of word test, given that its context came before it\n",
    "    bigram = (contextWord, wordTest)\n",
    "    if bigram in bigrams.keys() and wordTest in unigrams.keys():\n",
    "        #print(\"P(\", bigram, \"|\", contextWord,\") = \", bigrams[bigram], \"/\", unigrams[contextWord], \"=\")\n",
    "        print(f\"{bigrams[bigram]/unigrams[contextWord]:.2f}\") # .2f rounds to hundredths decimal\n",
    "    else:\n",
    "        print(wordTest, \"or\", bigram, \"is not in the dictionary!\")\n",
    "\n",
    "bigramProb(\"do\", \"i\")\n",
    "###\n",
    "\n",
    "def trigramProb(wordTest, contextWord, contextWord2): # 2 context words\n",
    "    # Computes P(Wi|Wi-2,Wi-1)\n",
    "    # Probability of word test, given that its context came before it\n",
    "    trigram = (contextWord, contextWord2, wordTest)\n",
    "    bigram = (contextWord, contextWord2)\n",
    "    if trigram in trigrams.keys() and bigram in bigrams.keys():\n",
    "        #print(\"P(\", trigram, \"|\", bigram, \") = \", trigrams[trigram], \"/\", bigrams[bigram], \"=\")\n",
    "        print(f\"{trigrams[trigram]/bigrams[bigram]:.2f}\") # .2f rounds to hundredths decimal\n",
    "    else:\n",
    "        print(bigram, \"or\", trigram, \"is not in the dictionary!\")\n",
    "\n",
    "trigramProb(\"am\", \"sam\", \"i\")\n",
    "###\n",
    "\n",
    "# Note: I don't think compacting this into (wordTest, trigram) would be a good idea\n",
    "def quadgramProb(wordTest, contextWord, contextWord2, contextWord3): # 3 context words\n",
    "    # Computes P(Wi|Wi-3,wi-2,Wi-1) \n",
    "    # Probability of word test, given that its context came before it\n",
    "    quadgram = (contextWord, contextWord2, contextWord3, wordTest)\n",
    "    trigram = (contextWord2, contextWord3, wordTest)\n",
    "    if quadgram in quadgrams.keys() and trigram in trigrams.keys():\n",
    "        #print(\"P(\", quadgram, \"|\", trigram, \") = \", quadgrams[quadgram], \"/\", trigrams[trigram], \"=\")\n",
    "        print(f\"{quadgrams[quadgram]/trigrams[trigram]:.2f}\") # .2f rounds to hundredths decimal\n",
    "    else:\n",
    "        print(trigram, \"or\", quadgram, \"is not in the dictionary!\")\n",
    "\n",
    "quadgramProb(\"like\", \"i\", \"do\", \"not\")"
   ]
  },
  {
   "cell_type": "code",
   "execution_count": 558,
   "metadata": {},
   "outputs": [
    {
     "name": "stdout",
     "output_type": "stream",
     "text": [
      "[0.2, 0.2, 0.2, 0.2, 0.2]\n",
      "[0.16666666666666666, 0.16666666666666666, 0.16666666666666666, 0.16666666666666666, 0.16666666666666666, 0.16666666666666666]\n",
      "[0.16666666666666666, 0.16666666666666666, 0.16666666666666666, 0.16666666666666666, 0.16666666666666666, 0.16666666666666666]\n",
      "[0.125, 0.125, 0.125, 0.125, 0.125, 0.125, 0.125, 0.125]\n"
     ]
    }
   ],
   "source": [
    "# Calculate probabilities of each gram\n",
    "\n",
    "probUnigram\t\t= [unigrams.get(unigram) / len(unigrams) for unigram in unigrams]\n",
    "probBigram\t\t= [bigrams.get(bigram) / len(bigrams) for bigram in bigrams]\n",
    "probTrigram\t\t= [trigrams.get(trigram) / len(trigrams) for trigram in trigrams]\n",
    "probQuadgram\t= [quadgrams.get(quadgram) / len(quadgrams) for quadgram in quadgrams]\n",
    "print(probUnigram)\n",
    "print(probBigram)\n",
    "print(probBigram)\n",
    "print(probQuadgram)"
   ]
  },
  {
   "cell_type": "code",
   "execution_count": 559,
   "metadata": {},
   "outputs": [],
   "source": [
    "# Convert probabilities to log space\n",
    "# log(p1 * p2 * p3 * p4) = log(p1) + log(p2) + log(p3) + log(p4)"
   ]
  },
  {
   "cell_type": "code",
   "execution_count": 580,
   "metadata": {},
   "outputs": [
    {
     "name": "stdout",
     "output_type": "stream",
     "text": [
      "5 5\n",
      "Sum of probabilties: 1.0\n",
      "['this ']\n"
     ]
    }
   ],
   "source": [
    "# This is where I pull randomized words out of the dictionaries\n",
    "\n",
    "current = \"\"\n",
    "output = \"\"\n",
    "print(len(list(unigrams)), len(probUnigram))\n",
    "sum = 0\n",
    "for p in probUnigram:\n",
    "\tsum += p\n",
    "print(\"Sum of probabilties:\", sum)\n",
    "while current != END:\n",
    "    current = np.random.choice(list(unigrams), size=1, p=probUnigram)\n",
    "    if current != START and current != END:\n",
    "    \toutput += current + \" \"\n",
    "print(output)\n"
   ]
  },
  {
   "cell_type": "code",
   "execution_count": 561,
   "metadata": {},
   "outputs": [
    {
     "name": "stdout",
     "output_type": "stream",
     "text": [
      "Extracted 5 unique 1-grams\n",
      "Extracted 6 unique 2-grams\n",
      "Extracted 7 unique 3-grams\n",
      "Extracted 8 unique 4-grams\n",
      "Seed text: YYYY\n",
      "Generated 1-gram text of length X\n",
      "<1-gram text generated>\n",
      "Generated 2-gram text of length X\n",
      "<2-gram text generated>\n",
      "Generated 3-gram text of length X\n",
      "<3-gram text generated>\n",
      "Generated 4-gram text of length X\n",
      "<4-gram text generated>\n"
     ]
    }
   ],
   "source": [
    "# Output\n",
    "\n",
    "# This will be printed 4 times. Sentence/Paragraph splits of CNN/Shakespeare\n",
    "for i in range(1,5):\n",
    "    print(f\"Extracted {len(grams[i-1])} unique {i}-grams\")\n",
    "print(\"Seed text:\", \"YYYY\")\n",
    "for i in range(1, 5):\n",
    "    print(f\"Generated {i}-gram text of length X\")\n",
    "    print(f\"<{i}-gram text generated>\")"
   ]
  }
 ],
 "metadata": {
  "kernelspec": {
   "display_name": "Python 3",
   "language": "python",
   "name": "python3"
  },
  "language_info": {
   "codemirror_mode": {
    "name": "ipython",
    "version": 3
   },
   "file_extension": ".py",
   "mimetype": "text/x-python",
   "name": "python",
   "nbconvert_exporter": "python",
   "pygments_lexer": "ipython3",
   "version": "3.11.9"
  }
 },
 "nbformat": 4,
 "nbformat_minor": 2
}
