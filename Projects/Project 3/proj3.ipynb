{
 "cells": [
  {
   "cell_type": "markdown",
   "metadata": {},
   "source": [
    "Drew Lickman\\\n",
    "CSCI 4820-001\\\n",
    "Project #3\\\n",
    "Due: 10/9/24"
   ]
  },
  {
   "cell_type": "markdown",
   "metadata": {},
   "source": [
    "AI Usage Disclaimer:\n"
   ]
  },
  {
   "cell_type": "markdown",
   "metadata": {},
   "source": [
    "# Lexicon-Based Sentiment Analysis using Custom Logistic Regression"
   ]
  },
  {
   "cell_type": "markdown",
   "metadata": {},
   "source": [
    "## Assignment Requirements:"
   ]
  },
  {
   "cell_type": "markdown",
   "metadata": {},
   "source": [
    "### Input\n",
    "---\n",
    "\n",
    "- \n",
    "\n",
    "### Processing\n",
    "---\n",
    "\n",
    "- \n",
    "\n",
    "### Output\n",
    "---\n",
    "\n",
    "- "
   ]
  },
  {
   "cell_type": "markdown",
   "metadata": {},
   "source": [
    "## Python Code"
   ]
  },
  {
   "cell_type": "markdown",
   "metadata": {},
   "source": [
    "Markdown above each cell used to explain each block of code"
   ]
  },
  {
   "cell_type": "code",
   "execution_count": 2,
   "metadata": {},
   "outputs": [
    {
     "name": "stdout",
     "output_type": "stream",
     "text": [
      "hi\n"
     ]
    }
   ],
   "source": [
    "class CustomLogisticRegression():\n",
    "\t# Should be 25-30 lines of code\n",
    "\tprint(\"hi\")\n",
    "\tdef __init__():\n",
    "\t\tprint(\"init\")\n",
    "\t\tlearning_rate = 0\n",
    "\t\tnum_iters = 0\n",
    "\t\tweights = None\n",
    "\t\tbias = None\n",
    "\n",
    "\tdef fit(X, y):\n",
    "\t\t# X is training features, y is labels\n",
    "\t\t# Sets the weights to the correct shape and initializes them to 0\n",
    "\t\t# Applies batch gradient descent (entire dataset) in a loop for # iterations specified\n",
    "\t\tprint(\"fit\")\n",
    "\n",
    "\tdef sigmoid(x):\n",
    "\t\tprint(\"apply sigmoid to x\")\n",
    "\t\treturn x\n",
    "\n",
    "\tdef predict(X):\n",
    "\t\t# Computes W DOT x + b\n",
    "\t\toutput = 0\n",
    "\t\t# applies sigmoid \n",
    "\t\t# returns output\n",
    "\t\treturn output\n",
    "\n"
   ]
  },
  {
   "cell_type": "markdown",
   "metadata": {},
   "source": []
  }
 ],
 "metadata": {
  "kernelspec": {
   "display_name": "Python 3",
   "language": "python",
   "name": "python3"
  },
  "language_info": {
   "codemirror_mode": {
    "name": "ipython",
    "version": 3
   },
   "file_extension": ".py",
   "mimetype": "text/x-python",
   "name": "python",
   "nbconvert_exporter": "python",
   "pygments_lexer": "ipython3",
   "version": "3.11.9"
  }
 },
 "nbformat": 4,
 "nbformat_minor": 2
}
