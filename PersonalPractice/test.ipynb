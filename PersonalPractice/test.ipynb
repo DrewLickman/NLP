{
 "cells": [
  {
   "cell_type": "code",
   "execution_count": 19,
   "metadata": {},
   "outputs": [],
   "source": [
    "import numpy as np\n",
    "from scipy.special import softmax"
   ]
  },
  {
   "cell_type": "code",
   "execution_count": 20,
   "metadata": {},
   "outputs": [
    {
     "data": {
      "text/plain": [
       "array([0.09003057, 0.24472847, 0.66524096])"
      ]
     },
     "execution_count": 20,
     "metadata": {},
     "output_type": "execute_result"
    }
   ],
   "source": [
    "x = np.array([1, 2, 3])\n",
    "soft = softmax(x)\n",
    "soft"
   ]
  },
  {
   "cell_type": "code",
   "execution_count": 21,
   "metadata": {},
   "outputs": [],
   "source": [
    "token0 = [0.9371,    -1.9907,    0.5564,     0.9743,    0.7972]\n",
    "token1 = [-1.2592,   0.5913,    -0.9876,   -0.5515,    1.0953]\n",
    "token2 = [0.7801,    1.6997,    -0.3334,    -0.0496,   1.7692]\n",
    "token3 = [0.3976,    -0.3951,   -0.8025,    1.4436,   -0.5696]\n",
    "tokens = [token0, token1, token2, token3]\n",
    "\n",
    "decoder = [0.6505,   -1.3302,   0.8510,   -0.7097,   0.8613]"
   ]
  },
  {
   "cell_type": "code",
   "execution_count": 22,
   "metadata": {},
   "outputs": [
    {
     "name": "stdout",
     "output_type": "stream",
     "text": [
      "[ 3.72627674 -1.11132302 -0.47819621 -1.41384608]\n"
     ]
    }
   ],
   "source": [
    "a = np.dot([token0, token1, token2, token3], decoder)\n",
    "print(a)"
   ]
  },
  {
   "cell_type": "code",
   "execution_count": 23,
   "metadata": {},
   "outputs": [
    {
     "name": "stdout",
     "output_type": "stream",
     "text": [
      "[0.97208967 0.00770484 0.01451199 0.0056935 ]\n"
     ]
    }
   ],
   "source": [
    "b = softmax(a)\n",
    "print(b)"
   ]
  },
  {
   "cell_type": "code",
   "execution_count": 47,
   "metadata": {},
   "outputs": [
    {
     "name": "stdout",
     "output_type": "stream",
     "text": [
      "[0.9109452336551681, -0.015338018772283928, 0.00807447045506474, 0.0055471774066975805, -1.2240553177020466, 0.004555870045738427, -0.014332039937853947, -0.003139965451907744, 0.7583271548120762, 0.013095911240895661, -0.004838296998056405, -0.0002823976181588832, 0.3865028544459448, -0.003044181050348812, -0.011645870848651065, 0.008219137128511368]\n"
     ]
    }
   ],
   "source": [
    "weighted = []\n",
    "for token in tokens:\n",
    "    for i in range(len(b)):\n",
    "        weighted.append(token[i] * b[i])\n",
    "    print(weighted)\n",
    "    print()\n"
   ]
  }
 ],
 "metadata": {
  "kernelspec": {
   "display_name": "Python 3 (ipykernel)",
   "language": "python",
   "name": "python3"
  },
  "language_info": {
   "codemirror_mode": {
    "name": "ipython",
    "version": 3
   },
   "file_extension": ".py",
   "mimetype": "text/x-python",
   "name": "python",
   "nbconvert_exporter": "python",
   "pygments_lexer": "ipython3",
   "version": "3.10.11"
  }
 },
 "nbformat": 4,
 "nbformat_minor": 4
}
